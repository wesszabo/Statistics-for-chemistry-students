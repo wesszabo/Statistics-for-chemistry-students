{
  "nbformat": 4,
  "nbformat_minor": 0,
  "metadata": {
    "colab": {
      "name": "Statisztika feladatok.ipynb",
      "provenance": [],
      "collapsed_sections": [],
      "include_colab_link": true
    },
    "kernelspec": {
      "name": "python3",
      "display_name": "Python 3"
    }
  },
  "cells": [
    {
      "cell_type": "markdown",
      "metadata": {
        "id": "view-in-github",
        "colab_type": "text"
      },
      "source": [
        "<a href=\"https://colab.research.google.com/github/wesszabo/Statistics-for-chemistry-students/blob/Gyakorlat/Statisztika_feladatok.ipynb\" target=\"_parent\"><img src=\"https://colab.research.google.com/assets/colab-badge.svg\" alt=\"Open In Colab\"/></a>"
      ]
    },
    {
      "cell_type": "markdown",
      "metadata": {
        "id": "5euJElUg8d-z",
        "colab_type": "text"
      },
      "source": [
        "<a id = \"top\"></a>\n",
        "# Table of Contents\n",
        "\n",
        "* [10. hét](#10)\n",
        "    * [3. Feladat](#10.3)\n",
        "    * [Megoldás](#10.3.1)\n",
        "        * [b) gyakoriság, sűrűséghisztogram](#10.3.b)\n",
        "        * [c)  tapasztalati eloszlásfüggvény](#10.3.c)\n",
        "        * [d) tapasztalati várható érték, szórás](#10.3.d)\n",
        "        * [f) szórás torzítatlan becslése](#10.3.f)\n",
        "        * [g) populáció várható értékének 95%-os megbízhatósági szintű konfidencia intervalluma](#10.3.g)\n",
        "    * [5. Feladat](#10.5)\n",
        "    * [Megoldás](#10.5.1)\n",
        "    * [Házi feladatok](#10.hf)\n",
        "        * [1. Feladat](#10.hf.1)\n",
        "        * [Megoldás](#10.hf.1.1)\n",
        "            * [a) gyakoriság, sűrűséghisztogram](#10.hf.1.a)\n",
        "            * [b) tapasztalati eloszlásfüggvény](#10.hf.1.b)\n",
        "            * [c) tapasztalati várható érték, szórás](#10.hf.1.c)\n",
        "            * [d) korrigált tapasztalati szórás](#10.hf.1.d)\n",
        "            * [e) populáció várható értékének 95%-os megbízhatósági szintű konfidencia intervalluma](#10.hf.1.e)\n",
        "        * [2. Feladat](#10.hf.2)\n",
        "        * [Megoldás](#10.hf.2.1)\n",
        "* [11. hét](#11)\n",
        "    * [1. Feladat](#11.1)\n",
        "    * [Megoldás](#11.1.1)\n",
        "        * [a) gyakoriság, sűrűséghisztogram](#11.1.a)\n",
        "        * [b) tapasztalati eloszlásfüggvény](#11.1.b)\n",
        "        * [c) tapasztalati várható érték, szórás, korrigált empirikus szórásnégyzet](#11.1.c)\n",
        "        * [e) populáció várható értékének 95%-os megbízhatósági szintű konfidencia intervalluma](#11.1.e)\n",
        "    * [2. Feladat](#11.2)\n",
        "    * [Megoldás](#11.2.1)\n",
        "    * [3. Feladat](#11.3)\n",
        "    * [Megoldás](#11.3.1)\n",
        "    * [4. Feladat](#11.4)\n",
        "    * [Megoldás](#11.4.1)\n",
        "    * [5. Feladat](#11.5)\n",
        "    * [Megoldás](#11.5.1)\n",
        "    * [6. Feladat](#11.6)\n",
        "    * [Megoldás](#11.6.1)\n",
        "    * [Házi feladatok](#11.hf)\n",
        "        * [1. Feladat](#11.hf.1)\n",
        "        * [Megoldás](#11.hf.1.1)\n",
        "            * [a)  tapasztalati várható érték, szórás, korrigált tapasztalati szórás](#11.hf.1.a)\n",
        "            * [c) *t*-próba annak eldöntésére, hogy 95%-os megbízhatósági szinten megegyezik-e a várható érték 165-tel!](#11.hf.1.c)\n",
        "* [12. hét](#12)\n",
        "    * [1. Feladat](#12.1)\n",
        "    * [Megoldás](#12.1.1)\n",
        "    * [3. Feladat](#12.3)\n",
        "    * [Megoldás](#12.3.1)\n",
        "\n",
        "             "
      ]
    },
    {
      "cell_type": "code",
      "metadata": {
        "id": "p6885a4NnQy0",
        "colab_type": "code",
        "colab": {}
      },
      "source": [
        "#######################   MODULOK"
      ],
      "execution_count": 0,
      "outputs": []
    },
    {
      "cell_type": "code",
      "metadata": {
        "id": "wDeVMvnlH1ON",
        "colab_type": "code",
        "colab": {}
      },
      "source": [
        "from pyforest import *"
      ],
      "execution_count": 0,
      "outputs": []
    },
    {
      "cell_type": "code",
      "metadata": {
        "id": "vsd3_xboSWVy",
        "colab_type": "code",
        "colab": {}
      },
      "source": [
        "from sympy import *\n",
        "ip = get_ipython()\n",
        "ibe = ip.configurables[-1]\n",
        "ibe.figure_formats = { 'pdf', 'png'}"
      ],
      "execution_count": 0,
      "outputs": []
    },
    {
      "cell_type": "code",
      "metadata": {
        "hide_input": false,
        "scrolled": false,
        "id": "ChG-9kIXSWV0",
        "colab_type": "code",
        "colab": {}
      },
      "source": [
        "%matplotlib inline\n",
        "import matplotlib.pyplot as plt\n",
        "from mpl_toolkits import mplot3d\n",
        "from IPython.display import HTML,Latex, display\n",
        "import requests\n",
        "import numpy as np\n",
        "import math \n",
        "import sympy as sym\n",
        "from sympy.solvers.solveset import solveset_real\n",
        "from scipy import optimize\n",
        "from numpy import pi, sin, cos\n",
        "import plotly.graph_objects as go\n",
        "import plotly.figure_factory as ff\n",
        "from chart_studio.plotly import plot, iplot\n",
        "import statsmodels.api as sm\n",
        "from scipy import stats\n",
        "from IPython.display import YouTubeVideo"
      ],
      "execution_count": 0,
      "outputs": []
    },
    {
      "cell_type": "code",
      "metadata": {
        "id": "4Afae6ce3qtr",
        "colab_type": "code",
        "colab": {}
      },
      "source": [
        "import plotly.io as pio\n",
        "#pio.renderers.default = \"colab\"\n",
        "pio.renderers.default = \"notebook_connected\" "
      ],
      "execution_count": 0,
      "outputs": []
    },
    {
      "cell_type": "code",
      "metadata": {
        "id": "yA3PRk0OKFS4",
        "colab_type": "code",
        "colab": {}
      },
      "source": [
        "# Jupyter to print the results for any variable or statement on it’s own line"
      ],
      "execution_count": 0,
      "outputs": []
    },
    {
      "cell_type": "code",
      "metadata": {
        "id": "_hvwpOfRJz5A",
        "colab_type": "code",
        "colab": {}
      },
      "source": [
        "from IPython.core.interactiveshell import InteractiveShell\n",
        "InteractiveShell.ast_node_interactivity = \"all\""
      ],
      "execution_count": 0,
      "outputs": []
    },
    {
      "cell_type": "code",
      "metadata": {
        "id": "YmQf6K6zbwbD",
        "colab_type": "code",
        "colab": {}
      },
      "source": [
        "!pip install --upgrade version_information"
      ],
      "execution_count": 0,
      "outputs": []
    },
    {
      "cell_type": "code",
      "metadata": {
        "id": "qpM4QEn8b_LH",
        "colab_type": "code",
        "outputId": "60dc21b1-fec3-4f96-e76c-77994d1f533f",
        "colab": {
          "base_uri": "https://localhost:8080/",
          "height": 248
        }
      },
      "source": [
        "%load_ext version_information\n",
        "\n",
        "%version_information numpy, scipy, IPython, matplotlib, plotly, statsmodels, seaborn, version_information"
      ],
      "execution_count": 0,
      "outputs": [
        {
          "output_type": "execute_result",
          "data": {
            "text/latex": "\\begin{tabular}{|l|l|}\\hline\n{\\bf Software} & {\\bf Version} \\\\ \\hline\\hline\nPython & 3.6.8 64bit [GCC 8.3.0] \\\\ \\hline\nIPython & 5.5.0 \\\\ \\hline\nOS & Linux 4.14.137+ x86\\_64 with Ubuntu 18.04 bionic \\\\ \\hline\nnumpy & 1.17.4 \\\\ \\hline\nscipy & 1.3.2 \\\\ \\hline\nIPython & 5.5.0 \\\\ \\hline\nmatplotlib & 3.1.1 \\\\ \\hline\nplotly & 4.1.1 \\\\ \\hline\nstatsmodels & 0.10.1 \\\\ \\hline\nseaborn & 0.9.0 \\\\ \\hline\nversion_information & 1.0.3 \\\\ \\hline\n\\hline \\multicolumn{2}{|l|}{Sun Dec 01 19:01:21 2019 UTC} \\\\ \\hline\n\\end{tabular}\n",
            "application/json": {
              "Software versions": [
                {
                  "version": "3.6.8 64bit [GCC 8.3.0]",
                  "module": "Python"
                },
                {
                  "version": "5.5.0",
                  "module": "IPython"
                },
                {
                  "version": "Linux 4.14.137+ x86_64 with Ubuntu 18.04 bionic",
                  "module": "OS"
                },
                {
                  "version": "1.17.4",
                  "module": "numpy"
                },
                {
                  "version": "1.3.2",
                  "module": "scipy"
                },
                {
                  "version": "5.5.0",
                  "module": "IPython"
                },
                {
                  "version": "3.1.1",
                  "module": "matplotlib"
                },
                {
                  "version": "4.1.1",
                  "module": "plotly"
                },
                {
                  "version": "0.10.1",
                  "module": "statsmodels"
                },
                {
                  "version": "0.9.0",
                  "module": "seaborn"
                },
                {
                  "version": "1.0.3",
                  "module": "version_information"
                }
              ]
            },
            "text/html": [
              "<table><tr><th>Software</th><th>Version</th></tr><tr><td>Python</td><td>3.6.8 64bit [GCC 8.3.0]</td></tr><tr><td>IPython</td><td>5.5.0</td></tr><tr><td>OS</td><td>Linux 4.14.137+ x86_64 with Ubuntu 18.04 bionic</td></tr><tr><td>numpy</td><td>1.17.4</td></tr><tr><td>scipy</td><td>1.3.2</td></tr><tr><td>IPython</td><td>5.5.0</td></tr><tr><td>matplotlib</td><td>3.1.1</td></tr><tr><td>plotly</td><td>4.1.1</td></tr><tr><td>statsmodels</td><td>0.10.1</td></tr><tr><td>seaborn</td><td>0.9.0</td></tr><tr><td>version_information</td><td>1.0.3</td></tr><tr><td colspan='2'>Sun Dec 01 19:01:21 2019 UTC</td></tr></table>"
            ],
            "text/plain": [
              "Software versions\n",
              "Python 3.6.8 64bit [GCC 8.3.0]\n",
              "IPython 5.5.0\n",
              "OS Linux 4.14.137+ x86_64 with Ubuntu 18.04 bionic\n",
              "numpy 1.17.4\n",
              "scipy 1.3.2\n",
              "IPython 5.5.0\n",
              "matplotlib 3.1.1\n",
              "plotly 4.1.1\n",
              "statsmodels 0.10.1\n",
              "seaborn 0.9.0\n",
              "version_information 1.0.3\n",
              "Sun Dec 01 19:01:21 2019 UTC"
            ]
          },
          "metadata": {
            "tags": []
          },
          "execution_count": 28
        }
      ]
    },
    {
      "cell_type": "code",
      "metadata": {
        "id": "40dHNY2xnXv7",
        "colab_type": "code",
        "colab": {}
      },
      "source": [
        "#######################  BEÁLLÍTÁSOK "
      ],
      "execution_count": 0,
      "outputs": []
    },
    {
      "cell_type": "code",
      "metadata": {
        "scrolled": true,
        "id": "Ek2C2j2dSWV2",
        "colab_type": "code",
        "colab": {}
      },
      "source": [
        "# Sympy to print formula not TeX\n",
        "from sympy import init_printing\n",
        "def custom_latex_printer(exp,**options):\n",
        "    from google.colab.output._publish import javascript\n",
        "    url = \"https://cdnjs.cloudflare.com/ajax/libs/mathjax/2.7.3/latest.js?config=default\"\n",
        "    javascript(url=url)\n",
        "    return sym.printing.latex(exp,**options)\n",
        "init_printing(use_latex=\"mathjax\",latex_printer=custom_latex_printer)"
      ],
      "execution_count": 0,
      "outputs": []
    },
    {
      "cell_type": "code",
      "metadata": {
        "id": "whg7WBPBBBS-",
        "colab_type": "code",
        "colab": {}
      },
      "source": [
        "def empirical_dist(datalist, bins, xtitle):\n",
        "    binned = np.histogram(datalist, bins=bins, density=True)\n",
        "    plot_y = np.cumsum(binned[0])\n",
        "    plot_y = plot_y/max(plot_y)\n",
        "    # Line\n",
        "    trace1 = go.Scatter(\n",
        "        x=binned[1],\n",
        "        y=plot_y,\n",
        "        mode='lines',\n",
        "        name=\"X\",\n",
        "        hoverinfo='all',\n",
        "        line=dict(color = 'rgb(1255, 0, 0)', shape='hvh'\n",
        "        )\n",
        "    )\n",
        "\n",
        "    data = [trace1]\n",
        "\n",
        "    # Layout\n",
        "    layout = dict(title = 'Empirical distribution function',\n",
        "        legend=dict(\n",
        "            y=0.5,\n",
        "            traceorder='reversed',\n",
        "            font=dict(\n",
        "                size=16\n",
        "            )\n",
        "        ),\n",
        "        xaxis = dict(\n",
        "            title=xtitle\n",
        "        )\n",
        "    )\n",
        "\n",
        "    # Make figure\n",
        "    fig = go.Figure(data=data, layout=layout)\n",
        "\n",
        "    # Plot\n",
        "    fig.show()"
      ],
      "execution_count": 0,
      "outputs": []
    },
    {
      "cell_type": "code",
      "metadata": {
        "id": "sCRONQp57snZ",
        "colab_type": "code",
        "colab": {}
      },
      "source": [
        "def linear_regr_line(X, Y, coeffs, xtitle, ytitle):\n",
        "    trace1 = go.Scatter(\n",
        "                  x=X,\n",
        "                  y=Y,\n",
        "                  mode='markers',\n",
        "                  name='Data'\n",
        "                  )\n",
        "\n",
        "    trace2 = go.Scatter(\n",
        "                    x=X,\n",
        "                    y=coeffs[0] + coeffs[1] * X,\n",
        "                    mode='lines',\n",
        "                    name='Fit'\n",
        "                    )\n",
        "\n",
        "    layout = go.Layout(\n",
        "                    title='Linear Regression '+ 'y = ' + str(coeffs[1])[:6] + '*x + ' + str(coeffs[0])[:6],\n",
        "                    plot_bgcolor='rgb(229, 229, 229)',\n",
        "                    xaxis=dict(\n",
        "                        title=xtitle\n",
        "                    ),\n",
        "                    yaxis=dict(\n",
        "                        title=ytitle\n",
        "                    )\n",
        "                    )\n",
        "\n",
        "    data = [trace1, trace2]\n",
        "    fig = go.Figure(data=data, layout=layout)\n",
        "\n",
        "    fig.show()"
      ],
      "execution_count": 0,
      "outputs": []
    },
    {
      "cell_type": "markdown",
      "metadata": {
        "id": "1boK7hxlfojU",
        "colab_type": "text"
      },
      "source": [
        "<a id = \"10\"></a>"
      ]
    },
    {
      "cell_type": "markdown",
      "metadata": {
        "id": "r6Z7gGzEr96h",
        "colab_type": "text"
      },
      "source": [
        "<div class=\"section\">\n",
        "10. hét\n",
        "</div>"
      ]
    },
    {
      "cell_type": "markdown",
      "metadata": {
        "id": "Ya34EBso_Y3-",
        "colab_type": "text"
      },
      "source": [
        "<div class=\"theory\">\n",
        "<h1>Confidencia intervallum</h1>\n",
        "<br />\n",
        "(a) Várható érték megbízhatósági intervallum becslése, <span style=\"font-weight:bold\">ha a sokaság szórása ismert</span>\n",
        "<div margin-left: auto; margin-right: auto;\">\n",
        "<table class=\"align\">\n",
        "        <tbody>\n",
        "        <tr>\n",
        "            <td class=\"right\">$1-\\alpha$</td>\n",
        "            <td>$=$</td>\n",
        "            <td class=\"left\">megbízhatósági szint</td>\n",
        "        </tr>     \n",
        "        <tr>\n",
        "            <td class=\"right\">$\\overline{x}$</td>\n",
        "            <td>$=$</td>\n",
        "            <td class=\"left\">a minta átlaga</td>\n",
        "        </tr>\n",
        "        <tr>\n",
        "            <td class=\"right\">$n$</td>\n",
        "            <td>$=$</td>\n",
        "            <td class=\"left\">a minta elemszáma</td>\n",
        "        </tr>\n",
        "        <tr>\n",
        "            <td class=\"right\">$\\sigma$</td>\n",
        "            <td>$=$</td>\n",
        "            <td class=\"left\">a sokaság szórása</td>\n",
        "        </tr>\n",
        "        <tr>\n",
        "            <td class=\"right\">$Z_{1-\\frac{\\alpha}{2}}$</td>\n",
        "            <td>$=$</td>\n",
        "            <td class=\"left\">a standard normális eloszlás \n",
        "            $1-\\frac{\\alpha}{2}$ valószínűséghez            \n",
        "            tartozó $Z$ értéke.</td>\n",
        "        </tr>\n",
        "        </tbody>\n",
        "</table>\n",
        "</div>\n",
        "Ekkor a megbízhatósági intervallum\n",
        "$$\n",
        "\\left(\\overline{x}-Z_{1-\\frac{\\alpha}{2}}\\cdot\\frac{\\sigma}{\\sqrt{n}},\\,\n",
        "\\overline{x}+Z_{1-\\frac{\\alpha}{2}}\\cdot\\frac{\\sigma}{\\sqrt{n}} \\right).\n",
        "$$\n",
        "</div>"
      ]
    },
    {
      "cell_type": "markdown",
      "metadata": {
        "id": "Im-9RQ1YFviR",
        "colab_type": "text"
      },
      "source": [
        "Két kidolgozott példa az alábbi videóban\n"
      ]
    },
    {
      "cell_type": "code",
      "metadata": {
        "id": "3KGXlXyJj8Iy",
        "colab_type": "code",
        "outputId": "534091d4-5e96-448e-c881-f6041dc3f4c0",
        "colab": {
          "base_uri": "https://localhost:8080/",
          "height": 497
        }
      },
      "source": [
        "YouTubeVideo('DT-fPG0Hff8', width=724, height=476)"
      ],
      "execution_count": 0,
      "outputs": [
        {
          "output_type": "execute_result",
          "data": {
            "text/html": [
              "\n",
              "        <iframe\n",
              "            width=\"724\"\n",
              "            height=\"476\"\n",
              "            src=\"https://www.youtube.com/embed/DT-fPG0Hff8\"\n",
              "            frameborder=\"0\"\n",
              "            allowfullscreen\n",
              "        ></iframe>\n",
              "        "
            ],
            "text/plain": [
              "<IPython.lib.display.YouTubeVideo at 0x7f2d07b595f8>"
            ],
            "image/jpeg": "[encoded data removed]"
          },
          "metadata": {
            "tags": []
          },
          "execution_count": 4
        }
      ]
    },
    {
      "cell_type": "markdown",
      "metadata": {
        "id": "3LE-m1g7j8uh",
        "colab_type": "text"
      },
      "source": [
        "<div class=\"theory\">\n",
        "(b) Várható érték megbízhatósági intervallum becslése, <span style=\"font-weight:bold\">ha a sokaság szórása nem ismert</span>\n",
        "<div style=\"margin-left: auto; margin-right: auto;\">\n",
        "<table class=\"align\">\n",
        "        <tbody>\n",
        "        <tr>\n",
        "            <td class=\"right\">$s$</td>\n",
        "            <td>$=$</td>\n",
        "            <td class=\"left\">\n",
        "            $\\sqrt{\\dfrac {1}{n-1}\n",
        "            \\displaystyle{\\sum _{i=1}^n}(x_{i}-\\bar {x}\\,)^2}\\,$\n",
        "             (a minta szórása )</td>\n",
        "        </tr>     \n",
        "        <tr>\n",
        "            <td class=\"right\">$t_{_{1-\\frac{\\alpha}{2}}}$</td>\n",
        "            <td>$=$</td>\n",
        "            <td class=\"left\">a $t$-eloszlás $1-\\dfrac{\\alpha}\n",
        "            {2}$ valószínűséghez tartozó $t$ értéke</td>\n",
        "        </tr>\n",
        "        </tbody>\n",
        "</table>\n",
        "</div>\n",
        "Ekkor a megbízhatósági intervallum\n",
        "$$\n",
        "\\left(\\overline{x}-t_{_{1-\\frac{\\alpha}{2}}}\\cdot\\frac{s}{\\sqrt{n}},\\,\n",
        "\\overline{x}+t_{_{1-\\frac{\\alpha}{2}}}\\cdot\\frac{s}{\\sqrt{n}} \\right).\n",
        "$$\n",
        "</div>"
      ]
    },
    {
      "cell_type": "markdown",
      "metadata": {
        "id": "5Y2AkjztpWjn",
        "colab_type": "text"
      },
      "source": [
        "Két kidolgozott példa az alábbi videóban"
      ]
    },
    {
      "cell_type": "code",
      "metadata": {
        "id": "CM95isvLk1D5",
        "colab_type": "code",
        "outputId": "5ee3ecf6-0ce1-4ffa-d73a-5a9baf25c31b",
        "colab": {
          "base_uri": "https://localhost:8080/",
          "height": 497
        }
      },
      "source": [
        "YouTubeVideo('MUD390jtgQs', width=724, height=476)"
      ],
      "execution_count": 0,
      "outputs": [
        {
          "output_type": "execute_result",
          "data": {
            "text/html": [
              "\n",
              "        <iframe\n",
              "            width=\"724\"\n",
              "            height=\"476\"\n",
              "            src=\"https://www.youtube.com/embed/MUD390jtgQs\"\n",
              "            frameborder=\"0\"\n",
              "            allowfullscreen\n",
              "        ></iframe>\n",
              "        "
            ],
            "text/plain": [
              "<IPython.lib.display.YouTubeVideo at 0x7f2d07b59470>"
            ],
            "image/jpeg": "[encoded data removed]"
          },
          "metadata": {
            "tags": []
          },
          "execution_count": 5
        }
      ]
    },
    {
      "cell_type": "markdown",
      "metadata": {
        "id": "R3Ga3WcjKsfb",
        "colab_type": "text"
      },
      "source": [
        "**Lineáris regresszió**\n",
        "\n",
        "$y=\\alpha x+\\beta$.\n",
        "\n",
        "\\begin{aligned}\n",
        "{\\widehat {\\alpha }}&={\\bar {y}}-{\\widehat {\\beta }}\\,{\\bar {x}},\\\\[5pt]\n",
        "{\\widehat {\\beta }}&={\\frac {\\sum _{i=1}^{n}(x_{i}-\\bar {x})(y_{i}-\\bar {y})}{\\sum _{i=1}^{n}(x_{i}-\\bar {x})^{2}}}\\\\[6pt]\n",
        "&={\\frac {s_{x,y}}{s_{x}^{2}}}\\\\[5pt]&=r_{xy}{\\frac {s_{y}}{s_{x}}}.\\\\[6pt]\n",
        "\\end{aligned}\n",
        "\n",
        "* $\\bar {x}$ and $\\bar {y}$  the average of the $x_i$ and $y_i$, respectively\n",
        "* $r_{xy}$ the sample correlation coefficient between $x$ and $y$\n",
        "* $s_x$ and $s_y$ the uncorrected sample standard deviations of $x$ and $y$\n",
        "* $s_x^2$ and $s_{x,y}$ the sample variance and sample covariance, respectively. \n",
        "\n",
        "\n",
        "---\n",
        "\n",
        "\n",
        "Levezetés az alábbi videóban "
      ]
    },
    {
      "cell_type": "code",
      "metadata": {
        "id": "tpbOq28AfJGx",
        "colab_type": "code",
        "outputId": "c3be85ab-7b8b-49bd-d2c0-4c0f6a526200",
        "colab": {
          "base_uri": "https://localhost:8080/",
          "height": 497
        }
      },
      "source": [
        "YouTubeVideo('DSQ2plMtbLc', width=724, height=476)"
      ],
      "execution_count": 0,
      "outputs": [
        {
          "output_type": "execute_result",
          "data": {
            "text/html": [
              "\n",
              "        <iframe\n",
              "            width=\"724\"\n",
              "            height=\"476\"\n",
              "            src=\"https://www.youtube.com/embed/DSQ2plMtbLc\"\n",
              "            frameborder=\"0\"\n",
              "            allowfullscreen\n",
              "        ></iframe>\n",
              "        "
            ],
            "text/plain": [
              "<IPython.lib.display.YouTubeVideo at 0x7f6dfdba51d0>"
            ],
            "image/jpeg": "[encoded data removed]"
          },
          "metadata": {
            "tags": []
          },
          "execution_count": 8
        }
      ]
    },
    {
      "cell_type": "markdown",
      "metadata": {
        "colab_type": "text",
        "id": "g1tADPwlcStF"
      },
      "source": [
        "[Return to top](#top)"
      ]
    },
    {
      "cell_type": "markdown",
      "metadata": {
        "id": "3F70CNc4imSm",
        "colab_type": "text"
      },
      "source": [
        "<a id = \"10.3\"></a>"
      ]
    },
    {
      "cell_type": "markdown",
      "metadata": {
        "id": "KNrKaX3AvZWW",
        "colab_type": "text"
      },
      "source": [
        "<div class=\"feladat\">\n",
        "3. Feladat\n",
        "</div>"
      ]
    },
    {
      "cell_type": "markdown",
      "metadata": {
        "collapsed": true,
        "hide_input": false,
        "scrolled": true,
        "solution2": "hidden",
        "solution2_first": true,
        "id": "zEg4Juu0SWWO",
        "colab_type": "text"
      },
      "source": [
        "<div class=\"exercises\">\n",
        "Egy automata gépnek $200$ mm hosszúságú pálcikákat kéne készíteni. Előzetes \n",
        "adatfelvételből tudjuk, hogy a gép által gyártott termékek hossza normális \n",
        "eloszlású valószínűségi változó, $3$ mm\n",
        "szórással. Az $n=16$ elemű minta elemeinek hosszmérete: \n",
        "<br />\n",
        "193, 195, 198, 201, 204, \n",
        "196, 196, 196, 203, 199, 193, 198, 191, 191, 198, 200. \n",
        "<br />\n",
        "a) Mit jelent, hogy a fenti egy statisztikai minta? \n",
        "<br />\n",
        "b) Készítsünk gyakoriság, sűrűséghisztogramot 3-as lépésközzel! \n",
        "<br />\n",
        "c) Mi lesz a tapasztalati eloszlásfüggvény? \n",
        "<br />\n",
        "d) Mi a tapasztalati várható értéke, szórása? \n",
        "<br />\n",
        "e) Torzítatlan becslései-e a fenti statisztikák a paramétereknek? És aszimptotikusan torzítatlan? \n",
        "<br />\n",
        "f) Mi lesz a szórás torzítatlan becslése? \n",
        "<br />\n",
        "g) Adjunk a populáció várható értékére 95%-os megbízhatósági szintű konfidencia intervallumot. \n",
        "</div>"
      ]
    },
    {
      "cell_type": "markdown",
      "metadata": {
        "id": "bQ5twAu-vtFO",
        "colab_type": "text"
      },
      "source": [
        "<a id = \"10.3.1\"></a>\n",
        "<div class=\"solution\">Megoldás</div>"
      ]
    },
    {
      "cell_type": "markdown",
      "metadata": {
        "id": "cR6Tn0Iwx5pk",
        "colab_type": "text"
      },
      "source": [
        "<a id = \"10.3.b\"></a>\n",
        "b) gyakoriság, sűrűséghisztogram"
      ]
    },
    {
      "cell_type": "code",
      "metadata": {
        "id": "VvHv3oz-K_C4",
        "colab_type": "code",
        "outputId": "bd4773fd-4727-4bdd-f34f-ffe3fea9ce69",
        "colab": {
          "base_uri": "https://localhost:8080/",
          "height": 542
        }
      },
      "source": [
        "datalist = [193, 195, 198, 201, 204, \n",
        "196, 196, 196, 203, 199, 193, 198, 191, 191, 198, 200]\n",
        "\n",
        "trace1 = go.Histogram(histfunc=\"count\",  x=datalist, name=\"count\")\n",
        "trace2 = go.Histogram(histnorm=\"probability\", x=datalist, name=\"probability\")\n",
        "\n",
        "data = [trace1, trace2]\n",
        "\n",
        "layout = dict(\n",
        "        title_text='Pálca hossza', # title of plot\n",
        "        xaxis_title_text='mm', # xaxis label\n",
        "        #yaxis_title_text='Count', # yaxis label\n",
        "        bargap=0.2, # gap between bars of adjacent location coordinates\n",
        "        bargroupgap=0.1 # gap between bars of the same location coordinates\n",
        "    )\n",
        "\n",
        "# Make figure\n",
        "fig = go.Figure(data=data, layout=layout)\n",
        "\n",
        "fig.show()"
      ],
      "execution_count": 18,
      "outputs": [
        {
          "output_type": "display_data",
          "data": {
            "text/html": [
              "        <script type=\"text/javascript\">\n",
              "        window.PlotlyConfig = {MathJaxConfig: 'local'};\n",
              "        if (window.MathJax) {MathJax.Hub.Config({SVG: {font: \"STIX-Web\"}});}\n",
              "        if (typeof require !== 'undefined') {\n",
              "        require.undef(\"plotly\");\n",
              "        requirejs.config({\n",
              "            paths: {\n",
              "                'plotly': ['https://cdn.plot.ly/plotly-latest.min']\n",
              "            }\n",
              "        });\n",
              "        require(['plotly'], function(Plotly) {\n",
              "            window._Plotly = Plotly;\n",
              "        });\n",
              "        }\n",
              "        </script>\n",
              "        "
            ]
          },
          "metadata": {
            "tags": []
          }
        },
        {
          "output_type": "display_data",
          "data": {
            "text/html": [
              "<div>\n",
              "        \n",
              "        \n",
              "            <div id=\"0001f8e3-6089-487f-885c-ba5fbae8d88f\" class=\"plotly-graph-div\" style=\"height:525px; width:100%;\"></div>\n",
              "            <script type=\"text/javascript\">\n",
              "                require([\"plotly\"], function(Plotly) {\n",
              "                    window.PLOTLYENV=window.PLOTLYENV || {};\n",
              "                    \n",
              "                if (document.getElementById(\"0001f8e3-6089-487f-885c-ba5fbae8d88f\")) {\n",
              "                    Plotly.newPlot(\n",
              "                        '0001f8e3-6089-487f-885c-ba5fbae8d88f',\n",
              "                        [{\"histfunc\": \"count\", \"name\": \"count\", \"type\": \"histogram\", \"x\": [193, 195, 198, 201, 204, 196, 196, 196, 203, 199, 193, 198, 191, 191, 198, 200]}, {\"histnorm\": \"probability\", \"name\": \"probability\", \"type\": \"histogram\", \"x\": [193, 195, 198, 201, 204, 196, 196, 196, 203, 199, 193, 198, 191, 191, 198, 200]}],\n",
              "                        {\"bargap\": 0.2, \"bargroupgap\": 0.1, \"template\": {\"data\": {\"bar\": [{\"error_x\": {\"color\": \"#2a3f5f\"}, \"error_y\": {\"color\": \"#2a3f5f\"}, \"marker\": {\"line\": {\"color\": \"#E5ECF6\", \"width\": 0.5}}, \"type\": \"bar\"}], \"barpolar\": [{\"marker\": {\"line\": {\"color\": \"#E5ECF6\", \"width\": 0.5}}, \"type\": \"barpolar\"}], \"carpet\": [{\"aaxis\": {\"endlinecolor\": \"#2a3f5f\", \"gridcolor\": \"white\", \"linecolor\": \"white\", \"minorgridcolor\": \"white\", \"startlinecolor\": \"#2a3f5f\"}, \"baxis\": {\"endlinecolor\": \"#2a3f5f\", \"gridcolor\": \"white\", \"linecolor\": \"white\", \"minorgridcolor\": \"white\", \"startlinecolor\": \"#2a3f5f\"}, \"type\": \"carpet\"}], \"choropleth\": [{\"colorbar\": {\"outlinewidth\": 0, \"ticks\": \"\"}, \"type\": \"choropleth\"}], \"contour\": [{\"colorbar\": {\"outlinewidth\": 0, \"ticks\": \"\"}, \"colorscale\": [[0.0, \"#0d0887\"], [0.1111111111111111, \"#46039f\"], [0.2222222222222222, \"#7201a8\"], [0.3333333333333333, \"#9c179e\"], [0.4444444444444444, \"#bd3786\"], [0.5555555555555556, \"#d8576b\"], [0.6666666666666666, \"#ed7953\"], [0.7777777777777778, \"#fb9f3a\"], [0.8888888888888888, \"#fdca26\"], [1.0, \"#f0f921\"]], \"type\": \"contour\"}], \"contourcarpet\": [{\"colorbar\": {\"outlinewidth\": 0, \"ticks\": \"\"}, \"type\": \"contourcarpet\"}], \"heatmap\": [{\"colorbar\": {\"outlinewidth\": 0, \"ticks\": \"\"}, \"colorscale\": [[0.0, \"#0d0887\"], [0.1111111111111111, \"#46039f\"], [0.2222222222222222, \"#7201a8\"], [0.3333333333333333, \"#9c179e\"], [0.4444444444444444, \"#bd3786\"], [0.5555555555555556, \"#d8576b\"], [0.6666666666666666, \"#ed7953\"], [0.7777777777777778, \"#fb9f3a\"], [0.8888888888888888, \"#fdca26\"], [1.0, \"#f0f921\"]], \"type\": \"heatmap\"}], \"heatmapgl\": [{\"colorbar\": {\"outlinewidth\": 0, \"ticks\": \"\"}, \"colorscale\": [[0.0, \"#0d0887\"], [0.1111111111111111, \"#46039f\"], [0.2222222222222222, \"#7201a8\"], [0.3333333333333333, \"#9c179e\"], [0.4444444444444444, \"#bd3786\"], [0.5555555555555556, \"#d8576b\"], [0.6666666666666666, \"#ed7953\"], [0.7777777777777778, \"#fb9f3a\"], [0.8888888888888888, \"#fdca26\"], [1.0, \"#f0f921\"]], \"type\": \"heatmapgl\"}], \"histogram\": [{\"marker\": {\"colorbar\": {\"outlinewidth\": 0, \"ticks\": \"\"}}, \"type\": \"histogram\"}], \"histogram2d\": [{\"colorbar\": {\"outlinewidth\": 0, \"ticks\": \"\"}, \"colorscale\": [[0.0, \"#0d0887\"], [0.1111111111111111, \"#46039f\"], [0.2222222222222222, \"#7201a8\"], [0.3333333333333333, \"#9c179e\"], [0.4444444444444444, \"#bd3786\"], [0.5555555555555556, \"#d8576b\"], [0.6666666666666666, \"#ed7953\"], [0.7777777777777778, \"#fb9f3a\"], [0.8888888888888888, \"#fdca26\"], [1.0, \"#f0f921\"]], \"type\": \"histogram2d\"}], \"histogram2dcontour\": [{\"colorbar\": {\"outlinewidth\": 0, \"ticks\": \"\"}, \"colorscale\": [[0.0, \"#0d0887\"], [0.1111111111111111, \"#46039f\"], [0.2222222222222222, \"#7201a8\"], [0.3333333333333333, \"#9c179e\"], [0.4444444444444444, \"#bd3786\"], [0.5555555555555556, \"#d8576b\"], [0.6666666666666666, \"#ed7953\"], [0.7777777777777778, \"#fb9f3a\"], [0.8888888888888888, \"#fdca26\"], [1.0, \"#f0f921\"]], \"type\": \"histogram2dcontour\"}], \"mesh3d\": [{\"colorbar\": {\"outlinewidth\": 0, \"ticks\": \"\"}, \"type\": \"mesh3d\"}], \"parcoords\": [{\"line\": {\"colorbar\": {\"outlinewidth\": 0, \"ticks\": \"\"}}, \"type\": \"parcoords\"}], \"scatter\": [{\"marker\": {\"colorbar\": {\"outlinewidth\": 0, \"ticks\": \"\"}}, \"type\": \"scatter\"}], \"scatter3d\": [{\"line\": {\"colorbar\": {\"outlinewidth\": 0, \"ticks\": \"\"}}, \"marker\": {\"colorbar\": {\"outlinewidth\": 0, \"ticks\": \"\"}}, \"type\": \"scatter3d\"}], \"scattercarpet\": [{\"marker\": {\"colorbar\": {\"outlinewidth\": 0, \"ticks\": \"\"}}, \"type\": \"scattercarpet\"}], \"scattergeo\": [{\"marker\": {\"colorbar\": {\"outlinewidth\": 0, \"ticks\": \"\"}}, \"type\": \"scattergeo\"}], \"scattergl\": [{\"marker\": {\"colorbar\": {\"outlinewidth\": 0, \"ticks\": \"\"}}, \"type\": \"scattergl\"}], \"scattermapbox\": [{\"marker\": {\"colorbar\": {\"outlinewidth\": 0, \"ticks\": \"\"}}, \"type\": \"scattermapbox\"}], \"scatterpolar\": [{\"marker\": {\"colorbar\": {\"outlinewidth\": 0, \"ticks\": \"\"}}, \"type\": \"scatterpolar\"}], \"scatterpolargl\": [{\"marker\": {\"colorbar\": {\"outlinewidth\": 0, \"ticks\": \"\"}}, \"type\": \"scatterpolargl\"}], \"scatterternary\": [{\"marker\": {\"colorbar\": {\"outlinewidth\": 0, \"ticks\": \"\"}}, \"type\": \"scatterternary\"}], \"surface\": [{\"colorbar\": {\"outlinewidth\": 0, \"ticks\": \"\"}, \"colorscale\": [[0.0, \"#0d0887\"], [0.1111111111111111, \"#46039f\"], [0.2222222222222222, \"#7201a8\"], [0.3333333333333333, \"#9c179e\"], [0.4444444444444444, \"#bd3786\"], [0.5555555555555556, \"#d8576b\"], [0.6666666666666666, \"#ed7953\"], [0.7777777777777778, \"#fb9f3a\"], [0.8888888888888888, \"#fdca26\"], [1.0, \"#f0f921\"]], \"type\": \"surface\"}], \"table\": [{\"cells\": {\"fill\": {\"color\": \"#EBF0F8\"}, \"line\": {\"color\": \"white\"}}, \"header\": {\"fill\": {\"color\": \"#C8D4E3\"}, \"line\": {\"color\": \"white\"}}, \"type\": \"table\"}]}, \"layout\": {\"annotationdefaults\": {\"arrowcolor\": \"#2a3f5f\", \"arrowhead\": 0, \"arrowwidth\": 1}, \"colorscale\": {\"diverging\": [[0, \"#8e0152\"], [0.1, \"#c51b7d\"], [0.2, \"#de77ae\"], [0.3, \"#f1b6da\"], [0.4, \"#fde0ef\"], [0.5, \"#f7f7f7\"], [0.6, \"#e6f5d0\"], [0.7, \"#b8e186\"], [0.8, \"#7fbc41\"], [0.9, \"#4d9221\"], [1, \"#276419\"]], \"sequential\": [[0.0, \"#0d0887\"], [0.1111111111111111, \"#46039f\"], [0.2222222222222222, \"#7201a8\"], [0.3333333333333333, \"#9c179e\"], [0.4444444444444444, \"#bd3786\"], [0.5555555555555556, \"#d8576b\"], [0.6666666666666666, \"#ed7953\"], [0.7777777777777778, \"#fb9f3a\"], [0.8888888888888888, \"#fdca26\"], [1.0, \"#f0f921\"]], \"sequentialminus\": [[0.0, \"#0d0887\"], [0.1111111111111111, \"#46039f\"], [0.2222222222222222, \"#7201a8\"], [0.3333333333333333, \"#9c179e\"], [0.4444444444444444, \"#bd3786\"], [0.5555555555555556, \"#d8576b\"], [0.6666666666666666, \"#ed7953\"], [0.7777777777777778, \"#fb9f3a\"], [0.8888888888888888, \"#fdca26\"], [1.0, \"#f0f921\"]]}, \"colorway\": [\"#636efa\", \"#EF553B\", \"#00cc96\", \"#ab63fa\", \"#FFA15A\", \"#19d3f3\", \"#FF6692\", \"#B6E880\", \"#FF97FF\", \"#FECB52\"], \"font\": {\"color\": \"#2a3f5f\"}, \"geo\": {\"bgcolor\": \"white\", \"lakecolor\": \"white\", \"landcolor\": \"#E5ECF6\", \"showlakes\": true, \"showland\": true, \"subunitcolor\": \"white\"}, \"hoverlabel\": {\"align\": \"left\"}, \"hovermode\": \"closest\", \"mapbox\": {\"style\": \"light\"}, \"paper_bgcolor\": \"white\", \"plot_bgcolor\": \"#E5ECF6\", \"polar\": {\"angularaxis\": {\"gridcolor\": \"white\", \"linecolor\": \"white\", \"ticks\": \"\"}, \"bgcolor\": \"#E5ECF6\", \"radialaxis\": {\"gridcolor\": \"white\", \"linecolor\": \"white\", \"ticks\": \"\"}}, \"scene\": {\"xaxis\": {\"backgroundcolor\": \"#E5ECF6\", \"gridcolor\": \"white\", \"gridwidth\": 2, \"linecolor\": \"white\", \"showbackground\": true, \"ticks\": \"\", \"zerolinecolor\": \"white\"}, \"yaxis\": {\"backgroundcolor\": \"#E5ECF6\", \"gridcolor\": \"white\", \"gridwidth\": 2, \"linecolor\": \"white\", \"showbackground\": true, \"ticks\": \"\", \"zerolinecolor\": \"white\"}, \"zaxis\": {\"backgroundcolor\": \"#E5ECF6\", \"gridcolor\": \"white\", \"gridwidth\": 2, \"linecolor\": \"white\", \"showbackground\": true, \"ticks\": \"\", \"zerolinecolor\": \"white\"}}, \"shapedefaults\": {\"line\": {\"color\": \"#2a3f5f\"}}, \"ternary\": {\"aaxis\": {\"gridcolor\": \"white\", \"linecolor\": \"white\", \"ticks\": \"\"}, \"baxis\": {\"gridcolor\": \"white\", \"linecolor\": \"white\", \"ticks\": \"\"}, \"bgcolor\": \"#E5ECF6\", \"caxis\": {\"gridcolor\": \"white\", \"linecolor\": \"white\", \"ticks\": \"\"}}, \"title\": {\"x\": 0.05}, \"xaxis\": {\"automargin\": true, \"gridcolor\": \"white\", \"linecolor\": \"white\", \"ticks\": \"\", \"zerolinecolor\": \"white\", \"zerolinewidth\": 2}, \"yaxis\": {\"automargin\": true, \"gridcolor\": \"white\", \"linecolor\": \"white\", \"ticks\": \"\", \"zerolinecolor\": \"white\", \"zerolinewidth\": 2}}}, \"title\": {\"text\": \"P\\u00e1lca hossza\"}, \"xaxis\": {\"title\": {\"text\": \"mm\"}}},\n",
              "                        {\"responsive\": true}\n",
              "                    ).then(function(){\n",
              "                            \n",
              "var gd = document.getElementById('0001f8e3-6089-487f-885c-ba5fbae8d88f');\n",
              "var x = new MutationObserver(function (mutations, observer) {{\n",
              "        var display = window.getComputedStyle(gd).display;\n",
              "        if (!display || display === 'none') {{\n",
              "            console.log([gd, 'removed!']);\n",
              "            Plotly.purge(gd);\n",
              "            observer.disconnect();\n",
              "        }}\n",
              "}});\n",
              "\n",
              "// Listen for the removal of the full notebook cells\n",
              "var notebookContainer = gd.closest('#notebook-container');\n",
              "if (notebookContainer) {{\n",
              "    x.observe(notebookContainer, {childList: true});\n",
              "}}\n",
              "\n",
              "// Listen for the clearing of the current output cell\n",
              "var outputEl = gd.closest('.output');\n",
              "if (outputEl) {{\n",
              "    x.observe(outputEl, {childList: true});\n",
              "}}\n",
              "\n",
              "                        })\n",
              "                };\n",
              "                });\n",
              "            </script>\n",
              "        </div>"
            ]
          },
          "metadata": {
            "tags": []
          }
        }
      ]
    },
    {
      "cell_type": "markdown",
      "metadata": {
        "id": "7T04VBsEm9Sy",
        "colab_type": "text"
      },
      "source": [
        "[Return to top](#top)"
      ]
    },
    {
      "cell_type": "markdown",
      "metadata": {
        "id": "sx-nJdB_JVGU",
        "colab_type": "text"
      },
      "source": [
        "<a id = \"10.3.c\"></a>\n",
        "c) tapasztalati eloszlásfüggvény"
      ]
    },
    {
      "cell_type": "code",
      "metadata": {
        "id": "nJdH7-UpyP2J",
        "colab_type": "code",
        "outputId": "3b9bddf3-756f-4901-cb9e-54b80f75b7fe",
        "colab": {
          "base_uri": "https://localhost:8080/",
          "height": 542
        }
      },
      "source": [
        "datalist = [193, 195, 198, 201, 204, \n",
        "196, 196, 196, 203, 199, 193, 198, 191, 191, 198, 200]\n",
        "bins = math.ceil((max(datalist) - min(datalist)/2))\n",
        "empirical_dist(datalist, bins, 'hosszúság (mm)')"
      ],
      "execution_count": 19,
      "outputs": [
        {
          "output_type": "display_data",
          "data": {
            "text/html": [
              "<div>\n",
              "        \n",
              "        \n",
              "            <div id=\"06a9f936-72fd-4797-aeca-625f755e42ab\" class=\"plotly-graph-div\" style=\"height:525px; width:100%;\"></div>\n",
              "            <script type=\"text/javascript\">\n",
              "                require([\"plotly\"], function(Plotly) {\n",
              "                    window.PLOTLYENV=window.PLOTLYENV || {};\n",
              "                    \n",
              "                if (document.getElementById(\"06a9f936-72fd-4797-aeca-625f755e42ab\")) {\n",
              "                    Plotly.newPlot(\n",
              "                        '06a9f936-72fd-4797-aeca-625f755e42ab',\n",
              "                        [{\"hoverinfo\": \"all\", \"line\": {\"color\": \"rgb(1255, 0, 0)\", \"shape\": \"hvh\"}, \"mode\": \"lines\", \"name\": \"X\", \"type\": \"scatter\", \"x\": [191.0, 191.11926605504587, 191.23853211009174, 191.3577981651376, 191.47706422018348, 191.59633027522935, 191.71559633027522, 191.8348623853211, 191.954128440367, 192.07339449541286, 192.19266055045873, 192.3119266055046, 192.43119266055047, 192.55045871559633, 192.6697247706422, 192.78899082568807, 192.90825688073394, 193.0275229357798, 193.14678899082568, 193.26605504587155, 193.38532110091742, 193.5045871559633, 193.62385321100916, 193.74311926605503, 193.86238532110093, 193.9816513761468, 194.10091743119267, 194.22018348623854, 194.3394495412844, 194.45871559633028, 194.57798165137615, 194.69724770642202, 194.8165137614679, 194.93577981651376, 195.05504587155963, 195.1743119266055, 195.29357798165137, 195.41284403669724, 195.5321100917431, 195.651376146789, 195.77064220183487, 195.88990825688074, 196.0091743119266, 196.12844036697248, 196.24770642201835, 196.36697247706422, 196.4862385321101, 196.60550458715596, 196.72477064220183, 196.8440366972477, 196.96330275229357, 197.08256880733944, 197.2018348623853, 197.32110091743118, 197.44036697247705, 197.55963302752295, 197.67889908256882, 197.7981651376147, 197.91743119266056, 198.03669724770643, 198.1559633027523, 198.27522935779817, 198.39449541284404, 198.5137614678899, 198.63302752293578, 198.75229357798165, 198.87155963302752, 198.9908256880734, 199.11009174311926, 199.22935779816513, 199.348623853211, 199.4678899082569, 199.58715596330276, 199.70642201834863, 199.8256880733945, 199.94495412844037, 200.06422018348624, 200.1834862385321, 200.30275229357798, 200.42201834862385, 200.54128440366972, 200.6605504587156, 200.77981651376146, 200.89908256880733, 201.0183486238532, 201.13761467889907, 201.25688073394497, 201.37614678899084, 201.4954128440367, 201.61467889908258, 201.73394495412845, 201.85321100917432, 201.9724770642202, 202.09174311926606, 202.21100917431193, 202.3302752293578, 202.44954128440367, 202.56880733944953, 202.6880733944954, 202.80733944954127, 202.92660550458714, 203.04587155963304, 203.1651376146789, 203.28440366972478, 203.40366972477065, 203.52293577981652, 203.6422018348624, 203.76146788990826, 203.88073394495413, 204.0], \"y\": [0.12500000000000186, 0.12500000000000186, 0.12500000000000186, 0.12500000000000186, 0.12500000000000186, 0.12500000000000186, 0.12500000000000186, 0.12500000000000186, 0.12500000000000186, 0.12500000000000186, 0.12500000000000186, 0.12500000000000186, 0.12500000000000186, 0.12500000000000186, 0.12500000000000186, 0.12500000000000186, 0.2500000000000037, 0.2500000000000037, 0.2500000000000037, 0.2500000000000037, 0.2500000000000037, 0.2500000000000037, 0.2500000000000037, 0.2500000000000037, 0.2500000000000037, 0.2500000000000037, 0.2500000000000037, 0.2500000000000037, 0.2500000000000037, 0.2500000000000037, 0.2500000000000037, 0.2500000000000037, 0.2500000000000037, 0.31250000000000466, 0.31250000000000466, 0.31250000000000466, 0.31250000000000466, 0.31250000000000466, 0.31250000000000466, 0.31250000000000466, 0.31250000000000466, 0.5000000000000074, 0.5000000000000074, 0.5000000000000074, 0.5000000000000074, 0.5000000000000074, 0.5000000000000074, 0.5000000000000074, 0.5000000000000074, 0.5000000000000074, 0.5000000000000074, 0.5000000000000074, 0.5000000000000074, 0.5000000000000074, 0.5000000000000074, 0.5000000000000074, 0.5000000000000074, 0.5000000000000074, 0.6875000000000102, 0.6875000000000102, 0.6875000000000102, 0.6875000000000102, 0.6875000000000102, 0.6875000000000102, 0.6875000000000102, 0.6875000000000102, 0.6875000000000102, 0.7500000000000112, 0.7500000000000112, 0.7500000000000112, 0.7500000000000112, 0.7500000000000112, 0.7500000000000112, 0.7500000000000112, 0.7500000000000112, 0.8125000000000121, 0.8125000000000121, 0.8125000000000121, 0.8125000000000121, 0.8125000000000121, 0.8125000000000121, 0.8125000000000121, 0.8125000000000121, 0.8750000000000131, 0.8750000000000131, 0.8750000000000131, 0.8750000000000131, 0.8750000000000131, 0.8750000000000131, 0.8750000000000131, 0.8750000000000131, 0.8750000000000131, 0.8750000000000131, 0.8750000000000131, 0.8750000000000131, 0.8750000000000131, 0.8750000000000131, 0.8750000000000131, 0.8750000000000131, 0.8750000000000131, 0.9374999999999991, 0.9374999999999991, 0.9374999999999991, 0.9374999999999991, 0.9374999999999991, 0.9374999999999991, 0.9374999999999991, 0.9374999999999991, 1.0]}],\n",
              "                        {\"legend\": {\"font\": {\"size\": 16}, \"traceorder\": \"reversed\", \"y\": 0.5}, \"template\": {\"data\": {\"bar\": [{\"error_x\": {\"color\": \"#2a3f5f\"}, \"error_y\": {\"color\": \"#2a3f5f\"}, \"marker\": {\"line\": {\"color\": \"#E5ECF6\", \"width\": 0.5}}, \"type\": \"bar\"}], \"barpolar\": [{\"marker\": {\"line\": {\"color\": \"#E5ECF6\", \"width\": 0.5}}, \"type\": \"barpolar\"}], \"carpet\": [{\"aaxis\": {\"endlinecolor\": \"#2a3f5f\", \"gridcolor\": \"white\", \"linecolor\": \"white\", \"minorgridcolor\": \"white\", \"startlinecolor\": \"#2a3f5f\"}, \"baxis\": {\"endlinecolor\": \"#2a3f5f\", \"gridcolor\": \"white\", \"linecolor\": \"white\", \"minorgridcolor\": \"white\", \"startlinecolor\": \"#2a3f5f\"}, \"type\": \"carpet\"}], \"choropleth\": [{\"colorbar\": {\"outlinewidth\": 0, \"ticks\": \"\"}, \"type\": \"choropleth\"}], \"contour\": [{\"colorbar\": {\"outlinewidth\": 0, \"ticks\": \"\"}, \"colorscale\": [[0.0, \"#0d0887\"], [0.1111111111111111, \"#46039f\"], [0.2222222222222222, \"#7201a8\"], [0.3333333333333333, \"#9c179e\"], [0.4444444444444444, \"#bd3786\"], [0.5555555555555556, \"#d8576b\"], [0.6666666666666666, \"#ed7953\"], [0.7777777777777778, \"#fb9f3a\"], [0.8888888888888888, \"#fdca26\"], [1.0, \"#f0f921\"]], \"type\": \"contour\"}], \"contourcarpet\": [{\"colorbar\": {\"outlinewidth\": 0, \"ticks\": \"\"}, \"type\": \"contourcarpet\"}], \"heatmap\": [{\"colorbar\": {\"outlinewidth\": 0, \"ticks\": \"\"}, \"colorscale\": [[0.0, \"#0d0887\"], [0.1111111111111111, \"#46039f\"], [0.2222222222222222, \"#7201a8\"], [0.3333333333333333, \"#9c179e\"], [0.4444444444444444, \"#bd3786\"], [0.5555555555555556, \"#d8576b\"], [0.6666666666666666, \"#ed7953\"], [0.7777777777777778, \"#fb9f3a\"], [0.8888888888888888, \"#fdca26\"], [1.0, \"#f0f921\"]], \"type\": \"heatmap\"}], \"heatmapgl\": [{\"colorbar\": {\"outlinewidth\": 0, \"ticks\": \"\"}, \"colorscale\": [[0.0, \"#0d0887\"], [0.1111111111111111, \"#46039f\"], [0.2222222222222222, \"#7201a8\"], [0.3333333333333333, \"#9c179e\"], [0.4444444444444444, \"#bd3786\"], [0.5555555555555556, \"#d8576b\"], [0.6666666666666666, \"#ed7953\"], [0.7777777777777778, \"#fb9f3a\"], [0.8888888888888888, \"#fdca26\"], [1.0, \"#f0f921\"]], \"type\": \"heatmapgl\"}], \"histogram\": [{\"marker\": {\"colorbar\": {\"outlinewidth\": 0, \"ticks\": \"\"}}, \"type\": \"histogram\"}], \"histogram2d\": [{\"colorbar\": {\"outlinewidth\": 0, \"ticks\": \"\"}, \"colorscale\": [[0.0, \"#0d0887\"], [0.1111111111111111, \"#46039f\"], [0.2222222222222222, \"#7201a8\"], [0.3333333333333333, \"#9c179e\"], [0.4444444444444444, \"#bd3786\"], [0.5555555555555556, \"#d8576b\"], [0.6666666666666666, \"#ed7953\"], [0.7777777777777778, \"#fb9f3a\"], [0.8888888888888888, \"#fdca26\"], [1.0, \"#f0f921\"]], \"type\": \"histogram2d\"}], \"histogram2dcontour\": [{\"colorbar\": {\"outlinewidth\": 0, \"ticks\": \"\"}, \"colorscale\": [[0.0, \"#0d0887\"], [0.1111111111111111, \"#46039f\"], [0.2222222222222222, \"#7201a8\"], [0.3333333333333333, \"#9c179e\"], [0.4444444444444444, \"#bd3786\"], [0.5555555555555556, \"#d8576b\"], [0.6666666666666666, \"#ed7953\"], [0.7777777777777778, \"#fb9f3a\"], [0.8888888888888888, \"#fdca26\"], [1.0, \"#f0f921\"]], \"type\": \"histogram2dcontour\"}], \"mesh3d\": [{\"colorbar\": {\"outlinewidth\": 0, \"ticks\": \"\"}, \"type\": \"mesh3d\"}], \"parcoords\": [{\"line\": {\"colorbar\": {\"outlinewidth\": 0, \"ticks\": \"\"}}, \"type\": \"parcoords\"}], \"scatter\": [{\"marker\": {\"colorbar\": {\"outlinewidth\": 0, \"ticks\": \"\"}}, \"type\": \"scatter\"}], \"scatter3d\": [{\"line\": {\"colorbar\": {\"outlinewidth\": 0, \"ticks\": \"\"}}, \"marker\": {\"colorbar\": {\"outlinewidth\": 0, \"ticks\": \"\"}}, \"type\": \"scatter3d\"}], \"scattercarpet\": [{\"marker\": {\"colorbar\": {\"outlinewidth\": 0, \"ticks\": \"\"}}, \"type\": \"scattercarpet\"}], \"scattergeo\": [{\"marker\": {\"colorbar\": {\"outlinewidth\": 0, \"ticks\": \"\"}}, \"type\": \"scattergeo\"}], \"scattergl\": [{\"marker\": {\"colorbar\": {\"outlinewidth\": 0, \"ticks\": \"\"}}, \"type\": \"scattergl\"}], \"scattermapbox\": [{\"marker\": {\"colorbar\": {\"outlinewidth\": 0, \"ticks\": \"\"}}, \"type\": \"scattermapbox\"}], \"scatterpolar\": [{\"marker\": {\"colorbar\": {\"outlinewidth\": 0, \"ticks\": \"\"}}, \"type\": \"scatterpolar\"}], \"scatterpolargl\": [{\"marker\": {\"colorbar\": {\"outlinewidth\": 0, \"ticks\": \"\"}}, \"type\": \"scatterpolargl\"}], \"scatterternary\": [{\"marker\": {\"colorbar\": {\"outlinewidth\": 0, \"ticks\": \"\"}}, \"type\": \"scatterternary\"}], \"surface\": [{\"colorbar\": {\"outlinewidth\": 0, \"ticks\": \"\"}, \"colorscale\": [[0.0, \"#0d0887\"], [0.1111111111111111, \"#46039f\"], [0.2222222222222222, \"#7201a8\"], [0.3333333333333333, \"#9c179e\"], [0.4444444444444444, \"#bd3786\"], [0.5555555555555556, \"#d8576b\"], [0.6666666666666666, \"#ed7953\"], [0.7777777777777778, \"#fb9f3a\"], [0.8888888888888888, \"#fdca26\"], [1.0, \"#f0f921\"]], \"type\": \"surface\"}], \"table\": [{\"cells\": {\"fill\": {\"color\": \"#EBF0F8\"}, \"line\": {\"color\": \"white\"}}, \"header\": {\"fill\": {\"color\": \"#C8D4E3\"}, \"line\": {\"color\": \"white\"}}, \"type\": \"table\"}]}, \"layout\": {\"annotationdefaults\": {\"arrowcolor\": \"#2a3f5f\", \"arrowhead\": 0, \"arrowwidth\": 1}, \"colorscale\": {\"diverging\": [[0, \"#8e0152\"], [0.1, \"#c51b7d\"], [0.2, \"#de77ae\"], [0.3, \"#f1b6da\"], [0.4, \"#fde0ef\"], [0.5, \"#f7f7f7\"], [0.6, \"#e6f5d0\"], [0.7, \"#b8e186\"], [0.8, \"#7fbc41\"], [0.9, \"#4d9221\"], [1, \"#276419\"]], \"sequential\": [[0.0, \"#0d0887\"], [0.1111111111111111, \"#46039f\"], [0.2222222222222222, \"#7201a8\"], [0.3333333333333333, \"#9c179e\"], [0.4444444444444444, \"#bd3786\"], [0.5555555555555556, \"#d8576b\"], [0.6666666666666666, \"#ed7953\"], [0.7777777777777778, \"#fb9f3a\"], [0.8888888888888888, \"#fdca26\"], [1.0, \"#f0f921\"]], \"sequentialminus\": [[0.0, \"#0d0887\"], [0.1111111111111111, \"#46039f\"], [0.2222222222222222, \"#7201a8\"], [0.3333333333333333, \"#9c179e\"], [0.4444444444444444, \"#bd3786\"], [0.5555555555555556, \"#d8576b\"], [0.6666666666666666, \"#ed7953\"], [0.7777777777777778, \"#fb9f3a\"], [0.8888888888888888, \"#fdca26\"], [1.0, \"#f0f921\"]]}, \"colorway\": [\"#636efa\", \"#EF553B\", \"#00cc96\", \"#ab63fa\", \"#FFA15A\", \"#19d3f3\", \"#FF6692\", \"#B6E880\", \"#FF97FF\", \"#FECB52\"], \"font\": {\"color\": \"#2a3f5f\"}, \"geo\": {\"bgcolor\": \"white\", \"lakecolor\": \"white\", \"landcolor\": \"#E5ECF6\", \"showlakes\": true, \"showland\": true, \"subunitcolor\": \"white\"}, \"hoverlabel\": {\"align\": \"left\"}, \"hovermode\": \"closest\", \"mapbox\": {\"style\": \"light\"}, \"paper_bgcolor\": \"white\", \"plot_bgcolor\": \"#E5ECF6\", \"polar\": {\"angularaxis\": {\"gridcolor\": \"white\", \"linecolor\": \"white\", \"ticks\": \"\"}, \"bgcolor\": \"#E5ECF6\", \"radialaxis\": {\"gridcolor\": \"white\", \"linecolor\": \"white\", \"ticks\": \"\"}}, \"scene\": {\"xaxis\": {\"backgroundcolor\": \"#E5ECF6\", \"gridcolor\": \"white\", \"gridwidth\": 2, \"linecolor\": \"white\", \"showbackground\": true, \"ticks\": \"\", \"zerolinecolor\": \"white\"}, \"yaxis\": {\"backgroundcolor\": \"#E5ECF6\", \"gridcolor\": \"white\", \"gridwidth\": 2, \"linecolor\": \"white\", \"showbackground\": true, \"ticks\": \"\", \"zerolinecolor\": \"white\"}, \"zaxis\": {\"backgroundcolor\": \"#E5ECF6\", \"gridcolor\": \"white\", \"gridwidth\": 2, \"linecolor\": \"white\", \"showbackground\": true, \"ticks\": \"\", \"zerolinecolor\": \"white\"}}, \"shapedefaults\": {\"line\": {\"color\": \"#2a3f5f\"}}, \"ternary\": {\"aaxis\": {\"gridcolor\": \"white\", \"linecolor\": \"white\", \"ticks\": \"\"}, \"baxis\": {\"gridcolor\": \"white\", \"linecolor\": \"white\", \"ticks\": \"\"}, \"bgcolor\": \"#E5ECF6\", \"caxis\": {\"gridcolor\": \"white\", \"linecolor\": \"white\", \"ticks\": \"\"}}, \"title\": {\"x\": 0.05}, \"xaxis\": {\"automargin\": true, \"gridcolor\": \"white\", \"linecolor\": \"white\", \"ticks\": \"\", \"zerolinecolor\": \"white\", \"zerolinewidth\": 2}, \"yaxis\": {\"automargin\": true, \"gridcolor\": \"white\", \"linecolor\": \"white\", \"ticks\": \"\", \"zerolinecolor\": \"white\", \"zerolinewidth\": 2}}}, \"title\": {\"text\": \"Empirical distribution function\"}, \"xaxis\": {\"title\": {\"text\": \"hossz\\u00fas\\u00e1g (mm)\"}}},\n",
              "                        {\"responsive\": true}\n",
              "                    ).then(function(){\n",
              "                            \n",
              "var gd = document.getElementById('06a9f936-72fd-4797-aeca-625f755e42ab');\n",
              "var x = new MutationObserver(function (mutations, observer) {{\n",
              "        var display = window.getComputedStyle(gd).display;\n",
              "        if (!display || display === 'none') {{\n",
              "            console.log([gd, 'removed!']);\n",
              "            Plotly.purge(gd);\n",
              "            observer.disconnect();\n",
              "        }}\n",
              "}});\n",
              "\n",
              "// Listen for the removal of the full notebook cells\n",
              "var notebookContainer = gd.closest('#notebook-container');\n",
              "if (notebookContainer) {{\n",
              "    x.observe(notebookContainer, {childList: true});\n",
              "}}\n",
              "\n",
              "// Listen for the clearing of the current output cell\n",
              "var outputEl = gd.closest('.output');\n",
              "if (outputEl) {{\n",
              "    x.observe(outputEl, {childList: true});\n",
              "}}\n",
              "\n",
              "                        })\n",
              "                };\n",
              "                });\n",
              "            </script>\n",
              "        </div>"
            ]
          },
          "metadata": {
            "tags": []
          }
        }
      ]
    },
    {
      "cell_type": "markdown",
      "metadata": {
        "id": "sKayiuiDnEQ6",
        "colab_type": "text"
      },
      "source": [
        "[Return to top](#top)"
      ]
    },
    {
      "cell_type": "markdown",
      "metadata": {
        "id": "8T06R10Js_1v",
        "colab_type": "text"
      },
      "source": [
        "<a id = \"10.3.d\"></a>\n",
        "d) tapasztalati várható érték, szórás"
      ]
    },
    {
      "cell_type": "code",
      "metadata": {
        "id": "k3WW1f5ftCZi",
        "colab_type": "code",
        "outputId": "dafa1515-b55e-425b-d755-7252eb2a203b",
        "colab": {
          "base_uri": "https://localhost:8080/",
          "height": 50
        }
      },
      "source": [
        "print(\"A tapasztalati várható értéke: \", round(np.mean(datalist),5))\n",
        "print(\"A tapasztalati szórása:\", round(np.std(datalist),5))"
      ],
      "execution_count": 0,
      "outputs": [
        {
          "output_type": "stream",
          "text": [
            "A tapasztalati várható értéke:  197.0\n",
            "A tapasztalati szórása: 3.77492\n"
          ],
          "name": "stdout"
        }
      ]
    },
    {
      "cell_type": "markdown",
      "metadata": {
        "id": "lqmT9zPmnJew",
        "colab_type": "text"
      },
      "source": [
        "[Return to top](#top)"
      ]
    },
    {
      "cell_type": "markdown",
      "metadata": {
        "id": "4UdHfVNYuI5J",
        "colab_type": "text"
      },
      "source": [
        "<a id = \"10.3.f\"></a>\n",
        "f) szórás torzítatlan becslése"
      ]
    },
    {
      "cell_type": "code",
      "metadata": {
        "id": "cY3cWg4AuPe4",
        "colab_type": "code",
        "outputId": "18da3bcb-c396-4110-deca-27febee184d2",
        "colab": {
          "base_uri": "https://localhost:8080/",
          "height": 34
        }
      },
      "source": [
        "print(\"A szórás torzítatlan becslése: \", round(np.sqrt(len(datalist)/(len(datalist)-1)) * np.std(datalist),5) )"
      ],
      "execution_count": 0,
      "outputs": [
        {
          "output_type": "stream",
          "text": [
            "A szórás torzítatlan becslése:  3.89872\n"
          ],
          "name": "stdout"
        }
      ]
    },
    {
      "cell_type": "markdown",
      "metadata": {
        "id": "AXjLNFp5nLp9",
        "colab_type": "text"
      },
      "source": [
        "[Return to top](#top)"
      ]
    },
    {
      "cell_type": "markdown",
      "metadata": {
        "id": "1WU3unts8s1E",
        "colab_type": "text"
      },
      "source": [
        "<a id = \"10.3.g\"></a>\n",
        "g) Mivel ismert a szórás ezért a normális eloszlást használjuk"
      ]
    },
    {
      "cell_type": "code",
      "metadata": {
        "id": "C_tmSNDJef71",
        "colab_type": "code",
        "colab": {}
      },
      "source": [
        "datalist = [193, 195, 198, 201, 204, \n",
        "196, 196, 196, 203, 199, 193, 198, 191, 191, 198, 200]"
      ],
      "execution_count": 0,
      "outputs": []
    },
    {
      "cell_type": "code",
      "metadata": {
        "id": "IrCmjxZg8weR",
        "colab_type": "code",
        "outputId": "7799dee6-4be9-467b-87f4-a213672cddf0",
        "colab": {
          "base_uri": "https://localhost:8080/",
          "height": 34
        }
      },
      "source": [
        "conf_int = stats.norm.interval(.95, loc = np.mean(datalist), scale = 3/np.sqrt(len(datalist))) # sigma=3\n",
        "print(f'A 95%-hoz tartozó confidencia intervallum ({conf_int[0]:.5f}, {conf_int[1]:.5f}).')"
      ],
      "execution_count": 0,
      "outputs": [
        {
          "output_type": "stream",
          "text": [
            "A 95%-hoz tartozó confidencia intervallum (195.53003, 198.46997).\n"
          ],
          "name": "stdout"
        }
      ]
    },
    {
      "cell_type": "markdown",
      "metadata": {
        "id": "PhjfFxKSrQ1-",
        "colab_type": "text"
      },
      "source": [
        "[Return to top](#top)"
      ]
    },
    {
      "cell_type": "markdown",
      "metadata": {
        "colab_type": "text",
        "id": "AZppmfpbxs4t"
      },
      "source": [
        "<div class=\"feladat\">\n",
        "5. Feladat\n",
        "</div>"
      ]
    },
    {
      "cell_type": "markdown",
      "metadata": {
        "id": "lL29rP7PpqYN",
        "colab_type": "text"
      },
      "source": [
        "<div class=\"exercises\">\n",
        "A Lángoló Rózsa kolostorban a penitenciaként kirótt (Miatyánk,Üdvözlégy)-ek \n",
        "száma a mai napon\n",
        "<br />\n",
        "(15,20); (25,30); (10,5); (10,10); (20,20); (25,20).\n",
        "<br />\n",
        "Adjon lineáris közelítést az \"Üdvözlégy\"-ek számából a \"Miatyánk\"-ok számára.\n",
        "</div>"
      ]
    },
    {
      "cell_type": "markdown",
      "metadata": {
        "id": "8si3QQgtqAa_",
        "colab_type": "text"
      },
      "source": [
        "<a id = \"10.5.1\"></a>\n",
        "<div class=\"solution\">Megoldás. </div>"
      ]
    },
    {
      "cell_type": "code",
      "metadata": {
        "id": "SqlG10uYyP9F",
        "colab_type": "code",
        "colab": {}
      },
      "source": [
        "data = [(15,20), (25,30), (10,5), (10,10), (20,20), (25,20)]\n",
        "datalist = [[list(dat)[0], list(dat)[1]] for dat in data]\n",
        "X = [_[1] for _ in datalist]\n",
        "Y = [_[0] for _ in datalist]"
      ],
      "execution_count": 0,
      "outputs": []
    },
    {
      "cell_type": "code",
      "metadata": {
        "id": "XVZNPAxkuGI2",
        "colab_type": "code",
        "outputId": "4712ad69-0ea6-4168-8e40-ce1c3a8c7e9f",
        "colab": {
          "base_uri": "https://localhost:8080/",
          "height": 532
        }
      },
      "source": [
        "X = sm.add_constant(X) # Our model needs an intercept so we add a column of 1s in the first column\n",
        "model = sm.OLS(Y, X).fit()\n",
        "# predictions = model.predict(X)\n",
        "print_model = model.summary()\n",
        "print(print_model)"
      ],
      "execution_count": 21,
      "outputs": [
        {
          "output_type": "stream",
          "text": [
            "                            OLS Regression Results                            \n",
            "==============================================================================\n",
            "Dep. Variable:                      y   R-squared:                       0.749\n",
            "Model:                            OLS   Adj. R-squared:                  0.686\n",
            "Method:                 Least Squares   F-statistic:                     11.92\n",
            "Date:                Thu, 26 Dec 2019   Prob (F-statistic):             0.0260\n",
            "Time:                        15:34:18   Log-Likelihood:                -15.405\n",
            "No. Observations:                   6   AIC:                             34.81\n",
            "Df Residuals:                       4   BIC:                             34.39\n",
            "Df Model:                           1                                         \n",
            "Covariance Type:            nonrobust                                         \n",
            "==============================================================================\n",
            "                 coef    std err          t      P>|t|      [0.025      0.975]\n",
            "------------------------------------------------------------------------------\n",
            "const          5.6452      3.779      1.494      0.209      -4.846      16.136\n",
            "x1             0.6774      0.196      3.452      0.026       0.133       1.222\n",
            "==============================================================================\n",
            "Omnibus:                          nan   Durbin-Watson:                   1.023\n",
            "Prob(Omnibus):                    nan   Jarque-Bera (JB):                0.395\n",
            "Skew:                           0.576   Prob(JB):                        0.821\n",
            "Kurtosis:                       2.497   Cond. No.                         46.2\n",
            "==============================================================================\n",
            "\n",
            "Warnings:\n",
            "[1] Standard Errors assume that the covariance matrix of the errors is correctly specified.\n"
          ],
          "name": "stdout"
        },
        {
          "output_type": "stream",
          "text": [
            "/usr/local/lib/python3.6/dist-packages/statsmodels/stats/stattools.py:71: ValueWarning:\n",
            "\n",
            "omni_normtest is not valid with less than 8 observations; 6 samples were given.\n",
            "\n"
          ],
          "name": "stderr"
        }
      ]
    },
    {
      "cell_type": "code",
      "metadata": {
        "id": "KAo-F5aE3rIU",
        "colab_type": "code",
        "colab": {}
      },
      "source": [
        "coeffs = model.params"
      ],
      "execution_count": 0,
      "outputs": []
    },
    {
      "cell_type": "code",
      "metadata": {
        "id": "AawnRtOa3xUd",
        "colab_type": "code",
        "outputId": "ac9c4d05-41d4-4a6c-c445-eec15f642da6",
        "colab": {
          "base_uri": "https://localhost:8080/",
          "height": 34
        }
      },
      "source": [
        "print(f'Az egyenes egyenlete: y = {coeffs[0]:.5f} + {coeffs[1]:.5f}*x. ')"
      ],
      "execution_count": 23,
      "outputs": [
        {
          "output_type": "stream",
          "text": [
            "Az egyenes egyenlete: y = 5.64516 + 0.67742*x. \n"
          ],
          "name": "stdout"
        }
      ]
    },
    {
      "cell_type": "code",
      "metadata": {
        "id": "-NLs6wgDCKWy",
        "colab_type": "code",
        "outputId": "81d1d4a8-08db-4afe-cc67-36b702e75125",
        "colab": {
          "base_uri": "https://localhost:8080/",
          "height": 542
        }
      },
      "source": [
        "linear_regr_line(X[:, 1], Y, coeffs, 'Üdvözlégy (szám)', 'Miatyánk (szám)')"
      ],
      "execution_count": 24,
      "outputs": [
        {
          "output_type": "display_data",
          "data": {
            "text/html": [
              "<div>\n",
              "        \n",
              "        \n",
              "            <div id=\"de097951-ab25-441d-b348-e5520856fcba\" class=\"plotly-graph-div\" style=\"height:525px; width:100%;\"></div>\n",
              "            <script type=\"text/javascript\">\n",
              "                require([\"plotly\"], function(Plotly) {\n",
              "                    window.PLOTLYENV=window.PLOTLYENV || {};\n",
              "                    \n",
              "                if (document.getElementById(\"de097951-ab25-441d-b348-e5520856fcba\")) {\n",
              "                    Plotly.newPlot(\n",
              "                        'de097951-ab25-441d-b348-e5520856fcba',\n",
              "                        [{\"mode\": \"markers\", \"name\": \"Data\", \"type\": \"scatter\", \"x\": [20.0, 30.0, 5.0, 10.0, 20.0, 20.0], \"y\": [15, 25, 10, 10, 20, 25]}, {\"mode\": \"lines\", \"name\": \"Fit\", \"type\": \"scatter\", \"x\": [20.0, 30.0, 5.0, 10.0, 20.0, 20.0], \"y\": [19.19354838709677, 25.96774193548386, 9.03225806451613, 12.419354838709676, 19.19354838709677, 19.19354838709677]}],\n",
              "                        {\"plot_bgcolor\": \"rgb(229, 229, 229)\", \"template\": {\"data\": {\"bar\": [{\"error_x\": {\"color\": \"#2a3f5f\"}, \"error_y\": {\"color\": \"#2a3f5f\"}, \"marker\": {\"line\": {\"color\": \"#E5ECF6\", \"width\": 0.5}}, \"type\": \"bar\"}], \"barpolar\": [{\"marker\": {\"line\": {\"color\": \"#E5ECF6\", \"width\": 0.5}}, \"type\": \"barpolar\"}], \"carpet\": [{\"aaxis\": {\"endlinecolor\": \"#2a3f5f\", \"gridcolor\": \"white\", \"linecolor\": \"white\", \"minorgridcolor\": \"white\", \"startlinecolor\": \"#2a3f5f\"}, \"baxis\": {\"endlinecolor\": \"#2a3f5f\", \"gridcolor\": \"white\", \"linecolor\": \"white\", \"minorgridcolor\": \"white\", \"startlinecolor\": \"#2a3f5f\"}, \"type\": \"carpet\"}], \"choropleth\": [{\"colorbar\": {\"outlinewidth\": 0, \"ticks\": \"\"}, \"type\": \"choropleth\"}], \"contour\": [{\"colorbar\": {\"outlinewidth\": 0, \"ticks\": \"\"}, \"colorscale\": [[0.0, \"#0d0887\"], [0.1111111111111111, \"#46039f\"], [0.2222222222222222, \"#7201a8\"], [0.3333333333333333, \"#9c179e\"], [0.4444444444444444, \"#bd3786\"], [0.5555555555555556, \"#d8576b\"], [0.6666666666666666, \"#ed7953\"], [0.7777777777777778, \"#fb9f3a\"], [0.8888888888888888, \"#fdca26\"], [1.0, \"#f0f921\"]], \"type\": \"contour\"}], \"contourcarpet\": [{\"colorbar\": {\"outlinewidth\": 0, \"ticks\": \"\"}, \"type\": \"contourcarpet\"}], \"heatmap\": [{\"colorbar\": {\"outlinewidth\": 0, \"ticks\": \"\"}, \"colorscale\": [[0.0, \"#0d0887\"], [0.1111111111111111, \"#46039f\"], [0.2222222222222222, \"#7201a8\"], [0.3333333333333333, \"#9c179e\"], [0.4444444444444444, \"#bd3786\"], [0.5555555555555556, \"#d8576b\"], [0.6666666666666666, \"#ed7953\"], [0.7777777777777778, \"#fb9f3a\"], [0.8888888888888888, \"#fdca26\"], [1.0, \"#f0f921\"]], \"type\": \"heatmap\"}], \"heatmapgl\": [{\"colorbar\": {\"outlinewidth\": 0, \"ticks\": \"\"}, \"colorscale\": [[0.0, \"#0d0887\"], [0.1111111111111111, \"#46039f\"], [0.2222222222222222, \"#7201a8\"], [0.3333333333333333, \"#9c179e\"], [0.4444444444444444, \"#bd3786\"], [0.5555555555555556, \"#d8576b\"], [0.6666666666666666, \"#ed7953\"], [0.7777777777777778, \"#fb9f3a\"], [0.8888888888888888, \"#fdca26\"], [1.0, \"#f0f921\"]], \"type\": \"heatmapgl\"}], \"histogram\": [{\"marker\": {\"colorbar\": {\"outlinewidth\": 0, \"ticks\": \"\"}}, \"type\": \"histogram\"}], \"histogram2d\": [{\"colorbar\": {\"outlinewidth\": 0, \"ticks\": \"\"}, \"colorscale\": [[0.0, \"#0d0887\"], [0.1111111111111111, \"#46039f\"], [0.2222222222222222, \"#7201a8\"], [0.3333333333333333, \"#9c179e\"], [0.4444444444444444, \"#bd3786\"], [0.5555555555555556, \"#d8576b\"], [0.6666666666666666, \"#ed7953\"], [0.7777777777777778, \"#fb9f3a\"], [0.8888888888888888, \"#fdca26\"], [1.0, \"#f0f921\"]], \"type\": \"histogram2d\"}], \"histogram2dcontour\": [{\"colorbar\": {\"outlinewidth\": 0, \"ticks\": \"\"}, \"colorscale\": [[0.0, \"#0d0887\"], [0.1111111111111111, \"#46039f\"], [0.2222222222222222, \"#7201a8\"], [0.3333333333333333, \"#9c179e\"], [0.4444444444444444, \"#bd3786\"], [0.5555555555555556, \"#d8576b\"], [0.6666666666666666, \"#ed7953\"], [0.7777777777777778, \"#fb9f3a\"], [0.8888888888888888, \"#fdca26\"], [1.0, \"#f0f921\"]], \"type\": \"histogram2dcontour\"}], \"mesh3d\": [{\"colorbar\": {\"outlinewidth\": 0, \"ticks\": \"\"}, \"type\": \"mesh3d\"}], \"parcoords\": [{\"line\": {\"colorbar\": {\"outlinewidth\": 0, \"ticks\": \"\"}}, \"type\": \"parcoords\"}], \"scatter\": [{\"marker\": {\"colorbar\": {\"outlinewidth\": 0, \"ticks\": \"\"}}, \"type\": \"scatter\"}], \"scatter3d\": [{\"line\": {\"colorbar\": {\"outlinewidth\": 0, \"ticks\": \"\"}}, \"marker\": {\"colorbar\": {\"outlinewidth\": 0, \"ticks\": \"\"}}, \"type\": \"scatter3d\"}], \"scattercarpet\": [{\"marker\": {\"colorbar\": {\"outlinewidth\": 0, \"ticks\": \"\"}}, \"type\": \"scattercarpet\"}], \"scattergeo\": [{\"marker\": {\"colorbar\": {\"outlinewidth\": 0, \"ticks\": \"\"}}, \"type\": \"scattergeo\"}], \"scattergl\": [{\"marker\": {\"colorbar\": {\"outlinewidth\": 0, \"ticks\": \"\"}}, \"type\": \"scattergl\"}], \"scattermapbox\": [{\"marker\": {\"colorbar\": {\"outlinewidth\": 0, \"ticks\": \"\"}}, \"type\": \"scattermapbox\"}], \"scatterpolar\": [{\"marker\": {\"colorbar\": {\"outlinewidth\": 0, \"ticks\": \"\"}}, \"type\": \"scatterpolar\"}], \"scatterpolargl\": [{\"marker\": {\"colorbar\": {\"outlinewidth\": 0, \"ticks\": \"\"}}, \"type\": \"scatterpolargl\"}], \"scatterternary\": [{\"marker\": {\"colorbar\": {\"outlinewidth\": 0, \"ticks\": \"\"}}, \"type\": \"scatterternary\"}], \"surface\": [{\"colorbar\": {\"outlinewidth\": 0, \"ticks\": \"\"}, \"colorscale\": [[0.0, \"#0d0887\"], [0.1111111111111111, \"#46039f\"], [0.2222222222222222, \"#7201a8\"], [0.3333333333333333, \"#9c179e\"], [0.4444444444444444, \"#bd3786\"], [0.5555555555555556, \"#d8576b\"], [0.6666666666666666, \"#ed7953\"], [0.7777777777777778, \"#fb9f3a\"], [0.8888888888888888, \"#fdca26\"], [1.0, \"#f0f921\"]], \"type\": \"surface\"}], \"table\": [{\"cells\": {\"fill\": {\"color\": \"#EBF0F8\"}, \"line\": {\"color\": \"white\"}}, \"header\": {\"fill\": {\"color\": \"#C8D4E3\"}, \"line\": {\"color\": \"white\"}}, \"type\": \"table\"}]}, \"layout\": {\"annotationdefaults\": {\"arrowcolor\": \"#2a3f5f\", \"arrowhead\": 0, \"arrowwidth\": 1}, \"colorscale\": {\"diverging\": [[0, \"#8e0152\"], [0.1, \"#c51b7d\"], [0.2, \"#de77ae\"], [0.3, \"#f1b6da\"], [0.4, \"#fde0ef\"], [0.5, \"#f7f7f7\"], [0.6, \"#e6f5d0\"], [0.7, \"#b8e186\"], [0.8, \"#7fbc41\"], [0.9, \"#4d9221\"], [1, \"#276419\"]], \"sequential\": [[0.0, \"#0d0887\"], [0.1111111111111111, \"#46039f\"], [0.2222222222222222, \"#7201a8\"], [0.3333333333333333, \"#9c179e\"], [0.4444444444444444, \"#bd3786\"], [0.5555555555555556, \"#d8576b\"], [0.6666666666666666, \"#ed7953\"], [0.7777777777777778, \"#fb9f3a\"], [0.8888888888888888, \"#fdca26\"], [1.0, \"#f0f921\"]], \"sequentialminus\": [[0.0, \"#0d0887\"], [0.1111111111111111, \"#46039f\"], [0.2222222222222222, \"#7201a8\"], [0.3333333333333333, \"#9c179e\"], [0.4444444444444444, \"#bd3786\"], [0.5555555555555556, \"#d8576b\"], [0.6666666666666666, \"#ed7953\"], [0.7777777777777778, \"#fb9f3a\"], [0.8888888888888888, \"#fdca26\"], [1.0, \"#f0f921\"]]}, \"colorway\": [\"#636efa\", \"#EF553B\", \"#00cc96\", \"#ab63fa\", \"#FFA15A\", \"#19d3f3\", \"#FF6692\", \"#B6E880\", \"#FF97FF\", \"#FECB52\"], \"font\": {\"color\": \"#2a3f5f\"}, \"geo\": {\"bgcolor\": \"white\", \"lakecolor\": \"white\", \"landcolor\": \"#E5ECF6\", \"showlakes\": true, \"showland\": true, \"subunitcolor\": \"white\"}, \"hoverlabel\": {\"align\": \"left\"}, \"hovermode\": \"closest\", \"mapbox\": {\"style\": \"light\"}, \"paper_bgcolor\": \"white\", \"plot_bgcolor\": \"#E5ECF6\", \"polar\": {\"angularaxis\": {\"gridcolor\": \"white\", \"linecolor\": \"white\", \"ticks\": \"\"}, \"bgcolor\": \"#E5ECF6\", \"radialaxis\": {\"gridcolor\": \"white\", \"linecolor\": \"white\", \"ticks\": \"\"}}, \"scene\": {\"xaxis\": {\"backgroundcolor\": \"#E5ECF6\", \"gridcolor\": \"white\", \"gridwidth\": 2, \"linecolor\": \"white\", \"showbackground\": true, \"ticks\": \"\", \"zerolinecolor\": \"white\"}, \"yaxis\": {\"backgroundcolor\": \"#E5ECF6\", \"gridcolor\": \"white\", \"gridwidth\": 2, \"linecolor\": \"white\", \"showbackground\": true, \"ticks\": \"\", \"zerolinecolor\": \"white\"}, \"zaxis\": {\"backgroundcolor\": \"#E5ECF6\", \"gridcolor\": \"white\", \"gridwidth\": 2, \"linecolor\": \"white\", \"showbackground\": true, \"ticks\": \"\", \"zerolinecolor\": \"white\"}}, \"shapedefaults\": {\"line\": {\"color\": \"#2a3f5f\"}}, \"ternary\": {\"aaxis\": {\"gridcolor\": \"white\", \"linecolor\": \"white\", \"ticks\": \"\"}, \"baxis\": {\"gridcolor\": \"white\", \"linecolor\": \"white\", \"ticks\": \"\"}, \"bgcolor\": \"#E5ECF6\", \"caxis\": {\"gridcolor\": \"white\", \"linecolor\": \"white\", \"ticks\": \"\"}}, \"title\": {\"x\": 0.05}, \"xaxis\": {\"automargin\": true, \"gridcolor\": \"white\", \"linecolor\": \"white\", \"ticks\": \"\", \"zerolinecolor\": \"white\", \"zerolinewidth\": 2}, \"yaxis\": {\"automargin\": true, \"gridcolor\": \"white\", \"linecolor\": \"white\", \"ticks\": \"\", \"zerolinecolor\": \"white\", \"zerolinewidth\": 2}}}, \"title\": {\"text\": \"Linear Regression y = 0.6774*x + 5.6451\"}, \"xaxis\": {\"title\": {\"text\": \"\\u00dcdv\\u00f6zl\\u00e9gy (sz\\u00e1m)\"}}, \"yaxis\": {\"title\": {\"text\": \"Miaty\\u00e1nk (sz\\u00e1m)\"}}},\n",
              "                        {\"responsive\": true}\n",
              "                    ).then(function(){\n",
              "                            \n",
              "var gd = document.getElementById('de097951-ab25-441d-b348-e5520856fcba');\n",
              "var x = new MutationObserver(function (mutations, observer) {{\n",
              "        var display = window.getComputedStyle(gd).display;\n",
              "        if (!display || display === 'none') {{\n",
              "            console.log([gd, 'removed!']);\n",
              "            Plotly.purge(gd);\n",
              "            observer.disconnect();\n",
              "        }}\n",
              "}});\n",
              "\n",
              "// Listen for the removal of the full notebook cells\n",
              "var notebookContainer = gd.closest('#notebook-container');\n",
              "if (notebookContainer) {{\n",
              "    x.observe(notebookContainer, {childList: true});\n",
              "}}\n",
              "\n",
              "// Listen for the clearing of the current output cell\n",
              "var outputEl = gd.closest('.output');\n",
              "if (outputEl) {{\n",
              "    x.observe(outputEl, {childList: true});\n",
              "}}\n",
              "\n",
              "                        })\n",
              "                };\n",
              "                });\n",
              "            </script>\n",
              "        </div>"
            ]
          },
          "metadata": {
            "tags": []
          }
        }
      ]
    },
    {
      "cell_type": "markdown",
      "metadata": {
        "id": "5BAF4ogynXi8",
        "colab_type": "text"
      },
      "source": [
        "[Return to top](#top)"
      ]
    },
    {
      "cell_type": "markdown",
      "metadata": {
        "id": "Z4x_JJQ19JHq",
        "colab_type": "text"
      },
      "source": [
        "<a id = \"10.hf\"></a>\n",
        "**Házi feladat**"
      ]
    },
    {
      "cell_type": "markdown",
      "metadata": {
        "id": "O9-wWGWz_weV",
        "colab_type": "text"
      },
      "source": [
        "<a id = \"10.hf.1\"></a>"
      ]
    },
    {
      "cell_type": "markdown",
      "metadata": {
        "colab_type": "text",
        "id": "O-iF1-HTx0k3"
      },
      "source": [
        "<div class=\"feladat\">\n",
        "1. Feladat\n",
        "</div>"
      ]
    },
    {
      "cell_type": "markdown",
      "metadata": {
        "id": "OyeVXc0pAUi_",
        "colab_type": "text"
      },
      "source": [
        "<div class=\"exercises\">\n",
        "Bizonyos ón-ólom ötvözet $\\xi$ olvadáspontjának meghatározására 24 \n",
        "véletlenszerűen kiválasztott mintadarabon mérést végeztek. \n",
        "<br />\n",
        "$\\left(^\\circ C\\right)$\n",
        "\\begin{array}{|c|c|c|c|c|c|c|c|}\n",
        "\\hline\n",
        "330& 328.6& 342.4& 334& 337.5& 341& 343.3& 329.5\\\\\n",
        "\\hline\n",
        "322& 331& 336.4& 326.5& 327.3& 338& 331& 332.3\\\\\n",
        "\\hline\n",
        "345& 338.5& 329.7& 325.8& 322.6& 333& 339.2& 340\\\\\n",
        "\\hline\n",
        "\\end{array}\n",
        "<br />\n",
        "a) Készítsünk gyakoriság, sűrűséghisztogramot 4-es lépésközzel! \n",
        "<br />\n",
        "b) Mi lesz a tapasztalati eloszlásfüggvény? \n",
        "<br />\n",
        "c) Mi a tapasztalati várható értéke, szórása? \n",
        "<br />\n",
        "d) Mi a korrigált tapasztalati szórás? \n",
        "<br />\n",
        "e) Adjunk a várható értékre 95%-os megbízhatósági szintű konfidencia intervallumot.\n",
        "</div>"
      ]
    },
    {
      "cell_type": "markdown",
      "metadata": {
        "id": "YHpRtaC0BGIv",
        "colab_type": "text"
      },
      "source": [
        "<a id = \"10.hf.1.1\"></a>\n",
        "<div class=\"solution\">Megoldás.</div>\n",
        "\n"
      ]
    },
    {
      "cell_type": "markdown",
      "metadata": {
        "id": "cpdLbC2hBHs3",
        "colab_type": "text"
      },
      "source": [
        "<a id = \"10.hf.1.a\"></a>\n",
        "a) gyakoriság, sűrűséghisztogram"
      ]
    },
    {
      "cell_type": "code",
      "metadata": {
        "id": "5ZkYVnykA1OY",
        "colab_type": "code",
        "colab": {}
      },
      "source": [
        "datalist = [330, 328.6, 342.4, 334, 337.5, 341, 343.3, 329.5,\n",
        "322, 331, 336.4, 326.5, 327.3, 338, 331, 332.3,\n",
        "345, 338.5, 329.7, 325.8, 322.6, 333, 339.2, 340]"
      ],
      "execution_count": 0,
      "outputs": []
    },
    {
      "cell_type": "code",
      "metadata": {
        "id": "GhAAxbOfosEP",
        "colab_type": "code",
        "outputId": "2ed92025-0d31-4ff0-b774-c23632531d25",
        "colab": {
          "base_uri": "https://localhost:8080/",
          "height": 542
        }
      },
      "source": [
        "trace1 = go.Histogram(histfunc=\"count\",  x=datalist, name=\"count\")\n",
        "trace2 = go.Histogram(histnorm=\"probability\", x=datalist, name=\"probability\")\n",
        "\n",
        "data = [trace1, trace2]\n",
        "\n",
        "layout = dict(\n",
        "        title_text=r'Hőmérséklet', # title of plot\n",
        "        xaxis_title_text=r'$\\left(^\\circ C\\right)$', # xaxis label\n",
        "        #yaxis_title_text='Count', # yaxis label\n",
        "        bargap=0.2, # gap between bars of adjacent location coordinates\n",
        "        bargroupgap=0.1 # gap between bars of the same location coordinates\n",
        "    )\n",
        "\n",
        "# Make figure\n",
        "fig = go.Figure(data=data, layout=layout)\n",
        "\n",
        "fig.show()"
      ],
      "execution_count": 26,
      "outputs": [
        {
          "output_type": "display_data",
          "data": {
            "text/html": [
              "<div>\n",
              "        \n",
              "        \n",
              "            <div id=\"9b945efb-26f4-40da-8807-363f2e9eb4b1\" class=\"plotly-graph-div\" style=\"height:525px; width:100%;\"></div>\n",
              "            <script type=\"text/javascript\">\n",
              "                require([\"plotly\"], function(Plotly) {\n",
              "                    window.PLOTLYENV=window.PLOTLYENV || {};\n",
              "                    \n",
              "                if (document.getElementById(\"9b945efb-26f4-40da-8807-363f2e9eb4b1\")) {\n",
              "                    Plotly.newPlot(\n",
              "                        '9b945efb-26f4-40da-8807-363f2e9eb4b1',\n",
              "                        [{\"histfunc\": \"count\", \"name\": \"count\", \"type\": \"histogram\", \"x\": [330, 328.6, 342.4, 334, 337.5, 341, 343.3, 329.5, 322, 331, 336.4, 326.5, 327.3, 338, 331, 332.3, 345, 338.5, 329.7, 325.8, 322.6, 333, 339.2, 340]}, {\"histnorm\": \"probability\", \"name\": \"probability\", \"type\": \"histogram\", \"x\": [330, 328.6, 342.4, 334, 337.5, 341, 343.3, 329.5, 322, 331, 336.4, 326.5, 327.3, 338, 331, 332.3, 345, 338.5, 329.7, 325.8, 322.6, 333, 339.2, 340]}],\n",
              "                        {\"bargap\": 0.2, \"bargroupgap\": 0.1, \"template\": {\"data\": {\"bar\": [{\"error_x\": {\"color\": \"#2a3f5f\"}, \"error_y\": {\"color\": \"#2a3f5f\"}, \"marker\": {\"line\": {\"color\": \"#E5ECF6\", \"width\": 0.5}}, \"type\": \"bar\"}], \"barpolar\": [{\"marker\": {\"line\": {\"color\": \"#E5ECF6\", \"width\": 0.5}}, \"type\": \"barpolar\"}], \"carpet\": [{\"aaxis\": {\"endlinecolor\": \"#2a3f5f\", \"gridcolor\": \"white\", \"linecolor\": \"white\", \"minorgridcolor\": \"white\", \"startlinecolor\": \"#2a3f5f\"}, \"baxis\": {\"endlinecolor\": \"#2a3f5f\", \"gridcolor\": \"white\", \"linecolor\": \"white\", \"minorgridcolor\": \"white\", \"startlinecolor\": \"#2a3f5f\"}, \"type\": \"carpet\"}], \"choropleth\": [{\"colorbar\": {\"outlinewidth\": 0, \"ticks\": \"\"}, \"type\": \"choropleth\"}], \"contour\": [{\"colorbar\": {\"outlinewidth\": 0, \"ticks\": \"\"}, \"colorscale\": [[0.0, \"#0d0887\"], [0.1111111111111111, \"#46039f\"], [0.2222222222222222, \"#7201a8\"], [0.3333333333333333, \"#9c179e\"], [0.4444444444444444, \"#bd3786\"], [0.5555555555555556, \"#d8576b\"], [0.6666666666666666, \"#ed7953\"], [0.7777777777777778, \"#fb9f3a\"], [0.8888888888888888, \"#fdca26\"], [1.0, \"#f0f921\"]], \"type\": \"contour\"}], \"contourcarpet\": [{\"colorbar\": {\"outlinewidth\": 0, \"ticks\": \"\"}, \"type\": \"contourcarpet\"}], \"heatmap\": [{\"colorbar\": {\"outlinewidth\": 0, \"ticks\": \"\"}, \"colorscale\": [[0.0, \"#0d0887\"], [0.1111111111111111, \"#46039f\"], [0.2222222222222222, \"#7201a8\"], [0.3333333333333333, \"#9c179e\"], [0.4444444444444444, \"#bd3786\"], [0.5555555555555556, \"#d8576b\"], [0.6666666666666666, \"#ed7953\"], [0.7777777777777778, \"#fb9f3a\"], [0.8888888888888888, \"#fdca26\"], [1.0, \"#f0f921\"]], \"type\": \"heatmap\"}], \"heatmapgl\": [{\"colorbar\": {\"outlinewidth\": 0, \"ticks\": \"\"}, \"colorscale\": [[0.0, \"#0d0887\"], [0.1111111111111111, \"#46039f\"], [0.2222222222222222, \"#7201a8\"], [0.3333333333333333, \"#9c179e\"], [0.4444444444444444, \"#bd3786\"], [0.5555555555555556, \"#d8576b\"], [0.6666666666666666, \"#ed7953\"], [0.7777777777777778, \"#fb9f3a\"], [0.8888888888888888, \"#fdca26\"], [1.0, \"#f0f921\"]], \"type\": \"heatmapgl\"}], \"histogram\": [{\"marker\": {\"colorbar\": {\"outlinewidth\": 0, \"ticks\": \"\"}}, \"type\": \"histogram\"}], \"histogram2d\": [{\"colorbar\": {\"outlinewidth\": 0, \"ticks\": \"\"}, \"colorscale\": [[0.0, \"#0d0887\"], [0.1111111111111111, \"#46039f\"], [0.2222222222222222, \"#7201a8\"], [0.3333333333333333, \"#9c179e\"], [0.4444444444444444, \"#bd3786\"], [0.5555555555555556, \"#d8576b\"], [0.6666666666666666, \"#ed7953\"], [0.7777777777777778, \"#fb9f3a\"], [0.8888888888888888, \"#fdca26\"], [1.0, \"#f0f921\"]], \"type\": \"histogram2d\"}], \"histogram2dcontour\": [{\"colorbar\": {\"outlinewidth\": 0, \"ticks\": \"\"}, \"colorscale\": [[0.0, \"#0d0887\"], [0.1111111111111111, \"#46039f\"], [0.2222222222222222, \"#7201a8\"], [0.3333333333333333, \"#9c179e\"], [0.4444444444444444, \"#bd3786\"], [0.5555555555555556, \"#d8576b\"], [0.6666666666666666, \"#ed7953\"], [0.7777777777777778, \"#fb9f3a\"], [0.8888888888888888, \"#fdca26\"], [1.0, \"#f0f921\"]], \"type\": \"histogram2dcontour\"}], \"mesh3d\": [{\"colorbar\": {\"outlinewidth\": 0, \"ticks\": \"\"}, \"type\": \"mesh3d\"}], \"parcoords\": [{\"line\": {\"colorbar\": {\"outlinewidth\": 0, \"ticks\": \"\"}}, \"type\": \"parcoords\"}], \"scatter\": [{\"marker\": {\"colorbar\": {\"outlinewidth\": 0, \"ticks\": \"\"}}, \"type\": \"scatter\"}], \"scatter3d\": [{\"line\": {\"colorbar\": {\"outlinewidth\": 0, \"ticks\": \"\"}}, \"marker\": {\"colorbar\": {\"outlinewidth\": 0, \"ticks\": \"\"}}, \"type\": \"scatter3d\"}], \"scattercarpet\": [{\"marker\": {\"colorbar\": {\"outlinewidth\": 0, \"ticks\": \"\"}}, \"type\": \"scattercarpet\"}], \"scattergeo\": [{\"marker\": {\"colorbar\": {\"outlinewidth\": 0, \"ticks\": \"\"}}, \"type\": \"scattergeo\"}], \"scattergl\": [{\"marker\": {\"colorbar\": {\"outlinewidth\": 0, \"ticks\": \"\"}}, \"type\": \"scattergl\"}], \"scattermapbox\": [{\"marker\": {\"colorbar\": {\"outlinewidth\": 0, \"ticks\": \"\"}}, \"type\": \"scattermapbox\"}], \"scatterpolar\": [{\"marker\": {\"colorbar\": {\"outlinewidth\": 0, \"ticks\": \"\"}}, \"type\": \"scatterpolar\"}], \"scatterpolargl\": [{\"marker\": {\"colorbar\": {\"outlinewidth\": 0, \"ticks\": \"\"}}, \"type\": \"scatterpolargl\"}], \"scatterternary\": [{\"marker\": {\"colorbar\": {\"outlinewidth\": 0, \"ticks\": \"\"}}, \"type\": \"scatterternary\"}], \"surface\": [{\"colorbar\": {\"outlinewidth\": 0, \"ticks\": \"\"}, \"colorscale\": [[0.0, \"#0d0887\"], [0.1111111111111111, \"#46039f\"], [0.2222222222222222, \"#7201a8\"], [0.3333333333333333, \"#9c179e\"], [0.4444444444444444, \"#bd3786\"], [0.5555555555555556, \"#d8576b\"], [0.6666666666666666, \"#ed7953\"], [0.7777777777777778, \"#fb9f3a\"], [0.8888888888888888, \"#fdca26\"], [1.0, \"#f0f921\"]], \"type\": \"surface\"}], \"table\": [{\"cells\": {\"fill\": {\"color\": \"#EBF0F8\"}, \"line\": {\"color\": \"white\"}}, \"header\": {\"fill\": {\"color\": \"#C8D4E3\"}, \"line\": {\"color\": \"white\"}}, \"type\": \"table\"}]}, \"layout\": {\"annotationdefaults\": {\"arrowcolor\": \"#2a3f5f\", \"arrowhead\": 0, \"arrowwidth\": 1}, \"colorscale\": {\"diverging\": [[0, \"#8e0152\"], [0.1, \"#c51b7d\"], [0.2, \"#de77ae\"], [0.3, \"#f1b6da\"], [0.4, \"#fde0ef\"], [0.5, \"#f7f7f7\"], [0.6, \"#e6f5d0\"], [0.7, \"#b8e186\"], [0.8, \"#7fbc41\"], [0.9, \"#4d9221\"], [1, \"#276419\"]], \"sequential\": [[0.0, \"#0d0887\"], [0.1111111111111111, \"#46039f\"], [0.2222222222222222, \"#7201a8\"], [0.3333333333333333, \"#9c179e\"], [0.4444444444444444, \"#bd3786\"], [0.5555555555555556, \"#d8576b\"], [0.6666666666666666, \"#ed7953\"], [0.7777777777777778, \"#fb9f3a\"], [0.8888888888888888, \"#fdca26\"], [1.0, \"#f0f921\"]], \"sequentialminus\": [[0.0, \"#0d0887\"], [0.1111111111111111, \"#46039f\"], [0.2222222222222222, \"#7201a8\"], [0.3333333333333333, \"#9c179e\"], [0.4444444444444444, \"#bd3786\"], [0.5555555555555556, \"#d8576b\"], [0.6666666666666666, \"#ed7953\"], [0.7777777777777778, \"#fb9f3a\"], [0.8888888888888888, \"#fdca26\"], [1.0, \"#f0f921\"]]}, \"colorway\": [\"#636efa\", \"#EF553B\", \"#00cc96\", \"#ab63fa\", \"#FFA15A\", \"#19d3f3\", \"#FF6692\", \"#B6E880\", \"#FF97FF\", \"#FECB52\"], \"font\": {\"color\": \"#2a3f5f\"}, \"geo\": {\"bgcolor\": \"white\", \"lakecolor\": \"white\", \"landcolor\": \"#E5ECF6\", \"showlakes\": true, \"showland\": true, \"subunitcolor\": \"white\"}, \"hoverlabel\": {\"align\": \"left\"}, \"hovermode\": \"closest\", \"mapbox\": {\"style\": \"light\"}, \"paper_bgcolor\": \"white\", \"plot_bgcolor\": \"#E5ECF6\", \"polar\": {\"angularaxis\": {\"gridcolor\": \"white\", \"linecolor\": \"white\", \"ticks\": \"\"}, \"bgcolor\": \"#E5ECF6\", \"radialaxis\": {\"gridcolor\": \"white\", \"linecolor\": \"white\", \"ticks\": \"\"}}, \"scene\": {\"xaxis\": {\"backgroundcolor\": \"#E5ECF6\", \"gridcolor\": \"white\", \"gridwidth\": 2, \"linecolor\": \"white\", \"showbackground\": true, \"ticks\": \"\", \"zerolinecolor\": \"white\"}, \"yaxis\": {\"backgroundcolor\": \"#E5ECF6\", \"gridcolor\": \"white\", \"gridwidth\": 2, \"linecolor\": \"white\", \"showbackground\": true, \"ticks\": \"\", \"zerolinecolor\": \"white\"}, \"zaxis\": {\"backgroundcolor\": \"#E5ECF6\", \"gridcolor\": \"white\", \"gridwidth\": 2, \"linecolor\": \"white\", \"showbackground\": true, \"ticks\": \"\", \"zerolinecolor\": \"white\"}}, \"shapedefaults\": {\"line\": {\"color\": \"#2a3f5f\"}}, \"ternary\": {\"aaxis\": {\"gridcolor\": \"white\", \"linecolor\": \"white\", \"ticks\": \"\"}, \"baxis\": {\"gridcolor\": \"white\", \"linecolor\": \"white\", \"ticks\": \"\"}, \"bgcolor\": \"#E5ECF6\", \"caxis\": {\"gridcolor\": \"white\", \"linecolor\": \"white\", \"ticks\": \"\"}}, \"title\": {\"x\": 0.05}, \"xaxis\": {\"automargin\": true, \"gridcolor\": \"white\", \"linecolor\": \"white\", \"ticks\": \"\", \"zerolinecolor\": \"white\", \"zerolinewidth\": 2}, \"yaxis\": {\"automargin\": true, \"gridcolor\": \"white\", \"linecolor\": \"white\", \"ticks\": \"\", \"zerolinecolor\": \"white\", \"zerolinewidth\": 2}}}, \"title\": {\"text\": \"H\\u0151m\\u00e9rs\\u00e9klet\"}, \"xaxis\": {\"title\": {\"text\": \"$\\\\left(^\\\\circ C\\\\right)$\"}}},\n",
              "                        {\"responsive\": true}\n",
              "                    ).then(function(){\n",
              "                            \n",
              "var gd = document.getElementById('9b945efb-26f4-40da-8807-363f2e9eb4b1');\n",
              "var x = new MutationObserver(function (mutations, observer) {{\n",
              "        var display = window.getComputedStyle(gd).display;\n",
              "        if (!display || display === 'none') {{\n",
              "            console.log([gd, 'removed!']);\n",
              "            Plotly.purge(gd);\n",
              "            observer.disconnect();\n",
              "        }}\n",
              "}});\n",
              "\n",
              "// Listen for the removal of the full notebook cells\n",
              "var notebookContainer = gd.closest('#notebook-container');\n",
              "if (notebookContainer) {{\n",
              "    x.observe(notebookContainer, {childList: true});\n",
              "}}\n",
              "\n",
              "// Listen for the clearing of the current output cell\n",
              "var outputEl = gd.closest('.output');\n",
              "if (outputEl) {{\n",
              "    x.observe(outputEl, {childList: true});\n",
              "}}\n",
              "\n",
              "                        })\n",
              "                };\n",
              "                });\n",
              "            </script>\n",
              "        </div>"
            ]
          },
          "metadata": {
            "tags": []
          }
        }
      ]
    },
    {
      "cell_type": "markdown",
      "metadata": {
        "id": "TaDQX28jsVg3",
        "colab_type": "text"
      },
      "source": [
        "[Return to top](#top)"
      ]
    },
    {
      "cell_type": "markdown",
      "metadata": {
        "id": "ckHF8fe4qgjT",
        "colab_type": "text"
      },
      "source": [
        "<a id = \"10.hf.1.b\"></a>\n",
        "b) tapasztalati eloszlásfüggvény"
      ]
    },
    {
      "cell_type": "code",
      "metadata": {
        "id": "DypAyFCKpIt3",
        "colab_type": "code",
        "outputId": "10388474-376a-48af-dd05-14fe1463ac5c",
        "colab": {
          "base_uri": "https://localhost:8080/",
          "height": 542
        }
      },
      "source": [
        "bins = math.ceil((max(datalist) - min(datalist)/3))\n",
        "empirical_dist(datalist, bins, r'$\\text{hőmérséklet }\\left(^\\circ C\\right)$')"
      ],
      "execution_count": 27,
      "outputs": [
        {
          "output_type": "display_data",
          "data": {
            "text/html": [
              "<div>\n",
              "        \n",
              "        \n",
              "            <div id=\"b3c88735-e698-4247-912e-ce3d7449245e\" class=\"plotly-graph-div\" style=\"height:525px; width:100%;\"></div>\n",
              "            <script type=\"text/javascript\">\n",
              "                require([\"plotly\"], function(Plotly) {\n",
              "                    window.PLOTLYENV=window.PLOTLYENV || {};\n",
              "                    \n",
              "                if (document.getElementById(\"b3c88735-e698-4247-912e-ce3d7449245e\")) {\n",
              "                    Plotly.newPlot(\n",
              "                        'b3c88735-e698-4247-912e-ce3d7449245e',\n",
              "                        [{\"hoverinfo\": \"all\", \"line\": {\"color\": \"rgb(1255, 0, 0)\", \"shape\": \"hvh\"}, \"mode\": \"lines\", \"name\": \"X\", \"type\": \"scatter\", \"x\": [322.0, 322.0966386554622, 322.1932773109244, 322.28991596638656, 322.38655462184875, 322.48319327731093, 322.5798319327731, 322.6764705882353, 322.7731092436975, 322.8697478991597, 322.96638655462186, 323.06302521008405, 323.15966386554624, 323.2563025210084, 323.3529411764706, 323.4495798319328, 323.546218487395, 323.64285714285717, 323.73949579831935, 323.83613445378154, 323.93277310924367, 324.02941176470586, 324.12605042016804, 324.2226890756302, 324.3193277310924, 324.4159663865546, 324.5126050420168, 324.609243697479, 324.70588235294116, 324.80252100840335, 324.89915966386553, 324.9957983193277, 325.0924369747899, 325.1890756302521, 325.2857142857143, 325.38235294117646, 325.47899159663865, 325.57563025210084, 325.672268907563, 325.7689075630252, 325.8655462184874, 325.9621848739496, 326.05882352941177, 326.15546218487395, 326.25210084033614, 326.3487394957983, 326.4453781512605, 326.5420168067227, 326.6386554621849, 326.7352941176471, 326.83193277310926, 326.92857142857144, 327.02521008403363, 327.1218487394958, 327.218487394958, 327.3151260504202, 327.4117647058824, 327.50840336134456, 327.60504201680675, 327.70168067226894, 327.79831932773106, 327.89495798319325, 327.99159663865544, 328.0882352941176, 328.1848739495798, 328.281512605042, 328.3781512605042, 328.47478991596637, 328.57142857142856, 328.66806722689074, 328.7647058823529, 328.8613445378151, 328.9579831932773, 329.0546218487395, 329.1512605042017, 329.24789915966386, 329.34453781512605, 329.44117647058823, 329.5378151260504, 329.6344537815126, 329.7310924369748, 329.827731092437, 329.92436974789916, 330.02100840336135, 330.11764705882354, 330.2142857142857, 330.3109243697479, 330.4075630252101, 330.5042016806723, 330.60084033613447, 330.69747899159665, 330.79411764705884, 330.890756302521, 330.9873949579832, 331.0840336134454, 331.1806722689076, 331.2773109243698, 331.37394957983196, 331.47058823529414, 331.5672268907563, 331.6638655462185, 331.76050420168065, 331.85714285714283, 331.953781512605, 332.0504201680672, 332.1470588235294, 332.2436974789916, 332.34033613445376, 332.43697478991595, 332.53361344537814, 332.6302521008403, 332.7268907563025, 332.8235294117647, 332.9201680672269, 333.01680672268907, 333.11344537815125, 333.21008403361344, 333.3067226890756, 333.4033613445378, 333.5, 333.5966386554622, 333.6932773109244, 333.78991596638656, 333.88655462184875, 333.98319327731093, 334.0798319327731, 334.1764705882353, 334.2731092436975, 334.3697478991597, 334.46638655462186, 334.56302521008405, 334.65966386554624, 334.7563025210084, 334.8529411764706, 334.9495798319328, 335.046218487395, 335.14285714285717, 335.23949579831935, 335.33613445378154, 335.4327731092437, 335.52941176470586, 335.62605042016804, 335.7226890756302, 335.8193277310924, 335.9159663865546, 336.0126050420168, 336.109243697479, 336.20588235294116, 336.30252100840335, 336.39915966386553, 336.4957983193277, 336.5924369747899, 336.6890756302521, 336.7857142857143, 336.88235294117646, 336.97899159663865, 337.07563025210084, 337.172268907563, 337.2689075630252, 337.3655462184874, 337.4621848739496, 337.55882352941177, 337.65546218487395, 337.75210084033614, 337.8487394957983, 337.9453781512605, 338.0420168067227, 338.1386554621849, 338.2352941176471, 338.33193277310926, 338.42857142857144, 338.52521008403363, 338.6218487394958, 338.718487394958, 338.8151260504202, 338.9117647058824, 339.00840336134456, 339.10504201680675, 339.20168067226894, 339.29831932773106, 339.3949579831933, 339.49159663865544, 339.5882352941176, 339.6848739495798, 339.781512605042, 339.8781512605042, 339.97478991596637, 340.07142857142856, 340.16806722689074, 340.2647058823529, 340.3613445378151, 340.4579831932773, 340.5546218487395, 340.6512605042017, 340.74789915966386, 340.84453781512605, 340.94117647058823, 341.0378151260504, 341.1344537815126, 341.2310924369748, 341.327731092437, 341.42436974789916, 341.52100840336135, 341.61764705882354, 341.7142857142857, 341.8109243697479, 341.9075630252101, 342.0042016806723, 342.10084033613447, 342.19747899159665, 342.29411764705884, 342.390756302521, 342.4873949579832, 342.5840336134454, 342.6806722689076, 342.7773109243698, 342.87394957983196, 342.97058823529414, 343.0672268907563, 343.1638655462185, 343.26050420168065, 343.35714285714283, 343.453781512605, 343.5504201680672, 343.6470588235294, 343.7436974789916, 343.84033613445376, 343.93697478991595, 344.03361344537814, 344.1302521008403, 344.2268907563025, 344.3235294117647, 344.4201680672269, 344.51680672268907, 344.61344537815125, 344.71008403361344, 344.8067226890756, 344.9033613445378, 345.0], \"y\": [0.041666666666666685, 0.041666666666666685, 0.041666666666666685, 0.041666666666666685, 0.041666666666666685, 0.041666666666666685, 0.08333333333333337, 0.08333333333333337, 0.08333333333333337, 0.08333333333333337, 0.08333333333333337, 0.08333333333333337, 0.08333333333333337, 0.08333333333333337, 0.08333333333333337, 0.08333333333333337, 0.08333333333333337, 0.08333333333333337, 0.08333333333333337, 0.08333333333333337, 0.08333333333333337, 0.08333333333333337, 0.08333333333333337, 0.08333333333333337, 0.08333333333333337, 0.08333333333333337, 0.08333333333333337, 0.08333333333333337, 0.08333333333333337, 0.08333333333333337, 0.08333333333333337, 0.08333333333333337, 0.08333333333333337, 0.08333333333333337, 0.08333333333333337, 0.08333333333333337, 0.08333333333333337, 0.08333333333333337, 0.08333333333333337, 0.12500000000000006, 0.12500000000000006, 0.12500000000000006, 0.12500000000000006, 0.12500000000000006, 0.12500000000000006, 0.12500000000000006, 0.16666666666666674, 0.16666666666666674, 0.16666666666666674, 0.16666666666666674, 0.16666666666666674, 0.16666666666666674, 0.16666666666666674, 0.16666666666666674, 0.2083333333333334, 0.2083333333333334, 0.2083333333333334, 0.2083333333333334, 0.2083333333333334, 0.2083333333333334, 0.2083333333333334, 0.2083333333333334, 0.2083333333333334, 0.2083333333333334, 0.2083333333333334, 0.2083333333333334, 0.2083333333333334, 0.2083333333333334, 0.2500000000000001, 0.2500000000000001, 0.2500000000000001, 0.2500000000000001, 0.2500000000000001, 0.2500000000000001, 0.2500000000000001, 0.2500000000000001, 0.2500000000000001, 0.2916666666666668, 0.2916666666666668, 0.3333333333333335, 0.3333333333333335, 0.3333333333333335, 0.37500000000000017, 0.37500000000000017, 0.37500000000000017, 0.37500000000000017, 0.37500000000000017, 0.37500000000000017, 0.37500000000000017, 0.37500000000000017, 0.37500000000000017, 0.37500000000000017, 0.37500000000000017, 0.45833333333333354, 0.45833333333333354, 0.45833333333333354, 0.45833333333333354, 0.45833333333333354, 0.45833333333333354, 0.45833333333333354, 0.45833333333333354, 0.45833333333333354, 0.45833333333333354, 0.45833333333333354, 0.45833333333333354, 0.45833333333333354, 0.5000000000000002, 0.5000000000000002, 0.5000000000000002, 0.5000000000000002, 0.5000000000000002, 0.5000000000000002, 0.5000000000000002, 0.5416666666666669, 0.5416666666666669, 0.5416666666666669, 0.5416666666666669, 0.5416666666666669, 0.5416666666666669, 0.5416666666666669, 0.5416666666666669, 0.5416666666666669, 0.5416666666666669, 0.5416666666666669, 0.5833333333333335, 0.5833333333333335, 0.5833333333333335, 0.5833333333333335, 0.5833333333333335, 0.5833333333333335, 0.5833333333333335, 0.5833333333333335, 0.5833333333333335, 0.5833333333333335, 0.5833333333333335, 0.5833333333333335, 0.5833333333333335, 0.5833333333333335, 0.5833333333333335, 0.5833333333333335, 0.5833333333333335, 0.5833333333333335, 0.5833333333333335, 0.5833333333333335, 0.5833333333333335, 0.5833333333333335, 0.5833333333333335, 0.5833333333333335, 0.5833333333333335, 0.6250000000000001, 0.6250000000000001, 0.6250000000000001, 0.6250000000000001, 0.6250000000000001, 0.6250000000000001, 0.6250000000000001, 0.6250000000000001, 0.6250000000000001, 0.6250000000000001, 0.6250000000000001, 0.6666666666666667, 0.6666666666666667, 0.6666666666666667, 0.6666666666666667, 0.6666666666666667, 0.7083333333333334, 0.7083333333333334, 0.7083333333333334, 0.7083333333333334, 0.7083333333333334, 0.75, 0.75, 0.75, 0.75, 0.75, 0.75, 0.75, 0.7916666666666667, 0.7916666666666667, 0.7916666666666667, 0.7916666666666667, 0.7916666666666667, 0.7916666666666667, 0.7916666666666667, 0.7916666666666667, 0.7916666666666667, 0.8333333333333334, 0.8333333333333334, 0.8333333333333334, 0.8333333333333334, 0.8333333333333334, 0.8333333333333334, 0.8333333333333334, 0.8333333333333334, 0.8333333333333334, 0.8333333333333334, 0.8750000000000001, 0.8750000000000001, 0.8750000000000001, 0.8750000000000001, 0.8750000000000001, 0.8750000000000001, 0.8750000000000001, 0.8750000000000001, 0.8750000000000001, 0.8750000000000001, 0.8750000000000001, 0.8750000000000001, 0.8750000000000001, 0.8750000000000001, 0.8750000000000001, 0.9166666666666667, 0.9166666666666667, 0.9166666666666667, 0.9166666666666667, 0.9166666666666667, 0.9166666666666667, 0.9166666666666667, 0.9166666666666667, 0.9166666666666667, 0.9583333333333334, 0.9583333333333334, 0.9583333333333334, 0.9583333333333334, 0.9583333333333334, 0.9583333333333334, 0.9583333333333334, 0.9583333333333334, 0.9583333333333334, 0.9583333333333334, 0.9583333333333334, 0.9583333333333334, 0.9583333333333334, 0.9583333333333334, 0.9583333333333334, 0.9583333333333334, 0.9583333333333334, 1.0]}],\n",
              "                        {\"legend\": {\"font\": {\"size\": 16}, \"traceorder\": \"reversed\", \"y\": 0.5}, \"template\": {\"data\": {\"bar\": [{\"error_x\": {\"color\": \"#2a3f5f\"}, \"error_y\": {\"color\": \"#2a3f5f\"}, \"marker\": {\"line\": {\"color\": \"#E5ECF6\", \"width\": 0.5}}, \"type\": \"bar\"}], \"barpolar\": [{\"marker\": {\"line\": {\"color\": \"#E5ECF6\", \"width\": 0.5}}, \"type\": \"barpolar\"}], \"carpet\": [{\"aaxis\": {\"endlinecolor\": \"#2a3f5f\", \"gridcolor\": \"white\", \"linecolor\": \"white\", \"minorgridcolor\": \"white\", \"startlinecolor\": \"#2a3f5f\"}, \"baxis\": {\"endlinecolor\": \"#2a3f5f\", \"gridcolor\": \"white\", \"linecolor\": \"white\", \"minorgridcolor\": \"white\", \"startlinecolor\": \"#2a3f5f\"}, \"type\": \"carpet\"}], \"choropleth\": [{\"colorbar\": {\"outlinewidth\": 0, \"ticks\": \"\"}, \"type\": \"choropleth\"}], \"contour\": [{\"colorbar\": {\"outlinewidth\": 0, \"ticks\": \"\"}, \"colorscale\": [[0.0, \"#0d0887\"], [0.1111111111111111, \"#46039f\"], [0.2222222222222222, \"#7201a8\"], [0.3333333333333333, \"#9c179e\"], [0.4444444444444444, \"#bd3786\"], [0.5555555555555556, \"#d8576b\"], [0.6666666666666666, \"#ed7953\"], [0.7777777777777778, \"#fb9f3a\"], [0.8888888888888888, \"#fdca26\"], [1.0, \"#f0f921\"]], \"type\": \"contour\"}], \"contourcarpet\": [{\"colorbar\": {\"outlinewidth\": 0, \"ticks\": \"\"}, \"type\": \"contourcarpet\"}], \"heatmap\": [{\"colorbar\": {\"outlinewidth\": 0, \"ticks\": \"\"}, \"colorscale\": [[0.0, \"#0d0887\"], [0.1111111111111111, \"#46039f\"], [0.2222222222222222, \"#7201a8\"], [0.3333333333333333, \"#9c179e\"], [0.4444444444444444, \"#bd3786\"], [0.5555555555555556, \"#d8576b\"], [0.6666666666666666, \"#ed7953\"], [0.7777777777777778, \"#fb9f3a\"], [0.8888888888888888, \"#fdca26\"], [1.0, \"#f0f921\"]], \"type\": \"heatmap\"}], \"heatmapgl\": [{\"colorbar\": {\"outlinewidth\": 0, \"ticks\": \"\"}, \"colorscale\": [[0.0, \"#0d0887\"], [0.1111111111111111, \"#46039f\"], [0.2222222222222222, \"#7201a8\"], [0.3333333333333333, \"#9c179e\"], [0.4444444444444444, \"#bd3786\"], [0.5555555555555556, \"#d8576b\"], [0.6666666666666666, \"#ed7953\"], [0.7777777777777778, \"#fb9f3a\"], [0.8888888888888888, \"#fdca26\"], [1.0, \"#f0f921\"]], \"type\": \"heatmapgl\"}], \"histogram\": [{\"marker\": {\"colorbar\": {\"outlinewidth\": 0, \"ticks\": \"\"}}, \"type\": \"histogram\"}], \"histogram2d\": [{\"colorbar\": {\"outlinewidth\": 0, \"ticks\": \"\"}, \"colorscale\": [[0.0, \"#0d0887\"], [0.1111111111111111, \"#46039f\"], [0.2222222222222222, \"#7201a8\"], [0.3333333333333333, \"#9c179e\"], [0.4444444444444444, \"#bd3786\"], [0.5555555555555556, \"#d8576b\"], [0.6666666666666666, \"#ed7953\"], [0.7777777777777778, \"#fb9f3a\"], [0.8888888888888888, \"#fdca26\"], [1.0, \"#f0f921\"]], \"type\": \"histogram2d\"}], \"histogram2dcontour\": [{\"colorbar\": {\"outlinewidth\": 0, \"ticks\": \"\"}, \"colorscale\": [[0.0, \"#0d0887\"], [0.1111111111111111, \"#46039f\"], [0.2222222222222222, \"#7201a8\"], [0.3333333333333333, \"#9c179e\"], [0.4444444444444444, \"#bd3786\"], [0.5555555555555556, \"#d8576b\"], [0.6666666666666666, \"#ed7953\"], [0.7777777777777778, \"#fb9f3a\"], [0.8888888888888888, \"#fdca26\"], [1.0, \"#f0f921\"]], \"type\": \"histogram2dcontour\"}], \"mesh3d\": [{\"colorbar\": {\"outlinewidth\": 0, \"ticks\": \"\"}, \"type\": \"mesh3d\"}], \"parcoords\": [{\"line\": {\"colorbar\": {\"outlinewidth\": 0, \"ticks\": \"\"}}, \"type\": \"parcoords\"}], \"scatter\": [{\"marker\": {\"colorbar\": {\"outlinewidth\": 0, \"ticks\": \"\"}}, \"type\": \"scatter\"}], \"scatter3d\": [{\"line\": {\"colorbar\": {\"outlinewidth\": 0, \"ticks\": \"\"}}, \"marker\": {\"colorbar\": {\"outlinewidth\": 0, \"ticks\": \"\"}}, \"type\": \"scatter3d\"}], \"scattercarpet\": [{\"marker\": {\"colorbar\": {\"outlinewidth\": 0, \"ticks\": \"\"}}, \"type\": \"scattercarpet\"}], \"scattergeo\": [{\"marker\": {\"colorbar\": {\"outlinewidth\": 0, \"ticks\": \"\"}}, \"type\": \"scattergeo\"}], \"scattergl\": [{\"marker\": {\"colorbar\": {\"outlinewidth\": 0, \"ticks\": \"\"}}, \"type\": \"scattergl\"}], \"scattermapbox\": [{\"marker\": {\"colorbar\": {\"outlinewidth\": 0, \"ticks\": \"\"}}, \"type\": \"scattermapbox\"}], \"scatterpolar\": [{\"marker\": {\"colorbar\": {\"outlinewidth\": 0, \"ticks\": \"\"}}, \"type\": \"scatterpolar\"}], \"scatterpolargl\": [{\"marker\": {\"colorbar\": {\"outlinewidth\": 0, \"ticks\": \"\"}}, \"type\": \"scatterpolargl\"}], \"scatterternary\": [{\"marker\": {\"colorbar\": {\"outlinewidth\": 0, \"ticks\": \"\"}}, \"type\": \"scatterternary\"}], \"surface\": [{\"colorbar\": {\"outlinewidth\": 0, \"ticks\": \"\"}, \"colorscale\": [[0.0, \"#0d0887\"], [0.1111111111111111, \"#46039f\"], [0.2222222222222222, \"#7201a8\"], [0.3333333333333333, \"#9c179e\"], [0.4444444444444444, \"#bd3786\"], [0.5555555555555556, \"#d8576b\"], [0.6666666666666666, \"#ed7953\"], [0.7777777777777778, \"#fb9f3a\"], [0.8888888888888888, \"#fdca26\"], [1.0, \"#f0f921\"]], \"type\": \"surface\"}], \"table\": [{\"cells\": {\"fill\": {\"color\": \"#EBF0F8\"}, \"line\": {\"color\": \"white\"}}, \"header\": {\"fill\": {\"color\": \"#C8D4E3\"}, \"line\": {\"color\": \"white\"}}, \"type\": \"table\"}]}, \"layout\": {\"annotationdefaults\": {\"arrowcolor\": \"#2a3f5f\", \"arrowhead\": 0, \"arrowwidth\": 1}, \"colorscale\": {\"diverging\": [[0, \"#8e0152\"], [0.1, \"#c51b7d\"], [0.2, \"#de77ae\"], [0.3, \"#f1b6da\"], [0.4, \"#fde0ef\"], [0.5, \"#f7f7f7\"], [0.6, \"#e6f5d0\"], [0.7, \"#b8e186\"], [0.8, \"#7fbc41\"], [0.9, \"#4d9221\"], [1, \"#276419\"]], \"sequential\": [[0.0, \"#0d0887\"], [0.1111111111111111, \"#46039f\"], [0.2222222222222222, \"#7201a8\"], [0.3333333333333333, \"#9c179e\"], [0.4444444444444444, \"#bd3786\"], [0.5555555555555556, \"#d8576b\"], [0.6666666666666666, \"#ed7953\"], [0.7777777777777778, \"#fb9f3a\"], [0.8888888888888888, \"#fdca26\"], [1.0, \"#f0f921\"]], \"sequentialminus\": [[0.0, \"#0d0887\"], [0.1111111111111111, \"#46039f\"], [0.2222222222222222, \"#7201a8\"], [0.3333333333333333, \"#9c179e\"], [0.4444444444444444, \"#bd3786\"], [0.5555555555555556, \"#d8576b\"], [0.6666666666666666, \"#ed7953\"], [0.7777777777777778, \"#fb9f3a\"], [0.8888888888888888, \"#fdca26\"], [1.0, \"#f0f921\"]]}, \"colorway\": [\"#636efa\", \"#EF553B\", \"#00cc96\", \"#ab63fa\", \"#FFA15A\", \"#19d3f3\", \"#FF6692\", \"#B6E880\", \"#FF97FF\", \"#FECB52\"], \"font\": {\"color\": \"#2a3f5f\"}, \"geo\": {\"bgcolor\": \"white\", \"lakecolor\": \"white\", \"landcolor\": \"#E5ECF6\", \"showlakes\": true, \"showland\": true, \"subunitcolor\": \"white\"}, \"hoverlabel\": {\"align\": \"left\"}, \"hovermode\": \"closest\", \"mapbox\": {\"style\": \"light\"}, \"paper_bgcolor\": \"white\", \"plot_bgcolor\": \"#E5ECF6\", \"polar\": {\"angularaxis\": {\"gridcolor\": \"white\", \"linecolor\": \"white\", \"ticks\": \"\"}, \"bgcolor\": \"#E5ECF6\", \"radialaxis\": {\"gridcolor\": \"white\", \"linecolor\": \"white\", \"ticks\": \"\"}}, \"scene\": {\"xaxis\": {\"backgroundcolor\": \"#E5ECF6\", \"gridcolor\": \"white\", \"gridwidth\": 2, \"linecolor\": \"white\", \"showbackground\": true, \"ticks\": \"\", \"zerolinecolor\": \"white\"}, \"yaxis\": {\"backgroundcolor\": \"#E5ECF6\", \"gridcolor\": \"white\", \"gridwidth\": 2, \"linecolor\": \"white\", \"showbackground\": true, \"ticks\": \"\", \"zerolinecolor\": \"white\"}, \"zaxis\": {\"backgroundcolor\": \"#E5ECF6\", \"gridcolor\": \"white\", \"gridwidth\": 2, \"linecolor\": \"white\", \"showbackground\": true, \"ticks\": \"\", \"zerolinecolor\": \"white\"}}, \"shapedefaults\": {\"line\": {\"color\": \"#2a3f5f\"}}, \"ternary\": {\"aaxis\": {\"gridcolor\": \"white\", \"linecolor\": \"white\", \"ticks\": \"\"}, \"baxis\": {\"gridcolor\": \"white\", \"linecolor\": \"white\", \"ticks\": \"\"}, \"bgcolor\": \"#E5ECF6\", \"caxis\": {\"gridcolor\": \"white\", \"linecolor\": \"white\", \"ticks\": \"\"}}, \"title\": {\"x\": 0.05}, \"xaxis\": {\"automargin\": true, \"gridcolor\": \"white\", \"linecolor\": \"white\", \"ticks\": \"\", \"zerolinecolor\": \"white\", \"zerolinewidth\": 2}, \"yaxis\": {\"automargin\": true, \"gridcolor\": \"white\", \"linecolor\": \"white\", \"ticks\": \"\", \"zerolinecolor\": \"white\", \"zerolinewidth\": 2}}}, \"title\": {\"text\": \"Empirical distribution function\"}, \"xaxis\": {\"title\": {\"text\": \"$\\\\text{h\\u0151m\\u00e9rs\\u00e9klet }\\\\left(^\\\\circ C\\\\right)$\"}}},\n",
              "                        {\"responsive\": true}\n",
              "                    ).then(function(){\n",
              "                            \n",
              "var gd = document.getElementById('b3c88735-e698-4247-912e-ce3d7449245e');\n",
              "var x = new MutationObserver(function (mutations, observer) {{\n",
              "        var display = window.getComputedStyle(gd).display;\n",
              "        if (!display || display === 'none') {{\n",
              "            console.log([gd, 'removed!']);\n",
              "            Plotly.purge(gd);\n",
              "            observer.disconnect();\n",
              "        }}\n",
              "}});\n",
              "\n",
              "// Listen for the removal of the full notebook cells\n",
              "var notebookContainer = gd.closest('#notebook-container');\n",
              "if (notebookContainer) {{\n",
              "    x.observe(notebookContainer, {childList: true});\n",
              "}}\n",
              "\n",
              "// Listen for the clearing of the current output cell\n",
              "var outputEl = gd.closest('.output');\n",
              "if (outputEl) {{\n",
              "    x.observe(outputEl, {childList: true});\n",
              "}}\n",
              "\n",
              "                        })\n",
              "                };\n",
              "                });\n",
              "            </script>\n",
              "        </div>"
            ]
          },
          "metadata": {
            "tags": []
          }
        }
      ]
    },
    {
      "cell_type": "markdown",
      "metadata": {
        "id": "4QR2C7WAsZ8y",
        "colab_type": "text"
      },
      "source": [
        "[Return to top](#top)"
      ]
    },
    {
      "cell_type": "markdown",
      "metadata": {
        "id": "8yCIN0H2-zw1",
        "colab_type": "text"
      },
      "source": [
        "<a id = \"10.hf.1.c\"></a>\n",
        "c) tapasztalati várható érték, szórás"
      ]
    },
    {
      "cell_type": "code",
      "metadata": {
        "id": "0gabGtFMpIyL",
        "colab_type": "code",
        "outputId": "16268cad-a899-4db0-b485-877efd08faac",
        "colab": {
          "base_uri": "https://localhost:8080/",
          "height": 52
        }
      },
      "source": [
        "print(\"A tapasztalati várható értéke: \", round(np.mean(datalist),5))\n",
        "print(\"A tapasztalati szórása:\", round(np.std(datalist),5))"
      ],
      "execution_count": 0,
      "outputs": [
        {
          "output_type": "stream",
          "text": [
            "A tapasztalati várható értéke:  333.525\n",
            "A tapasztalati szórása: 6.41309\n"
          ],
          "name": "stdout"
        }
      ]
    },
    {
      "cell_type": "markdown",
      "metadata": {
        "id": "6MRM6OQMsc_T",
        "colab_type": "text"
      },
      "source": [
        "[Return to top](#top)"
      ]
    },
    {
      "cell_type": "markdown",
      "metadata": {
        "id": "94v5F44i_EPh",
        "colab_type": "text"
      },
      "source": [
        "<a id = \"10.hf.1.d\"></a>\n",
        "d) korrigált tapasztalati szórás"
      ]
    },
    {
      "cell_type": "code",
      "metadata": {
        "id": "PWiHH8_3pI5M",
        "colab_type": "code",
        "outputId": "1b4aa0da-f822-41b8-9fc9-bba8f25ccfd9",
        "colab": {
          "base_uri": "https://localhost:8080/",
          "height": 34
        }
      },
      "source": [
        "print(\"A korrigált tapasztalati szórás: \", round(np.sqrt(len(datalist)/(len(datalist)-1)) * np.std(datalist),5) )"
      ],
      "execution_count": 0,
      "outputs": [
        {
          "output_type": "stream",
          "text": [
            "A korrigált tapasztalati szórás:  6.55102\n"
          ],
          "name": "stdout"
        }
      ]
    },
    {
      "cell_type": "markdown",
      "metadata": {
        "id": "cDHKSG4vsfZx",
        "colab_type": "text"
      },
      "source": [
        "[Return to top](#top)"
      ]
    },
    {
      "cell_type": "markdown",
      "metadata": {
        "id": "j0Cr_Ryg_o4o",
        "colab_type": "text"
      },
      "source": [
        "<a id = \"10.hf.1.e\"></a>\n",
        "e) Mivel nem ismerjük a szórást, ezért $t$ eloszlást használunk."
      ]
    },
    {
      "cell_type": "code",
      "metadata": {
        "id": "pRlewJqEpI16",
        "colab_type": "code",
        "outputId": "1b4e976e-3b52-433c-e286-15df60128952",
        "colab": {
          "base_uri": "https://localhost:8080/",
          "height": 34
        }
      },
      "source": [
        "conf_int = stats.t.interval(.95, len(datalist)-1, \\\n",
        "                            loc = np.mean(datalist), \\\n",
        "                            scale = stats.sem(datalist)) # stats.sem = s/sqrt(n)\n",
        "print(f'A 95%-hoz tartozó confidencia intervallum ({conf_int[0]:.5f},{conf_int[1]:.5f}).')"
      ],
      "execution_count": 0,
      "outputs": [
        {
          "output_type": "stream",
          "text": [
            "A 95%-hoz tartozó confidencia intervallum (330.75875,336.29125).\n"
          ],
          "name": "stdout"
        }
      ]
    },
    {
      "cell_type": "markdown",
      "metadata": {
        "id": "CRUoA1sRsjey",
        "colab_type": "text"
      },
      "source": [
        "[Return to top](#top)"
      ]
    },
    {
      "cell_type": "markdown",
      "metadata": {
        "id": "BgCUjfyB_45T",
        "colab_type": "text"
      },
      "source": [
        "<a id = \"10.hf.2\"></a>"
      ]
    },
    {
      "cell_type": "markdown",
      "metadata": {
        "colab_type": "text",
        "id": "5K3m7DM1x7Wr"
      },
      "source": [
        "<div class=\"feladat\">\n",
        "2. Feladat\n",
        "</div>"
      ]
    },
    {
      "cell_type": "markdown",
      "metadata": {
        "id": "UTKlAyJHCEAv",
        "colab_type": "text"
      },
      "source": [
        "<div class=\"exercises\">\n",
        "A Lángoló Rózsa kolostorban a havi (Bablevesek, Káposztafőzelékek)-ek száma az utóbbi néhány hónapban\n",
        "<br />\n",
        "(3, 4); (6, 5); (2, 1); (2, 2); (4, 4); (4, 5). \n",
        "<br />\n",
        "Adjon lineáris közelítést a \"Bablevesek\" számából a \"Káposztafőzelékek\" számára.\n",
        "</div>"
      ]
    },
    {
      "cell_type": "markdown",
      "metadata": {
        "id": "CfGagiDwCEdE",
        "colab_type": "text"
      },
      "source": [
        "<a id = \"10.hf.2.1\"></a>\n",
        "<div class=\"solution\">Megoldás.</div>"
      ]
    },
    {
      "cell_type": "code",
      "metadata": {
        "colab_type": "code",
        "id": "z2u2Es7iRYcB",
        "colab": {}
      },
      "source": [
        "data = [(3, 4), (6, 5), (2, 1), (2, 2), (4, 4), (4, 5)]\n",
        "datalist = [[list(dat)[0], list(dat)[1]] for dat in data]\n",
        "X = [_[0] for _ in datalist]\n",
        "Y = [_[1] for _ in datalist]"
      ],
      "execution_count": 0,
      "outputs": []
    },
    {
      "cell_type": "code",
      "metadata": {
        "colab_type": "code",
        "outputId": "c4ce594f-51df-4818-cde3-a46211e9dfc7",
        "id": "mbdCqP5MRYcG",
        "colab": {
          "base_uri": "https://localhost:8080/",
          "height": 532
        }
      },
      "source": [
        "X = sm.add_constant(X) # Our model needs an intercept so we add a column of 1s in the first column\n",
        "model = sm.OLS(Y, X).fit()\n",
        "# predictions = model.predict(X)\n",
        "print_model = model.summary()\n",
        "print(print_model)"
      ],
      "execution_count": 29,
      "outputs": [
        {
          "output_type": "stream",
          "text": [
            "                            OLS Regression Results                            \n",
            "==============================================================================\n",
            "Dep. Variable:                      y   R-squared:                       0.710\n",
            "Model:                            OLS   Adj. R-squared:                  0.638\n",
            "Method:                 Least Squares   F-statistic:                     9.800\n",
            "Date:                Thu, 26 Dec 2019   Prob (F-statistic):             0.0352\n",
            "Time:                        15:35:09   Log-Likelihood:                -7.2313\n",
            "No. Observations:                   6   AIC:                             18.46\n",
            "Df Residuals:                       4   BIC:                             18.05\n",
            "Df Model:                           1                                         \n",
            "Covariance Type:            nonrobust                                         \n",
            "==============================================================================\n",
            "                 coef    std err          t      P>|t|      [0.025      0.975]\n",
            "------------------------------------------------------------------------------\n",
            "const          0.3043      1.098      0.277      0.795      -2.744       3.352\n",
            "x1             0.9130      0.292      3.130      0.035       0.103       1.723\n",
            "==============================================================================\n",
            "Omnibus:                          nan   Durbin-Watson:                   1.323\n",
            "Prob(Omnibus):                    nan   Jarque-Bera (JB):                0.505\n",
            "Skew:                           0.027   Prob(JB):                        0.777\n",
            "Kurtosis:                       1.580   Cond. No.                         10.9\n",
            "==============================================================================\n",
            "\n",
            "Warnings:\n",
            "[1] Standard Errors assume that the covariance matrix of the errors is correctly specified.\n"
          ],
          "name": "stdout"
        },
        {
          "output_type": "stream",
          "text": [
            "/usr/local/lib/python3.6/dist-packages/statsmodels/stats/stattools.py:71: ValueWarning:\n",
            "\n",
            "omni_normtest is not valid with less than 8 observations; 6 samples were given.\n",
            "\n"
          ],
          "name": "stderr"
        }
      ]
    },
    {
      "cell_type": "code",
      "metadata": {
        "colab_type": "code",
        "id": "tLVHnYM3RYcI",
        "colab": {}
      },
      "source": [
        "coeffs = model.params"
      ],
      "execution_count": 0,
      "outputs": []
    },
    {
      "cell_type": "code",
      "metadata": {
        "colab_type": "code",
        "outputId": "587e1a2b-be15-4d26-8b80-55ab50e58e45",
        "id": "-L0SamSHRYcK",
        "colab": {
          "base_uri": "https://localhost:8080/",
          "height": 34
        }
      },
      "source": [
        "print(f'Az egyenes egyenlete: y = {coeffs[0]:.5f} + {coeffs[1]:.5f}*x. ')"
      ],
      "execution_count": 31,
      "outputs": [
        {
          "output_type": "stream",
          "text": [
            "Az egyenes egyenlete: y = 0.30435 + 0.91304*x. \n"
          ],
          "name": "stdout"
        }
      ]
    },
    {
      "cell_type": "code",
      "metadata": {
        "colab_type": "code",
        "outputId": "421f2227-f878-45e9-ceb7-24483e5ddffa",
        "id": "JCXPXTcARYcL",
        "colab": {
          "base_uri": "https://localhost:8080/",
          "height": 542
        }
      },
      "source": [
        "linear_regr_line(X[:, 1], Y, coeffs, 'Bablevesek száma','Káposztafőzelékek száma')"
      ],
      "execution_count": 32,
      "outputs": [
        {
          "output_type": "display_data",
          "data": {
            "text/html": [
              "<div>\n",
              "        \n",
              "        \n",
              "            <div id=\"9dbdc091-9cb8-4e44-8424-7d13b811133f\" class=\"plotly-graph-div\" style=\"height:525px; width:100%;\"></div>\n",
              "            <script type=\"text/javascript\">\n",
              "                require([\"plotly\"], function(Plotly) {\n",
              "                    window.PLOTLYENV=window.PLOTLYENV || {};\n",
              "                    \n",
              "                if (document.getElementById(\"9dbdc091-9cb8-4e44-8424-7d13b811133f\")) {\n",
              "                    Plotly.newPlot(\n",
              "                        '9dbdc091-9cb8-4e44-8424-7d13b811133f',\n",
              "                        [{\"mode\": \"markers\", \"name\": \"Data\", \"type\": \"scatter\", \"x\": [3.0, 6.0, 2.0, 2.0, 4.0, 4.0], \"y\": [4, 5, 1, 2, 4, 5]}, {\"mode\": \"lines\", \"name\": \"Fit\", \"type\": \"scatter\", \"x\": [3.0, 6.0, 2.0, 2.0, 4.0, 4.0], \"y\": [3.0434782608695645, 5.782608695652173, 2.130434782608695, 2.130434782608695, 3.956521739130434, 3.956521739130434]}],\n",
              "                        {\"plot_bgcolor\": \"rgb(229, 229, 229)\", \"template\": {\"data\": {\"bar\": [{\"error_x\": {\"color\": \"#2a3f5f\"}, \"error_y\": {\"color\": \"#2a3f5f\"}, \"marker\": {\"line\": {\"color\": \"#E5ECF6\", \"width\": 0.5}}, \"type\": \"bar\"}], \"barpolar\": [{\"marker\": {\"line\": {\"color\": \"#E5ECF6\", \"width\": 0.5}}, \"type\": \"barpolar\"}], \"carpet\": [{\"aaxis\": {\"endlinecolor\": \"#2a3f5f\", \"gridcolor\": \"white\", \"linecolor\": \"white\", \"minorgridcolor\": \"white\", \"startlinecolor\": \"#2a3f5f\"}, \"baxis\": {\"endlinecolor\": \"#2a3f5f\", \"gridcolor\": \"white\", \"linecolor\": \"white\", \"minorgridcolor\": \"white\", \"startlinecolor\": \"#2a3f5f\"}, \"type\": \"carpet\"}], \"choropleth\": [{\"colorbar\": {\"outlinewidth\": 0, \"ticks\": \"\"}, \"type\": \"choropleth\"}], \"contour\": [{\"colorbar\": {\"outlinewidth\": 0, \"ticks\": \"\"}, \"colorscale\": [[0.0, \"#0d0887\"], [0.1111111111111111, \"#46039f\"], [0.2222222222222222, \"#7201a8\"], [0.3333333333333333, \"#9c179e\"], [0.4444444444444444, \"#bd3786\"], [0.5555555555555556, \"#d8576b\"], [0.6666666666666666, \"#ed7953\"], [0.7777777777777778, \"#fb9f3a\"], [0.8888888888888888, \"#fdca26\"], [1.0, \"#f0f921\"]], \"type\": \"contour\"}], \"contourcarpet\": [{\"colorbar\": {\"outlinewidth\": 0, \"ticks\": \"\"}, \"type\": \"contourcarpet\"}], \"heatmap\": [{\"colorbar\": {\"outlinewidth\": 0, \"ticks\": \"\"}, \"colorscale\": [[0.0, \"#0d0887\"], [0.1111111111111111, \"#46039f\"], [0.2222222222222222, \"#7201a8\"], [0.3333333333333333, \"#9c179e\"], [0.4444444444444444, \"#bd3786\"], [0.5555555555555556, \"#d8576b\"], [0.6666666666666666, \"#ed7953\"], [0.7777777777777778, \"#fb9f3a\"], [0.8888888888888888, \"#fdca26\"], [1.0, \"#f0f921\"]], \"type\": \"heatmap\"}], \"heatmapgl\": [{\"colorbar\": {\"outlinewidth\": 0, \"ticks\": \"\"}, \"colorscale\": [[0.0, \"#0d0887\"], [0.1111111111111111, \"#46039f\"], [0.2222222222222222, \"#7201a8\"], [0.3333333333333333, \"#9c179e\"], [0.4444444444444444, \"#bd3786\"], [0.5555555555555556, \"#d8576b\"], [0.6666666666666666, \"#ed7953\"], [0.7777777777777778, \"#fb9f3a\"], [0.8888888888888888, \"#fdca26\"], [1.0, \"#f0f921\"]], \"type\": \"heatmapgl\"}], \"histogram\": [{\"marker\": {\"colorbar\": {\"outlinewidth\": 0, \"ticks\": \"\"}}, \"type\": \"histogram\"}], \"histogram2d\": [{\"colorbar\": {\"outlinewidth\": 0, \"ticks\": \"\"}, \"colorscale\": [[0.0, \"#0d0887\"], [0.1111111111111111, \"#46039f\"], [0.2222222222222222, \"#7201a8\"], [0.3333333333333333, \"#9c179e\"], [0.4444444444444444, \"#bd3786\"], [0.5555555555555556, \"#d8576b\"], [0.6666666666666666, \"#ed7953\"], [0.7777777777777778, \"#fb9f3a\"], [0.8888888888888888, \"#fdca26\"], [1.0, \"#f0f921\"]], \"type\": \"histogram2d\"}], \"histogram2dcontour\": [{\"colorbar\": {\"outlinewidth\": 0, \"ticks\": \"\"}, \"colorscale\": [[0.0, \"#0d0887\"], [0.1111111111111111, \"#46039f\"], [0.2222222222222222, \"#7201a8\"], [0.3333333333333333, \"#9c179e\"], [0.4444444444444444, \"#bd3786\"], [0.5555555555555556, \"#d8576b\"], [0.6666666666666666, \"#ed7953\"], [0.7777777777777778, \"#fb9f3a\"], [0.8888888888888888, \"#fdca26\"], [1.0, \"#f0f921\"]], \"type\": \"histogram2dcontour\"}], \"mesh3d\": [{\"colorbar\": {\"outlinewidth\": 0, \"ticks\": \"\"}, \"type\": \"mesh3d\"}], \"parcoords\": [{\"line\": {\"colorbar\": {\"outlinewidth\": 0, \"ticks\": \"\"}}, \"type\": \"parcoords\"}], \"scatter\": [{\"marker\": {\"colorbar\": {\"outlinewidth\": 0, \"ticks\": \"\"}}, \"type\": \"scatter\"}], \"scatter3d\": [{\"line\": {\"colorbar\": {\"outlinewidth\": 0, \"ticks\": \"\"}}, \"marker\": {\"colorbar\": {\"outlinewidth\": 0, \"ticks\": \"\"}}, \"type\": \"scatter3d\"}], \"scattercarpet\": [{\"marker\": {\"colorbar\": {\"outlinewidth\": 0, \"ticks\": \"\"}}, \"type\": \"scattercarpet\"}], \"scattergeo\": [{\"marker\": {\"colorbar\": {\"outlinewidth\": 0, \"ticks\": \"\"}}, \"type\": \"scattergeo\"}], \"scattergl\": [{\"marker\": {\"colorbar\": {\"outlinewidth\": 0, \"ticks\": \"\"}}, \"type\": \"scattergl\"}], \"scattermapbox\": [{\"marker\": {\"colorbar\": {\"outlinewidth\": 0, \"ticks\": \"\"}}, \"type\": \"scattermapbox\"}], \"scatterpolar\": [{\"marker\": {\"colorbar\": {\"outlinewidth\": 0, \"ticks\": \"\"}}, \"type\": \"scatterpolar\"}], \"scatterpolargl\": [{\"marker\": {\"colorbar\": {\"outlinewidth\": 0, \"ticks\": \"\"}}, \"type\": \"scatterpolargl\"}], \"scatterternary\": [{\"marker\": {\"colorbar\": {\"outlinewidth\": 0, \"ticks\": \"\"}}, \"type\": \"scatterternary\"}], \"surface\": [{\"colorbar\": {\"outlinewidth\": 0, \"ticks\": \"\"}, \"colorscale\": [[0.0, \"#0d0887\"], [0.1111111111111111, \"#46039f\"], [0.2222222222222222, \"#7201a8\"], [0.3333333333333333, \"#9c179e\"], [0.4444444444444444, \"#bd3786\"], [0.5555555555555556, \"#d8576b\"], [0.6666666666666666, \"#ed7953\"], [0.7777777777777778, \"#fb9f3a\"], [0.8888888888888888, \"#fdca26\"], [1.0, \"#f0f921\"]], \"type\": \"surface\"}], \"table\": [{\"cells\": {\"fill\": {\"color\": \"#EBF0F8\"}, \"line\": {\"color\": \"white\"}}, \"header\": {\"fill\": {\"color\": \"#C8D4E3\"}, \"line\": {\"color\": \"white\"}}, \"type\": \"table\"}]}, \"layout\": {\"annotationdefaults\": {\"arrowcolor\": \"#2a3f5f\", \"arrowhead\": 0, \"arrowwidth\": 1}, \"colorscale\": {\"diverging\": [[0, \"#8e0152\"], [0.1, \"#c51b7d\"], [0.2, \"#de77ae\"], [0.3, \"#f1b6da\"], [0.4, \"#fde0ef\"], [0.5, \"#f7f7f7\"], [0.6, \"#e6f5d0\"], [0.7, \"#b8e186\"], [0.8, \"#7fbc41\"], [0.9, \"#4d9221\"], [1, \"#276419\"]], \"sequential\": [[0.0, \"#0d0887\"], [0.1111111111111111, \"#46039f\"], [0.2222222222222222, \"#7201a8\"], [0.3333333333333333, \"#9c179e\"], [0.4444444444444444, \"#bd3786\"], [0.5555555555555556, \"#d8576b\"], [0.6666666666666666, \"#ed7953\"], [0.7777777777777778, \"#fb9f3a\"], [0.8888888888888888, \"#fdca26\"], [1.0, \"#f0f921\"]], \"sequentialminus\": [[0.0, \"#0d0887\"], [0.1111111111111111, \"#46039f\"], [0.2222222222222222, \"#7201a8\"], [0.3333333333333333, \"#9c179e\"], [0.4444444444444444, \"#bd3786\"], [0.5555555555555556, \"#d8576b\"], [0.6666666666666666, \"#ed7953\"], [0.7777777777777778, \"#fb9f3a\"], [0.8888888888888888, \"#fdca26\"], [1.0, \"#f0f921\"]]}, \"colorway\": [\"#636efa\", \"#EF553B\", \"#00cc96\", \"#ab63fa\", \"#FFA15A\", \"#19d3f3\", \"#FF6692\", \"#B6E880\", \"#FF97FF\", \"#FECB52\"], \"font\": {\"color\": \"#2a3f5f\"}, \"geo\": {\"bgcolor\": \"white\", \"lakecolor\": \"white\", \"landcolor\": \"#E5ECF6\", \"showlakes\": true, \"showland\": true, \"subunitcolor\": \"white\"}, \"hoverlabel\": {\"align\": \"left\"}, \"hovermode\": \"closest\", \"mapbox\": {\"style\": \"light\"}, \"paper_bgcolor\": \"white\", \"plot_bgcolor\": \"#E5ECF6\", \"polar\": {\"angularaxis\": {\"gridcolor\": \"white\", \"linecolor\": \"white\", \"ticks\": \"\"}, \"bgcolor\": \"#E5ECF6\", \"radialaxis\": {\"gridcolor\": \"white\", \"linecolor\": \"white\", \"ticks\": \"\"}}, \"scene\": {\"xaxis\": {\"backgroundcolor\": \"#E5ECF6\", \"gridcolor\": \"white\", \"gridwidth\": 2, \"linecolor\": \"white\", \"showbackground\": true, \"ticks\": \"\", \"zerolinecolor\": \"white\"}, \"yaxis\": {\"backgroundcolor\": \"#E5ECF6\", \"gridcolor\": \"white\", \"gridwidth\": 2, \"linecolor\": \"white\", \"showbackground\": true, \"ticks\": \"\", \"zerolinecolor\": \"white\"}, \"zaxis\": {\"backgroundcolor\": \"#E5ECF6\", \"gridcolor\": \"white\", \"gridwidth\": 2, \"linecolor\": \"white\", \"showbackground\": true, \"ticks\": \"\", \"zerolinecolor\": \"white\"}}, \"shapedefaults\": {\"line\": {\"color\": \"#2a3f5f\"}}, \"ternary\": {\"aaxis\": {\"gridcolor\": \"white\", \"linecolor\": \"white\", \"ticks\": \"\"}, \"baxis\": {\"gridcolor\": \"white\", \"linecolor\": \"white\", \"ticks\": \"\"}, \"bgcolor\": \"#E5ECF6\", \"caxis\": {\"gridcolor\": \"white\", \"linecolor\": \"white\", \"ticks\": \"\"}}, \"title\": {\"x\": 0.05}, \"xaxis\": {\"automargin\": true, \"gridcolor\": \"white\", \"linecolor\": \"white\", \"ticks\": \"\", \"zerolinecolor\": \"white\", \"zerolinewidth\": 2}, \"yaxis\": {\"automargin\": true, \"gridcolor\": \"white\", \"linecolor\": \"white\", \"ticks\": \"\", \"zerolinecolor\": \"white\", \"zerolinewidth\": 2}}}, \"title\": {\"text\": \"Linear Regression y = 0.9130*x + 0.3043\"}, \"xaxis\": {\"title\": {\"text\": \"Bablevesek sz\\u00e1ma\"}}, \"yaxis\": {\"title\": {\"text\": \"K\\u00e1posztaf\\u0151zel\\u00e9kek sz\\u00e1ma\"}}},\n",
              "                        {\"responsive\": true}\n",
              "                    ).then(function(){\n",
              "                            \n",
              "var gd = document.getElementById('9dbdc091-9cb8-4e44-8424-7d13b811133f');\n",
              "var x = new MutationObserver(function (mutations, observer) {{\n",
              "        var display = window.getComputedStyle(gd).display;\n",
              "        if (!display || display === 'none') {{\n",
              "            console.log([gd, 'removed!']);\n",
              "            Plotly.purge(gd);\n",
              "            observer.disconnect();\n",
              "        }}\n",
              "}});\n",
              "\n",
              "// Listen for the removal of the full notebook cells\n",
              "var notebookContainer = gd.closest('#notebook-container');\n",
              "if (notebookContainer) {{\n",
              "    x.observe(notebookContainer, {childList: true});\n",
              "}}\n",
              "\n",
              "// Listen for the clearing of the current output cell\n",
              "var outputEl = gd.closest('.output');\n",
              "if (outputEl) {{\n",
              "    x.observe(outputEl, {childList: true});\n",
              "}}\n",
              "\n",
              "                        })\n",
              "                };\n",
              "                });\n",
              "            </script>\n",
              "        </div>"
            ]
          },
          "metadata": {
            "tags": []
          }
        }
      ]
    },
    {
      "cell_type": "markdown",
      "metadata": {
        "id": "qDHpHW-8JW-X",
        "colab_type": "text"
      },
      "source": [
        "[Return to top](#top)"
      ]
    },
    {
      "cell_type": "markdown",
      "metadata": {
        "id": "RTzl4WdLm6U-",
        "colab_type": "text"
      },
      "source": [
        "<a id = \"11\"></a>"
      ]
    },
    {
      "cell_type": "markdown",
      "metadata": {
        "id": "waSMY2ISumZ6",
        "colab_type": "text"
      },
      "source": [
        "<div class=\"section\">\n",
        "11. hét\n",
        "</div>"
      ]
    },
    {
      "cell_type": "code",
      "metadata": {
        "id": "y4-Lv0WdU4un",
        "colab_type": "code",
        "outputId": "b67529a1-dbd4-4bd0-e5a6-a8025a6c78c3",
        "colab": {
          "base_uri": "https://localhost:8080/",
          "height": 497
        }
      },
      "source": [
        "YouTubeVideo('wiYJWyfdGg4', width=724, height=476)"
      ],
      "execution_count": 0,
      "outputs": [
        {
          "output_type": "execute_result",
          "data": {
            "text/html": [
              "\n",
              "        <iframe\n",
              "            width=\"724\"\n",
              "            height=\"476\"\n",
              "            src=\"https://www.youtube.com/embed/wiYJWyfdGg4\"\n",
              "            frameborder=\"0\"\n",
              "            allowfullscreen\n",
              "        ></iframe>\n",
              "        "
            ],
            "text/plain": [
              "<IPython.lib.display.YouTubeVideo at 0x7f3373c05e10>"
            ],
            "image/jpeg": "[encoded data removed]"
          },
          "metadata": {
            "tags": []
          },
          "execution_count": 6
        }
      ]
    },
    {
      "cell_type": "code",
      "metadata": {
        "id": "WjGBh0qrVMNj",
        "colab_type": "code",
        "outputId": "8039be1e-0c85-4851-bfb3-c0ba35bf15d8",
        "colab": {
          "base_uri": "https://localhost:8080/",
          "height": 497
        }
      },
      "source": [
        "YouTubeVideo('9yQm9F2_yIk', width=724, height=476)"
      ],
      "execution_count": 0,
      "outputs": [
        {
          "output_type": "execute_result",
          "data": {
            "text/html": [
              "\n",
              "        <iframe\n",
              "            width=\"724\"\n",
              "            height=\"476\"\n",
              "            src=\"https://www.youtube.com/embed/9yQm9F2_yIk\"\n",
              "            frameborder=\"0\"\n",
              "            allowfullscreen\n",
              "        ></iframe>\n",
              "        "
            ],
            "text/plain": [
              "<IPython.lib.display.YouTubeVideo at 0x7f3373c05dd8>"
            ],
            "image/jpeg": "[encoded data removed]"
          },
          "metadata": {
            "tags": []
          },
          "execution_count": 7
        }
      ]
    },
    {
      "cell_type": "markdown",
      "metadata": {
        "id": "jKIE7-HgPb9Q",
        "colab_type": "text"
      },
      "source": [
        "<html>\n",
        "<table class=\"fl-table\">\n",
        "        <thead>\n",
        "        <tr>\n",
        "            <th></th>\n",
        "            <th>Reject $H_0$</th>\n",
        "            <th>Fail to Reject $H_0$</th>\n",
        "        </tr>\n",
        "        </thead>\n",
        "        <tbody>\n",
        "        <tr>\n",
        "            <td>Reality:<br />\n",
        "            $H_0$ is True</td>\n",
        "            <td class=\"red_text\">Type I error<br />\n",
        "            (probability = $\\alpha$)</td>\n",
        "            <td class=\"green_text\">Probability = $1-\\alpha$\n",
        "            </td>\n",
        "        </tr>\n",
        "        <tr>\n",
        "            <td>Reality:<br />\n",
        "            $H_0$ is False</td>\n",
        "            <td class=\"green_text\">Power $(1-\\beta)$</td>\n",
        "            <td class=\"red_text\">Type II error<br />\n",
        "            (probability = $\\beta$)</td>\n",
        "        </tr>\n",
        "        <tbody>\n",
        "</table>\n",
        "</html>\n"
      ]
    },
    {
      "cell_type": "code",
      "metadata": {
        "id": "yq53Imq0G9Wz",
        "colab_type": "code",
        "colab": {}
      },
      "source": [
        "#HTML('<iframe src=\"https://www.psychologyinaction.org/psychology-in-action-1/2015/03/11/an-illustrative-guide-to-statistical-power-alpha-beta-and-critical-values\" width=\"850\" height=\"450\"></iframe>')"
      ],
      "execution_count": 0,
      "outputs": []
    },
    {
      "cell_type": "markdown",
      "metadata": {
        "id": "OEgtymWiuQwu",
        "colab_type": "text"
      },
      "source": [
        "Cowles, M., & Davis, C. (1982). On the origins of the $.05$ level of statistical significance. *American Psychologist*, 37(5), 553-558."
      ]
    },
    {
      "cell_type": "code",
      "metadata": {
        "id": "gQ5X3j9euRs_",
        "colab_type": "code",
        "colab": {
          "base_uri": "https://localhost:8080/",
          "height": 475
        },
        "outputId": "bb7926fe-9707-4789-a428-4f9985dbed24"
      },
      "source": [
        "HTML('<iframe src=\"https://drive.google.com/file/d/1hFdnjqUR6jDXNeJqRXChAfPcyBt2M8cp/preview\" width=\"850\" height=\"450\"></iframe>')"
      ],
      "execution_count": 8,
      "outputs": [
        {
          "output_type": "execute_result",
          "data": {
            "text/html": [
              "<iframe src=\"https://drive.google.com/file/d/1hFdnjqUR6jDXNeJqRXChAfPcyBt2M8cp/preview\" width=\"850\" height=\"450\"></iframe>"
            ],
            "text/plain": [
              "<IPython.core.display.HTML object>"
            ]
          },
          "metadata": {
            "tags": []
          },
          "execution_count": 8
        }
      ]
    },
    {
      "cell_type": "code",
      "metadata": {
        "id": "lLgT5OTMVfuu",
        "colab_type": "code",
        "outputId": "7e40ba87-4fad-4995-f8ae-b6cb280c329e",
        "colab": {
          "base_uri": "https://localhost:8080/",
          "height": 497
        }
      },
      "source": [
        "YouTubeVideo('XHPIEp-3yC0', width=724, height=476)"
      ],
      "execution_count": 0,
      "outputs": [
        {
          "output_type": "execute_result",
          "data": {
            "text/html": [
              "\n",
              "        <iframe\n",
              "            width=\"724\"\n",
              "            height=\"476\"\n",
              "            src=\"https://www.youtube.com/embed/XHPIEp-3yC0\"\n",
              "            frameborder=\"0\"\n",
              "            allowfullscreen\n",
              "        ></iframe>\n",
              "        "
            ],
            "text/plain": [
              "<IPython.lib.display.YouTubeVideo at 0x7f3393c92a90>"
            ],
            "image/jpeg": "[encoded data removed]"
          },
          "metadata": {
            "tags": []
          },
          "execution_count": 8
        }
      ]
    },
    {
      "cell_type": "code",
      "metadata": {
        "id": "ubmjxpA5k8dq",
        "colab_type": "code",
        "outputId": "a4cdafc9-ab27-418e-f8c4-8b92e8d55a3e",
        "colab": {
          "base_uri": "https://localhost:8080/",
          "height": 497
        }
      },
      "source": [
        "YouTubeVideo('Hag0GW9B6EY', width=724, height=476)"
      ],
      "execution_count": 0,
      "outputs": [
        {
          "output_type": "execute_result",
          "data": {
            "text/html": [
              "\n",
              "        <iframe\n",
              "            width=\"724\"\n",
              "            height=\"476\"\n",
              "            src=\"https://www.youtube.com/embed/Hag0GW9B6EY\"\n",
              "            frameborder=\"0\"\n",
              "            allowfullscreen\n",
              "        ></iframe>\n",
              "        "
            ],
            "text/plain": [
              "<IPython.lib.display.YouTubeVideo at 0x7f3373c05c50>"
            ],
            "image/jpeg": "[encoded data removed]"
          },
          "metadata": {
            "tags": []
          },
          "execution_count": 9
        }
      ]
    },
    {
      "cell_type": "code",
      "metadata": {
        "id": "s7qjbRfsoUwT",
        "colab_type": "code",
        "outputId": "c1307b3b-9536-4981-9af3-c8207e729416",
        "colab": {
          "base_uri": "https://localhost:8080/",
          "height": 497
        }
      },
      "source": [
        "YouTubeVideo('zJ8e_wAWUzE', width=724, height=476)"
      ],
      "execution_count": 0,
      "outputs": [
        {
          "output_type": "execute_result",
          "data": {
            "text/html": [
              "\n",
              "        <iframe\n",
              "            width=\"724\"\n",
              "            height=\"476\"\n",
              "            src=\"https://www.youtube.com/embed/zJ8e_wAWUzE\"\n",
              "            frameborder=\"0\"\n",
              "            allowfullscreen\n",
              "        ></iframe>\n",
              "        "
            ],
            "text/plain": [
              "<IPython.lib.display.YouTubeVideo at 0x7f3353183b00>"
            ],
            "image/jpeg": "[encoded data removed]"
          },
          "metadata": {
            "tags": []
          },
          "execution_count": 10
        }
      ]
    },
    {
      "cell_type": "code",
      "metadata": {
        "id": "b3xBgYn9pbhX",
        "colab_type": "code",
        "outputId": "20ae3449-e66b-418d-975b-0a9a4af220b9",
        "colab": {
          "base_uri": "https://localhost:8080/",
          "height": 497
        }
      },
      "source": [
        "YouTubeVideo('8Aw45HN5lnA', width=724, height=476)"
      ],
      "execution_count": 0,
      "outputs": [
        {
          "output_type": "execute_result",
          "data": {
            "text/html": [
              "\n",
              "        <iframe\n",
              "            width=\"724\"\n",
              "            height=\"476\"\n",
              "            src=\"https://www.youtube.com/embed/8Aw45HN5lnA\"\n",
              "            frameborder=\"0\"\n",
              "            allowfullscreen\n",
              "        ></iframe>\n",
              "        "
            ],
            "text/plain": [
              "<IPython.lib.display.YouTubeVideo at 0x7ff833441240>"
            ],
            "image/jpeg": "[encoded data removed]"
          },
          "metadata": {
            "tags": []
          },
          "execution_count": 6
        }
      ]
    },
    {
      "cell_type": "code",
      "metadata": {
        "id": "6fKH770r3bUh",
        "colab_type": "code",
        "outputId": "0a0c7d2e-04c2-416c-c0c2-3d1ee270618f",
        "colab": {
          "base_uri": "https://localhost:8080/",
          "height": 497
        }
      },
      "source": [
        "YouTubeVideo('UcZwyzwWU7o', width=724, height=476)"
      ],
      "execution_count": 0,
      "outputs": [
        {
          "output_type": "execute_result",
          "data": {
            "text/html": [
              "\n",
              "        <iframe\n",
              "            width=\"724\"\n",
              "            height=\"476\"\n",
              "            src=\"https://www.youtube.com/embed/UcZwyzwWU7o\"\n",
              "            frameborder=\"0\"\n",
              "            allowfullscreen\n",
              "        ></iframe>\n",
              "        "
            ],
            "text/plain": [
              "<IPython.lib.display.YouTubeVideo at 0x7fcf32fa6cf8>"
            ],
            "image/jpeg": "[encoded data removed]"
          },
          "metadata": {
            "tags": []
          },
          "execution_count": 6
        }
      ]
    },
    {
      "cell_type": "code",
      "metadata": {
        "colab_type": "code",
        "outputId": "36673f1e-724c-4181-a439-1e4458c52983",
        "id": "_YcwqskzQuVZ",
        "colab": {
          "base_uri": "https://localhost:8080/",
          "height": 497
        }
      },
      "source": [
        "YouTubeVideo('GDe4M0xEghs', width=724, height=476)"
      ],
      "execution_count": 0,
      "outputs": [
        {
          "output_type": "execute_result",
          "data": {
            "text/html": [
              "\n",
              "        <iframe\n",
              "            width=\"724\"\n",
              "            height=\"476\"\n",
              "            src=\"https://www.youtube.com/embed/GDe4M0xEghs\"\n",
              "            frameborder=\"0\"\n",
              "            allowfullscreen\n",
              "        ></iframe>\n",
              "        "
            ],
            "text/plain": [
              "<IPython.lib.display.YouTubeVideo at 0x7f0b9adfc748>"
            ],
            "image/jpeg": "[encoded data removed]"
          },
          "metadata": {
            "tags": []
          },
          "execution_count": 8
        }
      ]
    },
    {
      "cell_type": "code",
      "metadata": {
        "id": "PY0tfiEoWTE-",
        "colab_type": "code",
        "outputId": "ccb6d98f-3f04-4e73-e7e4-1fde81290132",
        "colab": {
          "base_uri": "https://localhost:8080/",
          "height": 497
        }
      },
      "source": [
        "YouTubeVideo('HKDqlYSLt68', width=724, height=476)"
      ],
      "execution_count": 0,
      "outputs": [
        {
          "output_type": "execute_result",
          "data": {
            "text/html": [
              "\n",
              "        <iframe\n",
              "            width=\"724\"\n",
              "            height=\"476\"\n",
              "            src=\"https://www.youtube.com/embed/HKDqlYSLt68\"\n",
              "            frameborder=\"0\"\n",
              "            allowfullscreen\n",
              "        ></iframe>\n",
              "        "
            ],
            "text/plain": [
              "<IPython.lib.display.YouTubeVideo at 0x7f69f379bb70>"
            ],
            "image/jpeg": "[encoded data removed]"
          },
          "metadata": {
            "tags": []
          },
          "execution_count": 59
        }
      ]
    },
    {
      "cell_type": "code",
      "metadata": {
        "id": "54HoUns6W3Do",
        "colab_type": "code",
        "outputId": "a1693466-900a-418e-e854-704e51ba73f4",
        "colab": {
          "base_uri": "https://localhost:8080/",
          "height": 497
        }
      },
      "source": [
        "YouTubeVideo('O6a76Dnn104', width=724, height=476)"
      ],
      "execution_count": 0,
      "outputs": [
        {
          "output_type": "execute_result",
          "data": {
            "text/html": [
              "\n",
              "        <iframe\n",
              "            width=\"724\"\n",
              "            height=\"476\"\n",
              "            src=\"https://www.youtube.com/embed/O6a76Dnn104\"\n",
              "            frameborder=\"0\"\n",
              "            allowfullscreen\n",
              "        ></iframe>\n",
              "        "
            ],
            "text/plain": [
              "<IPython.lib.display.YouTubeVideo at 0x7f69f388a4e0>"
            ],
            "image/jpeg": "[encoded data removed]"
          },
          "metadata": {
            "tags": []
          },
          "execution_count": 60
        }
      ]
    },
    {
      "cell_type": "markdown",
      "metadata": {
        "id": "UjfSRuLTh2Ph",
        "colab_type": "text"
      },
      "source": [
        "![Decision tree](https://drive.google.com/uc?id=1OW-y2gdss3EiwapRUhC3rDHwqsS4Yq1f)"
      ]
    },
    {
      "cell_type": "markdown",
      "metadata": {
        "id": "yeadHkjnm8sh",
        "colab_type": "text"
      },
      "source": [
        "<a id = \"11.1\"></a>"
      ]
    },
    {
      "cell_type": "markdown",
      "metadata": {
        "colab_type": "text",
        "id": "ivmhZiY-yIXi"
      },
      "source": [
        "<div class=\"feladat\">\n",
        "1. Feladat\n",
        "</div>"
      ]
    },
    {
      "cell_type": "markdown",
      "metadata": {
        "id": "X5eEyDBsnPjp",
        "colab_type": "text"
      },
      "source": [
        "<div class=\"exercises\">\n",
        "A statisztika tanár gondol egyet és megméri egyik gyakorlati \n",
        "csoportjában a fiúk magasságát és a következő eredményeket kapja\n",
        "<br />\n",
        "176,174,173,175,186,191,180,200,176,188,189,163,167,175,195\n",
        "<br />\n",
        "a) Adja meg 10-es lépésközzel, a gyakoriság hisztogramot, sűrűség hisztogramot.\n",
        "<br />\n",
        "b) Adjuk meg a tapasztalati eloszlásfüggvényt.\n",
        "<br />\n",
        "c) A rendelkezésre álló adatok alapján adja meg a férfiak magasságának empirikus várható értékét, empirikus szórásnégyzetét, korrigált empirikus szórásnégyzetét.\n",
        "<br />\n",
        "d) Melyik statisztika torzítatlan, aszimptotikusan torzítatlan, a két szórásnégyzet közül melyik hatékonyabb?\n",
        "<br />\n",
        "e) A fenti mintából adjon 95%-os megbízhatósági szintű konfidencia intervallumot a férfiak magasságának várható értékére.\n",
        "</div>"
      ]
    },
    {
      "cell_type": "markdown",
      "metadata": {
        "id": "jxqnYmOipt0y",
        "colab_type": "text"
      },
      "source": [
        "<a id = \"11.1.1\"></a>\n",
        "<div class=\"solution\">Megoldás.</div>"
      ]
    },
    {
      "cell_type": "markdown",
      "metadata": {
        "id": "xfs5dQ4DpvaK",
        "colab_type": "text"
      },
      "source": [
        "<a id = \"11.1.a\"></a>\n",
        "a) gyakoriság hisztogram, sűrűség hisztogram"
      ]
    },
    {
      "cell_type": "code",
      "metadata": {
        "id": "1nNcHAe8p9sF",
        "colab_type": "code",
        "colab": {}
      },
      "source": [
        "datalist = [176,174,173,175,186,191,180,200,176,188,189,163,167,175,195]"
      ],
      "execution_count": 0,
      "outputs": []
    },
    {
      "cell_type": "code",
      "metadata": {
        "id": "5OCVaw8BqH4U",
        "colab_type": "code",
        "outputId": "37e72fd4-7077-4464-f3bf-f708c4726fdb",
        "colab": {
          "base_uri": "https://localhost:8080/",
          "height": 542
        }
      },
      "source": [
        "trace1 = go.Histogram(histfunc=\"count\",  x=datalist, name=\"count\")\n",
        "trace2 = go.Histogram(histnorm=\"probability\", x=datalist, name=\"probability\")\n",
        "\n",
        "data = [trace1, trace2]\n",
        "\n",
        "layout = dict(\n",
        "        title_text='Magasság', # title of plot\n",
        "        xaxis_title_text='cm', # xaxis label\n",
        "        #yaxis_title_text='Count', # yaxis label\n",
        "        bargap=0.2, # gap between bars of adjacent location coordinates\n",
        "        bargroupgap=0.1 # gap between bars of the same location coordinates\n",
        "    )\n",
        "\n",
        "# Make figure\n",
        "fig = go.Figure(data=data, layout=layout)\n",
        "\n",
        "fig.show()"
      ],
      "execution_count": 34,
      "outputs": [
        {
          "output_type": "display_data",
          "data": {
            "text/html": [
              "<div>\n",
              "        \n",
              "        \n",
              "            <div id=\"b49b32b8-22fa-472f-bc12-5dc4c9889f96\" class=\"plotly-graph-div\" style=\"height:525px; width:100%;\"></div>\n",
              "            <script type=\"text/javascript\">\n",
              "                require([\"plotly\"], function(Plotly) {\n",
              "                    window.PLOTLYENV=window.PLOTLYENV || {};\n",
              "                    \n",
              "                if (document.getElementById(\"b49b32b8-22fa-472f-bc12-5dc4c9889f96\")) {\n",
              "                    Plotly.newPlot(\n",
              "                        'b49b32b8-22fa-472f-bc12-5dc4c9889f96',\n",
              "                        [{\"histfunc\": \"count\", \"name\": \"count\", \"type\": \"histogram\", \"x\": [176, 174, 173, 175, 186, 191, 180, 200, 176, 188, 189, 163, 167, 175, 195]}, {\"histnorm\": \"probability\", \"name\": \"probability\", \"type\": \"histogram\", \"x\": [176, 174, 173, 175, 186, 191, 180, 200, 176, 188, 189, 163, 167, 175, 195]}],\n",
              "                        {\"bargap\": 0.2, \"bargroupgap\": 0.1, \"template\": {\"data\": {\"bar\": [{\"error_x\": {\"color\": \"#2a3f5f\"}, \"error_y\": {\"color\": \"#2a3f5f\"}, \"marker\": {\"line\": {\"color\": \"#E5ECF6\", \"width\": 0.5}}, \"type\": \"bar\"}], \"barpolar\": [{\"marker\": {\"line\": {\"color\": \"#E5ECF6\", \"width\": 0.5}}, \"type\": \"barpolar\"}], \"carpet\": [{\"aaxis\": {\"endlinecolor\": \"#2a3f5f\", \"gridcolor\": \"white\", \"linecolor\": \"white\", \"minorgridcolor\": \"white\", \"startlinecolor\": \"#2a3f5f\"}, \"baxis\": {\"endlinecolor\": \"#2a3f5f\", \"gridcolor\": \"white\", \"linecolor\": \"white\", \"minorgridcolor\": \"white\", \"startlinecolor\": \"#2a3f5f\"}, \"type\": \"carpet\"}], \"choropleth\": [{\"colorbar\": {\"outlinewidth\": 0, \"ticks\": \"\"}, \"type\": \"choropleth\"}], \"contour\": [{\"colorbar\": {\"outlinewidth\": 0, \"ticks\": \"\"}, \"colorscale\": [[0.0, \"#0d0887\"], [0.1111111111111111, \"#46039f\"], [0.2222222222222222, \"#7201a8\"], [0.3333333333333333, \"#9c179e\"], [0.4444444444444444, \"#bd3786\"], [0.5555555555555556, \"#d8576b\"], [0.6666666666666666, \"#ed7953\"], [0.7777777777777778, \"#fb9f3a\"], [0.8888888888888888, \"#fdca26\"], [1.0, \"#f0f921\"]], \"type\": \"contour\"}], \"contourcarpet\": [{\"colorbar\": {\"outlinewidth\": 0, \"ticks\": \"\"}, \"type\": \"contourcarpet\"}], \"heatmap\": [{\"colorbar\": {\"outlinewidth\": 0, \"ticks\": \"\"}, \"colorscale\": [[0.0, \"#0d0887\"], [0.1111111111111111, \"#46039f\"], [0.2222222222222222, \"#7201a8\"], [0.3333333333333333, \"#9c179e\"], [0.4444444444444444, \"#bd3786\"], [0.5555555555555556, \"#d8576b\"], [0.6666666666666666, \"#ed7953\"], [0.7777777777777778, \"#fb9f3a\"], [0.8888888888888888, \"#fdca26\"], [1.0, \"#f0f921\"]], \"type\": \"heatmap\"}], \"heatmapgl\": [{\"colorbar\": {\"outlinewidth\": 0, \"ticks\": \"\"}, \"colorscale\": [[0.0, \"#0d0887\"], [0.1111111111111111, \"#46039f\"], [0.2222222222222222, \"#7201a8\"], [0.3333333333333333, \"#9c179e\"], [0.4444444444444444, \"#bd3786\"], [0.5555555555555556, \"#d8576b\"], [0.6666666666666666, \"#ed7953\"], [0.7777777777777778, \"#fb9f3a\"], [0.8888888888888888, \"#fdca26\"], [1.0, \"#f0f921\"]], \"type\": \"heatmapgl\"}], \"histogram\": [{\"marker\": {\"colorbar\": {\"outlinewidth\": 0, \"ticks\": \"\"}}, \"type\": \"histogram\"}], \"histogram2d\": [{\"colorbar\": {\"outlinewidth\": 0, \"ticks\": \"\"}, \"colorscale\": [[0.0, \"#0d0887\"], [0.1111111111111111, \"#46039f\"], [0.2222222222222222, \"#7201a8\"], [0.3333333333333333, \"#9c179e\"], [0.4444444444444444, \"#bd3786\"], [0.5555555555555556, \"#d8576b\"], [0.6666666666666666, \"#ed7953\"], [0.7777777777777778, \"#fb9f3a\"], [0.8888888888888888, \"#fdca26\"], [1.0, \"#f0f921\"]], \"type\": \"histogram2d\"}], \"histogram2dcontour\": [{\"colorbar\": {\"outlinewidth\": 0, \"ticks\": \"\"}, \"colorscale\": [[0.0, \"#0d0887\"], [0.1111111111111111, \"#46039f\"], [0.2222222222222222, \"#7201a8\"], [0.3333333333333333, \"#9c179e\"], [0.4444444444444444, \"#bd3786\"], [0.5555555555555556, \"#d8576b\"], [0.6666666666666666, \"#ed7953\"], [0.7777777777777778, \"#fb9f3a\"], [0.8888888888888888, \"#fdca26\"], [1.0, \"#f0f921\"]], \"type\": \"histogram2dcontour\"}], \"mesh3d\": [{\"colorbar\": {\"outlinewidth\": 0, \"ticks\": \"\"}, \"type\": \"mesh3d\"}], \"parcoords\": [{\"line\": {\"colorbar\": {\"outlinewidth\": 0, \"ticks\": \"\"}}, \"type\": \"parcoords\"}], \"scatter\": [{\"marker\": {\"colorbar\": {\"outlinewidth\": 0, \"ticks\": \"\"}}, \"type\": \"scatter\"}], \"scatter3d\": [{\"line\": {\"colorbar\": {\"outlinewidth\": 0, \"ticks\": \"\"}}, \"marker\": {\"colorbar\": {\"outlinewidth\": 0, \"ticks\": \"\"}}, \"type\": \"scatter3d\"}], \"scattercarpet\": [{\"marker\": {\"colorbar\": {\"outlinewidth\": 0, \"ticks\": \"\"}}, \"type\": \"scattercarpet\"}], \"scattergeo\": [{\"marker\": {\"colorbar\": {\"outlinewidth\": 0, \"ticks\": \"\"}}, \"type\": \"scattergeo\"}], \"scattergl\": [{\"marker\": {\"colorbar\": {\"outlinewidth\": 0, \"ticks\": \"\"}}, \"type\": \"scattergl\"}], \"scattermapbox\": [{\"marker\": {\"colorbar\": {\"outlinewidth\": 0, \"ticks\": \"\"}}, \"type\": \"scattermapbox\"}], \"scatterpolar\": [{\"marker\": {\"colorbar\": {\"outlinewidth\": 0, \"ticks\": \"\"}}, \"type\": \"scatterpolar\"}], \"scatterpolargl\": [{\"marker\": {\"colorbar\": {\"outlinewidth\": 0, \"ticks\": \"\"}}, \"type\": \"scatterpolargl\"}], \"scatterternary\": [{\"marker\": {\"colorbar\": {\"outlinewidth\": 0, \"ticks\": \"\"}}, \"type\": \"scatterternary\"}], \"surface\": [{\"colorbar\": {\"outlinewidth\": 0, \"ticks\": \"\"}, \"colorscale\": [[0.0, \"#0d0887\"], [0.1111111111111111, \"#46039f\"], [0.2222222222222222, \"#7201a8\"], [0.3333333333333333, \"#9c179e\"], [0.4444444444444444, \"#bd3786\"], [0.5555555555555556, \"#d8576b\"], [0.6666666666666666, \"#ed7953\"], [0.7777777777777778, \"#fb9f3a\"], [0.8888888888888888, \"#fdca26\"], [1.0, \"#f0f921\"]], \"type\": \"surface\"}], \"table\": [{\"cells\": {\"fill\": {\"color\": \"#EBF0F8\"}, \"line\": {\"color\": \"white\"}}, \"header\": {\"fill\": {\"color\": \"#C8D4E3\"}, \"line\": {\"color\": \"white\"}}, \"type\": \"table\"}]}, \"layout\": {\"annotationdefaults\": {\"arrowcolor\": \"#2a3f5f\", \"arrowhead\": 0, \"arrowwidth\": 1}, \"colorscale\": {\"diverging\": [[0, \"#8e0152\"], [0.1, \"#c51b7d\"], [0.2, \"#de77ae\"], [0.3, \"#f1b6da\"], [0.4, \"#fde0ef\"], [0.5, \"#f7f7f7\"], [0.6, \"#e6f5d0\"], [0.7, \"#b8e186\"], [0.8, \"#7fbc41\"], [0.9, \"#4d9221\"], [1, \"#276419\"]], \"sequential\": [[0.0, \"#0d0887\"], [0.1111111111111111, \"#46039f\"], [0.2222222222222222, \"#7201a8\"], [0.3333333333333333, \"#9c179e\"], [0.4444444444444444, \"#bd3786\"], [0.5555555555555556, \"#d8576b\"], [0.6666666666666666, \"#ed7953\"], [0.7777777777777778, \"#fb9f3a\"], [0.8888888888888888, \"#fdca26\"], [1.0, \"#f0f921\"]], \"sequentialminus\": [[0.0, \"#0d0887\"], [0.1111111111111111, \"#46039f\"], [0.2222222222222222, \"#7201a8\"], [0.3333333333333333, \"#9c179e\"], [0.4444444444444444, \"#bd3786\"], [0.5555555555555556, \"#d8576b\"], [0.6666666666666666, \"#ed7953\"], [0.7777777777777778, \"#fb9f3a\"], [0.8888888888888888, \"#fdca26\"], [1.0, \"#f0f921\"]]}, \"colorway\": [\"#636efa\", \"#EF553B\", \"#00cc96\", \"#ab63fa\", \"#FFA15A\", \"#19d3f3\", \"#FF6692\", \"#B6E880\", \"#FF97FF\", \"#FECB52\"], \"font\": {\"color\": \"#2a3f5f\"}, \"geo\": {\"bgcolor\": \"white\", \"lakecolor\": \"white\", \"landcolor\": \"#E5ECF6\", \"showlakes\": true, \"showland\": true, \"subunitcolor\": \"white\"}, \"hoverlabel\": {\"align\": \"left\"}, \"hovermode\": \"closest\", \"mapbox\": {\"style\": \"light\"}, \"paper_bgcolor\": \"white\", \"plot_bgcolor\": \"#E5ECF6\", \"polar\": {\"angularaxis\": {\"gridcolor\": \"white\", \"linecolor\": \"white\", \"ticks\": \"\"}, \"bgcolor\": \"#E5ECF6\", \"radialaxis\": {\"gridcolor\": \"white\", \"linecolor\": \"white\", \"ticks\": \"\"}}, \"scene\": {\"xaxis\": {\"backgroundcolor\": \"#E5ECF6\", \"gridcolor\": \"white\", \"gridwidth\": 2, \"linecolor\": \"white\", \"showbackground\": true, \"ticks\": \"\", \"zerolinecolor\": \"white\"}, \"yaxis\": {\"backgroundcolor\": \"#E5ECF6\", \"gridcolor\": \"white\", \"gridwidth\": 2, \"linecolor\": \"white\", \"showbackground\": true, \"ticks\": \"\", \"zerolinecolor\": \"white\"}, \"zaxis\": {\"backgroundcolor\": \"#E5ECF6\", \"gridcolor\": \"white\", \"gridwidth\": 2, \"linecolor\": \"white\", \"showbackground\": true, \"ticks\": \"\", \"zerolinecolor\": \"white\"}}, \"shapedefaults\": {\"line\": {\"color\": \"#2a3f5f\"}}, \"ternary\": {\"aaxis\": {\"gridcolor\": \"white\", \"linecolor\": \"white\", \"ticks\": \"\"}, \"baxis\": {\"gridcolor\": \"white\", \"linecolor\": \"white\", \"ticks\": \"\"}, \"bgcolor\": \"#E5ECF6\", \"caxis\": {\"gridcolor\": \"white\", \"linecolor\": \"white\", \"ticks\": \"\"}}, \"title\": {\"x\": 0.05}, \"xaxis\": {\"automargin\": true, \"gridcolor\": \"white\", \"linecolor\": \"white\", \"ticks\": \"\", \"zerolinecolor\": \"white\", \"zerolinewidth\": 2}, \"yaxis\": {\"automargin\": true, \"gridcolor\": \"white\", \"linecolor\": \"white\", \"ticks\": \"\", \"zerolinecolor\": \"white\", \"zerolinewidth\": 2}}}, \"title\": {\"text\": \"Magass\\u00e1g\"}, \"xaxis\": {\"title\": {\"text\": \"cm\"}}},\n",
              "                        {\"responsive\": true}\n",
              "                    ).then(function(){\n",
              "                            \n",
              "var gd = document.getElementById('b49b32b8-22fa-472f-bc12-5dc4c9889f96');\n",
              "var x = new MutationObserver(function (mutations, observer) {{\n",
              "        var display = window.getComputedStyle(gd).display;\n",
              "        if (!display || display === 'none') {{\n",
              "            console.log([gd, 'removed!']);\n",
              "            Plotly.purge(gd);\n",
              "            observer.disconnect();\n",
              "        }}\n",
              "}});\n",
              "\n",
              "// Listen for the removal of the full notebook cells\n",
              "var notebookContainer = gd.closest('#notebook-container');\n",
              "if (notebookContainer) {{\n",
              "    x.observe(notebookContainer, {childList: true});\n",
              "}}\n",
              "\n",
              "// Listen for the clearing of the current output cell\n",
              "var outputEl = gd.closest('.output');\n",
              "if (outputEl) {{\n",
              "    x.observe(outputEl, {childList: true});\n",
              "}}\n",
              "\n",
              "                        })\n",
              "                };\n",
              "                });\n",
              "            </script>\n",
              "        </div>"
            ]
          },
          "metadata": {
            "tags": []
          }
        }
      ]
    },
    {
      "cell_type": "markdown",
      "metadata": {
        "id": "8NPspDfWM4Ni",
        "colab_type": "text"
      },
      "source": [
        "[Return to top](#top)"
      ]
    },
    {
      "cell_type": "markdown",
      "metadata": {
        "id": "5qErGSWxq0jl",
        "colab_type": "text"
      },
      "source": [
        "<a id = \"11.1.b\"></a>\n",
        "b) tapasztalati eloszlásfüggvény"
      ]
    },
    {
      "cell_type": "code",
      "metadata": {
        "id": "M7xOU27Dq2Sf",
        "colab_type": "code",
        "outputId": "98b5b5f8-c6df-4527-c187-b84bf150fc47",
        "colab": {
          "base_uri": "https://localhost:8080/",
          "height": 542
        }
      },
      "source": [
        "bins = math.ceil((max(datalist) - min(datalist)/9))\n",
        "empirical_dist(datalist, bins, 'magasság (cm)')"
      ],
      "execution_count": 35,
      "outputs": [
        {
          "output_type": "display_data",
          "data": {
            "text/html": [
              "<div>\n",
              "        \n",
              "        \n",
              "            <div id=\"25bb3bce-33c3-4169-862b-0b6b1f08fbd6\" class=\"plotly-graph-div\" style=\"height:525px; width:100%;\"></div>\n",
              "            <script type=\"text/javascript\">\n",
              "                require([\"plotly\"], function(Plotly) {\n",
              "                    window.PLOTLYENV=window.PLOTLYENV || {};\n",
              "                    \n",
              "                if (document.getElementById(\"25bb3bce-33c3-4169-862b-0b6b1f08fbd6\")) {\n",
              "                    Plotly.newPlot(\n",
              "                        '25bb3bce-33c3-4169-862b-0b6b1f08fbd6',\n",
              "                        [{\"hoverinfo\": \"all\", \"line\": {\"color\": \"rgb(1255, 0, 0)\", \"shape\": \"hvh\"}, \"mode\": \"lines\", \"name\": \"X\", \"type\": \"scatter\", \"x\": [163.0, 163.2032967032967, 163.4065934065934, 163.6098901098901, 163.8131868131868, 164.0164835164835, 164.21978021978023, 164.42307692307693, 164.62637362637363, 164.82967032967034, 165.03296703296704, 165.23626373626374, 165.43956043956044, 165.64285714285714, 165.84615384615384, 166.04945054945054, 166.25274725274724, 166.45604395604397, 166.65934065934067, 166.86263736263737, 167.06593406593407, 167.26923076923077, 167.47252747252747, 167.67582417582418, 167.87912087912088, 168.08241758241758, 168.28571428571428, 168.48901098901098, 168.69230769230768, 168.8956043956044, 169.0989010989011, 169.3021978021978, 169.5054945054945, 169.7087912087912, 169.9120879120879, 170.1153846153846, 170.3186813186813, 170.52197802197801, 170.72527472527472, 170.92857142857142, 171.13186813186815, 171.33516483516485, 171.53846153846155, 171.74175824175825, 171.94505494505495, 172.14835164835165, 172.35164835164835, 172.55494505494505, 172.75824175824175, 172.96153846153845, 173.16483516483515, 173.36813186813185, 173.57142857142858, 173.77472527472528, 173.97802197802199, 174.1813186813187, 174.3846153846154, 174.5879120879121, 174.7912087912088, 174.9945054945055, 175.1978021978022, 175.4010989010989, 175.6043956043956, 175.80769230769232, 176.01098901098902, 176.21428571428572, 176.41758241758242, 176.62087912087912, 176.82417582417582, 177.02747252747253, 177.23076923076923, 177.43406593406593, 177.63736263736263, 177.84065934065933, 178.04395604395603, 178.24725274725276, 178.45054945054946, 178.65384615384616, 178.85714285714286, 179.06043956043956, 179.26373626373626, 179.46703296703296, 179.67032967032966, 179.87362637362637, 180.07692307692307, 180.2802197802198, 180.4835164835165, 180.6868131868132, 180.8901098901099, 181.0934065934066, 181.2967032967033, 181.5, 181.7032967032967, 181.9065934065934, 182.1098901098901, 182.3131868131868, 182.5164835164835, 182.7197802197802, 182.92307692307693, 183.12637362637363, 183.32967032967034, 183.53296703296704, 183.73626373626374, 183.93956043956044, 184.14285714285714, 184.34615384615384, 184.54945054945054, 184.75274725274724, 184.95604395604397, 185.15934065934067, 185.36263736263737, 185.56593406593407, 185.76923076923077, 185.97252747252747, 186.17582417582418, 186.37912087912088, 186.58241758241758, 186.78571428571428, 186.98901098901098, 187.19230769230768, 187.39560439560438, 187.5989010989011, 187.8021978021978, 188.0054945054945, 188.2087912087912, 188.4120879120879, 188.6153846153846, 188.8186813186813, 189.02197802197801, 189.22527472527472, 189.42857142857142, 189.63186813186815, 189.83516483516485, 190.03846153846155, 190.24175824175825, 190.44505494505495, 190.64835164835165, 190.85164835164835, 191.05494505494505, 191.25824175824175, 191.46153846153845, 191.66483516483515, 191.86813186813185, 192.07142857142858, 192.27472527472528, 192.47802197802199, 192.6813186813187, 192.8846153846154, 193.0879120879121, 193.2912087912088, 193.4945054945055, 193.6978021978022, 193.9010989010989, 194.10439560439562, 194.30769230769232, 194.51098901098902, 194.71428571428572, 194.91758241758242, 195.12087912087912, 195.32417582417582, 195.52747252747253, 195.73076923076923, 195.93406593406593, 196.13736263736263, 196.34065934065933, 196.54395604395603, 196.74725274725273, 196.95054945054946, 197.15384615384616, 197.35714285714286, 197.56043956043956, 197.76373626373626, 197.96703296703296, 198.17032967032966, 198.37362637362637, 198.5769230769231, 198.7802197802198, 198.9835164835165, 199.1868131868132, 199.3901098901099, 199.5934065934066, 199.7967032967033, 200.0], \"y\": [0.06666666666666667, 0.06666666666666667, 0.06666666666666667, 0.06666666666666667, 0.06666666666666667, 0.06666666666666667, 0.06666666666666667, 0.06666666666666667, 0.06666666666666667, 0.06666666666666667, 0.06666666666666667, 0.06666666666666667, 0.06666666666666667, 0.06666666666666667, 0.06666666666666667, 0.06666666666666667, 0.06666666666666667, 0.06666666666666667, 0.06666666666666667, 0.13333333333333333, 0.13333333333333333, 0.13333333333333333, 0.13333333333333333, 0.13333333333333333, 0.13333333333333333, 0.13333333333333333, 0.13333333333333333, 0.13333333333333333, 0.13333333333333333, 0.13333333333333333, 0.13333333333333333, 0.13333333333333333, 0.13333333333333333, 0.13333333333333333, 0.13333333333333333, 0.13333333333333333, 0.13333333333333333, 0.13333333333333333, 0.13333333333333333, 0.13333333333333333, 0.13333333333333333, 0.13333333333333333, 0.13333333333333333, 0.13333333333333333, 0.13333333333333333, 0.13333333333333333, 0.13333333333333333, 0.13333333333333333, 0.13333333333333333, 0.2, 0.2, 0.2, 0.2, 0.2, 0.26666666666666666, 0.26666666666666666, 0.26666666666666666, 0.26666666666666666, 0.26666666666666666, 0.4, 0.4, 0.4, 0.4, 0.5333333333333333, 0.5333333333333333, 0.5333333333333333, 0.5333333333333333, 0.5333333333333333, 0.5333333333333333, 0.5333333333333333, 0.5333333333333333, 0.5333333333333333, 0.5333333333333333, 0.5333333333333333, 0.5333333333333333, 0.5333333333333333, 0.5333333333333333, 0.5333333333333333, 0.5333333333333333, 0.5333333333333333, 0.5333333333333333, 0.5333333333333333, 0.5333333333333333, 0.6, 0.6, 0.6, 0.6, 0.6, 0.6, 0.6, 0.6, 0.6, 0.6, 0.6, 0.6, 0.6, 0.6, 0.6, 0.6, 0.6, 0.6, 0.6, 0.6, 0.6, 0.6, 0.6, 0.6, 0.6, 0.6, 0.6, 0.6, 0.6, 0.6, 0.6666666666666667, 0.6666666666666667, 0.6666666666666667, 0.6666666666666667, 0.6666666666666667, 0.6666666666666667, 0.6666666666666667, 0.6666666666666667, 0.6666666666666667, 0.7333333333333334, 0.7333333333333334, 0.7333333333333334, 0.7333333333333334, 0.7333333333333334, 0.8, 0.8, 0.8, 0.8, 0.8, 0.8, 0.8, 0.8, 0.8, 0.8, 0.8666666666666668, 0.8666666666666668, 0.8666666666666668, 0.8666666666666668, 0.8666666666666668, 0.8666666666666668, 0.8666666666666668, 0.8666666666666668, 0.8666666666666668, 0.8666666666666668, 0.8666666666666668, 0.8666666666666668, 0.8666666666666668, 0.8666666666666668, 0.8666666666666668, 0.8666666666666668, 0.8666666666666668, 0.8666666666666668, 0.8666666666666668, 0.8666666666666668, 0.9333333333333333, 0.9333333333333333, 0.9333333333333333, 0.9333333333333333, 0.9333333333333333, 0.9333333333333333, 0.9333333333333333, 0.9333333333333333, 0.9333333333333333, 0.9333333333333333, 0.9333333333333333, 0.9333333333333333, 0.9333333333333333, 0.9333333333333333, 0.9333333333333333, 0.9333333333333333, 0.9333333333333333, 0.9333333333333333, 0.9333333333333333, 0.9333333333333333, 0.9333333333333333, 0.9333333333333333, 0.9333333333333333, 0.9333333333333333, 1.0]}],\n",
              "                        {\"legend\": {\"font\": {\"size\": 16}, \"traceorder\": \"reversed\", \"y\": 0.5}, \"template\": {\"data\": {\"bar\": [{\"error_x\": {\"color\": \"#2a3f5f\"}, \"error_y\": {\"color\": \"#2a3f5f\"}, \"marker\": {\"line\": {\"color\": \"#E5ECF6\", \"width\": 0.5}}, \"type\": \"bar\"}], \"barpolar\": [{\"marker\": {\"line\": {\"color\": \"#E5ECF6\", \"width\": 0.5}}, \"type\": \"barpolar\"}], \"carpet\": [{\"aaxis\": {\"endlinecolor\": \"#2a3f5f\", \"gridcolor\": \"white\", \"linecolor\": \"white\", \"minorgridcolor\": \"white\", \"startlinecolor\": \"#2a3f5f\"}, \"baxis\": {\"endlinecolor\": \"#2a3f5f\", \"gridcolor\": \"white\", \"linecolor\": \"white\", \"minorgridcolor\": \"white\", \"startlinecolor\": \"#2a3f5f\"}, \"type\": \"carpet\"}], \"choropleth\": [{\"colorbar\": {\"outlinewidth\": 0, \"ticks\": \"\"}, \"type\": \"choropleth\"}], \"contour\": [{\"colorbar\": {\"outlinewidth\": 0, \"ticks\": \"\"}, \"colorscale\": [[0.0, \"#0d0887\"], [0.1111111111111111, \"#46039f\"], [0.2222222222222222, \"#7201a8\"], [0.3333333333333333, \"#9c179e\"], [0.4444444444444444, \"#bd3786\"], [0.5555555555555556, \"#d8576b\"], [0.6666666666666666, \"#ed7953\"], [0.7777777777777778, \"#fb9f3a\"], [0.8888888888888888, \"#fdca26\"], [1.0, \"#f0f921\"]], \"type\": \"contour\"}], \"contourcarpet\": [{\"colorbar\": {\"outlinewidth\": 0, \"ticks\": \"\"}, \"type\": \"contourcarpet\"}], \"heatmap\": [{\"colorbar\": {\"outlinewidth\": 0, \"ticks\": \"\"}, \"colorscale\": [[0.0, \"#0d0887\"], [0.1111111111111111, \"#46039f\"], [0.2222222222222222, \"#7201a8\"], [0.3333333333333333, \"#9c179e\"], [0.4444444444444444, \"#bd3786\"], [0.5555555555555556, \"#d8576b\"], [0.6666666666666666, \"#ed7953\"], [0.7777777777777778, \"#fb9f3a\"], [0.8888888888888888, \"#fdca26\"], [1.0, \"#f0f921\"]], \"type\": \"heatmap\"}], \"heatmapgl\": [{\"colorbar\": {\"outlinewidth\": 0, \"ticks\": \"\"}, \"colorscale\": [[0.0, \"#0d0887\"], [0.1111111111111111, \"#46039f\"], [0.2222222222222222, \"#7201a8\"], [0.3333333333333333, \"#9c179e\"], [0.4444444444444444, \"#bd3786\"], [0.5555555555555556, \"#d8576b\"], [0.6666666666666666, \"#ed7953\"], [0.7777777777777778, \"#fb9f3a\"], [0.8888888888888888, \"#fdca26\"], [1.0, \"#f0f921\"]], \"type\": \"heatmapgl\"}], \"histogram\": [{\"marker\": {\"colorbar\": {\"outlinewidth\": 0, \"ticks\": \"\"}}, \"type\": \"histogram\"}], \"histogram2d\": [{\"colorbar\": {\"outlinewidth\": 0, \"ticks\": \"\"}, \"colorscale\": [[0.0, \"#0d0887\"], [0.1111111111111111, \"#46039f\"], [0.2222222222222222, \"#7201a8\"], [0.3333333333333333, \"#9c179e\"], [0.4444444444444444, \"#bd3786\"], [0.5555555555555556, \"#d8576b\"], [0.6666666666666666, \"#ed7953\"], [0.7777777777777778, \"#fb9f3a\"], [0.8888888888888888, \"#fdca26\"], [1.0, \"#f0f921\"]], \"type\": \"histogram2d\"}], \"histogram2dcontour\": [{\"colorbar\": {\"outlinewidth\": 0, \"ticks\": \"\"}, \"colorscale\": [[0.0, \"#0d0887\"], [0.1111111111111111, \"#46039f\"], [0.2222222222222222, \"#7201a8\"], [0.3333333333333333, \"#9c179e\"], [0.4444444444444444, \"#bd3786\"], [0.5555555555555556, \"#d8576b\"], [0.6666666666666666, \"#ed7953\"], [0.7777777777777778, \"#fb9f3a\"], [0.8888888888888888, \"#fdca26\"], [1.0, \"#f0f921\"]], \"type\": \"histogram2dcontour\"}], \"mesh3d\": [{\"colorbar\": {\"outlinewidth\": 0, \"ticks\": \"\"}, \"type\": \"mesh3d\"}], \"parcoords\": [{\"line\": {\"colorbar\": {\"outlinewidth\": 0, \"ticks\": \"\"}}, \"type\": \"parcoords\"}], \"scatter\": [{\"marker\": {\"colorbar\": {\"outlinewidth\": 0, \"ticks\": \"\"}}, \"type\": \"scatter\"}], \"scatter3d\": [{\"line\": {\"colorbar\": {\"outlinewidth\": 0, \"ticks\": \"\"}}, \"marker\": {\"colorbar\": {\"outlinewidth\": 0, \"ticks\": \"\"}}, \"type\": \"scatter3d\"}], \"scattercarpet\": [{\"marker\": {\"colorbar\": {\"outlinewidth\": 0, \"ticks\": \"\"}}, \"type\": \"scattercarpet\"}], \"scattergeo\": [{\"marker\": {\"colorbar\": {\"outlinewidth\": 0, \"ticks\": \"\"}}, \"type\": \"scattergeo\"}], \"scattergl\": [{\"marker\": {\"colorbar\": {\"outlinewidth\": 0, \"ticks\": \"\"}}, \"type\": \"scattergl\"}], \"scattermapbox\": [{\"marker\": {\"colorbar\": {\"outlinewidth\": 0, \"ticks\": \"\"}}, \"type\": \"scattermapbox\"}], \"scatterpolar\": [{\"marker\": {\"colorbar\": {\"outlinewidth\": 0, \"ticks\": \"\"}}, \"type\": \"scatterpolar\"}], \"scatterpolargl\": [{\"marker\": {\"colorbar\": {\"outlinewidth\": 0, \"ticks\": \"\"}}, \"type\": \"scatterpolargl\"}], \"scatterternary\": [{\"marker\": {\"colorbar\": {\"outlinewidth\": 0, \"ticks\": \"\"}}, \"type\": \"scatterternary\"}], \"surface\": [{\"colorbar\": {\"outlinewidth\": 0, \"ticks\": \"\"}, \"colorscale\": [[0.0, \"#0d0887\"], [0.1111111111111111, \"#46039f\"], [0.2222222222222222, \"#7201a8\"], [0.3333333333333333, \"#9c179e\"], [0.4444444444444444, \"#bd3786\"], [0.5555555555555556, \"#d8576b\"], [0.6666666666666666, \"#ed7953\"], [0.7777777777777778, \"#fb9f3a\"], [0.8888888888888888, \"#fdca26\"], [1.0, \"#f0f921\"]], \"type\": \"surface\"}], \"table\": [{\"cells\": {\"fill\": {\"color\": \"#EBF0F8\"}, \"line\": {\"color\": \"white\"}}, \"header\": {\"fill\": {\"color\": \"#C8D4E3\"}, \"line\": {\"color\": \"white\"}}, \"type\": \"table\"}]}, \"layout\": {\"annotationdefaults\": {\"arrowcolor\": \"#2a3f5f\", \"arrowhead\": 0, \"arrowwidth\": 1}, \"colorscale\": {\"diverging\": [[0, \"#8e0152\"], [0.1, \"#c51b7d\"], [0.2, \"#de77ae\"], [0.3, \"#f1b6da\"], [0.4, \"#fde0ef\"], [0.5, \"#f7f7f7\"], [0.6, \"#e6f5d0\"], [0.7, \"#b8e186\"], [0.8, \"#7fbc41\"], [0.9, \"#4d9221\"], [1, \"#276419\"]], \"sequential\": [[0.0, \"#0d0887\"], [0.1111111111111111, \"#46039f\"], [0.2222222222222222, \"#7201a8\"], [0.3333333333333333, \"#9c179e\"], [0.4444444444444444, \"#bd3786\"], [0.5555555555555556, \"#d8576b\"], [0.6666666666666666, \"#ed7953\"], [0.7777777777777778, \"#fb9f3a\"], [0.8888888888888888, \"#fdca26\"], [1.0, \"#f0f921\"]], \"sequentialminus\": [[0.0, \"#0d0887\"], [0.1111111111111111, \"#46039f\"], [0.2222222222222222, \"#7201a8\"], [0.3333333333333333, \"#9c179e\"], [0.4444444444444444, \"#bd3786\"], [0.5555555555555556, \"#d8576b\"], [0.6666666666666666, \"#ed7953\"], [0.7777777777777778, \"#fb9f3a\"], [0.8888888888888888, \"#fdca26\"], [1.0, \"#f0f921\"]]}, \"colorway\": [\"#636efa\", \"#EF553B\", \"#00cc96\", \"#ab63fa\", \"#FFA15A\", \"#19d3f3\", \"#FF6692\", \"#B6E880\", \"#FF97FF\", \"#FECB52\"], \"font\": {\"color\": \"#2a3f5f\"}, \"geo\": {\"bgcolor\": \"white\", \"lakecolor\": \"white\", \"landcolor\": \"#E5ECF6\", \"showlakes\": true, \"showland\": true, \"subunitcolor\": \"white\"}, \"hoverlabel\": {\"align\": \"left\"}, \"hovermode\": \"closest\", \"mapbox\": {\"style\": \"light\"}, \"paper_bgcolor\": \"white\", \"plot_bgcolor\": \"#E5ECF6\", \"polar\": {\"angularaxis\": {\"gridcolor\": \"white\", \"linecolor\": \"white\", \"ticks\": \"\"}, \"bgcolor\": \"#E5ECF6\", \"radialaxis\": {\"gridcolor\": \"white\", \"linecolor\": \"white\", \"ticks\": \"\"}}, \"scene\": {\"xaxis\": {\"backgroundcolor\": \"#E5ECF6\", \"gridcolor\": \"white\", \"gridwidth\": 2, \"linecolor\": \"white\", \"showbackground\": true, \"ticks\": \"\", \"zerolinecolor\": \"white\"}, \"yaxis\": {\"backgroundcolor\": \"#E5ECF6\", \"gridcolor\": \"white\", \"gridwidth\": 2, \"linecolor\": \"white\", \"showbackground\": true, \"ticks\": \"\", \"zerolinecolor\": \"white\"}, \"zaxis\": {\"backgroundcolor\": \"#E5ECF6\", \"gridcolor\": \"white\", \"gridwidth\": 2, \"linecolor\": \"white\", \"showbackground\": true, \"ticks\": \"\", \"zerolinecolor\": \"white\"}}, \"shapedefaults\": {\"line\": {\"color\": \"#2a3f5f\"}}, \"ternary\": {\"aaxis\": {\"gridcolor\": \"white\", \"linecolor\": \"white\", \"ticks\": \"\"}, \"baxis\": {\"gridcolor\": \"white\", \"linecolor\": \"white\", \"ticks\": \"\"}, \"bgcolor\": \"#E5ECF6\", \"caxis\": {\"gridcolor\": \"white\", \"linecolor\": \"white\", \"ticks\": \"\"}}, \"title\": {\"x\": 0.05}, \"xaxis\": {\"automargin\": true, \"gridcolor\": \"white\", \"linecolor\": \"white\", \"ticks\": \"\", \"zerolinecolor\": \"white\", \"zerolinewidth\": 2}, \"yaxis\": {\"automargin\": true, \"gridcolor\": \"white\", \"linecolor\": \"white\", \"ticks\": \"\", \"zerolinecolor\": \"white\", \"zerolinewidth\": 2}}}, \"title\": {\"text\": \"Empirical distribution function\"}, \"xaxis\": {\"title\": {\"text\": \"magass\\u00e1g (cm)\"}}},\n",
              "                        {\"responsive\": true}\n",
              "                    ).then(function(){\n",
              "                            \n",
              "var gd = document.getElementById('25bb3bce-33c3-4169-862b-0b6b1f08fbd6');\n",
              "var x = new MutationObserver(function (mutations, observer) {{\n",
              "        var display = window.getComputedStyle(gd).display;\n",
              "        if (!display || display === 'none') {{\n",
              "            console.log([gd, 'removed!']);\n",
              "            Plotly.purge(gd);\n",
              "            observer.disconnect();\n",
              "        }}\n",
              "}});\n",
              "\n",
              "// Listen for the removal of the full notebook cells\n",
              "var notebookContainer = gd.closest('#notebook-container');\n",
              "if (notebookContainer) {{\n",
              "    x.observe(notebookContainer, {childList: true});\n",
              "}}\n",
              "\n",
              "// Listen for the clearing of the current output cell\n",
              "var outputEl = gd.closest('.output');\n",
              "if (outputEl) {{\n",
              "    x.observe(outputEl, {childList: true});\n",
              "}}\n",
              "\n",
              "                        })\n",
              "                };\n",
              "                });\n",
              "            </script>\n",
              "        </div>"
            ]
          },
          "metadata": {
            "tags": []
          }
        }
      ]
    },
    {
      "cell_type": "markdown",
      "metadata": {
        "id": "DwvA3bsCM9dg",
        "colab_type": "text"
      },
      "source": [
        "[Return to top](#top)"
      ]
    },
    {
      "cell_type": "markdown",
      "metadata": {
        "id": "e9uAJW-ZrYla",
        "colab_type": "text"
      },
      "source": [
        "<a id = \"11.1.c\"></a>\n",
        "c) empirikus várható érték, empirikus szórásnégyzet, korrigált empirikus szórásnégyzet"
      ]
    },
    {
      "cell_type": "code",
      "metadata": {
        "id": "qUHSuBfxrc4z",
        "colab_type": "code",
        "outputId": "b9402755-94fa-422f-8015-84fe8cecce6f",
        "colab": {
          "base_uri": "https://localhost:8080/",
          "height": 52
        }
      },
      "source": [
        "print(\"A tapasztalati várható értéke: \", round(np.mean(datalist),5))\n",
        "print(\"A tapasztalati szórása:\", round(np.std(datalist),5))"
      ],
      "execution_count": 0,
      "outputs": [
        {
          "output_type": "stream",
          "text": [
            "A tapasztalati várható értéke:  180.53333\n",
            "A tapasztalati szórása: 10.15787\n"
          ],
          "name": "stdout"
        }
      ]
    },
    {
      "cell_type": "code",
      "metadata": {
        "id": "kqYU6pLuucEl",
        "colab_type": "code",
        "outputId": "0e530620-fe25-4085-efee-f2e5f013e558",
        "colab": {
          "base_uri": "https://localhost:8080/",
          "height": 34
        }
      },
      "source": [
        "print(\"A korrigált tapasztalati szórás: \", round(np.sqrt(len(datalist)/(len(datalist)-1)) * np.std(datalist),5) )"
      ],
      "execution_count": 0,
      "outputs": [
        {
          "output_type": "stream",
          "text": [
            "A korrigált tapasztalati szórás:  10.51439\n"
          ],
          "name": "stdout"
        }
      ]
    },
    {
      "cell_type": "markdown",
      "metadata": {
        "id": "xwupOsDbNQVZ",
        "colab_type": "text"
      },
      "source": [
        "[Return to top](#top)"
      ]
    },
    {
      "cell_type": "markdown",
      "metadata": {
        "id": "-IxoL55Rusg8",
        "colab_type": "text"
      },
      "source": [
        "<a id = \"11.1.e\"></a>\n",
        "e) Mivel nem ismerjük a szórást, ezért $t$ eloszlást használunk"
      ]
    },
    {
      "cell_type": "code",
      "metadata": {
        "id": "LCKa2TKdun7g",
        "colab_type": "code",
        "outputId": "f7c0fb1f-5086-4834-e744-c36a003220e9",
        "colab": {
          "base_uri": "https://localhost:8080/",
          "height": 34
        }
      },
      "source": [
        "conf_int = stats.t.interval(.95, len(datalist)-1, \\\n",
        "                            loc = np.mean(datalist), \\\n",
        "                            scale = stats.sem(datalist)/np.sqrt(len(datalist))) # stats.sem = s\n",
        "print(f'A 95%-hoz tartozó confidencia intervallum ({conf_int[0]:.5f},{conf_int[1]:.5f}).')"
      ],
      "execution_count": 0,
      "outputs": [
        {
          "output_type": "stream",
          "text": [
            "A 95%-hoz tartozó confidencia intervallum (179.02993,182.03674).\n"
          ],
          "name": "stdout"
        }
      ]
    },
    {
      "cell_type": "markdown",
      "metadata": {
        "id": "n7wK297BNUMX",
        "colab_type": "text"
      },
      "source": [
        "[Return to top](#top)"
      ]
    },
    {
      "cell_type": "markdown",
      "metadata": {
        "colab_type": "text",
        "id": "GSIsw473Xd_o"
      },
      "source": [
        "<a id = \"11.2\"></a>"
      ]
    },
    {
      "cell_type": "markdown",
      "metadata": {
        "colab_type": "text",
        "id": "kYNd2I2CyO6y"
      },
      "source": [
        "<div class=\"feladat\">\n",
        "2. Feladat\n",
        "</div>"
      ]
    },
    {
      "cell_type": "markdown",
      "metadata": {
        "id": "xly6uwMbAEAn",
        "colab_type": "text"
      },
      "source": [
        "<div class=\"exercises\">\n",
        "Megmértük 20 házaspár magasságát. A következő (Nő,Férfi) \n",
        "eredményeket kaptuk\n",
        "<br />\n",
        "(171, 179), (175, 185), (163, 166), (175, 176), (172, 164), (155,176), \n",
        "(168, 185), (165, 173), (172, 179), (168, 175), (173,170), (163, 183), \n",
        "(156, 165), (183, 195), (171, 169), (169,177), (167, 173), (164, 179), \n",
        "(177, 180), (167, 183).\n",
        "<br />\n",
        "Regressziós egyenes segítségével adjunk becslést a Férj magasságából a\n",
        "Feleség magasságára.\n",
        "</div>"
      ]
    },
    {
      "cell_type": "markdown",
      "metadata": {
        "colab_type": "text",
        "id": "ujytKqyaX8PR"
      },
      "source": [
        "<a id = \"11.2.1\"></a>\n",
        "<div class=\"exercises\">Megoldás. </div>"
      ]
    },
    {
      "cell_type": "code",
      "metadata": {
        "colab_type": "code",
        "id": "mJr_B627YQz9",
        "colab": {}
      },
      "source": [
        "data = [(171, 179), (175, 185), (163, 166), (175, 176), (172, 164), \\\n",
        "        (155,176), (168, 185), (165, 173), (172, 179), (168, 175), \\\n",
        "        (173,170), (163, 183), (156, 165), (183, 195), (171, 169), \\\n",
        "        (169,177), (167, 173), (164, 179), (177, 180), (167, 183)]\n",
        "datalist = [[list(dat)[0], list(dat)[1]] for dat in data]\n",
        "X = [_[1] for _ in datalist]\n",
        "Y = [_[0] for _ in datalist]"
      ],
      "execution_count": 0,
      "outputs": []
    },
    {
      "cell_type": "code",
      "metadata": {
        "colab_type": "code",
        "outputId": "1ba49a10-35c8-4933-840b-a1c711093aeb",
        "id": "fdDItwqaYQ0B",
        "colab": {
          "base_uri": "https://localhost:8080/",
          "height": 496
        }
      },
      "source": [
        "X = sm.add_constant(X) # Our model needs an intercept so we add a column of 1s in the first column\n",
        "model = sm.OLS(Y, X).fit()\n",
        "# predictions = model.predict(X)\n",
        "print_model = model.summary()\n",
        "print(print_model)"
      ],
      "execution_count": 37,
      "outputs": [
        {
          "output_type": "stream",
          "text": [
            "                            OLS Regression Results                            \n",
            "==============================================================================\n",
            "Dep. Variable:                      y   R-squared:                       0.198\n",
            "Model:                            OLS   Adj. R-squared:                  0.154\n",
            "Method:                 Least Squares   F-statistic:                     4.457\n",
            "Date:                Thu, 26 Dec 2019   Prob (F-statistic):             0.0490\n",
            "Time:                        15:36:57   Log-Likelihood:                -63.781\n",
            "No. Observations:                  20   AIC:                             131.6\n",
            "Df Residuals:                      18   BIC:                             133.6\n",
            "Df Model:                           1                                         \n",
            "Covariance Type:            nonrobust                                         \n",
            "==============================================================================\n",
            "                 coef    std err          t      P>|t|      [0.025      0.975]\n",
            "------------------------------------------------------------------------------\n",
            "const         99.9595     32.590      3.067      0.007      31.491     168.428\n",
            "x1             0.3892      0.184      2.111      0.049       0.002       0.777\n",
            "==============================================================================\n",
            "Omnibus:                        1.028   Durbin-Watson:                   2.226\n",
            "Prob(Omnibus):                  0.598   Jarque-Bera (JB):                0.941\n",
            "Skew:                          -0.450   Prob(JB):                        0.625\n",
            "Kurtosis:                       2.436   Cond. No.                     4.16e+03\n",
            "==============================================================================\n",
            "\n",
            "Warnings:\n",
            "[1] Standard Errors assume that the covariance matrix of the errors is correctly specified.\n",
            "[2] The condition number is large, 4.16e+03. This might indicate that there are\n",
            "strong multicollinearity or other numerical problems.\n"
          ],
          "name": "stdout"
        }
      ]
    },
    {
      "cell_type": "code",
      "metadata": {
        "colab_type": "code",
        "id": "j5_KYrOZbUl1",
        "colab": {}
      },
      "source": [
        "coeffs = model.params"
      ],
      "execution_count": 0,
      "outputs": []
    },
    {
      "cell_type": "code",
      "metadata": {
        "colab_type": "code",
        "outputId": "e8c51dd4-0524-4d73-ad59-3cae8d9f9e92",
        "id": "Uhg4oQJTbUlv",
        "colab": {
          "base_uri": "https://localhost:8080/",
          "height": 34
        }
      },
      "source": [
        "print(f'Az egyenes egyenlete: y = {coeffs[0]:.5f} + {coeffs[1]:.5f}*x. ')"
      ],
      "execution_count": 39,
      "outputs": [
        {
          "output_type": "stream",
          "text": [
            "Az egyenes egyenlete: y = 99.95953 + 0.38924*x. \n"
          ],
          "name": "stdout"
        }
      ]
    },
    {
      "cell_type": "code",
      "metadata": {
        "colab_type": "code",
        "outputId": "b8ca411b-593d-4491-d6a9-f0c0ed3e7be4",
        "id": "m58vqUDabUll",
        "colab": {
          "base_uri": "https://localhost:8080/",
          "height": 542
        }
      },
      "source": [
        "linear_regr_line(X[:, 1], Y, coeffs, 'Férj magasság (cm)', 'Feleség magasság (cm)')"
      ],
      "execution_count": 40,
      "outputs": [
        {
          "output_type": "display_data",
          "data": {
            "text/html": [
              "<div>\n",
              "        \n",
              "        \n",
              "            <div id=\"b7574e5c-f393-4d47-85f4-b9b64e72eea3\" class=\"plotly-graph-div\" style=\"height:525px; width:100%;\"></div>\n",
              "            <script type=\"text/javascript\">\n",
              "                require([\"plotly\"], function(Plotly) {\n",
              "                    window.PLOTLYENV=window.PLOTLYENV || {};\n",
              "                    \n",
              "                if (document.getElementById(\"b7574e5c-f393-4d47-85f4-b9b64e72eea3\")) {\n",
              "                    Plotly.newPlot(\n",
              "                        'b7574e5c-f393-4d47-85f4-b9b64e72eea3',\n",
              "                        [{\"mode\": \"markers\", \"name\": \"Data\", \"type\": \"scatter\", \"x\": [179.0, 185.0, 166.0, 176.0, 164.0, 176.0, 185.0, 173.0, 179.0, 175.0, 170.0, 183.0, 165.0, 195.0, 169.0, 177.0, 173.0, 179.0, 180.0, 183.0], \"y\": [171, 175, 163, 175, 172, 155, 168, 165, 172, 168, 173, 163, 156, 183, 171, 169, 167, 164, 177, 167]}, {\"mode\": \"lines\", \"name\": \"Fit\", \"type\": \"scatter\", \"x\": [179.0, 185.0, 166.0, 176.0, 164.0, 176.0, 185.0, 173.0, 179.0, 175.0, 170.0, 183.0, 165.0, 195.0, 169.0, 177.0, 173.0, 179.0, 180.0, 183.0], \"y\": [169.63418530351456, 171.9696485623005, 164.57401490947836, 168.46645367412157, 163.79552715654972, 168.46645367412157, 171.9696485623005, 167.2987220447286, 169.63418530351456, 168.07720979765725, 166.13099041533565, 171.19116080937184, 164.18477103301404, 175.8620873269437, 165.74174653887133, 168.8556975505859, 167.2987220447286, 169.63418530351456, 170.02342917997888, 171.19116080937184]}],\n",
              "                        {\"plot_bgcolor\": \"rgb(229, 229, 229)\", \"template\": {\"data\": {\"bar\": [{\"error_x\": {\"color\": \"#2a3f5f\"}, \"error_y\": {\"color\": \"#2a3f5f\"}, \"marker\": {\"line\": {\"color\": \"#E5ECF6\", \"width\": 0.5}}, \"type\": \"bar\"}], \"barpolar\": [{\"marker\": {\"line\": {\"color\": \"#E5ECF6\", \"width\": 0.5}}, \"type\": \"barpolar\"}], \"carpet\": [{\"aaxis\": {\"endlinecolor\": \"#2a3f5f\", \"gridcolor\": \"white\", \"linecolor\": \"white\", \"minorgridcolor\": \"white\", \"startlinecolor\": \"#2a3f5f\"}, \"baxis\": {\"endlinecolor\": \"#2a3f5f\", \"gridcolor\": \"white\", \"linecolor\": \"white\", \"minorgridcolor\": \"white\", \"startlinecolor\": \"#2a3f5f\"}, \"type\": \"carpet\"}], \"choropleth\": [{\"colorbar\": {\"outlinewidth\": 0, \"ticks\": \"\"}, \"type\": \"choropleth\"}], \"contour\": [{\"colorbar\": {\"outlinewidth\": 0, \"ticks\": \"\"}, \"colorscale\": [[0.0, \"#0d0887\"], [0.1111111111111111, \"#46039f\"], [0.2222222222222222, \"#7201a8\"], [0.3333333333333333, \"#9c179e\"], [0.4444444444444444, \"#bd3786\"], [0.5555555555555556, \"#d8576b\"], [0.6666666666666666, \"#ed7953\"], [0.7777777777777778, \"#fb9f3a\"], [0.8888888888888888, \"#fdca26\"], [1.0, \"#f0f921\"]], \"type\": \"contour\"}], \"contourcarpet\": [{\"colorbar\": {\"outlinewidth\": 0, \"ticks\": \"\"}, \"type\": \"contourcarpet\"}], \"heatmap\": [{\"colorbar\": {\"outlinewidth\": 0, \"ticks\": \"\"}, \"colorscale\": [[0.0, \"#0d0887\"], [0.1111111111111111, \"#46039f\"], [0.2222222222222222, \"#7201a8\"], [0.3333333333333333, \"#9c179e\"], [0.4444444444444444, \"#bd3786\"], [0.5555555555555556, \"#d8576b\"], [0.6666666666666666, \"#ed7953\"], [0.7777777777777778, \"#fb9f3a\"], [0.8888888888888888, \"#fdca26\"], [1.0, \"#f0f921\"]], \"type\": \"heatmap\"}], \"heatmapgl\": [{\"colorbar\": {\"outlinewidth\": 0, \"ticks\": \"\"}, \"colorscale\": [[0.0, \"#0d0887\"], [0.1111111111111111, \"#46039f\"], [0.2222222222222222, \"#7201a8\"], [0.3333333333333333, \"#9c179e\"], [0.4444444444444444, \"#bd3786\"], [0.5555555555555556, \"#d8576b\"], [0.6666666666666666, \"#ed7953\"], [0.7777777777777778, \"#fb9f3a\"], [0.8888888888888888, \"#fdca26\"], [1.0, \"#f0f921\"]], \"type\": \"heatmapgl\"}], \"histogram\": [{\"marker\": {\"colorbar\": {\"outlinewidth\": 0, \"ticks\": \"\"}}, \"type\": \"histogram\"}], \"histogram2d\": [{\"colorbar\": {\"outlinewidth\": 0, \"ticks\": \"\"}, \"colorscale\": [[0.0, \"#0d0887\"], [0.1111111111111111, \"#46039f\"], [0.2222222222222222, \"#7201a8\"], [0.3333333333333333, \"#9c179e\"], [0.4444444444444444, \"#bd3786\"], [0.5555555555555556, \"#d8576b\"], [0.6666666666666666, \"#ed7953\"], [0.7777777777777778, \"#fb9f3a\"], [0.8888888888888888, \"#fdca26\"], [1.0, \"#f0f921\"]], \"type\": \"histogram2d\"}], \"histogram2dcontour\": [{\"colorbar\": {\"outlinewidth\": 0, \"ticks\": \"\"}, \"colorscale\": [[0.0, \"#0d0887\"], [0.1111111111111111, \"#46039f\"], [0.2222222222222222, \"#7201a8\"], [0.3333333333333333, \"#9c179e\"], [0.4444444444444444, \"#bd3786\"], [0.5555555555555556, \"#d8576b\"], [0.6666666666666666, \"#ed7953\"], [0.7777777777777778, \"#fb9f3a\"], [0.8888888888888888, \"#fdca26\"], [1.0, \"#f0f921\"]], \"type\": \"histogram2dcontour\"}], \"mesh3d\": [{\"colorbar\": {\"outlinewidth\": 0, \"ticks\": \"\"}, \"type\": \"mesh3d\"}], \"parcoords\": [{\"line\": {\"colorbar\": {\"outlinewidth\": 0, \"ticks\": \"\"}}, \"type\": \"parcoords\"}], \"scatter\": [{\"marker\": {\"colorbar\": {\"outlinewidth\": 0, \"ticks\": \"\"}}, \"type\": \"scatter\"}], \"scatter3d\": [{\"line\": {\"colorbar\": {\"outlinewidth\": 0, \"ticks\": \"\"}}, \"marker\": {\"colorbar\": {\"outlinewidth\": 0, \"ticks\": \"\"}}, \"type\": \"scatter3d\"}], \"scattercarpet\": [{\"marker\": {\"colorbar\": {\"outlinewidth\": 0, \"ticks\": \"\"}}, \"type\": \"scattercarpet\"}], \"scattergeo\": [{\"marker\": {\"colorbar\": {\"outlinewidth\": 0, \"ticks\": \"\"}}, \"type\": \"scattergeo\"}], \"scattergl\": [{\"marker\": {\"colorbar\": {\"outlinewidth\": 0, \"ticks\": \"\"}}, \"type\": \"scattergl\"}], \"scattermapbox\": [{\"marker\": {\"colorbar\": {\"outlinewidth\": 0, \"ticks\": \"\"}}, \"type\": \"scattermapbox\"}], \"scatterpolar\": [{\"marker\": {\"colorbar\": {\"outlinewidth\": 0, \"ticks\": \"\"}}, \"type\": \"scatterpolar\"}], \"scatterpolargl\": [{\"marker\": {\"colorbar\": {\"outlinewidth\": 0, \"ticks\": \"\"}}, \"type\": \"scatterpolargl\"}], \"scatterternary\": [{\"marker\": {\"colorbar\": {\"outlinewidth\": 0, \"ticks\": \"\"}}, \"type\": \"scatterternary\"}], \"surface\": [{\"colorbar\": {\"outlinewidth\": 0, \"ticks\": \"\"}, \"colorscale\": [[0.0, \"#0d0887\"], [0.1111111111111111, \"#46039f\"], [0.2222222222222222, \"#7201a8\"], [0.3333333333333333, \"#9c179e\"], [0.4444444444444444, \"#bd3786\"], [0.5555555555555556, \"#d8576b\"], [0.6666666666666666, \"#ed7953\"], [0.7777777777777778, \"#fb9f3a\"], [0.8888888888888888, \"#fdca26\"], [1.0, \"#f0f921\"]], \"type\": \"surface\"}], \"table\": [{\"cells\": {\"fill\": {\"color\": \"#EBF0F8\"}, \"line\": {\"color\": \"white\"}}, \"header\": {\"fill\": {\"color\": \"#C8D4E3\"}, \"line\": {\"color\": \"white\"}}, \"type\": \"table\"}]}, \"layout\": {\"annotationdefaults\": {\"arrowcolor\": \"#2a3f5f\", \"arrowhead\": 0, \"arrowwidth\": 1}, \"colorscale\": {\"diverging\": [[0, \"#8e0152\"], [0.1, \"#c51b7d\"], [0.2, \"#de77ae\"], [0.3, \"#f1b6da\"], [0.4, \"#fde0ef\"], [0.5, \"#f7f7f7\"], [0.6, \"#e6f5d0\"], [0.7, \"#b8e186\"], [0.8, \"#7fbc41\"], [0.9, \"#4d9221\"], [1, \"#276419\"]], \"sequential\": [[0.0, \"#0d0887\"], [0.1111111111111111, \"#46039f\"], [0.2222222222222222, \"#7201a8\"], [0.3333333333333333, \"#9c179e\"], [0.4444444444444444, \"#bd3786\"], [0.5555555555555556, \"#d8576b\"], [0.6666666666666666, \"#ed7953\"], [0.7777777777777778, \"#fb9f3a\"], [0.8888888888888888, \"#fdca26\"], [1.0, \"#f0f921\"]], \"sequentialminus\": [[0.0, \"#0d0887\"], [0.1111111111111111, \"#46039f\"], [0.2222222222222222, \"#7201a8\"], [0.3333333333333333, \"#9c179e\"], [0.4444444444444444, \"#bd3786\"], [0.5555555555555556, \"#d8576b\"], [0.6666666666666666, \"#ed7953\"], [0.7777777777777778, \"#fb9f3a\"], [0.8888888888888888, \"#fdca26\"], [1.0, \"#f0f921\"]]}, \"colorway\": [\"#636efa\", \"#EF553B\", \"#00cc96\", \"#ab63fa\", \"#FFA15A\", \"#19d3f3\", \"#FF6692\", \"#B6E880\", \"#FF97FF\", \"#FECB52\"], \"font\": {\"color\": \"#2a3f5f\"}, \"geo\": {\"bgcolor\": \"white\", \"lakecolor\": \"white\", \"landcolor\": \"#E5ECF6\", \"showlakes\": true, \"showland\": true, \"subunitcolor\": \"white\"}, \"hoverlabel\": {\"align\": \"left\"}, \"hovermode\": \"closest\", \"mapbox\": {\"style\": \"light\"}, \"paper_bgcolor\": \"white\", \"plot_bgcolor\": \"#E5ECF6\", \"polar\": {\"angularaxis\": {\"gridcolor\": \"white\", \"linecolor\": \"white\", \"ticks\": \"\"}, \"bgcolor\": \"#E5ECF6\", \"radialaxis\": {\"gridcolor\": \"white\", \"linecolor\": \"white\", \"ticks\": \"\"}}, \"scene\": {\"xaxis\": {\"backgroundcolor\": \"#E5ECF6\", \"gridcolor\": \"white\", \"gridwidth\": 2, \"linecolor\": \"white\", \"showbackground\": true, \"ticks\": \"\", \"zerolinecolor\": \"white\"}, \"yaxis\": {\"backgroundcolor\": \"#E5ECF6\", \"gridcolor\": \"white\", \"gridwidth\": 2, \"linecolor\": \"white\", \"showbackground\": true, \"ticks\": \"\", \"zerolinecolor\": \"white\"}, \"zaxis\": {\"backgroundcolor\": \"#E5ECF6\", \"gridcolor\": \"white\", \"gridwidth\": 2, \"linecolor\": \"white\", \"showbackground\": true, \"ticks\": \"\", \"zerolinecolor\": \"white\"}}, \"shapedefaults\": {\"line\": {\"color\": \"#2a3f5f\"}}, \"ternary\": {\"aaxis\": {\"gridcolor\": \"white\", \"linecolor\": \"white\", \"ticks\": \"\"}, \"baxis\": {\"gridcolor\": \"white\", \"linecolor\": \"white\", \"ticks\": \"\"}, \"bgcolor\": \"#E5ECF6\", \"caxis\": {\"gridcolor\": \"white\", \"linecolor\": \"white\", \"ticks\": \"\"}}, \"title\": {\"x\": 0.05}, \"xaxis\": {\"automargin\": true, \"gridcolor\": \"white\", \"linecolor\": \"white\", \"ticks\": \"\", \"zerolinecolor\": \"white\", \"zerolinewidth\": 2}, \"yaxis\": {\"automargin\": true, \"gridcolor\": \"white\", \"linecolor\": \"white\", \"ticks\": \"\", \"zerolinecolor\": \"white\", \"zerolinewidth\": 2}}}, \"title\": {\"text\": \"Linear Regression y = 0.3892*x + 99.959\"}, \"xaxis\": {\"title\": {\"text\": \"F\\u00e9rj magass\\u00e1g (cm)\"}}, \"yaxis\": {\"title\": {\"text\": \"Feles\\u00e9g magass\\u00e1g (cm)\"}}},\n",
              "                        {\"responsive\": true}\n",
              "                    ).then(function(){\n",
              "                            \n",
              "var gd = document.getElementById('b7574e5c-f393-4d47-85f4-b9b64e72eea3');\n",
              "var x = new MutationObserver(function (mutations, observer) {{\n",
              "        var display = window.getComputedStyle(gd).display;\n",
              "        if (!display || display === 'none') {{\n",
              "            console.log([gd, 'removed!']);\n",
              "            Plotly.purge(gd);\n",
              "            observer.disconnect();\n",
              "        }}\n",
              "}});\n",
              "\n",
              "// Listen for the removal of the full notebook cells\n",
              "var notebookContainer = gd.closest('#notebook-container');\n",
              "if (notebookContainer) {{\n",
              "    x.observe(notebookContainer, {childList: true});\n",
              "}}\n",
              "\n",
              "// Listen for the clearing of the current output cell\n",
              "var outputEl = gd.closest('.output');\n",
              "if (outputEl) {{\n",
              "    x.observe(outputEl, {childList: true});\n",
              "}}\n",
              "\n",
              "                        })\n",
              "                };\n",
              "                });\n",
              "            </script>\n",
              "        </div>"
            ]
          },
          "metadata": {
            "tags": []
          }
        }
      ]
    },
    {
      "cell_type": "markdown",
      "metadata": {
        "id": "gou6RnsHQfMX",
        "colab_type": "text"
      },
      "source": [
        "[Return to top](#top)"
      ]
    },
    {
      "cell_type": "markdown",
      "metadata": {
        "colab_type": "text",
        "id": "hGhlg2Hta-9m"
      },
      "source": [
        "<a id = \"11.3\"></a>"
      ]
    },
    {
      "cell_type": "markdown",
      "metadata": {
        "colab_type": "text",
        "id": "2lUORiysy8XZ"
      },
      "source": [
        "<div class=\"feladat\">\n",
        "3. Feladat\n",
        "</div>"
      ]
    },
    {
      "cell_type": "markdown",
      "metadata": {
        "id": "oDhlQr9kbKTp",
        "colab_type": "text"
      },
      "source": [
        "<div class=\"exercises\">\n",
        "Egy bizonyos fajta rák kísérleti (immunhiányos) egerekben \n",
        "véletlenszerűen (normális eloszlás szerint) nagy daganatot hoz létre, melynek várható értéke 2.5 mm, \n",
        "szórása 0.5 mm. Mielőtt kutatásba kezdenénk, kontrollkísérletet végzünk, \n",
        "hogy sejtvonalunk vajon megfelel-e a nagyvilágban máshol használt rákos \n",
        "sejteknek. 20 egeret megfertőzünk rákos sejtjeinkkel és két hónap után \n",
        "megmérjük az egerekben a daganat nagyságát. A következő mérési \n",
        "eredményeket kapjuk:\n",
        "<br />\n",
        "2.6, 4, 1.7, 2.5, 2.5, 2.7, 3.2, 2.4, 2.6, 2, 1.3, 1.7, 2.5, 2.6, 3.4, 2.7, 1.2, 2.2, 2.2, 2.6\n",
        "<br />\n",
        "Végezzünk statisztikai próbát arra nézve, hogy\n",
        "ennek várható értéke 95%-os megbízhatósági szinten megegyezik-e 2,5 \n",
        "centiméterrel!\n",
        "</div>"
      ]
    },
    {
      "cell_type": "markdown",
      "metadata": {
        "colab_type": "text",
        "id": "YC6bvBvja-9q"
      },
      "source": [
        "<a id = \"11.3.1\"></a>\n",
        "<div class=\"solution\">Megoldás. </div>"
      ]
    },
    {
      "cell_type": "markdown",
      "metadata": {
        "id": "sopIvdeXQ7lH",
        "colab_type": "text"
      },
      "source": [
        "$u$-próbát használunk. ($Z$ test angolul) \n",
        "\n",
        "$H_0$: $E(X)=2.5$, nullhipotézis \n",
        "\n",
        "$H_1$: $E(X)\\neq 2.5$, kétoldali ellenhipotézis. \n",
        "\n",
        "Az egymintás u-próba próbastatisztikája\n",
        "\n",
        "$$\n",
        "u=\\frac {\\bar {x}-\\mu}{\\sigma /{\\sqrt {n}}},\n",
        "$$\n",
        "\n",
        "ahol \n",
        "$\\bar {x}$ a vizsgált valószínűségi változó átlaga a mintában,\n",
        "$\\mu$ az előre adott érték, amihez az átlagot viszonyítjuk,\n",
        "$\\sigma$ a vizsgált valószínűségi változó ismert szórása és\n",
        "$n$ a minta elemszáma."
      ]
    },
    {
      "cell_type": "code",
      "metadata": {
        "id": "I29ny5J5QbRP",
        "colab_type": "code",
        "colab": {}
      },
      "source": [
        "datalist = [2.6, 4, 1.7, 2.5, 2.5, 2.7, 3.2, 2.4, 2.6, 2, 1.3, 1.7, 2.5, 2.6, 3.4, 2.7, 1.2, 2.2, 2.2, 2.6]\n",
        "mu = 2.5\n",
        "sigma = 0.5"
      ],
      "execution_count": 0,
      "outputs": []
    },
    {
      "cell_type": "code",
      "metadata": {
        "id": "zEizbjeJYhE_",
        "colab_type": "code",
        "colab": {}
      },
      "source": [
        "# We will be using scipy stats normal survival function sf\n",
        "#Here we mulitply the sf fucntion with 2 for two sided p value calculation , a two tail test \n",
        "u_value = (np.mean(datalist) - mu)/(sigma/np.sqrt(len(datalist)))\n",
        "p_value = stats.norm.sf(abs(u_value))*2 \n",
        "\n",
        "if p_value > 0.05:\n",
        "    decision = r'$\\text{Sample is likely drawn from the same distribution (fail to reject }H_0)$'\n",
        "else:\n",
        "    decision = r'$\\text{Sample is likely drawn from different distribution (reject }H_0)$'"
      ],
      "execution_count": 0,
      "outputs": []
    },
    {
      "cell_type": "code",
      "metadata": {
        "id": "iShHtIKIRxAz",
        "colab_type": "code",
        "outputId": "7a6a9fd6-c727-4a23-869b-a83e3f6c32f1",
        "colab": {
          "base_uri": "https://localhost:8080/",
          "height": 286
        }
      },
      "source": [
        "fig = go.Figure(\n",
        "    data=[go.Table(\n",
        "    columnwidth = [60,60,400],\n",
        "    header=dict(values=['u-value', 'p-value', 'Decision'],\n",
        "                line_color='darkslategray',\n",
        "                fill_color='lightskyblue',\n",
        "                align=['left','left','center'],\n",
        "                font=dict(size=14),\n",
        "                height=40),\n",
        "    cells=dict(values=[[round(u_value,4)], # 1st column\n",
        "                       [round(p_value,4)], # 2nd column\n",
        "                       [decision]],        # 3rd column\n",
        "               line_color='darkslategray',\n",
        "               fill_color='lightcyan',\n",
        "               align='left',\n",
        "               font=dict(size=12),\n",
        "               height=30))\n",
        "    ],\n",
        "    layout=dict(width=720, \n",
        "                 height=270)\n",
        "\n",
        "    )\n",
        "\n",
        "fig.show()"
      ],
      "execution_count": 43,
      "outputs": [
        {
          "output_type": "display_data",
          "data": {
            "text/html": [
              "<div>\n",
              "        \n",
              "        \n",
              "            <div id=\"29eee137-025e-4439-b151-4046bd72872e\" class=\"plotly-graph-div\" style=\"height:270px; width:720px;\"></div>\n",
              "            <script type=\"text/javascript\">\n",
              "                require([\"plotly\"], function(Plotly) {\n",
              "                    window.PLOTLYENV=window.PLOTLYENV || {};\n",
              "                    \n",
              "                if (document.getElementById(\"29eee137-025e-4439-b151-4046bd72872e\")) {\n",
              "                    Plotly.newPlot(\n",
              "                        '29eee137-025e-4439-b151-4046bd72872e',\n",
              "                        [{\"cells\": {\"align\": \"left\", \"fill\": {\"color\": \"lightcyan\"}, \"font\": {\"size\": 12}, \"height\": 30, \"line\": {\"color\": \"darkslategray\"}, \"values\": [[-0.6261], [0.5312], [\"$\\\\text{Sample is likely drawn from the same distribution (fail to reject }H_0)$\"]]}, \"columnwidth\": [60, 60, 400], \"header\": {\"align\": [\"left\", \"left\", \"center\"], \"fill\": {\"color\": \"lightskyblue\"}, \"font\": {\"size\": 14}, \"height\": 40, \"line\": {\"color\": \"darkslategray\"}, \"values\": [\"u-value\", \"p-value\", \"Decision\"]}, \"type\": \"table\"}],\n",
              "                        {\"height\": 270, \"template\": {\"data\": {\"bar\": [{\"error_x\": {\"color\": \"#2a3f5f\"}, \"error_y\": {\"color\": \"#2a3f5f\"}, \"marker\": {\"line\": {\"color\": \"#E5ECF6\", \"width\": 0.5}}, \"type\": \"bar\"}], \"barpolar\": [{\"marker\": {\"line\": {\"color\": \"#E5ECF6\", \"width\": 0.5}}, \"type\": \"barpolar\"}], \"carpet\": [{\"aaxis\": {\"endlinecolor\": \"#2a3f5f\", \"gridcolor\": \"white\", \"linecolor\": \"white\", \"minorgridcolor\": \"white\", \"startlinecolor\": \"#2a3f5f\"}, \"baxis\": {\"endlinecolor\": \"#2a3f5f\", \"gridcolor\": \"white\", \"linecolor\": \"white\", \"minorgridcolor\": \"white\", \"startlinecolor\": \"#2a3f5f\"}, \"type\": \"carpet\"}], \"choropleth\": [{\"colorbar\": {\"outlinewidth\": 0, \"ticks\": \"\"}, \"type\": \"choropleth\"}], \"contour\": [{\"colorbar\": {\"outlinewidth\": 0, \"ticks\": \"\"}, \"colorscale\": [[0.0, \"#0d0887\"], [0.1111111111111111, \"#46039f\"], [0.2222222222222222, \"#7201a8\"], [0.3333333333333333, \"#9c179e\"], [0.4444444444444444, \"#bd3786\"], [0.5555555555555556, \"#d8576b\"], [0.6666666666666666, \"#ed7953\"], [0.7777777777777778, \"#fb9f3a\"], [0.8888888888888888, \"#fdca26\"], [1.0, \"#f0f921\"]], \"type\": \"contour\"}], \"contourcarpet\": [{\"colorbar\": {\"outlinewidth\": 0, \"ticks\": \"\"}, \"type\": \"contourcarpet\"}], \"heatmap\": [{\"colorbar\": {\"outlinewidth\": 0, \"ticks\": \"\"}, \"colorscale\": [[0.0, \"#0d0887\"], [0.1111111111111111, \"#46039f\"], [0.2222222222222222, \"#7201a8\"], [0.3333333333333333, \"#9c179e\"], [0.4444444444444444, \"#bd3786\"], [0.5555555555555556, \"#d8576b\"], [0.6666666666666666, \"#ed7953\"], [0.7777777777777778, \"#fb9f3a\"], [0.8888888888888888, \"#fdca26\"], [1.0, \"#f0f921\"]], \"type\": \"heatmap\"}], \"heatmapgl\": [{\"colorbar\": {\"outlinewidth\": 0, \"ticks\": \"\"}, \"colorscale\": [[0.0, \"#0d0887\"], [0.1111111111111111, \"#46039f\"], [0.2222222222222222, \"#7201a8\"], [0.3333333333333333, \"#9c179e\"], [0.4444444444444444, \"#bd3786\"], [0.5555555555555556, \"#d8576b\"], [0.6666666666666666, \"#ed7953\"], [0.7777777777777778, \"#fb9f3a\"], [0.8888888888888888, \"#fdca26\"], [1.0, \"#f0f921\"]], \"type\": \"heatmapgl\"}], \"histogram\": [{\"marker\": {\"colorbar\": {\"outlinewidth\": 0, \"ticks\": \"\"}}, \"type\": \"histogram\"}], \"histogram2d\": [{\"colorbar\": {\"outlinewidth\": 0, \"ticks\": \"\"}, \"colorscale\": [[0.0, \"#0d0887\"], [0.1111111111111111, \"#46039f\"], [0.2222222222222222, \"#7201a8\"], [0.3333333333333333, \"#9c179e\"], [0.4444444444444444, \"#bd3786\"], [0.5555555555555556, \"#d8576b\"], [0.6666666666666666, \"#ed7953\"], [0.7777777777777778, \"#fb9f3a\"], [0.8888888888888888, \"#fdca26\"], [1.0, \"#f0f921\"]], \"type\": \"histogram2d\"}], \"histogram2dcontour\": [{\"colorbar\": {\"outlinewidth\": 0, \"ticks\": \"\"}, \"colorscale\": [[0.0, \"#0d0887\"], [0.1111111111111111, \"#46039f\"], [0.2222222222222222, \"#7201a8\"], [0.3333333333333333, \"#9c179e\"], [0.4444444444444444, \"#bd3786\"], [0.5555555555555556, \"#d8576b\"], [0.6666666666666666, \"#ed7953\"], [0.7777777777777778, \"#fb9f3a\"], [0.8888888888888888, \"#fdca26\"], [1.0, \"#f0f921\"]], \"type\": \"histogram2dcontour\"}], \"mesh3d\": [{\"colorbar\": {\"outlinewidth\": 0, \"ticks\": \"\"}, \"type\": \"mesh3d\"}], \"parcoords\": [{\"line\": {\"colorbar\": {\"outlinewidth\": 0, \"ticks\": \"\"}}, \"type\": \"parcoords\"}], \"scatter\": [{\"marker\": {\"colorbar\": {\"outlinewidth\": 0, \"ticks\": \"\"}}, \"type\": \"scatter\"}], \"scatter3d\": [{\"line\": {\"colorbar\": {\"outlinewidth\": 0, \"ticks\": \"\"}}, \"marker\": {\"colorbar\": {\"outlinewidth\": 0, \"ticks\": \"\"}}, \"type\": \"scatter3d\"}], \"scattercarpet\": [{\"marker\": {\"colorbar\": {\"outlinewidth\": 0, \"ticks\": \"\"}}, \"type\": \"scattercarpet\"}], \"scattergeo\": [{\"marker\": {\"colorbar\": {\"outlinewidth\": 0, \"ticks\": \"\"}}, \"type\": \"scattergeo\"}], \"scattergl\": [{\"marker\": {\"colorbar\": {\"outlinewidth\": 0, \"ticks\": \"\"}}, \"type\": \"scattergl\"}], \"scattermapbox\": [{\"marker\": {\"colorbar\": {\"outlinewidth\": 0, \"ticks\": \"\"}}, \"type\": \"scattermapbox\"}], \"scatterpolar\": [{\"marker\": {\"colorbar\": {\"outlinewidth\": 0, \"ticks\": \"\"}}, \"type\": \"scatterpolar\"}], \"scatterpolargl\": [{\"marker\": {\"colorbar\": {\"outlinewidth\": 0, \"ticks\": \"\"}}, \"type\": \"scatterpolargl\"}], \"scatterternary\": [{\"marker\": {\"colorbar\": {\"outlinewidth\": 0, \"ticks\": \"\"}}, \"type\": \"scatterternary\"}], \"surface\": [{\"colorbar\": {\"outlinewidth\": 0, \"ticks\": \"\"}, \"colorscale\": [[0.0, \"#0d0887\"], [0.1111111111111111, \"#46039f\"], [0.2222222222222222, \"#7201a8\"], [0.3333333333333333, \"#9c179e\"], [0.4444444444444444, \"#bd3786\"], [0.5555555555555556, \"#d8576b\"], [0.6666666666666666, \"#ed7953\"], [0.7777777777777778, \"#fb9f3a\"], [0.8888888888888888, \"#fdca26\"], [1.0, \"#f0f921\"]], \"type\": \"surface\"}], \"table\": [{\"cells\": {\"fill\": {\"color\": \"#EBF0F8\"}, \"line\": {\"color\": \"white\"}}, \"header\": {\"fill\": {\"color\": \"#C8D4E3\"}, \"line\": {\"color\": \"white\"}}, \"type\": \"table\"}]}, \"layout\": {\"annotationdefaults\": {\"arrowcolor\": \"#2a3f5f\", \"arrowhead\": 0, \"arrowwidth\": 1}, \"colorscale\": {\"diverging\": [[0, \"#8e0152\"], [0.1, \"#c51b7d\"], [0.2, \"#de77ae\"], [0.3, \"#f1b6da\"], [0.4, \"#fde0ef\"], [0.5, \"#f7f7f7\"], [0.6, \"#e6f5d0\"], [0.7, \"#b8e186\"], [0.8, \"#7fbc41\"], [0.9, \"#4d9221\"], [1, \"#276419\"]], \"sequential\": [[0.0, \"#0d0887\"], [0.1111111111111111, \"#46039f\"], [0.2222222222222222, \"#7201a8\"], [0.3333333333333333, \"#9c179e\"], [0.4444444444444444, \"#bd3786\"], [0.5555555555555556, \"#d8576b\"], [0.6666666666666666, \"#ed7953\"], [0.7777777777777778, \"#fb9f3a\"], [0.8888888888888888, \"#fdca26\"], [1.0, \"#f0f921\"]], \"sequentialminus\": [[0.0, \"#0d0887\"], [0.1111111111111111, \"#46039f\"], [0.2222222222222222, \"#7201a8\"], [0.3333333333333333, \"#9c179e\"], [0.4444444444444444, \"#bd3786\"], [0.5555555555555556, \"#d8576b\"], [0.6666666666666666, \"#ed7953\"], [0.7777777777777778, \"#fb9f3a\"], [0.8888888888888888, \"#fdca26\"], [1.0, \"#f0f921\"]]}, \"colorway\": [\"#636efa\", \"#EF553B\", \"#00cc96\", \"#ab63fa\", \"#FFA15A\", \"#19d3f3\", \"#FF6692\", \"#B6E880\", \"#FF97FF\", \"#FECB52\"], \"font\": {\"color\": \"#2a3f5f\"}, \"geo\": {\"bgcolor\": \"white\", \"lakecolor\": \"white\", \"landcolor\": \"#E5ECF6\", \"showlakes\": true, \"showland\": true, \"subunitcolor\": \"white\"}, \"hoverlabel\": {\"align\": \"left\"}, \"hovermode\": \"closest\", \"mapbox\": {\"style\": \"light\"}, \"paper_bgcolor\": \"white\", \"plot_bgcolor\": \"#E5ECF6\", \"polar\": {\"angularaxis\": {\"gridcolor\": \"white\", \"linecolor\": \"white\", \"ticks\": \"\"}, \"bgcolor\": \"#E5ECF6\", \"radialaxis\": {\"gridcolor\": \"white\", \"linecolor\": \"white\", \"ticks\": \"\"}}, \"scene\": {\"xaxis\": {\"backgroundcolor\": \"#E5ECF6\", \"gridcolor\": \"white\", \"gridwidth\": 2, \"linecolor\": \"white\", \"showbackground\": true, \"ticks\": \"\", \"zerolinecolor\": \"white\"}, \"yaxis\": {\"backgroundcolor\": \"#E5ECF6\", \"gridcolor\": \"white\", \"gridwidth\": 2, \"linecolor\": \"white\", \"showbackground\": true, \"ticks\": \"\", \"zerolinecolor\": \"white\"}, \"zaxis\": {\"backgroundcolor\": \"#E5ECF6\", \"gridcolor\": \"white\", \"gridwidth\": 2, \"linecolor\": \"white\", \"showbackground\": true, \"ticks\": \"\", \"zerolinecolor\": \"white\"}}, \"shapedefaults\": {\"line\": {\"color\": \"#2a3f5f\"}}, \"ternary\": {\"aaxis\": {\"gridcolor\": \"white\", \"linecolor\": \"white\", \"ticks\": \"\"}, \"baxis\": {\"gridcolor\": \"white\", \"linecolor\": \"white\", \"ticks\": \"\"}, \"bgcolor\": \"#E5ECF6\", \"caxis\": {\"gridcolor\": \"white\", \"linecolor\": \"white\", \"ticks\": \"\"}}, \"title\": {\"x\": 0.05}, \"xaxis\": {\"automargin\": true, \"gridcolor\": \"white\", \"linecolor\": \"white\", \"ticks\": \"\", \"zerolinecolor\": \"white\", \"zerolinewidth\": 2}, \"yaxis\": {\"automargin\": true, \"gridcolor\": \"white\", \"linecolor\": \"white\", \"ticks\": \"\", \"zerolinecolor\": \"white\", \"zerolinewidth\": 2}}}, \"width\": 720},\n",
              "                        {\"responsive\": true}\n",
              "                    ).then(function(){\n",
              "                            \n",
              "var gd = document.getElementById('29eee137-025e-4439-b151-4046bd72872e');\n",
              "var x = new MutationObserver(function (mutations, observer) {{\n",
              "        var display = window.getComputedStyle(gd).display;\n",
              "        if (!display || display === 'none') {{\n",
              "            console.log([gd, 'removed!']);\n",
              "            Plotly.purge(gd);\n",
              "            observer.disconnect();\n",
              "        }}\n",
              "}});\n",
              "\n",
              "// Listen for the removal of the full notebook cells\n",
              "var notebookContainer = gd.closest('#notebook-container');\n",
              "if (notebookContainer) {{\n",
              "    x.observe(notebookContainer, {childList: true});\n",
              "}}\n",
              "\n",
              "// Listen for the clearing of the current output cell\n",
              "var outputEl = gd.closest('.output');\n",
              "if (outputEl) {{\n",
              "    x.observe(outputEl, {childList: true});\n",
              "}}\n",
              "\n",
              "                        })\n",
              "                };\n",
              "                });\n",
              "            </script>\n",
              "        </div>"
            ]
          },
          "metadata": {
            "tags": []
          }
        }
      ]
    },
    {
      "cell_type": "markdown",
      "metadata": {
        "id": "x6yXb4uZQkvm",
        "colab_type": "text"
      },
      "source": [
        "[Return to top](#top)"
      ]
    },
    {
      "cell_type": "markdown",
      "metadata": {
        "colab_type": "text",
        "id": "fETdBr8JcCML"
      },
      "source": [
        "<a id = \"11.4\"></a>"
      ]
    },
    {
      "cell_type": "markdown",
      "metadata": {
        "colab_type": "text",
        "id": "sdVOxqhKzlhd"
      },
      "source": [
        "<div class=\"feladat\">\n",
        "4. Feladat\n",
        "</div>"
      ]
    },
    {
      "cell_type": "markdown",
      "metadata": {
        "id": "14IwT1umcGFs",
        "colab_type": "text"
      },
      "source": [
        "<div class=\"exercises\">\n",
        "Megmértük a déli hőmérsékletet Rejkjavik-ban március elején, és a következő hőmérsékleteket kaptuk:\n",
        "<br />\n",
        "3.5; −1.2; 4.7; 0.3; 2.8; 0; 5.8; 1.4; 2.2; 2.9; 2.2; 1.8; −1.7; −0.1;\n",
        "2.8; 5.1; −2; 2.8; 3; 0.5 \n",
        "<br />\n",
        "Hasonlóképpen megmértük Amszterdamban\n",
        "<br />\n",
        "16.3; 13.6; 18.5; 18.1; 17.5; 21; 19.4; 15.3; 20.5; 16.8; 20; 18.4; 14.4;\n",
        "18.7; 14.2; 13.8; 12.8; 16; 15.9; 14.2; 21.6; 17.6; 17.4; 18.4; 15.5; 16.3;\n",
        "18.9; 10.8; 17.3; 16.5 \n",
        "<br />\n",
        "Modhatjuk-e 95%-os szignifikancia szint mellett, hogy azonos a szórásuk (feltesszük hogy a hőmérséklet eloszlása normális)?\n",
        "</div>"
      ]
    },
    {
      "cell_type": "markdown",
      "metadata": {
        "colab_type": "text",
        "id": "FuAgXv7jcCMN"
      },
      "source": [
        "<a id = \"11.4.1\"></a>\n",
        "<div class=\"solution\">Megoldás. </div>"
      ]
    },
    {
      "cell_type": "markdown",
      "metadata": {
        "id": "qpR5Ank2BeZg",
        "colab_type": "text"
      },
      "source": [
        "$F\\,$-próbát használunk. \n",
        "\n",
        "Legyen $X_1, \\ldots, X_n$ és $Y_1, \\ldots, Y_m$ független minta két populációból, ahol mindkét populáció normális eloszlással rendelkezik. A két populáció várható értékei lehetnek különbözőek, a nullhipotézis pedig az, hogy a varianciájuk egyenlő $(H_{0}\\colon \\,\\sigma _{X}^{2}=\\sigma _{Y}^{2})$. Legyenek\n",
        "\n",
        "$$\n",
        "\\overline {X}=\\frac {1}{n}\\sum _{i=1}^{n}X_{i} \\quad\n",
        "\\text{és} \\quad\\overline {Y}=\\frac {1}{m}\\sum _{i=1}^{m}Y_{i}\n",
        "$$\n",
        "\n",
        "a minták tapasztalati átlagai és legyenek\n",
        "\n",
        "$$\n",
        "S_{X}^{2}=\\frac {1}{n-1}\\sum _{i=1}^{n}\\left(X_{i}-\\overline {X}\\right)^{2}\n",
        "$$\n",
        "és \n",
        "$$\n",
        "S_{Y}^{2}=\\frac {1}{m-1}\\sum _{i=1}^{m}\\left(Y_{i}-\\overline {Y}\\right)^{2}\n",
        "$$\n",
        "\n",
        "a minták korrigált tapasztalati varianciái. Ekkor a próbastatisztikának az\n",
        "\n",
        "$$\n",
        "F_{emp}={\\frac {S_{X}^{2}}{S_{Y}^{2}}},\n",
        "$$\n",
        "\n",
        "empirikus értéket használjuk ha a tört értéke nagyobb $1$-nél,  ellenkező esetben a reciprokát. $F$-nek $F$-eloszlása van, de az $F$-statisztika eloszlása különböző mintanagyságok esetén különböző. Azt, hogy melyik $F$-eloszlást kell választanunk, azaz az $F$-eloszlás paramétereit, a minták szabadsági foka mutatja meg, ami $n – 1$ és $m – 1$.\n",
        "\n",
        "Adott szignifikanciaszint (szokásos $p = 0.05$-ot választani, kétoldali próba esetén $p=0.025$) mellett kikeressük $F(n–1, m–1)$ (vagy $F(m-1,n-1)$) értékét táblázatból, ez lesz a kritikus érték. Ha $F_{emp} \\leq F_{krit}$, akkor elfogadjuk a $H_0$ nullhipotézist, azaz a szórásnégyzetek egyenlősége igaz, különben elvetjük."
      ]
    },
    {
      "cell_type": "code",
      "metadata": {
        "id": "a3znrEp9APV4",
        "colab_type": "code",
        "colab": {}
      },
      "source": [
        "reykjavik = [3.5, -1.2, 4.7, 0.3, 2.8, 0, 5.8, 1.4, 2.2, 2.9, 2.2, 1.8, -1.7, -0.1, 2.8, 5.1, -2, 2.8, 3, 0.5]\n",
        "amsterdam = [16.3, 13.6, 18.5, 18.1, 17.5, 21, 19.4, 15.3, 20.5, 16.8, 20, 18.4, 14.4, 18.7, 14.2, 13.8, 12.8, \\\n",
        "             16, 15.9, 14.2, 21.6, 17.6, 17.4, 18.4, 15.5, 16.3, 18.9, 10.8, 17.3, 16.5]"
      ],
      "execution_count": 0,
      "outputs": []
    },
    {
      "cell_type": "code",
      "metadata": {
        "id": "CMbRsEd6nB3c",
        "colab_type": "code",
        "colab": {}
      },
      "source": [
        "F_value = np.var(reykjavik, dtype=np.float64, ddof=1)/np.var(amsterdam, dtype=np.float64, ddof=1)\n",
        "df1 = len(reykjavik) - 1\n",
        "df2 = len(amsterdam) - 1\n",
        "if F_value < 1:\n",
        "    F_value = 1/F_value\n",
        "    df1 = len(amsterdam) - 1\n",
        "    df2 = len(reykjavik) - 1\n",
        "p_value = stats.f.sf(F_value, df1, df2)*2 \n",
        "if p_value > 0.05:\n",
        "    decision = 'Variance is likely the same (fail to reject H0)'\n",
        "else:\n",
        "    decision = 'Variance is likely different (reject H0)'"
      ],
      "execution_count": 0,
      "outputs": []
    },
    {
      "cell_type": "code",
      "metadata": {
        "id": "L6aomYYV2uSx",
        "colab_type": "code",
        "colab": {
          "base_uri": "https://localhost:8080/",
          "height": 286
        },
        "outputId": "a345deec-1686-4c39-adaf-18d529235607"
      },
      "source": [
        "fig = go.Figure(data=[go.Table(\n",
        "    columnwidth = [60,60,400],\n",
        "    header=dict(values=['u-value', 'p-value', 'Decision'],\n",
        "                line_color='darkslategray',\n",
        "                fill_color='lightskyblue',\n",
        "                align=['left','left','center'],\n",
        "                font=dict(size=14),\n",
        "                height=40),\n",
        "    cells=dict(values=[[round(u_value,4)], # 1st column\n",
        "                       [round(p_value,4)], # 2nd column\n",
        "                       [decision]],        # 3rd column\n",
        "               line_color='darkslategray',\n",
        "               fill_color='lightcyan',\n",
        "               align='left',\n",
        "               font=dict(size=12),\n",
        "               height=30))\n",
        "                ],\n",
        "                layout=dict(width=720, \n",
        "                 height=270))\n",
        "\n",
        "fig.show()"
      ],
      "execution_count": 78,
      "outputs": [
        {
          "output_type": "display_data",
          "data": {
            "text/html": [
              "<div>\n",
              "        \n",
              "        \n",
              "            <div id=\"a7ca8373-6bb6-4c4e-9e3a-03402d0a895a\" class=\"plotly-graph-div\" style=\"height:270px; width:720px;\"></div>\n",
              "            <script type=\"text/javascript\">\n",
              "                require([\"plotly\"], function(Plotly) {\n",
              "                    window.PLOTLYENV=window.PLOTLYENV || {};\n",
              "                    \n",
              "                if (document.getElementById(\"a7ca8373-6bb6-4c4e-9e3a-03402d0a895a\")) {\n",
              "                    Plotly.newPlot(\n",
              "                        'a7ca8373-6bb6-4c4e-9e3a-03402d0a895a',\n",
              "                        [{\"cells\": {\"align\": \"left\", \"fill\": {\"color\": \"lightcyan\"}, \"font\": {\"size\": 12}, \"height\": 30, \"line\": {\"color\": \"darkslategray\"}, \"values\": [[-0.6261], [0.4989], [\"Variance is likely the same (fail to reject H0)\"]]}, \"columnwidth\": [60, 60, 400], \"header\": {\"align\": [\"left\", \"left\", \"center\"], \"fill\": {\"color\": \"lightskyblue\"}, \"font\": {\"size\": 14}, \"height\": 40, \"line\": {\"color\": \"darkslategray\"}, \"values\": [\"u-value\", \"p-value\", \"Decision\"]}, \"type\": \"table\"}],\n",
              "                        {\"height\": 270, \"template\": {\"data\": {\"bar\": [{\"error_x\": {\"color\": \"#2a3f5f\"}, \"error_y\": {\"color\": \"#2a3f5f\"}, \"marker\": {\"line\": {\"color\": \"#E5ECF6\", \"width\": 0.5}}, \"type\": \"bar\"}], \"barpolar\": [{\"marker\": {\"line\": {\"color\": \"#E5ECF6\", \"width\": 0.5}}, \"type\": \"barpolar\"}], \"carpet\": [{\"aaxis\": {\"endlinecolor\": \"#2a3f5f\", \"gridcolor\": \"white\", \"linecolor\": \"white\", \"minorgridcolor\": \"white\", \"startlinecolor\": \"#2a3f5f\"}, \"baxis\": {\"endlinecolor\": \"#2a3f5f\", \"gridcolor\": \"white\", \"linecolor\": \"white\", \"minorgridcolor\": \"white\", \"startlinecolor\": \"#2a3f5f\"}, \"type\": \"carpet\"}], \"choropleth\": [{\"colorbar\": {\"outlinewidth\": 0, \"ticks\": \"\"}, \"type\": \"choropleth\"}], \"contour\": [{\"colorbar\": {\"outlinewidth\": 0, \"ticks\": \"\"}, \"colorscale\": [[0.0, \"#0d0887\"], [0.1111111111111111, \"#46039f\"], [0.2222222222222222, \"#7201a8\"], [0.3333333333333333, \"#9c179e\"], [0.4444444444444444, \"#bd3786\"], [0.5555555555555556, \"#d8576b\"], [0.6666666666666666, \"#ed7953\"], [0.7777777777777778, \"#fb9f3a\"], [0.8888888888888888, \"#fdca26\"], [1.0, \"#f0f921\"]], \"type\": \"contour\"}], \"contourcarpet\": [{\"colorbar\": {\"outlinewidth\": 0, \"ticks\": \"\"}, \"type\": \"contourcarpet\"}], \"heatmap\": [{\"colorbar\": {\"outlinewidth\": 0, \"ticks\": \"\"}, \"colorscale\": [[0.0, \"#0d0887\"], [0.1111111111111111, \"#46039f\"], [0.2222222222222222, \"#7201a8\"], [0.3333333333333333, \"#9c179e\"], [0.4444444444444444, \"#bd3786\"], [0.5555555555555556, \"#d8576b\"], [0.6666666666666666, \"#ed7953\"], [0.7777777777777778, \"#fb9f3a\"], [0.8888888888888888, \"#fdca26\"], [1.0, \"#f0f921\"]], \"type\": \"heatmap\"}], \"heatmapgl\": [{\"colorbar\": {\"outlinewidth\": 0, \"ticks\": \"\"}, \"colorscale\": [[0.0, \"#0d0887\"], [0.1111111111111111, \"#46039f\"], [0.2222222222222222, \"#7201a8\"], [0.3333333333333333, \"#9c179e\"], [0.4444444444444444, \"#bd3786\"], [0.5555555555555556, \"#d8576b\"], [0.6666666666666666, \"#ed7953\"], [0.7777777777777778, \"#fb9f3a\"], [0.8888888888888888, \"#fdca26\"], [1.0, \"#f0f921\"]], \"type\": \"heatmapgl\"}], \"histogram\": [{\"marker\": {\"colorbar\": {\"outlinewidth\": 0, \"ticks\": \"\"}}, \"type\": \"histogram\"}], \"histogram2d\": [{\"colorbar\": {\"outlinewidth\": 0, \"ticks\": \"\"}, \"colorscale\": [[0.0, \"#0d0887\"], [0.1111111111111111, \"#46039f\"], [0.2222222222222222, \"#7201a8\"], [0.3333333333333333, \"#9c179e\"], [0.4444444444444444, \"#bd3786\"], [0.5555555555555556, \"#d8576b\"], [0.6666666666666666, \"#ed7953\"], [0.7777777777777778, \"#fb9f3a\"], [0.8888888888888888, \"#fdca26\"], [1.0, \"#f0f921\"]], \"type\": \"histogram2d\"}], \"histogram2dcontour\": [{\"colorbar\": {\"outlinewidth\": 0, \"ticks\": \"\"}, \"colorscale\": [[0.0, \"#0d0887\"], [0.1111111111111111, \"#46039f\"], [0.2222222222222222, \"#7201a8\"], [0.3333333333333333, \"#9c179e\"], [0.4444444444444444, \"#bd3786\"], [0.5555555555555556, \"#d8576b\"], [0.6666666666666666, \"#ed7953\"], [0.7777777777777778, \"#fb9f3a\"], [0.8888888888888888, \"#fdca26\"], [1.0, \"#f0f921\"]], \"type\": \"histogram2dcontour\"}], \"mesh3d\": [{\"colorbar\": {\"outlinewidth\": 0, \"ticks\": \"\"}, \"type\": \"mesh3d\"}], \"parcoords\": [{\"line\": {\"colorbar\": {\"outlinewidth\": 0, \"ticks\": \"\"}}, \"type\": \"parcoords\"}], \"scatter\": [{\"marker\": {\"colorbar\": {\"outlinewidth\": 0, \"ticks\": \"\"}}, \"type\": \"scatter\"}], \"scatter3d\": [{\"line\": {\"colorbar\": {\"outlinewidth\": 0, \"ticks\": \"\"}}, \"marker\": {\"colorbar\": {\"outlinewidth\": 0, \"ticks\": \"\"}}, \"type\": \"scatter3d\"}], \"scattercarpet\": [{\"marker\": {\"colorbar\": {\"outlinewidth\": 0, \"ticks\": \"\"}}, \"type\": \"scattercarpet\"}], \"scattergeo\": [{\"marker\": {\"colorbar\": {\"outlinewidth\": 0, \"ticks\": \"\"}}, \"type\": \"scattergeo\"}], \"scattergl\": [{\"marker\": {\"colorbar\": {\"outlinewidth\": 0, \"ticks\": \"\"}}, \"type\": \"scattergl\"}], \"scattermapbox\": [{\"marker\": {\"colorbar\": {\"outlinewidth\": 0, \"ticks\": \"\"}}, \"type\": \"scattermapbox\"}], \"scatterpolar\": [{\"marker\": {\"colorbar\": {\"outlinewidth\": 0, \"ticks\": \"\"}}, \"type\": \"scatterpolar\"}], \"scatterpolargl\": [{\"marker\": {\"colorbar\": {\"outlinewidth\": 0, \"ticks\": \"\"}}, \"type\": \"scatterpolargl\"}], \"scatterternary\": [{\"marker\": {\"colorbar\": {\"outlinewidth\": 0, \"ticks\": \"\"}}, \"type\": \"scatterternary\"}], \"surface\": [{\"colorbar\": {\"outlinewidth\": 0, \"ticks\": \"\"}, \"colorscale\": [[0.0, \"#0d0887\"], [0.1111111111111111, \"#46039f\"], [0.2222222222222222, \"#7201a8\"], [0.3333333333333333, \"#9c179e\"], [0.4444444444444444, \"#bd3786\"], [0.5555555555555556, \"#d8576b\"], [0.6666666666666666, \"#ed7953\"], [0.7777777777777778, \"#fb9f3a\"], [0.8888888888888888, \"#fdca26\"], [1.0, \"#f0f921\"]], \"type\": \"surface\"}], \"table\": [{\"cells\": {\"fill\": {\"color\": \"#EBF0F8\"}, \"line\": {\"color\": \"white\"}}, \"header\": {\"fill\": {\"color\": \"#C8D4E3\"}, \"line\": {\"color\": \"white\"}}, \"type\": \"table\"}]}, \"layout\": {\"annotationdefaults\": {\"arrowcolor\": \"#2a3f5f\", \"arrowhead\": 0, \"arrowwidth\": 1}, \"colorscale\": {\"diverging\": [[0, \"#8e0152\"], [0.1, \"#c51b7d\"], [0.2, \"#de77ae\"], [0.3, \"#f1b6da\"], [0.4, \"#fde0ef\"], [0.5, \"#f7f7f7\"], [0.6, \"#e6f5d0\"], [0.7, \"#b8e186\"], [0.8, \"#7fbc41\"], [0.9, \"#4d9221\"], [1, \"#276419\"]], \"sequential\": [[0.0, \"#0d0887\"], [0.1111111111111111, \"#46039f\"], [0.2222222222222222, \"#7201a8\"], [0.3333333333333333, \"#9c179e\"], [0.4444444444444444, \"#bd3786\"], [0.5555555555555556, \"#d8576b\"], [0.6666666666666666, \"#ed7953\"], [0.7777777777777778, \"#fb9f3a\"], [0.8888888888888888, \"#fdca26\"], [1.0, \"#f0f921\"]], \"sequentialminus\": [[0.0, \"#0d0887\"], [0.1111111111111111, \"#46039f\"], [0.2222222222222222, \"#7201a8\"], [0.3333333333333333, \"#9c179e\"], [0.4444444444444444, \"#bd3786\"], [0.5555555555555556, \"#d8576b\"], [0.6666666666666666, \"#ed7953\"], [0.7777777777777778, \"#fb9f3a\"], [0.8888888888888888, \"#fdca26\"], [1.0, \"#f0f921\"]]}, \"colorway\": [\"#636efa\", \"#EF553B\", \"#00cc96\", \"#ab63fa\", \"#FFA15A\", \"#19d3f3\", \"#FF6692\", \"#B6E880\", \"#FF97FF\", \"#FECB52\"], \"font\": {\"color\": \"#2a3f5f\"}, \"geo\": {\"bgcolor\": \"white\", \"lakecolor\": \"white\", \"landcolor\": \"#E5ECF6\", \"showlakes\": true, \"showland\": true, \"subunitcolor\": \"white\"}, \"hoverlabel\": {\"align\": \"left\"}, \"hovermode\": \"closest\", \"mapbox\": {\"style\": \"light\"}, \"paper_bgcolor\": \"white\", \"plot_bgcolor\": \"#E5ECF6\", \"polar\": {\"angularaxis\": {\"gridcolor\": \"white\", \"linecolor\": \"white\", \"ticks\": \"\"}, \"bgcolor\": \"#E5ECF6\", \"radialaxis\": {\"gridcolor\": \"white\", \"linecolor\": \"white\", \"ticks\": \"\"}}, \"scene\": {\"xaxis\": {\"backgroundcolor\": \"#E5ECF6\", \"gridcolor\": \"white\", \"gridwidth\": 2, \"linecolor\": \"white\", \"showbackground\": true, \"ticks\": \"\", \"zerolinecolor\": \"white\"}, \"yaxis\": {\"backgroundcolor\": \"#E5ECF6\", \"gridcolor\": \"white\", \"gridwidth\": 2, \"linecolor\": \"white\", \"showbackground\": true, \"ticks\": \"\", \"zerolinecolor\": \"white\"}, \"zaxis\": {\"backgroundcolor\": \"#E5ECF6\", \"gridcolor\": \"white\", \"gridwidth\": 2, \"linecolor\": \"white\", \"showbackground\": true, \"ticks\": \"\", \"zerolinecolor\": \"white\"}}, \"shapedefaults\": {\"line\": {\"color\": \"#2a3f5f\"}}, \"ternary\": {\"aaxis\": {\"gridcolor\": \"white\", \"linecolor\": \"white\", \"ticks\": \"\"}, \"baxis\": {\"gridcolor\": \"white\", \"linecolor\": \"white\", \"ticks\": \"\"}, \"bgcolor\": \"#E5ECF6\", \"caxis\": {\"gridcolor\": \"white\", \"linecolor\": \"white\", \"ticks\": \"\"}}, \"title\": {\"x\": 0.05}, \"xaxis\": {\"automargin\": true, \"gridcolor\": \"white\", \"linecolor\": \"white\", \"ticks\": \"\", \"zerolinecolor\": \"white\", \"zerolinewidth\": 2}, \"yaxis\": {\"automargin\": true, \"gridcolor\": \"white\", \"linecolor\": \"white\", \"ticks\": \"\", \"zerolinecolor\": \"white\", \"zerolinewidth\": 2}}}, \"width\": 720},\n",
              "                        {\"responsive\": true}\n",
              "                    ).then(function(){\n",
              "                            \n",
              "var gd = document.getElementById('a7ca8373-6bb6-4c4e-9e3a-03402d0a895a');\n",
              "var x = new MutationObserver(function (mutations, observer) {{\n",
              "        var display = window.getComputedStyle(gd).display;\n",
              "        if (!display || display === 'none') {{\n",
              "            console.log([gd, 'removed!']);\n",
              "            Plotly.purge(gd);\n",
              "            observer.disconnect();\n",
              "        }}\n",
              "}});\n",
              "\n",
              "// Listen for the removal of the full notebook cells\n",
              "var notebookContainer = gd.closest('#notebook-container');\n",
              "if (notebookContainer) {{\n",
              "    x.observe(notebookContainer, {childList: true});\n",
              "}}\n",
              "\n",
              "// Listen for the clearing of the current output cell\n",
              "var outputEl = gd.closest('.output');\n",
              "if (outputEl) {{\n",
              "    x.observe(outputEl, {childList: true});\n",
              "}}\n",
              "\n",
              "                        })\n",
              "                };\n",
              "                });\n",
              "            </script>\n",
              "        </div>"
            ]
          },
          "metadata": {
            "tags": []
          }
        }
      ]
    },
    {
      "cell_type": "markdown",
      "metadata": {
        "id": "CZJ-dEAHQpWT",
        "colab_type": "text"
      },
      "source": [
        "[Return to top](#top)"
      ]
    },
    {
      "cell_type": "markdown",
      "metadata": {
        "colab_type": "text",
        "id": "HTkDFbtDcJ4I"
      },
      "source": [
        "<a id = \"11.5\"></a>"
      ]
    },
    {
      "cell_type": "markdown",
      "metadata": {
        "colab_type": "text",
        "id": "RwwNNEIzzwSP"
      },
      "source": [
        "<div class=\"feladat\">\n",
        "5. Feladat\n",
        "</div>"
      ]
    },
    {
      "cell_type": "markdown",
      "metadata": {
        "colab_type": "text",
        "id": "HzeMYoQRcJ4K"
      },
      "source": [
        "<div class=\"exercises\">\n",
        "Egy sörgyárban újfajta sört szeretnének előállítani 5%-os \n",
        "alkoholtartalommal. Megmérnek 20 \n",
        "mintát és a következő eredmény kapják\n",
        "<br />\n",
        "4.49, 4.76, 4.38, 4.57, 5.45, 4.85, 4.72, 4.46,4.92, 4.63, 4.59, 4.5, 4.25, \n",
        "5.23, 4.3, 4.81, 4.96, 4.43, 5.26, 4.11\n",
        "<br />\n",
        "Állíthatjuk-e 95%-os valószínűséggel, hogy a sör megfelelő \n",
        "alkoholtartalommal rendelkezik? És 99%-os valószínűséggel állíthatjuk? Feltételezzük, hogy a minta eloszlása normális.\n",
        "</div>"
      ]
    },
    {
      "cell_type": "markdown",
      "metadata": {
        "colab_type": "text",
        "id": "V0mLsXXGcJ4L"
      },
      "source": [
        "<a id = \"11.5.1\"></a>\n",
        "<div class=\"solution\">Megoldás. </div>"
      ]
    },
    {
      "cell_type": "markdown",
      "metadata": {
        "colab_type": "text",
        "id": "0pbHMU1Apd8h"
      },
      "source": [
        "Egymintás $t$ próbát használunk, mert nem ismerjük a populáció szórását. \n",
        "\n",
        "$H_0$: $E(X)=5$, nullhipotézis \n",
        "\n",
        "$H_1$: $E(X)\\neq 5$, kétoldali ellenhipotézis. \n",
        "\n",
        "Az egymintás $t$-próba próbastatisztikája\n",
        "\n",
        "$$\n",
        "t=\\frac {\\bar {x}-\\mu}{s /{\\sqrt {n}}},\n",
        "$$\n",
        "\n",
        "ahol \n",
        "$\\bar {x}$ a vizsgált valószínűségi változó átlaga a mintában,\n",
        "$\\mu$ az előre adott érték, amihez az átlagot viszonyítjuk,\n",
        "$s$ a minta korrigált tapasztalati szórása és\n",
        "$n$ a minta elemszáma."
      ]
    },
    {
      "cell_type": "code",
      "metadata": {
        "id": "5jKevBoLjJZt",
        "colab_type": "code",
        "colab": {}
      },
      "source": [
        "datalist = [4.49, 4.76, 4.38, 4.57, 5.45, 4.85, 4.72, 4.46,4.92, 4.63, 4.59, 4.5, 4.25, \n",
        "5.23, 4.3, 4.81, 4.96, 4.43, 5.26, 4.11]\n",
        "mu = 5"
      ],
      "execution_count": 0,
      "outputs": []
    },
    {
      "cell_type": "code",
      "metadata": {
        "id": "Uy9JDWmVu90h",
        "colab_type": "code",
        "colab": {}
      },
      "source": [
        "one_sample = stats.ttest_1samp(datalist, mu)\n",
        "t_value = one_sample[0]\n",
        "p_value = one_sample[1]\n",
        "\n",
        "if p_value > 0.05:\n",
        "    decision = r'$\\text{Sample is likely drawn from the same distribution (fail to reject }H_0)$'\n",
        "else:\n",
        "    decision = r'$\\text{Sample is likely drawn from different distribution (reject }H_0)$'"
      ],
      "execution_count": 0,
      "outputs": []
    },
    {
      "cell_type": "code",
      "metadata": {
        "id": "FCtnqNBf5VJa",
        "colab_type": "code",
        "outputId": "5bc10f29-e636-47ec-a496-836fedb8df09",
        "colab": {
          "base_uri": "https://localhost:8080/",
          "height": 286
        }
      },
      "source": [
        "fig = go.Figure(data=[go.Table(\n",
        "    columnwidth = [60,60,400],\n",
        "    header=dict(values=['t-value', 'p-value', 'Decision'],\n",
        "                line_color='darkslategray',\n",
        "                fill_color='lightskyblue',\n",
        "                align=['left','left','center'],\n",
        "                font=dict(size=14),\n",
        "                height=40),\n",
        "    cells=dict(values=[[round(t_value,4)], # 1st column\n",
        "                       [round(p_value,4)], # 2nd column\n",
        "                       [decision]],        # 3rd column\n",
        "               line_color='darkslategray',\n",
        "               fill_color='lightcyan',\n",
        "               align='left',\n",
        "               font=dict(size=12),\n",
        "               height=30))\n",
        "    ],\n",
        "    layout=dict(width=720, \n",
        "                 height=270)\n",
        ")\n",
        "\n",
        "fig.show()"
      ],
      "execution_count": 49,
      "outputs": [
        {
          "output_type": "display_data",
          "data": {
            "text/html": [
              "<div>\n",
              "        \n",
              "        \n",
              "            <div id=\"f2fbdcd8-c952-4d00-82a0-f9ae2776e5be\" class=\"plotly-graph-div\" style=\"height:270px; width:720px;\"></div>\n",
              "            <script type=\"text/javascript\">\n",
              "                require([\"plotly\"], function(Plotly) {\n",
              "                    window.PLOTLYENV=window.PLOTLYENV || {};\n",
              "                    \n",
              "                if (document.getElementById(\"f2fbdcd8-c952-4d00-82a0-f9ae2776e5be\")) {\n",
              "                    Plotly.newPlot(\n",
              "                        'f2fbdcd8-c952-4d00-82a0-f9ae2776e5be',\n",
              "                        [{\"cells\": {\"align\": \"left\", \"fill\": {\"color\": \"lightcyan\"}, \"font\": {\"size\": 12}, \"height\": 30, \"line\": {\"color\": \"darkslategray\"}, \"values\": [[-4.0096], [0.0007], [\"$\\\\text{Sample is likely drawn from different distribution (reject }H_0)$\"]]}, \"columnwidth\": [60, 60, 400], \"header\": {\"align\": [\"left\", \"left\", \"center\"], \"fill\": {\"color\": \"lightskyblue\"}, \"font\": {\"size\": 14}, \"height\": 40, \"line\": {\"color\": \"darkslategray\"}, \"values\": [\"t-value\", \"p-value\", \"Decision\"]}, \"type\": \"table\"}],\n",
              "                        {\"height\": 270, \"template\": {\"data\": {\"bar\": [{\"error_x\": {\"color\": \"#2a3f5f\"}, \"error_y\": {\"color\": \"#2a3f5f\"}, \"marker\": {\"line\": {\"color\": \"#E5ECF6\", \"width\": 0.5}}, \"type\": \"bar\"}], \"barpolar\": [{\"marker\": {\"line\": {\"color\": \"#E5ECF6\", \"width\": 0.5}}, \"type\": \"barpolar\"}], \"carpet\": [{\"aaxis\": {\"endlinecolor\": \"#2a3f5f\", \"gridcolor\": \"white\", \"linecolor\": \"white\", \"minorgridcolor\": \"white\", \"startlinecolor\": \"#2a3f5f\"}, \"baxis\": {\"endlinecolor\": \"#2a3f5f\", \"gridcolor\": \"white\", \"linecolor\": \"white\", \"minorgridcolor\": \"white\", \"startlinecolor\": \"#2a3f5f\"}, \"type\": \"carpet\"}], \"choropleth\": [{\"colorbar\": {\"outlinewidth\": 0, \"ticks\": \"\"}, \"type\": \"choropleth\"}], \"contour\": [{\"colorbar\": {\"outlinewidth\": 0, \"ticks\": \"\"}, \"colorscale\": [[0.0, \"#0d0887\"], [0.1111111111111111, \"#46039f\"], [0.2222222222222222, \"#7201a8\"], [0.3333333333333333, \"#9c179e\"], [0.4444444444444444, \"#bd3786\"], [0.5555555555555556, \"#d8576b\"], [0.6666666666666666, \"#ed7953\"], [0.7777777777777778, \"#fb9f3a\"], [0.8888888888888888, \"#fdca26\"], [1.0, \"#f0f921\"]], \"type\": \"contour\"}], \"contourcarpet\": [{\"colorbar\": {\"outlinewidth\": 0, \"ticks\": \"\"}, \"type\": \"contourcarpet\"}], \"heatmap\": [{\"colorbar\": {\"outlinewidth\": 0, \"ticks\": \"\"}, \"colorscale\": [[0.0, \"#0d0887\"], [0.1111111111111111, \"#46039f\"], [0.2222222222222222, \"#7201a8\"], [0.3333333333333333, \"#9c179e\"], [0.4444444444444444, \"#bd3786\"], [0.5555555555555556, \"#d8576b\"], [0.6666666666666666, \"#ed7953\"], [0.7777777777777778, \"#fb9f3a\"], [0.8888888888888888, \"#fdca26\"], [1.0, \"#f0f921\"]], \"type\": \"heatmap\"}], \"heatmapgl\": [{\"colorbar\": {\"outlinewidth\": 0, \"ticks\": \"\"}, \"colorscale\": [[0.0, \"#0d0887\"], [0.1111111111111111, \"#46039f\"], [0.2222222222222222, \"#7201a8\"], [0.3333333333333333, \"#9c179e\"], [0.4444444444444444, \"#bd3786\"], [0.5555555555555556, \"#d8576b\"], [0.6666666666666666, \"#ed7953\"], [0.7777777777777778, \"#fb9f3a\"], [0.8888888888888888, \"#fdca26\"], [1.0, \"#f0f921\"]], \"type\": \"heatmapgl\"}], \"histogram\": [{\"marker\": {\"colorbar\": {\"outlinewidth\": 0, \"ticks\": \"\"}}, \"type\": \"histogram\"}], \"histogram2d\": [{\"colorbar\": {\"outlinewidth\": 0, \"ticks\": \"\"}, \"colorscale\": [[0.0, \"#0d0887\"], [0.1111111111111111, \"#46039f\"], [0.2222222222222222, \"#7201a8\"], [0.3333333333333333, \"#9c179e\"], [0.4444444444444444, \"#bd3786\"], [0.5555555555555556, \"#d8576b\"], [0.6666666666666666, \"#ed7953\"], [0.7777777777777778, \"#fb9f3a\"], [0.8888888888888888, \"#fdca26\"], [1.0, \"#f0f921\"]], \"type\": \"histogram2d\"}], \"histogram2dcontour\": [{\"colorbar\": {\"outlinewidth\": 0, \"ticks\": \"\"}, \"colorscale\": [[0.0, \"#0d0887\"], [0.1111111111111111, \"#46039f\"], [0.2222222222222222, \"#7201a8\"], [0.3333333333333333, \"#9c179e\"], [0.4444444444444444, \"#bd3786\"], [0.5555555555555556, \"#d8576b\"], [0.6666666666666666, \"#ed7953\"], [0.7777777777777778, \"#fb9f3a\"], [0.8888888888888888, \"#fdca26\"], [1.0, \"#f0f921\"]], \"type\": \"histogram2dcontour\"}], \"mesh3d\": [{\"colorbar\": {\"outlinewidth\": 0, \"ticks\": \"\"}, \"type\": \"mesh3d\"}], \"parcoords\": [{\"line\": {\"colorbar\": {\"outlinewidth\": 0, \"ticks\": \"\"}}, \"type\": \"parcoords\"}], \"scatter\": [{\"marker\": {\"colorbar\": {\"outlinewidth\": 0, \"ticks\": \"\"}}, \"type\": \"scatter\"}], \"scatter3d\": [{\"line\": {\"colorbar\": {\"outlinewidth\": 0, \"ticks\": \"\"}}, \"marker\": {\"colorbar\": {\"outlinewidth\": 0, \"ticks\": \"\"}}, \"type\": \"scatter3d\"}], \"scattercarpet\": [{\"marker\": {\"colorbar\": {\"outlinewidth\": 0, \"ticks\": \"\"}}, \"type\": \"scattercarpet\"}], \"scattergeo\": [{\"marker\": {\"colorbar\": {\"outlinewidth\": 0, \"ticks\": \"\"}}, \"type\": \"scattergeo\"}], \"scattergl\": [{\"marker\": {\"colorbar\": {\"outlinewidth\": 0, \"ticks\": \"\"}}, \"type\": \"scattergl\"}], \"scattermapbox\": [{\"marker\": {\"colorbar\": {\"outlinewidth\": 0, \"ticks\": \"\"}}, \"type\": \"scattermapbox\"}], \"scatterpolar\": [{\"marker\": {\"colorbar\": {\"outlinewidth\": 0, \"ticks\": \"\"}}, \"type\": \"scatterpolar\"}], \"scatterpolargl\": [{\"marker\": {\"colorbar\": {\"outlinewidth\": 0, \"ticks\": \"\"}}, \"type\": \"scatterpolargl\"}], \"scatterternary\": [{\"marker\": {\"colorbar\": {\"outlinewidth\": 0, \"ticks\": \"\"}}, \"type\": \"scatterternary\"}], \"surface\": [{\"colorbar\": {\"outlinewidth\": 0, \"ticks\": \"\"}, \"colorscale\": [[0.0, \"#0d0887\"], [0.1111111111111111, \"#46039f\"], [0.2222222222222222, \"#7201a8\"], [0.3333333333333333, \"#9c179e\"], [0.4444444444444444, \"#bd3786\"], [0.5555555555555556, \"#d8576b\"], [0.6666666666666666, \"#ed7953\"], [0.7777777777777778, \"#fb9f3a\"], [0.8888888888888888, \"#fdca26\"], [1.0, \"#f0f921\"]], \"type\": \"surface\"}], \"table\": [{\"cells\": {\"fill\": {\"color\": \"#EBF0F8\"}, \"line\": {\"color\": \"white\"}}, \"header\": {\"fill\": {\"color\": \"#C8D4E3\"}, \"line\": {\"color\": \"white\"}}, \"type\": \"table\"}]}, \"layout\": {\"annotationdefaults\": {\"arrowcolor\": \"#2a3f5f\", \"arrowhead\": 0, \"arrowwidth\": 1}, \"colorscale\": {\"diverging\": [[0, \"#8e0152\"], [0.1, \"#c51b7d\"], [0.2, \"#de77ae\"], [0.3, \"#f1b6da\"], [0.4, \"#fde0ef\"], [0.5, \"#f7f7f7\"], [0.6, \"#e6f5d0\"], [0.7, \"#b8e186\"], [0.8, \"#7fbc41\"], [0.9, \"#4d9221\"], [1, \"#276419\"]], \"sequential\": [[0.0, \"#0d0887\"], [0.1111111111111111, \"#46039f\"], [0.2222222222222222, \"#7201a8\"], [0.3333333333333333, \"#9c179e\"], [0.4444444444444444, \"#bd3786\"], [0.5555555555555556, \"#d8576b\"], [0.6666666666666666, \"#ed7953\"], [0.7777777777777778, \"#fb9f3a\"], [0.8888888888888888, \"#fdca26\"], [1.0, \"#f0f921\"]], \"sequentialminus\": [[0.0, \"#0d0887\"], [0.1111111111111111, \"#46039f\"], [0.2222222222222222, \"#7201a8\"], [0.3333333333333333, \"#9c179e\"], [0.4444444444444444, \"#bd3786\"], [0.5555555555555556, \"#d8576b\"], [0.6666666666666666, \"#ed7953\"], [0.7777777777777778, \"#fb9f3a\"], [0.8888888888888888, \"#fdca26\"], [1.0, \"#f0f921\"]]}, \"colorway\": [\"#636efa\", \"#EF553B\", \"#00cc96\", \"#ab63fa\", \"#FFA15A\", \"#19d3f3\", \"#FF6692\", \"#B6E880\", \"#FF97FF\", \"#FECB52\"], \"font\": {\"color\": \"#2a3f5f\"}, \"geo\": {\"bgcolor\": \"white\", \"lakecolor\": \"white\", \"landcolor\": \"#E5ECF6\", \"showlakes\": true, \"showland\": true, \"subunitcolor\": \"white\"}, \"hoverlabel\": {\"align\": \"left\"}, \"hovermode\": \"closest\", \"mapbox\": {\"style\": \"light\"}, \"paper_bgcolor\": \"white\", \"plot_bgcolor\": \"#E5ECF6\", \"polar\": {\"angularaxis\": {\"gridcolor\": \"white\", \"linecolor\": \"white\", \"ticks\": \"\"}, \"bgcolor\": \"#E5ECF6\", \"radialaxis\": {\"gridcolor\": \"white\", \"linecolor\": \"white\", \"ticks\": \"\"}}, \"scene\": {\"xaxis\": {\"backgroundcolor\": \"#E5ECF6\", \"gridcolor\": \"white\", \"gridwidth\": 2, \"linecolor\": \"white\", \"showbackground\": true, \"ticks\": \"\", \"zerolinecolor\": \"white\"}, \"yaxis\": {\"backgroundcolor\": \"#E5ECF6\", \"gridcolor\": \"white\", \"gridwidth\": 2, \"linecolor\": \"white\", \"showbackground\": true, \"ticks\": \"\", \"zerolinecolor\": \"white\"}, \"zaxis\": {\"backgroundcolor\": \"#E5ECF6\", \"gridcolor\": \"white\", \"gridwidth\": 2, \"linecolor\": \"white\", \"showbackground\": true, \"ticks\": \"\", \"zerolinecolor\": \"white\"}}, \"shapedefaults\": {\"line\": {\"color\": \"#2a3f5f\"}}, \"ternary\": {\"aaxis\": {\"gridcolor\": \"white\", \"linecolor\": \"white\", \"ticks\": \"\"}, \"baxis\": {\"gridcolor\": \"white\", \"linecolor\": \"white\", \"ticks\": \"\"}, \"bgcolor\": \"#E5ECF6\", \"caxis\": {\"gridcolor\": \"white\", \"linecolor\": \"white\", \"ticks\": \"\"}}, \"title\": {\"x\": 0.05}, \"xaxis\": {\"automargin\": true, \"gridcolor\": \"white\", \"linecolor\": \"white\", \"ticks\": \"\", \"zerolinecolor\": \"white\", \"zerolinewidth\": 2}, \"yaxis\": {\"automargin\": true, \"gridcolor\": \"white\", \"linecolor\": \"white\", \"ticks\": \"\", \"zerolinecolor\": \"white\", \"zerolinewidth\": 2}}}, \"width\": 720},\n",
              "                        {\"responsive\": true}\n",
              "                    ).then(function(){\n",
              "                            \n",
              "var gd = document.getElementById('f2fbdcd8-c952-4d00-82a0-f9ae2776e5be');\n",
              "var x = new MutationObserver(function (mutations, observer) {{\n",
              "        var display = window.getComputedStyle(gd).display;\n",
              "        if (!display || display === 'none') {{\n",
              "            console.log([gd, 'removed!']);\n",
              "            Plotly.purge(gd);\n",
              "            observer.disconnect();\n",
              "        }}\n",
              "}});\n",
              "\n",
              "// Listen for the removal of the full notebook cells\n",
              "var notebookContainer = gd.closest('#notebook-container');\n",
              "if (notebookContainer) {{\n",
              "    x.observe(notebookContainer, {childList: true});\n",
              "}}\n",
              "\n",
              "// Listen for the clearing of the current output cell\n",
              "var outputEl = gd.closest('.output');\n",
              "if (outputEl) {{\n",
              "    x.observe(outputEl, {childList: true});\n",
              "}}\n",
              "\n",
              "                        })\n",
              "                };\n",
              "                });\n",
              "            </script>\n",
              "        </div>"
            ]
          },
          "metadata": {
            "tags": []
          }
        }
      ]
    },
    {
      "cell_type": "markdown",
      "metadata": {
        "id": "YpRAxxeaQtEj",
        "colab_type": "text"
      },
      "source": [
        "[Return to top](#top)"
      ]
    },
    {
      "cell_type": "markdown",
      "metadata": {
        "colab_type": "text",
        "id": "SYFyDn3HcSVA"
      },
      "source": [
        "<a id = \"11.6\"></a>"
      ]
    },
    {
      "cell_type": "markdown",
      "metadata": {
        "colab_type": "text",
        "id": "DZuYvTZ-z11v"
      },
      "source": [
        "<div class=\"feladat\">\n",
        "6. Feladat\n",
        "</div>"
      ]
    },
    {
      "cell_type": "markdown",
      "metadata": {
        "colab_type": "text",
        "id": "oh0Rwb8RcSVB"
      },
      "source": [
        "<div class=\"exercises\">\n",
        "Egy új gyógyszer hatását teszteljük egereken. Az egereket ún. kettős\n",
        "vakpróbának (t.i. ahol még a kísérlet vezetője se tudja, hogy ki kap\n",
        "gyógyszert és ki nem) vetjük alá. Az egereket megfertőzzük a betegséggel\n",
        "(mondjuk rákkal). Ezután két részre osztjuk az egereket. Mindegyik\n",
        "részt 10 darab, húsz egeret számláló csoportra osztjuk. Az egyik résznek\n",
        "gyógyszert adunk, a másiknak placebót (de mi se tudjuk melyiknek mit).\n",
        "Egy hónap múlva leszámoljuk a meglévő egereket, megnézzük hogy mit\n",
        "kaptak és azt találjuk, hogy a gyógyszerrel kezelt részben a huszas \n",
        "csoportokból rendre\n",
        "<br />\n",
        "11,14,15,15,11,15,10,11,9,14\n",
        "<br />\n",
        "darab egér maradt maradt életben. A placebóval kezelt részből pedig\n",
        "csoportonként\n",
        "<br />\n",
        "9,13,10,12,11,7,10,8,5,8\n",
        "<br />\n",
        "egér maradt életben.\n",
        "Statisztikai próbát végzünk, hogy megnézzük hogy 95%-os megbízhatósági\n",
        "szint mellett lehetséges-e, hogy a két valószínűségi változó várható értéke egyenlő? E\n",
        "szerint a próba szerint hatásos volt a gyógyszer? Feltételezzük, hogy a minták eloszlása normális.\n",
        "</div>"
      ]
    },
    {
      "cell_type": "markdown",
      "metadata": {
        "colab_type": "text",
        "id": "vzv6_9NXcSVB"
      },
      "source": [
        "<a id = \"11.6.1\"></a>\n",
        "<div class=\"solution\">Megoldás. </div>"
      ]
    },
    {
      "cell_type": "code",
      "metadata": {
        "id": "ccRc-IvMeRVe",
        "colab_type": "code",
        "colab": {}
      },
      "source": [
        "datalist1 = [11,14,15,15,11,15,10,11,9,14]\n",
        "datalist2 = [9,13,10,12,11,7,10,8,5,8]"
      ],
      "execution_count": 0,
      "outputs": []
    },
    {
      "cell_type": "markdown",
      "metadata": {
        "id": "c5ODFLhN2Ru6",
        "colab_type": "text"
      },
      "source": [
        "Kétmintás független $t$ próbát használunk, mert nem ismerjük a populáció szórását, és a két minta független egymástól. \n",
        "\n",
        "$H_0$: $E(X_1)=E(X_2)$, nullhipotézis \n",
        "\n",
        "$H_1$: $E(X_1)\\neq E(X_2)$, kétoldali ellenhipotézis. \n",
        "\n",
        "A kétmintás független $t$-próba próbastatisztikája\n",
        "\n",
        "$$\n",
        "t=\\frac {\\left(\\bar{X}_1-\\bar{X}_2\\right)-\\left(\\mu_1-\\mu_2 \\right)}\n",
        "{\\sqrt{\\dfrac{s_1^2}{n_1}+\\dfrac{s_2^2}{n_2}}},\n",
        "$$\n",
        "\n",
        "$$\n",
        "\\text{(degree of freedom) }df=\n",
        "\\frac{\n",
        "\\left[\\dfrac{s_1^2}{n_1}+\\dfrac{s_2^2}{n_2} \\right]^2}\n",
        "{\\dfrac{\\left(s_1^2/n_1 \\right)^2}{n_1-1}+\n",
        "\\dfrac{\\left(s_2^2/n_2 \\right)^2}{n_2-1}},\n",
        "$$\n",
        "\n",
        "ahol \n",
        "$\\bar {X}_i$ a vizsgált valószínűségi változó átlaga a mintában,\n",
        "$\\mu_i$ a várható érték, \n",
        "$s_i$ a minta korrigált tapasztalati szórása és\n",
        "$n_i$ a minta elemszáma."
      ]
    },
    {
      "cell_type": "code",
      "metadata": {
        "colab_type": "code",
        "id": "jpMxd1l3SWoU",
        "colab": {}
      },
      "source": [
        "t_value, p_value = stats.ttest_ind(datalist1, datalist2, equal_var=False)\n",
        "\n",
        "if p_value > 0.05:\n",
        "    decision = r'$\\text{Accept null hypothesis that the means are equal (fail to reject }H_0)$'\n",
        "else:\n",
        "    decision = r'$\\text{Reject the null hypothesis that the means are equal (reject }H_0)$'"
      ],
      "execution_count": 0,
      "outputs": []
    },
    {
      "cell_type": "code",
      "metadata": {
        "colab_type": "code",
        "outputId": "5607b60e-0f6d-4b21-b99e-66dbdf5eb8ed",
        "id": "GEtVJfmRSWoa",
        "colab": {
          "base_uri": "https://localhost:8080/",
          "height": 286
        }
      },
      "source": [
        "fig = go.Figure(\n",
        "    data=[go.Table(\n",
        "    columnwidth = [60,60,400],\n",
        "    header=dict(values=['t-value', 'p-value', 'Decision'],\n",
        "                line_color='darkslategray',\n",
        "                fill_color='lightskyblue',\n",
        "                align=['left','left','center'],\n",
        "                font=dict(size=14),\n",
        "                height=40),\n",
        "    cells=dict(values=[[round(t_value,4)], # 1st column\n",
        "                       [round(p_value,4)], # 2nd column\n",
        "                       [decision]],        # 3rd column\n",
        "               line_color='darkslategray',\n",
        "               fill_color='lightcyan',\n",
        "               align='left',\n",
        "               font=dict(size=12),\n",
        "               height=30))\n",
        "    ],\n",
        "    layout=dict(width=720, \n",
        "                 height=270)\n",
        "\n",
        "    )\n",
        "\n",
        "fig.show()"
      ],
      "execution_count": 52,
      "outputs": [
        {
          "output_type": "display_data",
          "data": {
            "text/html": [
              "<div>\n",
              "        \n",
              "        \n",
              "            <div id=\"0ef9b51f-c5f8-49af-8ad9-884eabf2e5f8\" class=\"plotly-graph-div\" style=\"height:270px; width:720px;\"></div>\n",
              "            <script type=\"text/javascript\">\n",
              "                require([\"plotly\"], function(Plotly) {\n",
              "                    window.PLOTLYENV=window.PLOTLYENV || {};\n",
              "                    \n",
              "                if (document.getElementById(\"0ef9b51f-c5f8-49af-8ad9-884eabf2e5f8\")) {\n",
              "                    Plotly.newPlot(\n",
              "                        '0ef9b51f-c5f8-49af-8ad9-884eabf2e5f8',\n",
              "                        [{\"cells\": {\"align\": \"left\", \"fill\": {\"color\": \"lightcyan\"}, \"font\": {\"size\": 12}, \"height\": 30, \"line\": {\"color\": \"darkslategray\"}, \"values\": [[3.0267], [0.0073], [\"$\\\\text{Reject the null hypothesis that the means are equal (reject }H_0)$\"]]}, \"columnwidth\": [60, 60, 400], \"header\": {\"align\": [\"left\", \"left\", \"center\"], \"fill\": {\"color\": \"lightskyblue\"}, \"font\": {\"size\": 14}, \"height\": 40, \"line\": {\"color\": \"darkslategray\"}, \"values\": [\"t-value\", \"p-value\", \"Decision\"]}, \"type\": \"table\"}],\n",
              "                        {\"height\": 270, \"template\": {\"data\": {\"bar\": [{\"error_x\": {\"color\": \"#2a3f5f\"}, \"error_y\": {\"color\": \"#2a3f5f\"}, \"marker\": {\"line\": {\"color\": \"#E5ECF6\", \"width\": 0.5}}, \"type\": \"bar\"}], \"barpolar\": [{\"marker\": {\"line\": {\"color\": \"#E5ECF6\", \"width\": 0.5}}, \"type\": \"barpolar\"}], \"carpet\": [{\"aaxis\": {\"endlinecolor\": \"#2a3f5f\", \"gridcolor\": \"white\", \"linecolor\": \"white\", \"minorgridcolor\": \"white\", \"startlinecolor\": \"#2a3f5f\"}, \"baxis\": {\"endlinecolor\": \"#2a3f5f\", \"gridcolor\": \"white\", \"linecolor\": \"white\", \"minorgridcolor\": \"white\", \"startlinecolor\": \"#2a3f5f\"}, \"type\": \"carpet\"}], \"choropleth\": [{\"colorbar\": {\"outlinewidth\": 0, \"ticks\": \"\"}, \"type\": \"choropleth\"}], \"contour\": [{\"colorbar\": {\"outlinewidth\": 0, \"ticks\": \"\"}, \"colorscale\": [[0.0, \"#0d0887\"], [0.1111111111111111, \"#46039f\"], [0.2222222222222222, \"#7201a8\"], [0.3333333333333333, \"#9c179e\"], [0.4444444444444444, \"#bd3786\"], [0.5555555555555556, \"#d8576b\"], [0.6666666666666666, \"#ed7953\"], [0.7777777777777778, \"#fb9f3a\"], [0.8888888888888888, \"#fdca26\"], [1.0, \"#f0f921\"]], \"type\": \"contour\"}], \"contourcarpet\": [{\"colorbar\": {\"outlinewidth\": 0, \"ticks\": \"\"}, \"type\": \"contourcarpet\"}], \"heatmap\": [{\"colorbar\": {\"outlinewidth\": 0, \"ticks\": \"\"}, \"colorscale\": [[0.0, \"#0d0887\"], [0.1111111111111111, \"#46039f\"], [0.2222222222222222, \"#7201a8\"], [0.3333333333333333, \"#9c179e\"], [0.4444444444444444, \"#bd3786\"], [0.5555555555555556, \"#d8576b\"], [0.6666666666666666, \"#ed7953\"], [0.7777777777777778, \"#fb9f3a\"], [0.8888888888888888, \"#fdca26\"], [1.0, \"#f0f921\"]], \"type\": \"heatmap\"}], \"heatmapgl\": [{\"colorbar\": {\"outlinewidth\": 0, \"ticks\": \"\"}, \"colorscale\": [[0.0, \"#0d0887\"], [0.1111111111111111, \"#46039f\"], [0.2222222222222222, \"#7201a8\"], [0.3333333333333333, \"#9c179e\"], [0.4444444444444444, \"#bd3786\"], [0.5555555555555556, \"#d8576b\"], [0.6666666666666666, \"#ed7953\"], [0.7777777777777778, \"#fb9f3a\"], [0.8888888888888888, \"#fdca26\"], [1.0, \"#f0f921\"]], \"type\": \"heatmapgl\"}], \"histogram\": [{\"marker\": {\"colorbar\": {\"outlinewidth\": 0, \"ticks\": \"\"}}, \"type\": \"histogram\"}], \"histogram2d\": [{\"colorbar\": {\"outlinewidth\": 0, \"ticks\": \"\"}, \"colorscale\": [[0.0, \"#0d0887\"], [0.1111111111111111, \"#46039f\"], [0.2222222222222222, \"#7201a8\"], [0.3333333333333333, \"#9c179e\"], [0.4444444444444444, \"#bd3786\"], [0.5555555555555556, \"#d8576b\"], [0.6666666666666666, \"#ed7953\"], [0.7777777777777778, \"#fb9f3a\"], [0.8888888888888888, \"#fdca26\"], [1.0, \"#f0f921\"]], \"type\": \"histogram2d\"}], \"histogram2dcontour\": [{\"colorbar\": {\"outlinewidth\": 0, \"ticks\": \"\"}, \"colorscale\": [[0.0, \"#0d0887\"], [0.1111111111111111, \"#46039f\"], [0.2222222222222222, \"#7201a8\"], [0.3333333333333333, \"#9c179e\"], [0.4444444444444444, \"#bd3786\"], [0.5555555555555556, \"#d8576b\"], [0.6666666666666666, \"#ed7953\"], [0.7777777777777778, \"#fb9f3a\"], [0.8888888888888888, \"#fdca26\"], [1.0, \"#f0f921\"]], \"type\": \"histogram2dcontour\"}], \"mesh3d\": [{\"colorbar\": {\"outlinewidth\": 0, \"ticks\": \"\"}, \"type\": \"mesh3d\"}], \"parcoords\": [{\"line\": {\"colorbar\": {\"outlinewidth\": 0, \"ticks\": \"\"}}, \"type\": \"parcoords\"}], \"scatter\": [{\"marker\": {\"colorbar\": {\"outlinewidth\": 0, \"ticks\": \"\"}}, \"type\": \"scatter\"}], \"scatter3d\": [{\"line\": {\"colorbar\": {\"outlinewidth\": 0, \"ticks\": \"\"}}, \"marker\": {\"colorbar\": {\"outlinewidth\": 0, \"ticks\": \"\"}}, \"type\": \"scatter3d\"}], \"scattercarpet\": [{\"marker\": {\"colorbar\": {\"outlinewidth\": 0, \"ticks\": \"\"}}, \"type\": \"scattercarpet\"}], \"scattergeo\": [{\"marker\": {\"colorbar\": {\"outlinewidth\": 0, \"ticks\": \"\"}}, \"type\": \"scattergeo\"}], \"scattergl\": [{\"marker\": {\"colorbar\": {\"outlinewidth\": 0, \"ticks\": \"\"}}, \"type\": \"scattergl\"}], \"scattermapbox\": [{\"marker\": {\"colorbar\": {\"outlinewidth\": 0, \"ticks\": \"\"}}, \"type\": \"scattermapbox\"}], \"scatterpolar\": [{\"marker\": {\"colorbar\": {\"outlinewidth\": 0, \"ticks\": \"\"}}, \"type\": \"scatterpolar\"}], \"scatterpolargl\": [{\"marker\": {\"colorbar\": {\"outlinewidth\": 0, \"ticks\": \"\"}}, \"type\": \"scatterpolargl\"}], \"scatterternary\": [{\"marker\": {\"colorbar\": {\"outlinewidth\": 0, \"ticks\": \"\"}}, \"type\": \"scatterternary\"}], \"surface\": [{\"colorbar\": {\"outlinewidth\": 0, \"ticks\": \"\"}, \"colorscale\": [[0.0, \"#0d0887\"], [0.1111111111111111, \"#46039f\"], [0.2222222222222222, \"#7201a8\"], [0.3333333333333333, \"#9c179e\"], [0.4444444444444444, \"#bd3786\"], [0.5555555555555556, \"#d8576b\"], [0.6666666666666666, \"#ed7953\"], [0.7777777777777778, \"#fb9f3a\"], [0.8888888888888888, \"#fdca26\"], [1.0, \"#f0f921\"]], \"type\": \"surface\"}], \"table\": [{\"cells\": {\"fill\": {\"color\": \"#EBF0F8\"}, \"line\": {\"color\": \"white\"}}, \"header\": {\"fill\": {\"color\": \"#C8D4E3\"}, \"line\": {\"color\": \"white\"}}, \"type\": \"table\"}]}, \"layout\": {\"annotationdefaults\": {\"arrowcolor\": \"#2a3f5f\", \"arrowhead\": 0, \"arrowwidth\": 1}, \"colorscale\": {\"diverging\": [[0, \"#8e0152\"], [0.1, \"#c51b7d\"], [0.2, \"#de77ae\"], [0.3, \"#f1b6da\"], [0.4, \"#fde0ef\"], [0.5, \"#f7f7f7\"], [0.6, \"#e6f5d0\"], [0.7, \"#b8e186\"], [0.8, \"#7fbc41\"], [0.9, \"#4d9221\"], [1, \"#276419\"]], \"sequential\": [[0.0, \"#0d0887\"], [0.1111111111111111, \"#46039f\"], [0.2222222222222222, \"#7201a8\"], [0.3333333333333333, \"#9c179e\"], [0.4444444444444444, \"#bd3786\"], [0.5555555555555556, \"#d8576b\"], [0.6666666666666666, \"#ed7953\"], [0.7777777777777778, \"#fb9f3a\"], [0.8888888888888888, \"#fdca26\"], [1.0, \"#f0f921\"]], \"sequentialminus\": [[0.0, \"#0d0887\"], [0.1111111111111111, \"#46039f\"], [0.2222222222222222, \"#7201a8\"], [0.3333333333333333, \"#9c179e\"], [0.4444444444444444, \"#bd3786\"], [0.5555555555555556, \"#d8576b\"], [0.6666666666666666, \"#ed7953\"], [0.7777777777777778, \"#fb9f3a\"], [0.8888888888888888, \"#fdca26\"], [1.0, \"#f0f921\"]]}, \"colorway\": [\"#636efa\", \"#EF553B\", \"#00cc96\", \"#ab63fa\", \"#FFA15A\", \"#19d3f3\", \"#FF6692\", \"#B6E880\", \"#FF97FF\", \"#FECB52\"], \"font\": {\"color\": \"#2a3f5f\"}, \"geo\": {\"bgcolor\": \"white\", \"lakecolor\": \"white\", \"landcolor\": \"#E5ECF6\", \"showlakes\": true, \"showland\": true, \"subunitcolor\": \"white\"}, \"hoverlabel\": {\"align\": \"left\"}, \"hovermode\": \"closest\", \"mapbox\": {\"style\": \"light\"}, \"paper_bgcolor\": \"white\", \"plot_bgcolor\": \"#E5ECF6\", \"polar\": {\"angularaxis\": {\"gridcolor\": \"white\", \"linecolor\": \"white\", \"ticks\": \"\"}, \"bgcolor\": \"#E5ECF6\", \"radialaxis\": {\"gridcolor\": \"white\", \"linecolor\": \"white\", \"ticks\": \"\"}}, \"scene\": {\"xaxis\": {\"backgroundcolor\": \"#E5ECF6\", \"gridcolor\": \"white\", \"gridwidth\": 2, \"linecolor\": \"white\", \"showbackground\": true, \"ticks\": \"\", \"zerolinecolor\": \"white\"}, \"yaxis\": {\"backgroundcolor\": \"#E5ECF6\", \"gridcolor\": \"white\", \"gridwidth\": 2, \"linecolor\": \"white\", \"showbackground\": true, \"ticks\": \"\", \"zerolinecolor\": \"white\"}, \"zaxis\": {\"backgroundcolor\": \"#E5ECF6\", \"gridcolor\": \"white\", \"gridwidth\": 2, \"linecolor\": \"white\", \"showbackground\": true, \"ticks\": \"\", \"zerolinecolor\": \"white\"}}, \"shapedefaults\": {\"line\": {\"color\": \"#2a3f5f\"}}, \"ternary\": {\"aaxis\": {\"gridcolor\": \"white\", \"linecolor\": \"white\", \"ticks\": \"\"}, \"baxis\": {\"gridcolor\": \"white\", \"linecolor\": \"white\", \"ticks\": \"\"}, \"bgcolor\": \"#E5ECF6\", \"caxis\": {\"gridcolor\": \"white\", \"linecolor\": \"white\", \"ticks\": \"\"}}, \"title\": {\"x\": 0.05}, \"xaxis\": {\"automargin\": true, \"gridcolor\": \"white\", \"linecolor\": \"white\", \"ticks\": \"\", \"zerolinecolor\": \"white\", \"zerolinewidth\": 2}, \"yaxis\": {\"automargin\": true, \"gridcolor\": \"white\", \"linecolor\": \"white\", \"ticks\": \"\", \"zerolinecolor\": \"white\", \"zerolinewidth\": 2}}}, \"width\": 720},\n",
              "                        {\"responsive\": true}\n",
              "                    ).then(function(){\n",
              "                            \n",
              "var gd = document.getElementById('0ef9b51f-c5f8-49af-8ad9-884eabf2e5f8');\n",
              "var x = new MutationObserver(function (mutations, observer) {{\n",
              "        var display = window.getComputedStyle(gd).display;\n",
              "        if (!display || display === 'none') {{\n",
              "            console.log([gd, 'removed!']);\n",
              "            Plotly.purge(gd);\n",
              "            observer.disconnect();\n",
              "        }}\n",
              "}});\n",
              "\n",
              "// Listen for the removal of the full notebook cells\n",
              "var notebookContainer = gd.closest('#notebook-container');\n",
              "if (notebookContainer) {{\n",
              "    x.observe(notebookContainer, {childList: true});\n",
              "}}\n",
              "\n",
              "// Listen for the clearing of the current output cell\n",
              "var outputEl = gd.closest('.output');\n",
              "if (outputEl) {{\n",
              "    x.observe(outputEl, {childList: true});\n",
              "}}\n",
              "\n",
              "                        })\n",
              "                };\n",
              "                });\n",
              "            </script>\n",
              "        </div>"
            ]
          },
          "metadata": {
            "tags": []
          }
        }
      ]
    },
    {
      "cell_type": "markdown",
      "metadata": {
        "id": "5_nBkWr0RoBI",
        "colab_type": "text"
      },
      "source": [
        "[Return to top](#top)"
      ]
    },
    {
      "cell_type": "markdown",
      "metadata": {
        "colab_type": "text",
        "id": "QrVVZb8keSQD"
      },
      "source": [
        "<a id = \"11.hf\"></a>\n",
        "**Házi feladat**"
      ]
    },
    {
      "cell_type": "markdown",
      "metadata": {
        "colab_type": "text",
        "id": "6Ypt-XaAeSQE"
      },
      "source": [
        "<a id = \"11.hf.1\"></a>"
      ]
    },
    {
      "cell_type": "markdown",
      "metadata": {
        "colab_type": "text",
        "id": "YIwPnaj3z67G"
      },
      "source": [
        "<div class=\"feladat\">\n",
        "1. Feladat\n",
        "</div>"
      ]
    },
    {
      "cell_type": "markdown",
      "metadata": {
        "id": "9lwq46IceW44",
        "colab_type": "text"
      },
      "source": [
        "<div class=\"exercises\">\n",
        "A statisztika tanár gondol egyet és megméri egyik gyakorlati \n",
        "csoportjában a nők magasságát a következő eredményeket kapja\n",
        "<br />\n",
        "173,164,174,167,168,157,173,170,161,170\n",
        "<br />\n",
        "a) A rendelkezésre álló adatok alapján adja meg a nők magasságának\n",
        "empirikus várható értékét, empirikus szórásnégyzetét, korrigált \n",
        "empirikus szórásnégyzetét.\n",
        "<br />\n",
        "b) Melyik statisztika torzítatlan, aszimptotikusan torzítatlan, a két \n",
        "szórásnégyzet közül melyik hatékonyabb?\n",
        "<br />\n",
        "c) Végezzünk $t$-próbát annak eldöntésére, hogy 95%-os megbízhatósági\n",
        "szinten megegyezik-e a várható érték 165-tel!\n",
        "</div>"
      ]
    },
    {
      "cell_type": "markdown",
      "metadata": {
        "colab_type": "text",
        "id": "srOCmWfUeo2Q"
      },
      "source": [
        "<a id = \"11.hf.1.1\"></a>\n",
        "<div class=\"solution\">Megoldás. </div>"
      ]
    },
    {
      "cell_type": "markdown",
      "metadata": {
        "colab_type": "text",
        "id": "CiuxRVK1gHeL"
      },
      "source": [
        "<a id = \"11.hf.1.1.a\"></a>\n",
        "a) tapasztalati várható érték, szórás, korrigált tapasztalati szórás"
      ]
    },
    {
      "cell_type": "code",
      "metadata": {
        "id": "uujW6K9WgxCN",
        "colab_type": "code",
        "colab": {}
      },
      "source": [
        "datalist = [173,164,174,167,168,157,173,170,161,170]\n",
        "mu = 165"
      ],
      "execution_count": 0,
      "outputs": []
    },
    {
      "cell_type": "code",
      "metadata": {
        "colab_type": "code",
        "outputId": "db3b2522-740a-4093-bd29-deb63efa6177",
        "id": "NRPLmEGygHeQ",
        "colab": {
          "base_uri": "https://localhost:8080/",
          "height": 70
        }
      },
      "source": [
        "print(\"A tapasztalati várható érték: \", round(np.mean(datalist), 5))\n",
        "print(\"A tapasztalati szórás:\", round(np.std(datalist), 5))\n",
        "print(\"A korrigált tapasztalati szórás: \", round(np.sqrt(len(datalist)/(len(datalist)-1)) * np.std(datalist), 5))"
      ],
      "execution_count": 54,
      "outputs": [
        {
          "output_type": "stream",
          "text": [
            "A tapasztalati várható érték:  167.7\n",
            "A tapasztalati szórás: 5.29245\n",
            "A korrigált tapasztalati szórás:  5.57873\n"
          ],
          "name": "stdout"
        }
      ]
    },
    {
      "cell_type": "markdown",
      "metadata": {
        "id": "noZeXjcqQ1U3",
        "colab_type": "text"
      },
      "source": [
        "[Return to top](#top)"
      ]
    },
    {
      "cell_type": "markdown",
      "metadata": {
        "id": "vV7pt3Zygfq5",
        "colab_type": "text"
      },
      "source": [
        "<a id = \"11.hf.1.1.c\"></a>\n",
        "c) Végezzünk $t$-próbát annak eldöntésére, hogy 95%-os megbízhatósági\n",
        "szinten megegyezik-e a várható érték 165-tel!"
      ]
    },
    {
      "cell_type": "code",
      "metadata": {
        "colab_type": "code",
        "id": "ilkbcjgAZY0A",
        "colab": {}
      },
      "source": [
        "one_sample = stats.ttest_1samp(datalist, mu)\n",
        "t_value = one_sample[0]\n",
        "p_value = one_sample[1]\n",
        "\n",
        "if p_value > 0.05:\n",
        "    decision = r'$\\text{Sample is likely drawn from the same distribution (fail to reject }H_0)$'\n",
        "else:\n",
        "    decision = r'$\\text{Sample is likely drawn from different distribution (reject }H_0)$'"
      ],
      "execution_count": 0,
      "outputs": []
    },
    {
      "cell_type": "code",
      "metadata": {
        "colab_type": "code",
        "outputId": "a208cb00-1ec5-466a-f77b-03def7855a9a",
        "id": "ZtSC_VNMZY0J",
        "colab": {
          "base_uri": "https://localhost:8080/",
          "height": 286
        }
      },
      "source": [
        "fig = go.Figure(data=[go.Table(\n",
        "    columnwidth = [60,60,400],\n",
        "    header=dict(values=['t-value', 'p-value', 'Decision'],\n",
        "                line_color='darkslategray',\n",
        "                fill_color='lightskyblue',\n",
        "                align=['left','left','center'],\n",
        "                font=dict(size=14),\n",
        "                height=40),\n",
        "    cells=dict(values=[[round(t_value,4)], # 1st column\n",
        "                       [round(p_value,4)], # 2nd column\n",
        "                       [decision]],        # 3rd column\n",
        "               line_color='darkslategray',\n",
        "               fill_color='lightcyan',\n",
        "               align='left',\n",
        "               font=dict(size=12),\n",
        "               height=30))\n",
        "    ],\n",
        "    layout=dict(width=720, \n",
        "                 height=270)\n",
        ")\n",
        "\n",
        "fig.show()"
      ],
      "execution_count": 56,
      "outputs": [
        {
          "output_type": "display_data",
          "data": {
            "text/html": [
              "<div>\n",
              "        \n",
              "        \n",
              "            <div id=\"13ddbed0-4f2a-4038-88be-b73c30fb8e4d\" class=\"plotly-graph-div\" style=\"height:270px; width:720px;\"></div>\n",
              "            <script type=\"text/javascript\">\n",
              "                require([\"plotly\"], function(Plotly) {\n",
              "                    window.PLOTLYENV=window.PLOTLYENV || {};\n",
              "                    \n",
              "                if (document.getElementById(\"13ddbed0-4f2a-4038-88be-b73c30fb8e4d\")) {\n",
              "                    Plotly.newPlot(\n",
              "                        '13ddbed0-4f2a-4038-88be-b73c30fb8e4d',\n",
              "                        [{\"cells\": {\"align\": \"left\", \"fill\": {\"color\": \"lightcyan\"}, \"font\": {\"size\": 12}, \"height\": 30, \"line\": {\"color\": \"darkslategray\"}, \"values\": [[1.5305], [0.1603], [\"$\\\\text{Sample is likely drawn from the same distribution (fail to reject }H_0)$\"]]}, \"columnwidth\": [60, 60, 400], \"header\": {\"align\": [\"left\", \"left\", \"center\"], \"fill\": {\"color\": \"lightskyblue\"}, \"font\": {\"size\": 14}, \"height\": 40, \"line\": {\"color\": \"darkslategray\"}, \"values\": [\"t-value\", \"p-value\", \"Decision\"]}, \"type\": \"table\"}],\n",
              "                        {\"height\": 270, \"template\": {\"data\": {\"bar\": [{\"error_x\": {\"color\": \"#2a3f5f\"}, \"error_y\": {\"color\": \"#2a3f5f\"}, \"marker\": {\"line\": {\"color\": \"#E5ECF6\", \"width\": 0.5}}, \"type\": \"bar\"}], \"barpolar\": [{\"marker\": {\"line\": {\"color\": \"#E5ECF6\", \"width\": 0.5}}, \"type\": \"barpolar\"}], \"carpet\": [{\"aaxis\": {\"endlinecolor\": \"#2a3f5f\", \"gridcolor\": \"white\", \"linecolor\": \"white\", \"minorgridcolor\": \"white\", \"startlinecolor\": \"#2a3f5f\"}, \"baxis\": {\"endlinecolor\": \"#2a3f5f\", \"gridcolor\": \"white\", \"linecolor\": \"white\", \"minorgridcolor\": \"white\", \"startlinecolor\": \"#2a3f5f\"}, \"type\": \"carpet\"}], \"choropleth\": [{\"colorbar\": {\"outlinewidth\": 0, \"ticks\": \"\"}, \"type\": \"choropleth\"}], \"contour\": [{\"colorbar\": {\"outlinewidth\": 0, \"ticks\": \"\"}, \"colorscale\": [[0.0, \"#0d0887\"], [0.1111111111111111, \"#46039f\"], [0.2222222222222222, \"#7201a8\"], [0.3333333333333333, \"#9c179e\"], [0.4444444444444444, \"#bd3786\"], [0.5555555555555556, \"#d8576b\"], [0.6666666666666666, \"#ed7953\"], [0.7777777777777778, \"#fb9f3a\"], [0.8888888888888888, \"#fdca26\"], [1.0, \"#f0f921\"]], \"type\": \"contour\"}], \"contourcarpet\": [{\"colorbar\": {\"outlinewidth\": 0, \"ticks\": \"\"}, \"type\": \"contourcarpet\"}], \"heatmap\": [{\"colorbar\": {\"outlinewidth\": 0, \"ticks\": \"\"}, \"colorscale\": [[0.0, \"#0d0887\"], [0.1111111111111111, \"#46039f\"], [0.2222222222222222, \"#7201a8\"], [0.3333333333333333, \"#9c179e\"], [0.4444444444444444, \"#bd3786\"], [0.5555555555555556, \"#d8576b\"], [0.6666666666666666, \"#ed7953\"], [0.7777777777777778, \"#fb9f3a\"], [0.8888888888888888, \"#fdca26\"], [1.0, \"#f0f921\"]], \"type\": \"heatmap\"}], \"heatmapgl\": [{\"colorbar\": {\"outlinewidth\": 0, \"ticks\": \"\"}, \"colorscale\": [[0.0, \"#0d0887\"], [0.1111111111111111, \"#46039f\"], [0.2222222222222222, \"#7201a8\"], [0.3333333333333333, \"#9c179e\"], [0.4444444444444444, \"#bd3786\"], [0.5555555555555556, \"#d8576b\"], [0.6666666666666666, \"#ed7953\"], [0.7777777777777778, \"#fb9f3a\"], [0.8888888888888888, \"#fdca26\"], [1.0, \"#f0f921\"]], \"type\": \"heatmapgl\"}], \"histogram\": [{\"marker\": {\"colorbar\": {\"outlinewidth\": 0, \"ticks\": \"\"}}, \"type\": \"histogram\"}], \"histogram2d\": [{\"colorbar\": {\"outlinewidth\": 0, \"ticks\": \"\"}, \"colorscale\": [[0.0, \"#0d0887\"], [0.1111111111111111, \"#46039f\"], [0.2222222222222222, \"#7201a8\"], [0.3333333333333333, \"#9c179e\"], [0.4444444444444444, \"#bd3786\"], [0.5555555555555556, \"#d8576b\"], [0.6666666666666666, \"#ed7953\"], [0.7777777777777778, \"#fb9f3a\"], [0.8888888888888888, \"#fdca26\"], [1.0, \"#f0f921\"]], \"type\": \"histogram2d\"}], \"histogram2dcontour\": [{\"colorbar\": {\"outlinewidth\": 0, \"ticks\": \"\"}, \"colorscale\": [[0.0, \"#0d0887\"], [0.1111111111111111, \"#46039f\"], [0.2222222222222222, \"#7201a8\"], [0.3333333333333333, \"#9c179e\"], [0.4444444444444444, \"#bd3786\"], [0.5555555555555556, \"#d8576b\"], [0.6666666666666666, \"#ed7953\"], [0.7777777777777778, \"#fb9f3a\"], [0.8888888888888888, \"#fdca26\"], [1.0, \"#f0f921\"]], \"type\": \"histogram2dcontour\"}], \"mesh3d\": [{\"colorbar\": {\"outlinewidth\": 0, \"ticks\": \"\"}, \"type\": \"mesh3d\"}], \"parcoords\": [{\"line\": {\"colorbar\": {\"outlinewidth\": 0, \"ticks\": \"\"}}, \"type\": \"parcoords\"}], \"scatter\": [{\"marker\": {\"colorbar\": {\"outlinewidth\": 0, \"ticks\": \"\"}}, \"type\": \"scatter\"}], \"scatter3d\": [{\"line\": {\"colorbar\": {\"outlinewidth\": 0, \"ticks\": \"\"}}, \"marker\": {\"colorbar\": {\"outlinewidth\": 0, \"ticks\": \"\"}}, \"type\": \"scatter3d\"}], \"scattercarpet\": [{\"marker\": {\"colorbar\": {\"outlinewidth\": 0, \"ticks\": \"\"}}, \"type\": \"scattercarpet\"}], \"scattergeo\": [{\"marker\": {\"colorbar\": {\"outlinewidth\": 0, \"ticks\": \"\"}}, \"type\": \"scattergeo\"}], \"scattergl\": [{\"marker\": {\"colorbar\": {\"outlinewidth\": 0, \"ticks\": \"\"}}, \"type\": \"scattergl\"}], \"scattermapbox\": [{\"marker\": {\"colorbar\": {\"outlinewidth\": 0, \"ticks\": \"\"}}, \"type\": \"scattermapbox\"}], \"scatterpolar\": [{\"marker\": {\"colorbar\": {\"outlinewidth\": 0, \"ticks\": \"\"}}, \"type\": \"scatterpolar\"}], \"scatterpolargl\": [{\"marker\": {\"colorbar\": {\"outlinewidth\": 0, \"ticks\": \"\"}}, \"type\": \"scatterpolargl\"}], \"scatterternary\": [{\"marker\": {\"colorbar\": {\"outlinewidth\": 0, \"ticks\": \"\"}}, \"type\": \"scatterternary\"}], \"surface\": [{\"colorbar\": {\"outlinewidth\": 0, \"ticks\": \"\"}, \"colorscale\": [[0.0, \"#0d0887\"], [0.1111111111111111, \"#46039f\"], [0.2222222222222222, \"#7201a8\"], [0.3333333333333333, \"#9c179e\"], [0.4444444444444444, \"#bd3786\"], [0.5555555555555556, \"#d8576b\"], [0.6666666666666666, \"#ed7953\"], [0.7777777777777778, \"#fb9f3a\"], [0.8888888888888888, \"#fdca26\"], [1.0, \"#f0f921\"]], \"type\": \"surface\"}], \"table\": [{\"cells\": {\"fill\": {\"color\": \"#EBF0F8\"}, \"line\": {\"color\": \"white\"}}, \"header\": {\"fill\": {\"color\": \"#C8D4E3\"}, \"line\": {\"color\": \"white\"}}, \"type\": \"table\"}]}, \"layout\": {\"annotationdefaults\": {\"arrowcolor\": \"#2a3f5f\", \"arrowhead\": 0, \"arrowwidth\": 1}, \"colorscale\": {\"diverging\": [[0, \"#8e0152\"], [0.1, \"#c51b7d\"], [0.2, \"#de77ae\"], [0.3, \"#f1b6da\"], [0.4, \"#fde0ef\"], [0.5, \"#f7f7f7\"], [0.6, \"#e6f5d0\"], [0.7, \"#b8e186\"], [0.8, \"#7fbc41\"], [0.9, \"#4d9221\"], [1, \"#276419\"]], \"sequential\": [[0.0, \"#0d0887\"], [0.1111111111111111, \"#46039f\"], [0.2222222222222222, \"#7201a8\"], [0.3333333333333333, \"#9c179e\"], [0.4444444444444444, \"#bd3786\"], [0.5555555555555556, \"#d8576b\"], [0.6666666666666666, \"#ed7953\"], [0.7777777777777778, \"#fb9f3a\"], [0.8888888888888888, \"#fdca26\"], [1.0, \"#f0f921\"]], \"sequentialminus\": [[0.0, \"#0d0887\"], [0.1111111111111111, \"#46039f\"], [0.2222222222222222, \"#7201a8\"], [0.3333333333333333, \"#9c179e\"], [0.4444444444444444, \"#bd3786\"], [0.5555555555555556, \"#d8576b\"], [0.6666666666666666, \"#ed7953\"], [0.7777777777777778, \"#fb9f3a\"], [0.8888888888888888, \"#fdca26\"], [1.0, \"#f0f921\"]]}, \"colorway\": [\"#636efa\", \"#EF553B\", \"#00cc96\", \"#ab63fa\", \"#FFA15A\", \"#19d3f3\", \"#FF6692\", \"#B6E880\", \"#FF97FF\", \"#FECB52\"], \"font\": {\"color\": \"#2a3f5f\"}, \"geo\": {\"bgcolor\": \"white\", \"lakecolor\": \"white\", \"landcolor\": \"#E5ECF6\", \"showlakes\": true, \"showland\": true, \"subunitcolor\": \"white\"}, \"hoverlabel\": {\"align\": \"left\"}, \"hovermode\": \"closest\", \"mapbox\": {\"style\": \"light\"}, \"paper_bgcolor\": \"white\", \"plot_bgcolor\": \"#E5ECF6\", \"polar\": {\"angularaxis\": {\"gridcolor\": \"white\", \"linecolor\": \"white\", \"ticks\": \"\"}, \"bgcolor\": \"#E5ECF6\", \"radialaxis\": {\"gridcolor\": \"white\", \"linecolor\": \"white\", \"ticks\": \"\"}}, \"scene\": {\"xaxis\": {\"backgroundcolor\": \"#E5ECF6\", \"gridcolor\": \"white\", \"gridwidth\": 2, \"linecolor\": \"white\", \"showbackground\": true, \"ticks\": \"\", \"zerolinecolor\": \"white\"}, \"yaxis\": {\"backgroundcolor\": \"#E5ECF6\", \"gridcolor\": \"white\", \"gridwidth\": 2, \"linecolor\": \"white\", \"showbackground\": true, \"ticks\": \"\", \"zerolinecolor\": \"white\"}, \"zaxis\": {\"backgroundcolor\": \"#E5ECF6\", \"gridcolor\": \"white\", \"gridwidth\": 2, \"linecolor\": \"white\", \"showbackground\": true, \"ticks\": \"\", \"zerolinecolor\": \"white\"}}, \"shapedefaults\": {\"line\": {\"color\": \"#2a3f5f\"}}, \"ternary\": {\"aaxis\": {\"gridcolor\": \"white\", \"linecolor\": \"white\", \"ticks\": \"\"}, \"baxis\": {\"gridcolor\": \"white\", \"linecolor\": \"white\", \"ticks\": \"\"}, \"bgcolor\": \"#E5ECF6\", \"caxis\": {\"gridcolor\": \"white\", \"linecolor\": \"white\", \"ticks\": \"\"}}, \"title\": {\"x\": 0.05}, \"xaxis\": {\"automargin\": true, \"gridcolor\": \"white\", \"linecolor\": \"white\", \"ticks\": \"\", \"zerolinecolor\": \"white\", \"zerolinewidth\": 2}, \"yaxis\": {\"automargin\": true, \"gridcolor\": \"white\", \"linecolor\": \"white\", \"ticks\": \"\", \"zerolinecolor\": \"white\", \"zerolinewidth\": 2}}}, \"width\": 720},\n",
              "                        {\"responsive\": true}\n",
              "                    ).then(function(){\n",
              "                            \n",
              "var gd = document.getElementById('13ddbed0-4f2a-4038-88be-b73c30fb8e4d');\n",
              "var x = new MutationObserver(function (mutations, observer) {{\n",
              "        var display = window.getComputedStyle(gd).display;\n",
              "        if (!display || display === 'none') {{\n",
              "            console.log([gd, 'removed!']);\n",
              "            Plotly.purge(gd);\n",
              "            observer.disconnect();\n",
              "        }}\n",
              "}});\n",
              "\n",
              "// Listen for the removal of the full notebook cells\n",
              "var notebookContainer = gd.closest('#notebook-container');\n",
              "if (notebookContainer) {{\n",
              "    x.observe(notebookContainer, {childList: true});\n",
              "}}\n",
              "\n",
              "// Listen for the clearing of the current output cell\n",
              "var outputEl = gd.closest('.output');\n",
              "if (outputEl) {{\n",
              "    x.observe(outputEl, {childList: true});\n",
              "}}\n",
              "\n",
              "                        })\n",
              "                };\n",
              "                });\n",
              "            </script>\n",
              "        </div>"
            ]
          },
          "metadata": {
            "tags": []
          }
        }
      ]
    },
    {
      "cell_type": "markdown",
      "metadata": {
        "id": "XVTXzOoYu3Vz",
        "colab_type": "text"
      },
      "source": [
        "[Return to top](#top)"
      ]
    },
    {
      "cell_type": "markdown",
      "metadata": {
        "colab_type": "text",
        "id": "FAHIICAkU4u4"
      },
      "source": [
        "<a id = \"12\"></a>"
      ]
    },
    {
      "cell_type": "markdown",
      "metadata": {
        "id": "HFT72-XYuzso",
        "colab_type": "text"
      },
      "source": [
        "<div class=\"section\">\n",
        "12. hét\n",
        "</div>"
      ]
    },
    {
      "cell_type": "markdown",
      "metadata": {
        "id": "tkM7EzbwvOdh",
        "colab_type": "text"
      },
      "source": [
        "<a id = \"12.1\"></a>"
      ]
    },
    {
      "cell_type": "markdown",
      "metadata": {
        "colab_type": "text",
        "id": "sr-UTtD10Ahn"
      },
      "source": [
        "<div class=\"feladat\">\n",
        "1. Feladat\n",
        "</div>"
      ]
    },
    {
      "cell_type": "markdown",
      "metadata": {
        "id": "WKeXx9rIWBwH",
        "colab_type": "text"
      },
      "source": [
        "<div class=\"exercises\">\n",
        "A Yavini csata során Luke Skywalker percenként\n",
        "<br />\n",
        "5, 5, 10, 2, 3, 6, 12, 11, 7, 9\n",
        "<br />\n",
        "birodalmi vadászgéppel végez. Wedge Antilles a lázadók veterán pilótája ugyanekkor\n",
        "<br />\n",
        "3, 4, 8, 4, 5, 4, 6, 4, 5, 4\n",
        "<br />\n",
        "vadászgéppel végzett. Mivel az ellenfelek hullámokban jönnek (nem mindig van ugyanannyi vadászgép) végezzünk páros $t$-próbát, hogy Luke szignifikánsan —5% szignifikancia szint mellett— jobb-e mint Antilles.\n",
        "</div>"
      ]
    },
    {
      "cell_type": "markdown",
      "metadata": {
        "colab_type": "text",
        "id": "asfrOx4sX8KU"
      },
      "source": [
        "<a id = \"12.1.1\"></a>\n",
        "<div class=\"solution\">Megoldás. </div>"
      ]
    },
    {
      "cell_type": "markdown",
      "metadata": {
        "id": "ATOr4gUzXvMH",
        "colab_type": "text"
      },
      "source": [
        "Kétmintás nem független $t$ próbát használunk, mert nem ismerjük a populáció szórását, és a két minta nem független egymástól, mert az ellenfelek hullámban, egyszerre jönnek . \n",
        "\n",
        "$H_0$: $E(X_1)\\geq E(X_2)$, nullhipotézis \n",
        "\n",
        "$H_1$: $E(X_1)< E(X_2)$, egyoldali (jobb oldali) ellenhipotézis. \n",
        "\n",
        "Az $X_1-X_2$ különbségre alkalmazzuk az egymintás $t$ próbát,\n",
        "$$\n",
        "t=\\dfrac{\\bar{X}_D}\n",
        "{\\dfrac{s_D}{\\sqrt{n}} }.\n",
        "$$"
      ]
    },
    {
      "cell_type": "code",
      "metadata": {
        "colab_type": "code",
        "id": "wNczrrkGYLD1",
        "colab": {}
      },
      "source": [
        "datalist1 = np.array([5, 5, 10, 2, 3, 6, 12, 11, 7, 9]) # Luke Skywalker\n",
        "datalist2 = np.array([3, 4, 8, 4, 5, 4, 6, 4, 5, 4]) # Wedge Antilles"
      ],
      "execution_count": 0,
      "outputs": []
    },
    {
      "cell_type": "code",
      "metadata": {
        "id": "AK6Csdo7Y3vo",
        "colab_type": "code",
        "colab": {}
      },
      "source": [
        "t_value, _ = stats.ttest_rel(datalist1, datalist2)\n",
        "p_value = stats.t.cdf(t_value, len(datalist1) - 1)\n",
        "\n",
        "if p_value > 0.05:\n",
        "    decision = \"The mean of Skywalker is equal or greater than the mean \\\n",
        "                of Antilles (fail to reject \"+$H_0$+\")\"\n",
        "else:\n",
        "    decision = r'$\\text{The mean of Skywalker is less than the mean of Antilles (reject }H_0)$'"
      ],
      "execution_count": 0,
      "outputs": []
    },
    {
      "cell_type": "code",
      "metadata": {
        "colab_type": "code",
        "outputId": "07f8b8d3-f16d-4cca-9dbc-d1c4fda3475e",
        "id": "v2bPm38YljiC",
        "colab": {
          "base_uri": "https://localhost:8080/",
          "height": 286
        }
      },
      "source": [
        "fig = go.Figure(data=[go.Table(\n",
        "    columnwidth = [60,60,450],\n",
        "    header=dict(values=['t-value', 'p-value', 'Decision'],\n",
        "                line_color='darkslategray',\n",
        "                fill_color='lightskyblue',\n",
        "                align=['left','left','center'],\n",
        "                font=dict(size=14),\n",
        "                height=40),\n",
        "    cells=dict(values=[[round(t_value,4)], # 1st column\n",
        "                       [round(p_value,4)], # 2nd column\n",
        "                       [decision]],        # 3rd column\n",
        "               line_color='darkslategray',\n",
        "               fill_color='lightcyan',\n",
        "               align='left',\n",
        "               font=dict(size=12),\n",
        "               height=30))\n",
        "    ],\n",
        "    layout=dict(width=850, \n",
        "                 height=270)\n",
        ")\n",
        "\n",
        "fig.show()"
      ],
      "execution_count": 83,
      "outputs": [
        {
          "output_type": "display_data",
          "data": {
            "text/html": [
              "<div>\n",
              "        \n",
              "        \n",
              "            <div id=\"cf85477b-7c4a-45d1-bd34-9ca28633d2c9\" class=\"plotly-graph-div\" style=\"height:270px; width:850px;\"></div>\n",
              "            <script type=\"text/javascript\">\n",
              "                require([\"plotly\"], function(Plotly) {\n",
              "                    window.PLOTLYENV=window.PLOTLYENV || {};\n",
              "                    \n",
              "                if (document.getElementById(\"cf85477b-7c4a-45d1-bd34-9ca28633d2c9\")) {\n",
              "                    Plotly.newPlot(\n",
              "                        'cf85477b-7c4a-45d1-bd34-9ca28633d2c9',\n",
              "                        [{\"cells\": {\"align\": \"left\", \"fill\": {\"color\": \"lightcyan\"}, \"font\": {\"size\": 12}, \"height\": 30, \"line\": {\"color\": \"darkslategray\"}, \"values\": [[2.4081], [0.9803], [\"$\\\\text{The mean of Skywalker is equal or greater than <br />the mean of Antilles (fail to reject }H_0)$\"]]}, \"columnwidth\": [60, 60, 450], \"header\": {\"align\": [\"left\", \"left\", \"center\"], \"fill\": {\"color\": \"lightskyblue\"}, \"font\": {\"size\": 14}, \"height\": 40, \"line\": {\"color\": \"darkslategray\"}, \"values\": [\"t-value\", \"p-value\", \"Decision\"]}, \"type\": \"table\"}],\n",
              "                        {\"height\": 270, \"template\": {\"data\": {\"bar\": [{\"error_x\": {\"color\": \"#2a3f5f\"}, \"error_y\": {\"color\": \"#2a3f5f\"}, \"marker\": {\"line\": {\"color\": \"#E5ECF6\", \"width\": 0.5}}, \"type\": \"bar\"}], \"barpolar\": [{\"marker\": {\"line\": {\"color\": \"#E5ECF6\", \"width\": 0.5}}, \"type\": \"barpolar\"}], \"carpet\": [{\"aaxis\": {\"endlinecolor\": \"#2a3f5f\", \"gridcolor\": \"white\", \"linecolor\": \"white\", \"minorgridcolor\": \"white\", \"startlinecolor\": \"#2a3f5f\"}, \"baxis\": {\"endlinecolor\": \"#2a3f5f\", \"gridcolor\": \"white\", \"linecolor\": \"white\", \"minorgridcolor\": \"white\", \"startlinecolor\": \"#2a3f5f\"}, \"type\": \"carpet\"}], \"choropleth\": [{\"colorbar\": {\"outlinewidth\": 0, \"ticks\": \"\"}, \"type\": \"choropleth\"}], \"contour\": [{\"colorbar\": {\"outlinewidth\": 0, \"ticks\": \"\"}, \"colorscale\": [[0.0, \"#0d0887\"], [0.1111111111111111, \"#46039f\"], [0.2222222222222222, \"#7201a8\"], [0.3333333333333333, \"#9c179e\"], [0.4444444444444444, \"#bd3786\"], [0.5555555555555556, \"#d8576b\"], [0.6666666666666666, \"#ed7953\"], [0.7777777777777778, \"#fb9f3a\"], [0.8888888888888888, \"#fdca26\"], [1.0, \"#f0f921\"]], \"type\": \"contour\"}], \"contourcarpet\": [{\"colorbar\": {\"outlinewidth\": 0, \"ticks\": \"\"}, \"type\": \"contourcarpet\"}], \"heatmap\": [{\"colorbar\": {\"outlinewidth\": 0, \"ticks\": \"\"}, \"colorscale\": [[0.0, \"#0d0887\"], [0.1111111111111111, \"#46039f\"], [0.2222222222222222, \"#7201a8\"], [0.3333333333333333, \"#9c179e\"], [0.4444444444444444, \"#bd3786\"], [0.5555555555555556, \"#d8576b\"], [0.6666666666666666, \"#ed7953\"], [0.7777777777777778, \"#fb9f3a\"], [0.8888888888888888, \"#fdca26\"], [1.0, \"#f0f921\"]], \"type\": \"heatmap\"}], \"heatmapgl\": [{\"colorbar\": {\"outlinewidth\": 0, \"ticks\": \"\"}, \"colorscale\": [[0.0, \"#0d0887\"], [0.1111111111111111, \"#46039f\"], [0.2222222222222222, \"#7201a8\"], [0.3333333333333333, \"#9c179e\"], [0.4444444444444444, \"#bd3786\"], [0.5555555555555556, \"#d8576b\"], [0.6666666666666666, \"#ed7953\"], [0.7777777777777778, \"#fb9f3a\"], [0.8888888888888888, \"#fdca26\"], [1.0, \"#f0f921\"]], \"type\": \"heatmapgl\"}], \"histogram\": [{\"marker\": {\"colorbar\": {\"outlinewidth\": 0, \"ticks\": \"\"}}, \"type\": \"histogram\"}], \"histogram2d\": [{\"colorbar\": {\"outlinewidth\": 0, \"ticks\": \"\"}, \"colorscale\": [[0.0, \"#0d0887\"], [0.1111111111111111, \"#46039f\"], [0.2222222222222222, \"#7201a8\"], [0.3333333333333333, \"#9c179e\"], [0.4444444444444444, \"#bd3786\"], [0.5555555555555556, \"#d8576b\"], [0.6666666666666666, \"#ed7953\"], [0.7777777777777778, \"#fb9f3a\"], [0.8888888888888888, \"#fdca26\"], [1.0, \"#f0f921\"]], \"type\": \"histogram2d\"}], \"histogram2dcontour\": [{\"colorbar\": {\"outlinewidth\": 0, \"ticks\": \"\"}, \"colorscale\": [[0.0, \"#0d0887\"], [0.1111111111111111, \"#46039f\"], [0.2222222222222222, \"#7201a8\"], [0.3333333333333333, \"#9c179e\"], [0.4444444444444444, \"#bd3786\"], [0.5555555555555556, \"#d8576b\"], [0.6666666666666666, \"#ed7953\"], [0.7777777777777778, \"#fb9f3a\"], [0.8888888888888888, \"#fdca26\"], [1.0, \"#f0f921\"]], \"type\": \"histogram2dcontour\"}], \"mesh3d\": [{\"colorbar\": {\"outlinewidth\": 0, \"ticks\": \"\"}, \"type\": \"mesh3d\"}], \"parcoords\": [{\"line\": {\"colorbar\": {\"outlinewidth\": 0, \"ticks\": \"\"}}, \"type\": \"parcoords\"}], \"scatter\": [{\"marker\": {\"colorbar\": {\"outlinewidth\": 0, \"ticks\": \"\"}}, \"type\": \"scatter\"}], \"scatter3d\": [{\"line\": {\"colorbar\": {\"outlinewidth\": 0, \"ticks\": \"\"}}, \"marker\": {\"colorbar\": {\"outlinewidth\": 0, \"ticks\": \"\"}}, \"type\": \"scatter3d\"}], \"scattercarpet\": [{\"marker\": {\"colorbar\": {\"outlinewidth\": 0, \"ticks\": \"\"}}, \"type\": \"scattercarpet\"}], \"scattergeo\": [{\"marker\": {\"colorbar\": {\"outlinewidth\": 0, \"ticks\": \"\"}}, \"type\": \"scattergeo\"}], \"scattergl\": [{\"marker\": {\"colorbar\": {\"outlinewidth\": 0, \"ticks\": \"\"}}, \"type\": \"scattergl\"}], \"scattermapbox\": [{\"marker\": {\"colorbar\": {\"outlinewidth\": 0, \"ticks\": \"\"}}, \"type\": \"scattermapbox\"}], \"scatterpolar\": [{\"marker\": {\"colorbar\": {\"outlinewidth\": 0, \"ticks\": \"\"}}, \"type\": \"scatterpolar\"}], \"scatterpolargl\": [{\"marker\": {\"colorbar\": {\"outlinewidth\": 0, \"ticks\": \"\"}}, \"type\": \"scatterpolargl\"}], \"scatterternary\": [{\"marker\": {\"colorbar\": {\"outlinewidth\": 0, \"ticks\": \"\"}}, \"type\": \"scatterternary\"}], \"surface\": [{\"colorbar\": {\"outlinewidth\": 0, \"ticks\": \"\"}, \"colorscale\": [[0.0, \"#0d0887\"], [0.1111111111111111, \"#46039f\"], [0.2222222222222222, \"#7201a8\"], [0.3333333333333333, \"#9c179e\"], [0.4444444444444444, \"#bd3786\"], [0.5555555555555556, \"#d8576b\"], [0.6666666666666666, \"#ed7953\"], [0.7777777777777778, \"#fb9f3a\"], [0.8888888888888888, \"#fdca26\"], [1.0, \"#f0f921\"]], \"type\": \"surface\"}], \"table\": [{\"cells\": {\"fill\": {\"color\": \"#EBF0F8\"}, \"line\": {\"color\": \"white\"}}, \"header\": {\"fill\": {\"color\": \"#C8D4E3\"}, \"line\": {\"color\": \"white\"}}, \"type\": \"table\"}]}, \"layout\": {\"annotationdefaults\": {\"arrowcolor\": \"#2a3f5f\", \"arrowhead\": 0, \"arrowwidth\": 1}, \"colorscale\": {\"diverging\": [[0, \"#8e0152\"], [0.1, \"#c51b7d\"], [0.2, \"#de77ae\"], [0.3, \"#f1b6da\"], [0.4, \"#fde0ef\"], [0.5, \"#f7f7f7\"], [0.6, \"#e6f5d0\"], [0.7, \"#b8e186\"], [0.8, \"#7fbc41\"], [0.9, \"#4d9221\"], [1, \"#276419\"]], \"sequential\": [[0.0, \"#0d0887\"], [0.1111111111111111, \"#46039f\"], [0.2222222222222222, \"#7201a8\"], [0.3333333333333333, \"#9c179e\"], [0.4444444444444444, \"#bd3786\"], [0.5555555555555556, \"#d8576b\"], [0.6666666666666666, \"#ed7953\"], [0.7777777777777778, \"#fb9f3a\"], [0.8888888888888888, \"#fdca26\"], [1.0, \"#f0f921\"]], \"sequentialminus\": [[0.0, \"#0d0887\"], [0.1111111111111111, \"#46039f\"], [0.2222222222222222, \"#7201a8\"], [0.3333333333333333, \"#9c179e\"], [0.4444444444444444, \"#bd3786\"], [0.5555555555555556, \"#d8576b\"], [0.6666666666666666, \"#ed7953\"], [0.7777777777777778, \"#fb9f3a\"], [0.8888888888888888, \"#fdca26\"], [1.0, \"#f0f921\"]]}, \"colorway\": [\"#636efa\", \"#EF553B\", \"#00cc96\", \"#ab63fa\", \"#FFA15A\", \"#19d3f3\", \"#FF6692\", \"#B6E880\", \"#FF97FF\", \"#FECB52\"], \"font\": {\"color\": \"#2a3f5f\"}, \"geo\": {\"bgcolor\": \"white\", \"lakecolor\": \"white\", \"landcolor\": \"#E5ECF6\", \"showlakes\": true, \"showland\": true, \"subunitcolor\": \"white\"}, \"hoverlabel\": {\"align\": \"left\"}, \"hovermode\": \"closest\", \"mapbox\": {\"style\": \"light\"}, \"paper_bgcolor\": \"white\", \"plot_bgcolor\": \"#E5ECF6\", \"polar\": {\"angularaxis\": {\"gridcolor\": \"white\", \"linecolor\": \"white\", \"ticks\": \"\"}, \"bgcolor\": \"#E5ECF6\", \"radialaxis\": {\"gridcolor\": \"white\", \"linecolor\": \"white\", \"ticks\": \"\"}}, \"scene\": {\"xaxis\": {\"backgroundcolor\": \"#E5ECF6\", \"gridcolor\": \"white\", \"gridwidth\": 2, \"linecolor\": \"white\", \"showbackground\": true, \"ticks\": \"\", \"zerolinecolor\": \"white\"}, \"yaxis\": {\"backgroundcolor\": \"#E5ECF6\", \"gridcolor\": \"white\", \"gridwidth\": 2, \"linecolor\": \"white\", \"showbackground\": true, \"ticks\": \"\", \"zerolinecolor\": \"white\"}, \"zaxis\": {\"backgroundcolor\": \"#E5ECF6\", \"gridcolor\": \"white\", \"gridwidth\": 2, \"linecolor\": \"white\", \"showbackground\": true, \"ticks\": \"\", \"zerolinecolor\": \"white\"}}, \"shapedefaults\": {\"line\": {\"color\": \"#2a3f5f\"}}, \"ternary\": {\"aaxis\": {\"gridcolor\": \"white\", \"linecolor\": \"white\", \"ticks\": \"\"}, \"baxis\": {\"gridcolor\": \"white\", \"linecolor\": \"white\", \"ticks\": \"\"}, \"bgcolor\": \"#E5ECF6\", \"caxis\": {\"gridcolor\": \"white\", \"linecolor\": \"white\", \"ticks\": \"\"}}, \"title\": {\"x\": 0.05}, \"xaxis\": {\"automargin\": true, \"gridcolor\": \"white\", \"linecolor\": \"white\", \"ticks\": \"\", \"zerolinecolor\": \"white\", \"zerolinewidth\": 2}, \"yaxis\": {\"automargin\": true, \"gridcolor\": \"white\", \"linecolor\": \"white\", \"ticks\": \"\", \"zerolinecolor\": \"white\", \"zerolinewidth\": 2}}}, \"width\": 850},\n",
              "                        {\"responsive\": true}\n",
              "                    ).then(function(){\n",
              "                            \n",
              "var gd = document.getElementById('cf85477b-7c4a-45d1-bd34-9ca28633d2c9');\n",
              "var x = new MutationObserver(function (mutations, observer) {{\n",
              "        var display = window.getComputedStyle(gd).display;\n",
              "        if (!display || display === 'none') {{\n",
              "            console.log([gd, 'removed!']);\n",
              "            Plotly.purge(gd);\n",
              "            observer.disconnect();\n",
              "        }}\n",
              "}});\n",
              "\n",
              "// Listen for the removal of the full notebook cells\n",
              "var notebookContainer = gd.closest('#notebook-container');\n",
              "if (notebookContainer) {{\n",
              "    x.observe(notebookContainer, {childList: true});\n",
              "}}\n",
              "\n",
              "// Listen for the clearing of the current output cell\n",
              "var outputEl = gd.closest('.output');\n",
              "if (outputEl) {{\n",
              "    x.observe(outputEl, {childList: true});\n",
              "}}\n",
              "\n",
              "                        })\n",
              "                };\n",
              "                });\n",
              "            </script>\n",
              "        </div>"
            ]
          },
          "metadata": {
            "tags": []
          }
        }
      ]
    },
    {
      "cell_type": "markdown",
      "metadata": {
        "id": "bwbTLfbdrFPK",
        "colab_type": "text"
      },
      "source": [
        "[Return to top](#top)"
      ]
    },
    {
      "cell_type": "markdown",
      "metadata": {
        "id": "JpaKo_jXvAbu",
        "colab_type": "text"
      },
      "source": [
        "<a id = \"12.3\"></a>"
      ]
    },
    {
      "cell_type": "markdown",
      "metadata": {
        "colab_type": "text",
        "id": "rvZvvdiq0Els"
      },
      "source": [
        "<div class=\"feladat\">\n",
        "3. Feladat\n",
        "</div>"
      ]
    },
    {
      "cell_type": "markdown",
      "metadata": {
        "id": "FGvjarQ9rFo1",
        "colab_type": "text"
      },
      "source": [
        "<div class=\"exercises\">\n",
        "Bothan kémek megszerezték a Sith hadsereg toborzási adatait. Az előző évben a perem világokból 1245, a külső gyűrűből 1984, a középső gyűrűből 1250, a magvilágokból 1121 főt toboroztak. Tudjuk hogy a peremen él a lakosság 20%-a, a külső gyűrűn a lakosság 30%-a, a középső gyűrűn a lakosság 25%-a, a magban a lakosság 23%-a. Tükrözi-e a toborzási adat a lakosság eloszlását vagy szignifikánsan különbözik-e tőle? Hol kéne a Galaktikus Köztársaságnak erősíteni a pozícióit?\n",
        "</div>"
      ]
    },
    {
      "cell_type": "markdown",
      "metadata": {
        "colab_type": "text",
        "id": "n_HLli6ks1DM"
      },
      "source": [
        "<a id = \"12.3.1\"></a>\n",
        "<div class=\"solution\">Megoldás. </div>"
      ]
    },
    {
      "cell_type": "markdown",
      "metadata": {
        "id": "4mbjT3dr4I8T",
        "colab_type": "text"
      },
      "source": [
        "<!--\n",
        "<html>\n",
        "<table class=\"fl-table\">\n",
        "        <thead>\n",
        "        <tr>\n",
        "            <th>Header 1</th>\n",
        "            <th>Header 2</th>\n",
        "            <th>Header 3</th>\n",
        "            <th>Header 4</th>\n",
        "            <th>Header 5</th>\n",
        "        </tr>\n",
        "        </thead>\n",
        "        <tbody>\n",
        "        <tr>\n",
        "            <td>Content 1</td>\n",
        "            <td>Content 1</td>\n",
        "            <td>Content 1</td>\n",
        "            <td>Content 1</td>\n",
        "            <td>Content 1</td>\n",
        "        </tr>\n",
        "        <tr>\n",
        "            <td>Content 2</td>\n",
        "            <td>Content 2</td>\n",
        "            <td>Content 2</td>\n",
        "            <td>Content 2</td>\n",
        "            <td>Content 2</td>\n",
        "        </tr>\n",
        "        <tr>\n",
        "            <td>Content 3</td>\n",
        "            <td>Content 3</td>\n",
        "            <td>Content 3</td>\n",
        "            <td>Content 3</td>\n",
        "            <td>Content 3</td>\n",
        "        </tr>\n",
        "        <tr>\n",
        "            <td>Content 4</td>\n",
        "            <td>Content 4</td>\n",
        "            <td>Content 4</td>\n",
        "            <td>Content 4</td>\n",
        "            <td>Content 4</td>\n",
        "        </tr>\n",
        "        <tr>\n",
        "            <td>Content 5</td>\n",
        "            <td>Content 5</td>\n",
        "            <td>Content 5</td>\n",
        "            <td>Content 5</td>\n",
        "            <td>Content 5</td>\n",
        "        </tr>\n",
        "        <tr>\n",
        "            <td>Content 6</td>\n",
        "            <td>Content 6</td>\n",
        "            <td>Content 6</td>\n",
        "            <td>Content 6</td>\n",
        "            <td>Content 6</td>\n",
        "        </tr>\n",
        "        <tr>\n",
        "            <td>Content 7</td>\n",
        "            <td>Content 7</td>\n",
        "            <td>Content 7</td>\n",
        "            <td>Content 7</td>\n",
        "            <td>Content 7</td>\n",
        "        </tr>\n",
        "        <tr>\n",
        "            <td>Content 8</td>\n",
        "            <td>Content 8</td>\n",
        "            <td>Content 8</td>\n",
        "            <td>Content 8</td>\n",
        "            <td>Content 8</td>\n",
        "        </tr>\n",
        "        <tr>\n",
        "            <td>Content 9</td>\n",
        "            <td>Content 9</td>\n",
        "            <td>Content 9</td>\n",
        "            <td>Content 9</td>\n",
        "            <td>Content 9</td>\n",
        "        </tr>\n",
        "        <tr>\n",
        "            <td>Content 10</td>\n",
        "            <td>Content 10</td>\n",
        "            <td>Content 10</td>\n",
        "            <td>Content 10</td>\n",
        "            <td>Content 10</td>\n",
        "        </tr>\n",
        "        <tbody>\n",
        "    </table>\n",
        "</html>\n",
        "-->"
      ]
    },
    {
      "cell_type": "code",
      "metadata": {
        "id": "zrrNFrDDvUa1",
        "colab_type": "code",
        "outputId": "6aad15be-5cb5-49d9-8386-3c8ca65115a3",
        "colab": {
          "base_uri": "https://localhost:8080/",
          "height": 18
        }
      },
      "source": [
        "%%html\n",
        "<style>\n",
        ".output_subarea {\n",
        "    background-color: cornsilk;\n",
        "    border: 1px solid forestgreen;\n",
        "}\n",
        "\n",
        ".CodeMirror-lines {\n",
        "    background-color: LightYellow;\n",
        "    border-width: 1px;\n",
        "    border-style: dashed;\n",
        "    border-color: black;\n",
        "}\n",
        "\n",
        ".CodeMirror-linenumber.CodeMirror-gutter-elt {\n",
        "    color: red;\n",
        "}\n",
        "\n",
        "div {\n",
        "    line-height: 1.5;\n",
        "}\n",
        "\n",
        "ol {    \n",
        "    padding: 15px;\n",
        "}\n",
        "\n",
        "ol li {\n",
        "    padding: 5px;\n",
        "    margin-left: 25px;\n",
        "}\n",
        "\n",
        "ol ol li { \n",
        "    list-style-type: lower-alpha;\n",
        "}\n",
        "\n",
        "div.h1 {\n",
        "    font-family: Arial;\n",
        "    font-size: 2em;\n",
        "    font-weight: bold;\n",
        "}\n",
        "\n",
        "div.theory {\n",
        "    border: 1px solid #ff1a1a;\n",
        "    padding: 7px 3px 7px 8px;\n",
        "    background-color: #ffcccc;\n",
        "}\n",
        "\n",
        "div.exercises {\n",
        "    text-align: left; \n",
        "    font-family: \"Helvetica Neue\",Helvetica,Arial,sans-serif;\n",
        "    font-size: 1.2em; \n",
        "    border: 1px solid CornflowerBlue;\n",
        "    padding: 7px 3px 7px 8px;\n",
        "    background-color: whitesmoke;\n",
        "}\n",
        "\n",
        "div.solution {\n",
        "    font-size: 125%;\n",
        "    background-color: cornsilk;\n",
        "    border: 1px solid forestgreen;\n",
        "    font-weight: bold;\n",
        "    padding: 7px 3px 7px 8px;\n",
        "    font-family: \"Helvetica Neue\",Helvetica,Arial,sans-serif;\n",
        "}\n",
        "\n",
        ".align {\n",
        "    border: 0;\n",
        "    font-family: \"Helvetica Neue\",Helvetica,Arial,sans-serif;\n",
        "}\n",
        "\n",
        ".align td {\n",
        "    background-color: #ffcccc;\n",
        "    font-size: 1.24em;\n",
        "    height: auto;\n",
        "    padding-top: 3px;\n",
        "    padding-bottom: 3px;\n",
        "}\n",
        "\n",
        ".align .right {\n",
        "     text-align: right;\n",
        "     padding: 0px;\n",
        "}\n",
        "\n",
        ".align .left {\n",
        "     text-align: left;\n",
        "     padding: 0px;\n",
        "}\n",
        "\n",
        ".align .center {\n",
        "    text-align: center;\n",
        "    padding: 3px;\n",
        "}\n",
        "\n",
        ".myp {\n",
        "    font-family: 'Times New Roman'; \n",
        "    font-size: 1.4em; \n",
        "    font-weight: bold;\n",
        "    border: 1px solid black;\n",
        "    padding: 5px 3px 5px 5px;\n",
        "    background-color: PaleTurquoise;\n",
        "}\n",
        "\n",
        ".keyword {\n",
        "    background-color: LemonChiffon;\n",
        "    padding: 2px;\n",
        "    font-family: Arial, Helvetica, sans-serif;\n",
        "    letter-spacing: 1px;\n",
        "    font-size: 0.8em;\n",
        "    border-bottom-width: 1px;\n",
        "    border-bottom-style: dashed;\n",
        "    border-bottom-color: green;\n",
        "}\n",
        "\n",
        "div.output_prompt {\n",
        "    color: #ffffff;\n",
        "}\n",
        "\n",
        ".section {\n",
        "    text-align: center;\n",
        "    background: #66aa33;\n",
        "    padding: 40px; \n",
        "    color: #ffffff;\n",
        "    font-size:3em;\n",
        "}\n",
        "\n",
        ".feladat {\n",
        "    text-align: center; \n",
        "    background: CornflowerBlue;\n",
        "    padding: 40px; \n",
        "    color: #ffffff; \n",
        "    font-size: 3em;\n",
        "}\n",
        "\n",
        ".hypothesis {\n",
        "    border-radius: 5px;\n",
        "    font-size: 12px;\n",
        "    font-weight: normal;\n",
        "    border-style: solid;\n",
        "    border-width: 5px;\n",
        "    border-collapse: collapse;\n",
        "    width: 100%;\n",
        "    max-width: 100%;\n",
        "    white-space: nowrap;\n",
        "    background-color: white;\n",
        "}\n",
        ".hypothesis tr {\n",
        "    text-align: center;\n",
        "    vertical-align: middle;\n",
        "    border-style: solid;\n",
        "    border-width: 1px;\n",
        "    font-size: 12px;\n",
        "}\n",
        "\n",
        ".green_text {\n",
        "    color: green;\n",
        "}\n",
        ".red_text {\n",
        "    color: red;\n",
        "}\n",
        "/* */\n",
        ".fl-table {\n",
        "    border-radius: 5px;\n",
        "    font-size: 12px;\n",
        "    font-weight: normal;\n",
        "    border-style: solid;\n",
        "    border-width: 5px;\n",
        "    border-collapse: collapse;\n",
        "    width: 100%;\n",
        "    max-width: 100%;\n",
        "    white-space: nowrap;\n",
        "    background-color: white;\n",
        "}\n",
        "\n",
        ".fl-table td, .fl-table th {\n",
        "    text-align: center;\n",
        "    padding: 8px;\n",
        "}\n",
        "\n",
        ".fl-table td {\n",
        "    border-style: solid;\n",
        "    border-width: 1px;\n",
        "    font-size: 12px;\n",
        "}\n",
        "\n",
        ".fl-table thead th {\n",
        "    color: #ffffff;\n",
        "    background: #4FC3A1;\n",
        "}\n",
        "\n",
        "\n",
        ".fl-table thead th:nth-child(odd) {\n",
        "    color: #ffffff;\n",
        "    background: #324960;\n",
        "}\n",
        "\n",
        ".fl-table tr:nth-child(even) {\n",
        "    background: #F8F8F8;\n",
        "}\n",
        "\n",
        "</style>"
      ],
      "execution_count": 3,
      "outputs": [
        {
          "output_type": "display_data",
          "data": {
            "text/html": [
              "<style>\n",
              ".output_subarea {\n",
              "    background-color: cornsilk;\n",
              "    border: 1px solid forestgreen;\n",
              "}\n",
              "\n",
              ".CodeMirror-lines {\n",
              "    background-color: LightYellow;\n",
              "    border-width: 1px;\n",
              "    border-style: dashed;\n",
              "    border-color: black;\n",
              "}\n",
              "\n",
              ".CodeMirror-linenumber.CodeMirror-gutter-elt {\n",
              "    color: red;\n",
              "}\n",
              "\n",
              "div {\n",
              "    line-height: 1.5;\n",
              "}\n",
              "\n",
              "ol {    \n",
              "    padding: 15px;\n",
              "}\n",
              "\n",
              "ol li {\n",
              "    padding: 5px;\n",
              "    margin-left: 25px;\n",
              "}\n",
              "\n",
              "ol ol li { \n",
              "    list-style-type: lower-alpha;\n",
              "}\n",
              "\n",
              "div.h1 {\n",
              "    font-family: Arial;\n",
              "    font-size: 2em;\n",
              "    font-weight: bold;\n",
              "}\n",
              "\n",
              "div.theory {\n",
              "    border: 1px solid #ff1a1a;\n",
              "    padding: 7px 3px 7px 8px;\n",
              "    background-color: #ffcccc;\n",
              "}\n",
              "\n",
              "div.exercises {\n",
              "    text-align: left; \n",
              "    font-family: \"Helvetica Neue\",Helvetica,Arial,sans-serif;\n",
              "    font-size: 1.2em; \n",
              "    border: 1px solid CornflowerBlue;\n",
              "    padding: 7px 3px 7px 8px;\n",
              "    background-color: whitesmoke;\n",
              "}\n",
              "\n",
              "div.solution {\n",
              "    font-size: 125%;\n",
              "    background-color: cornsilk;\n",
              "    border: 1px solid forestgreen;\n",
              "    font-weight: bold;\n",
              "    padding: 7px 3px 7px 8px;\n",
              "    font-family: \"Helvetica Neue\",Helvetica,Arial,sans-serif;\n",
              "}\n",
              "\n",
              ".align {\n",
              "    border: 0;\n",
              "    font-family: \"Helvetica Neue\",Helvetica,Arial,sans-serif;\n",
              "}\n",
              "\n",
              ".align td {\n",
              "    background-color: #ffcccc;\n",
              "    font-size: 1.24em;\n",
              "    height: auto;\n",
              "    padding-top: 3px;\n",
              "    padding-bottom: 3px;\n",
              "}\n",
              "\n",
              ".align .right {\n",
              "     text-align: right;\n",
              "     padding: 0px;\n",
              "}\n",
              "\n",
              ".align .left {\n",
              "     text-align: left;\n",
              "     padding: 0px;\n",
              "}\n",
              "\n",
              ".align .center {\n",
              "    text-align: center;\n",
              "    padding: 3px;\n",
              "}\n",
              "\n",
              ".myp {\n",
              "    font-family: 'Times New Roman'; \n",
              "    font-size: 1.4em; \n",
              "    font-weight: bold;\n",
              "    border: 1px solid black;\n",
              "    padding: 5px 3px 5px 5px;\n",
              "    background-color: PaleTurquoise;\n",
              "}\n",
              "\n",
              ".keyword {\n",
              "    background-color: LemonChiffon;\n",
              "    padding: 2px;\n",
              "    font-family: Arial, Helvetica, sans-serif;\n",
              "    letter-spacing: 1px;\n",
              "    font-size: 0.8em;\n",
              "    border-bottom-width: 1px;\n",
              "    border-bottom-style: dashed;\n",
              "    border-bottom-color: green;\n",
              "}\n",
              "\n",
              "div.output_prompt {\n",
              "    color: #ffffff;\n",
              "}\n",
              "\n",
              ".section {\n",
              "    text-align: center;\n",
              "    background: #66aa33;\n",
              "    padding: 40px; \n",
              "    color: #ffffff;\n",
              "    font-size:3em;\n",
              "}\n",
              "\n",
              ".feladat {\n",
              "    text-align: center; \n",
              "    background: CornflowerBlue;\n",
              "    padding: 40px; \n",
              "    color: #ffffff; \n",
              "    font-size: 3em;\n",
              "}\n",
              "\n",
              ".hypothesis {\n",
              "    border-radius: 5px;\n",
              "    font-size: 12px;\n",
              "    font-weight: normal;\n",
              "    border-style: solid;\n",
              "    border-width: 5px;\n",
              "    border-collapse: collapse;\n",
              "    width: 100%;\n",
              "    max-width: 100%;\n",
              "    white-space: nowrap;\n",
              "    background-color: white;\n",
              "}\n",
              ".hypothesis tr {\n",
              "    text-align: center;\n",
              "    vertical-align: middle;\n",
              "    border-style: solid;\n",
              "    border-width: 1px;\n",
              "    font-size: 12px;\n",
              "}\n",
              "\n",
              ".green_text {\n",
              "    color: green;\n",
              "}\n",
              ".red_text {\n",
              "    color: red;\n",
              "}\n",
              "/* */\n",
              ".fl-table {\n",
              "    border-radius: 5px;\n",
              "    font-size: 12px;\n",
              "    font-weight: normal;\n",
              "    border-style: solid;\n",
              "    border-width: 5px;\n",
              "    border-collapse: collapse;\n",
              "    width: 100%;\n",
              "    max-width: 100%;\n",
              "    white-space: nowrap;\n",
              "    background-color: white;\n",
              "}\n",
              "\n",
              ".fl-table td, .fl-table th {\n",
              "    text-align: center;\n",
              "    padding: 8px;\n",
              "}\n",
              "\n",
              ".fl-table td {\n",
              "    border-style: solid;\n",
              "    border-width: 1px;\n",
              "    font-size: 12px;\n",
              "}\n",
              "\n",
              ".fl-table thead th {\n",
              "    color: #ffffff;\n",
              "    background: #4FC3A1;\n",
              "}\n",
              "\n",
              "\n",
              ".fl-table thead th:nth-child(odd) {\n",
              "    color: #ffffff;\n",
              "    background: #324960;\n",
              "}\n",
              "\n",
              ".fl-table tr:nth-child(even) {\n",
              "    background: #F8F8F8;\n",
              "}\n",
              "\n",
              "</style>"
            ],
            "text/plain": [
              "<IPython.core.display.HTML object>"
            ]
          },
          "metadata": {
            "tags": []
          }
        }
      ]
    },
    {
      "cell_type": "code",
      "metadata": {
        "id": "VQAX4vovzY5A",
        "colab_type": "code",
        "outputId": "dd6894f5-004c-4447-b7bc-4b3cac799a3b",
        "colab": {
          "base_uri": "https://localhost:8080/",
          "height": 16
        }
      },
      "source": [
        "%%html\n",
        "<script src=\"https://cdn.rawgit.com/parente/4c3e6936d0d7a46fd071/raw/65b816fb9bdd3c28b4ddf3af602bfd6015486383/code_toggle.js\"></script>"
      ],
      "execution_count": 70,
      "outputs": [
        {
          "output_type": "display_data",
          "data": {
            "text/html": [
              "<script src=\"https://cdn.rawgit.com/parente/4c3e6936d0d7a46fd071/raw/65b816fb9bdd3c28b4ddf3af602bfd6015486383/code_toggle.js\"></script>"
            ],
            "text/plain": [
              "<IPython.core.display.HTML object>"
            ]
          },
          "metadata": {
            "tags": []
          }
        }
      ]
    }
  ]
}