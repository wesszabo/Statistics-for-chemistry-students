{
  "nbformat": 4,
  "nbformat_minor": 0,
  "metadata": {
    "colab": {
      "name": "Statisztika feladatok.ipynb",
      "provenance": [],
      "collapsed_sections": [],
      "include_colab_link": true
    },
    "kernelspec": {
      "name": "python3",
      "display_name": "Python 3"
    }
  },
  "cells": [
    {
      "cell_type": "markdown",
      "metadata": {
        "id": "view-in-github",
        "colab_type": "text"
      },
      "source": [
        "<a href=\"https://colab.research.google.com/github/wesszabo/Statistics-for-chemistry-students/blob/Gyakorlat/Statisztika_feladatok.ipynb\" target=\"_parent\"><img src=\"https://colab.research.google.com/assets/colab-badge.svg\" alt=\"Open In Colab\"/></a>"
      ]
    },
    {
      "cell_type": "markdown",
      "metadata": {
        "id": "jFELmKaHGe3m",
        "colab_type": "toc"
      },
      "source": [
        ">[Table of Contents](#scrollTo=5euJElUg8d-z)\n",
        "\n",
        ">>[11.hét](#scrollTo=RTzl4WdLm6U-)\n",
        "\n",
        ">>>[1.Feladat](#scrollTo=yeadHkjnm8sh)\n",
        "\n",
        ">>>>[Megoldás.](#scrollTo=jxqnYmOipt0y)\n",
        "\n",
        ">>>>>[a) gyakoriság hisztogram, sűrűség hisztogram](#scrollTo=xfs5dQ4DpvaK)\n",
        "\n",
        ">>>>>[b) tapasztalati eloszlásfüggvény](#scrollTo=5qErGSWxq0jl)\n",
        "\n",
        ">>>>>[c) empirikus várható érték, empirikus szórásnégyzet, korrigált empirikus szórásnégyzet](#scrollTo=e9uAJW-ZrYla)\n",
        "\n",
        ">>>>>[e) Mivel nem ismerjük a szórást, ezért $t$ eloszlást használunk](#scrollTo=-IxoL55Rusg8)\n",
        "\n",
        ">>>[2.Feladat](#scrollTo=GSIsw473Xd_o)\n",
        "\n",
        ">>>>[Megoldás.](#scrollTo=ujytKqyaX8PR)\n",
        "\n",
        ">>>[3.Feladat](#scrollTo=hGhlg2Hta-9m)\n",
        "\n",
        ">>>>[Megoldás.](#scrollTo=YC6bvBvja-9q)\n",
        "\n",
        ">>>[4.Feladat](#scrollTo=fETdBr8JcCML)\n",
        "\n",
        ">>>>[Megoldás.](#scrollTo=FuAgXv7jcCMN)\n",
        "\n",
        ">>>[5.Feladat](#scrollTo=HTkDFbtDcJ4I)\n",
        "\n",
        ">>>>[Megoldás.](#scrollTo=V0mLsXXGcJ4L)\n",
        "\n",
        ">>>[6.Feladat](#scrollTo=SYFyDn3HcSVA)\n",
        "\n",
        ">>>>[Megoldás.](#scrollTo=vzv6_9NXcSVB)\n",
        "\n",
        ">>>[Házi feladat](#scrollTo=QrVVZb8keSQD)\n",
        "\n",
        ">>>[1.Feladat](#scrollTo=6Ypt-XaAeSQE)\n",
        "\n",
        ">>>>[Megoldás.](#scrollTo=srOCmWfUeo2Q)\n",
        "\n",
        ">>>>>[a) tapasztalati várható érték, szórás, korrigált tapasztalati szórás](#scrollTo=CiuxRVK1gHeL)\n",
        "\n",
        ">>>>>[c)](#scrollTo=vV7pt3Zygfq5)\n",
        "\n"
      ]
    },
    {
      "cell_type": "markdown",
      "metadata": {
        "id": "5euJElUg8d-z",
        "colab_type": "text"
      },
      "source": [
        "<a id = \"top\"></a>\n",
        "# Table of Contents\n",
        "\n",
        "* [10. hét](#10)\n",
        "    * [3. Feladat](#10.3)\n",
        "    * [Megoldás](#10.3.1)\n",
        "        * [b) gyakoriság, sűrűséghisztogram](#10.3.b)\n",
        "        * [c)  tapasztalati eloszlásfüggvény](#10.3.c)\n",
        "        * [d) tapasztalati várható érték, szórás](#10.3.d)\n",
        "        * [f) szórás torzítatlan becslése](#10.3.f)\n",
        "        * [g) populáció várható értékének 95%-os megbízhatósági szintű konfidencia intervalluma](#10.3.g)\n",
        "    * [5. Feladat](#10.5)\n",
        "    * [Megoldás](#10.5.1)\n",
        "    * [Házi feladatok](#10.hf)\n",
        "        * [1. Feladat](#10.hf.1)\n",
        "        * [Megoldás](#10.hf.1.1)\n",
        "            * [a) gyakoriság, sűrűséghisztogram](#10.hf.1.a)\n",
        "            * [b)  tapasztalati eloszlásfüggvény](#10.hf.1.b)\n",
        "            * [c) tapasztalati várható érték, szórás](#10.hf.1.c)\n",
        "            * [d) korrigált tapasztalati szórás](#10.hf.1.d)\n",
        "            * [e) populáció várható értékének 95%-os megbízhatósági szintű konfidencia intervalluma](#10.hf.1.e)\n",
        "        * [2. Feladat](#10.hf.2)\n",
        "        * [Megoldás](#10.hf.2.1)\n",
        "\n",
        "             "
      ]
    },
    {
      "cell_type": "code",
      "metadata": {
        "id": "p6885a4NnQy0",
        "colab_type": "code",
        "colab": {}
      },
      "source": [
        "#######################   MODULOK"
      ],
      "execution_count": 0,
      "outputs": []
    },
    {
      "cell_type": "code",
      "metadata": {
        "id": "vsd3_xboSWVy",
        "colab_type": "code",
        "colab": {}
      },
      "source": [
        "from sympy import *\n",
        "ip = get_ipython()\n",
        "ibe = ip.configurables[-1]\n",
        "ibe.figure_formats = { 'pdf', 'png'}"
      ],
      "execution_count": 0,
      "outputs": []
    },
    {
      "cell_type": "code",
      "metadata": {
        "hide_input": false,
        "scrolled": false,
        "id": "ChG-9kIXSWV0",
        "colab_type": "code",
        "colab": {}
      },
      "source": [
        "%matplotlib inline\n",
        "import matplotlib.pyplot as plt\n",
        "from mpl_toolkits import mplot3d\n",
        "from IPython.display import HTML,Latex, display\n",
        "import requests\n",
        "import numpy as np\n",
        "import math \n",
        "import sympy as sym\n",
        "from sympy.solvers.solveset import solveset_real\n",
        "from scipy import optimize\n",
        "from numpy import pi, sin, cos\n",
        "import plotly.graph_objects as go\n",
        "import plotly.figure_factory as ff\n",
        "from chart_studio.plotly import plot, iplot\n",
        "import statsmodels.api as sm\n",
        "from scipy import stats\n",
        "from IPython.display import YouTubeVideo"
      ],
      "execution_count": 0,
      "outputs": []
    },
    {
      "cell_type": "code",
      "metadata": {
        "id": "4Afae6ce3qtr",
        "colab_type": "code",
        "colab": {}
      },
      "source": [
        "import plotly.io as pio\n",
        "#pio.renderers.default = \"colab\"\n",
        "pio.renderers.default = \"notebook_connected\" "
      ],
      "execution_count": 0,
      "outputs": []
    },
    {
      "cell_type": "code",
      "metadata": {
        "id": "yA3PRk0OKFS4",
        "colab_type": "code",
        "colab": {}
      },
      "source": [
        "# Jupyter to print the results for any variable or statement on it’s own line"
      ],
      "execution_count": 0,
      "outputs": []
    },
    {
      "cell_type": "code",
      "metadata": {
        "id": "_hvwpOfRJz5A",
        "colab_type": "code",
        "colab": {}
      },
      "source": [
        "from IPython.core.interactiveshell import InteractiveShell\n",
        "InteractiveShell.ast_node_interactivity = \"all\""
      ],
      "execution_count": 0,
      "outputs": []
    },
    {
      "cell_type": "code",
      "metadata": {
        "id": "YmQf6K6zbwbD",
        "colab_type": "code",
        "outputId": "4806f8b6-ab1c-41a5-c4dc-b04fbf6660ad",
        "colab": {
          "base_uri": "https://localhost:8080/",
          "height": 196
        }
      },
      "source": [
        "!pip install --upgrade version_information"
      ],
      "execution_count": 27,
      "outputs": [
        {
          "output_type": "stream",
          "text": [
            "Collecting version_information\n",
            "  Downloading https://files.pythonhosted.org/packages/ff/b0/6088e15b9ac43a08ccd300d68e0b900a20cf62077596c11ad11dd8cc9e4b/version_information-1.0.3.tar.gz\n",
            "Building wheels for collected packages: version-information\n",
            "  Building wheel for version-information (setup.py) ... \u001b[?25l\u001b[?25hdone\n",
            "  Created wheel for version-information: filename=version_information-1.0.3-cp36-none-any.whl size=3880 sha256=fdf95c097f03960b88d391dcbc490997a0b3ceb38a647be7895a20da3641661c\n",
            "  Stored in directory: /root/.cache/pip/wheels/1f/4c/b3/1976ac11dbd802723b564de1acaa453a72c36c95827e576321\n",
            "Successfully built version-information\n",
            "Installing collected packages: version-information\n",
            "Successfully installed version-information-1.0.3\n"
          ],
          "name": "stdout"
        }
      ]
    },
    {
      "cell_type": "code",
      "metadata": {
        "id": "qpM4QEn8b_LH",
        "colab_type": "code",
        "outputId": "60dc21b1-fec3-4f96-e76c-77994d1f533f",
        "colab": {
          "base_uri": "https://localhost:8080/",
          "height": 248
        }
      },
      "source": [
        "%load_ext version_information\n",
        "\n",
        "%version_information numpy, scipy, IPython, matplotlib, plotly, statsmodels, seaborn, version_information"
      ],
      "execution_count": 28,
      "outputs": [
        {
          "output_type": "execute_result",
          "data": {
            "text/latex": "\\begin{tabular}{|l|l|}\\hline\n{\\bf Software} & {\\bf Version} \\\\ \\hline\\hline\nPython & 3.6.8 64bit [GCC 8.3.0] \\\\ \\hline\nIPython & 5.5.0 \\\\ \\hline\nOS & Linux 4.14.137+ x86\\_64 with Ubuntu 18.04 bionic \\\\ \\hline\nnumpy & 1.17.4 \\\\ \\hline\nscipy & 1.3.2 \\\\ \\hline\nIPython & 5.5.0 \\\\ \\hline\nmatplotlib & 3.1.1 \\\\ \\hline\nplotly & 4.1.1 \\\\ \\hline\nstatsmodels & 0.10.1 \\\\ \\hline\nseaborn & 0.9.0 \\\\ \\hline\nversion_information & 1.0.3 \\\\ \\hline\n\\hline \\multicolumn{2}{|l|}{Sun Dec 01 19:01:21 2019 UTC} \\\\ \\hline\n\\end{tabular}\n",
            "application/json": {
              "Software versions": [
                {
                  "version": "3.6.8 64bit [GCC 8.3.0]",
                  "module": "Python"
                },
                {
                  "version": "5.5.0",
                  "module": "IPython"
                },
                {
                  "version": "Linux 4.14.137+ x86_64 with Ubuntu 18.04 bionic",
                  "module": "OS"
                },
                {
                  "version": "1.17.4",
                  "module": "numpy"
                },
                {
                  "version": "1.3.2",
                  "module": "scipy"
                },
                {
                  "version": "5.5.0",
                  "module": "IPython"
                },
                {
                  "version": "3.1.1",
                  "module": "matplotlib"
                },
                {
                  "version": "4.1.1",
                  "module": "plotly"
                },
                {
                  "version": "0.10.1",
                  "module": "statsmodels"
                },
                {
                  "version": "0.9.0",
                  "module": "seaborn"
                },
                {
                  "version": "1.0.3",
                  "module": "version_information"
                }
              ]
            },
            "text/html": [
              "<table><tr><th>Software</th><th>Version</th></tr><tr><td>Python</td><td>3.6.8 64bit [GCC 8.3.0]</td></tr><tr><td>IPython</td><td>5.5.0</td></tr><tr><td>OS</td><td>Linux 4.14.137+ x86_64 with Ubuntu 18.04 bionic</td></tr><tr><td>numpy</td><td>1.17.4</td></tr><tr><td>scipy</td><td>1.3.2</td></tr><tr><td>IPython</td><td>5.5.0</td></tr><tr><td>matplotlib</td><td>3.1.1</td></tr><tr><td>plotly</td><td>4.1.1</td></tr><tr><td>statsmodels</td><td>0.10.1</td></tr><tr><td>seaborn</td><td>0.9.0</td></tr><tr><td>version_information</td><td>1.0.3</td></tr><tr><td colspan='2'>Sun Dec 01 19:01:21 2019 UTC</td></tr></table>"
            ],
            "text/plain": [
              "Software versions\n",
              "Python 3.6.8 64bit [GCC 8.3.0]\n",
              "IPython 5.5.0\n",
              "OS Linux 4.14.137+ x86_64 with Ubuntu 18.04 bionic\n",
              "numpy 1.17.4\n",
              "scipy 1.3.2\n",
              "IPython 5.5.0\n",
              "matplotlib 3.1.1\n",
              "plotly 4.1.1\n",
              "statsmodels 0.10.1\n",
              "seaborn 0.9.0\n",
              "version_information 1.0.3\n",
              "Sun Dec 01 19:01:21 2019 UTC"
            ]
          },
          "metadata": {
            "tags": []
          },
          "execution_count": 28
        }
      ]
    },
    {
      "cell_type": "code",
      "metadata": {
        "id": "40dHNY2xnXv7",
        "colab_type": "code",
        "colab": {}
      },
      "source": [
        "#######################  BEÁLLÍTÁSOK "
      ],
      "execution_count": 0,
      "outputs": []
    },
    {
      "cell_type": "code",
      "metadata": {
        "scrolled": true,
        "id": "Ek2C2j2dSWV2",
        "colab_type": "code",
        "colab": {}
      },
      "source": [
        "# Sympy to print formula not TeX\n",
        "from sympy import init_printing\n",
        "def custom_latex_printer(exp,**options):\n",
        "    from google.colab.output._publish import javascript\n",
        "    url = \"https://cdnjs.cloudflare.com/ajax/libs/mathjax/2.7.3/latest.js?config=default\"\n",
        "    javascript(url=url)\n",
        "    return sym.printing.latex(exp,**options)\n",
        "init_printing(use_latex=\"mathjax\",latex_printer=custom_latex_printer)"
      ],
      "execution_count": 0,
      "outputs": []
    },
    {
      "cell_type": "code",
      "metadata": {
        "id": "2LTfA4fuxnb-",
        "colab_type": "code",
        "colab": {}
      },
      "source": [
        "def new_section(title):\n",
        "    style = \"text-align:center;background:#66aa33;padding:40px;color:#ffffff;font-size:3em;\"\n",
        "    return HTML('<div style=\"{}\">{}</div>'.format(style, title))"
      ],
      "execution_count": 0,
      "outputs": []
    },
    {
      "cell_type": "code",
      "metadata": {
        "colab_type": "code",
        "id": "pLPPFc34v1fr",
        "colab": {}
      },
      "source": [
        "def new_subsection(title):\n",
        "    style = \"text-align:center;background:CornflowerBlue;padding:40px;color:#ffffff;font-size:3em;\"\n",
        "    return HTML('<div style=\"{}\">{}</div>'.format(style, title))"
      ],
      "execution_count": 0,
      "outputs": []
    },
    {
      "cell_type": "code",
      "metadata": {
        "id": "whg7WBPBBBS-",
        "colab_type": "code",
        "colab": {}
      },
      "source": [
        "def empirical_dist(datalist, bins, xtitle):\n",
        "    binned = np.histogram(datalist, bins=bins, density=True)\n",
        "    plot_y = np.cumsum(binned[0])\n",
        "    plot_y = plot_y/max(plot_y)\n",
        "    # Line\n",
        "    trace1 = go.Scatter(\n",
        "        x=binned[1],\n",
        "        y=plot_y,\n",
        "        mode='lines',\n",
        "        name=\"X\",\n",
        "        hoverinfo='all',\n",
        "        line=dict(color = 'rgb(1255, 0, 0)', shape='hvh'\n",
        "        )\n",
        "    )\n",
        "\n",
        "    data = [trace1]\n",
        "\n",
        "    # Layout\n",
        "    layout = dict(title = 'Empirical distribution function',\n",
        "        legend=dict(\n",
        "            y=0.5,\n",
        "            traceorder='reversed',\n",
        "            font=dict(\n",
        "                size=16\n",
        "            )\n",
        "        )\n",
        "        xaxis = dict(\n",
        "            title=xtitle\n",
        "        )\n",
        "    )\n",
        "\n",
        "    # Make figure\n",
        "    fig = go.Figure(data=data, layout=layout)\n",
        "\n",
        "    # Plot\n",
        "    fig.show()"
      ],
      "execution_count": 0,
      "outputs": []
    },
    {
      "cell_type": "code",
      "metadata": {
        "id": "sCRONQp57snZ",
        "colab_type": "code",
        "colab": {}
      },
      "source": [
        "def linear_regr_line(X, Y, coeffs, xtitle, ytitle):\n",
        "    trace1 = go.Scatter(\n",
        "                  x=X,\n",
        "                  y=Y,\n",
        "                  mode='markers',\n",
        "                  name='Data'\n",
        "                  )\n",
        "\n",
        "    trace2 = go.Scatter(\n",
        "                    x=X,\n",
        "                    y=coeffs[0] + coeffs[1] * X,\n",
        "                    mode='lines',\n",
        "                    name='Fit'\n",
        "                    )\n",
        "\n",
        "    layout = go.Layout(\n",
        "                    title='Linear Regression '+ 'y = ' + str(coeffs[1])[:6] + '*x + ' + str(coeffs[0])[:6],\n",
        "                    plot_bgcolor='rgb(229, 229, 229)',\n",
        "                    xaxis=dict(\n",
        "                        title=xtitle\n",
        "                    ),\n",
        "                    yaxis=dict(\n",
        "                        title=ytitle\n",
        "                    )\n",
        "                    )\n",
        "\n",
        "    data = [trace1, trace2]\n",
        "    fig = go.Figure(data=data, layout=layout)\n",
        "\n",
        "    fig.show()"
      ],
      "execution_count": 0,
      "outputs": []
    },
    {
      "cell_type": "markdown",
      "metadata": {
        "id": "1boK7hxlfojU",
        "colab_type": "text"
      },
      "source": [
        "<a id = \"10\"></a>"
      ]
    },
    {
      "cell_type": "code",
      "metadata": {
        "id": "2nLDPudSx2dR",
        "colab_type": "code",
        "colab": {
          "base_uri": "https://localhost:8080/",
          "height": 147
        },
        "outputId": "f730e031-f1be-4db0-b0f3-501017ca6e64"
      },
      "source": [
        "new_section(\"10. hét\")"
      ],
      "execution_count": 12,
      "outputs": [
        {
          "output_type": "execute_result",
          "data": {
            "text/html": [
              "<div style=\"text-align:center;background:#66aa33;padding:40px;color:#ffffff;font-size:3em;\">10. hét</div>"
            ],
            "text/plain": [
              "<IPython.core.display.HTML object>"
            ]
          },
          "metadata": {
            "tags": []
          },
          "execution_count": 12
        }
      ]
    },
    {
      "cell_type": "markdown",
      "metadata": {
        "id": "Ya34EBso_Y3-",
        "colab_type": "text"
      },
      "source": [
        "**Confidencia intervallum**\n",
        "\n",
        "(a) Várható érték megbízhatósági intervallum becslése, **ha a sokaság szórása ismert**:\n",
        "\n",
        "\\begin{align*}\n",
        "1-\\alpha &=\\text{megbízhatósági szint} \\\\\n",
        "\\overline{x}&=\\text{a minta átlaga}\\\\\n",
        "n &= \\text{a minta elemszáma}\\\\\n",
        "\\sigma&=\\text{a sokaság szórása}\\\\\n",
        "Z_{1-\\frac{\\alpha}{2}}&=\\text{a standard normális eloszlás $1-\\frac{\\alpha}{2}$ valószínűséghez \n",
        "tartozó $Z$ értéke}.\n",
        "\\end{align*}\n",
        "\n",
        "Ekkor a megbízhatósági intervallum\n",
        "$$\n",
        "\\left(\\overline{x}-Z_{1-\\frac{\\alpha}{2}}\\cdot\\frac{\\sigma}{\\sqrt{n}},\\,\n",
        "\\overline{x}+Z_{1-\\frac{\\alpha}{2}}\\cdot\\frac{\\sigma}{\\sqrt{n}} \\right).\n",
        "$$\n",
        "\n",
        "(b) Várható érték megbízhatósági intervallum becslése, **ha a sokaság szórása nem ismert**:\n",
        "$$\n",
        "s=\\text{a minta szórása} \\left( s=\\sqrt{{\\frac {1}{n-1}}\\sum _{i=1}^{n}(x_{i}-{\\bar {x}}\\,)^{2}}. \\right)\n",
        "$$\n",
        "$$\n",
        "t_{_{1-\\frac{\\alpha}{2}}}=\\text{a t-eloszlás $1-\\frac{\\alpha}{2}$ valószínűséghez \n",
        "tartozó $t$ értéke}.\n",
        "$$\n",
        "Ekkor a megbízhatósági intervallum\n",
        "$$\n",
        "\\left(\\overline{x}-t_{_{1-\\frac{\\alpha}{2}}}\\cdot\\frac{s}{\\sqrt{n}},\\,\n",
        "\\overline{x}+t_{_{1-\\frac{\\alpha}{2}}}\\cdot\\frac{s}{\\sqrt{n}} \\right).\n",
        "$$"
      ]
    },
    {
      "cell_type": "markdown",
      "metadata": {
        "id": "R3Ga3WcjKsfb",
        "colab_type": "text"
      },
      "source": [
        "**Lineáris regresszió**\n",
        "\n",
        "$y=\\alpha x+\\beta$.\n",
        "\n",
        "\\begin{aligned}\n",
        "{\\widehat {\\alpha }}&={\\bar {y}}-{\\widehat {\\beta }}\\,{\\bar {x}},\\\\[5pt]\n",
        "{\\widehat {\\beta }}&={\\frac {\\sum _{i=1}^{n}(x_{i}-\\bar {x})(y_{i}-\\bar {y})}{\\sum _{i=1}^{n}(x_{i}-\\bar {x})^{2}}}\\\\[6pt]\n",
        "&={\\frac {s_{x,y}}{s_{x}^{2}}}\\\\[5pt]&=r_{xy}{\\frac {s_{y}}{s_{x}}}.\\\\[6pt]\n",
        "\\end{aligned}\n",
        "\n",
        "* $\\bar {x}$ and $\\bar {y}$  the average of the $x_i$ and $y_i$, respectively\n",
        "* $r_{xy}$ the sample correlation coefficient between $x$ and $y$\n",
        "* $s_x$ and $s_y$ the uncorrected sample standard deviations of $x$ and $y$\n",
        "* $s_x^2$ and $s_{x,y}$ the sample variance and sample covariance, respectively. \n",
        "\n",
        "A levezetés az alábbi videóban "
      ]
    },
    {
      "cell_type": "code",
      "metadata": {
        "id": "tpbOq28AfJGx",
        "colab_type": "code",
        "colab": {
          "base_uri": "https://localhost:8080/",
          "height": 497
        },
        "outputId": "c3be85ab-7b8b-49bd-d2c0-4c0f6a526200"
      },
      "source": [
        "YouTubeVideo('DSQ2plMtbLc', width=724, height=476)"
      ],
      "execution_count": 8,
      "outputs": [
        {
          "output_type": "execute_result",
          "data": {
            "text/html": [
              "\n",
              "        <iframe\n",
              "            width=\"724\"\n",
              "            height=\"476\"\n",
              "            src=\"https://www.youtube.com/embed/DSQ2plMtbLc\"\n",
              "            frameborder=\"0\"\n",
              "            allowfullscreen\n",
              "        ></iframe>\n",
              "        "
            ],
            "text/plain": [
              "<IPython.lib.display.YouTubeVideo at 0x7f6dfdba51d0>"
            ],
            "image/jpeg": "[encoded data removed]"
          },
          "metadata": {
            "tags": []
          },
          "execution_count": 8
        }
      ]
    },
    {
      "cell_type": "markdown",
      "metadata": {
        "colab_type": "text",
        "id": "g1tADPwlcStF"
      },
      "source": [
        "[Return to top](#top)"
      ]
    },
    {
      "cell_type": "markdown",
      "metadata": {
        "id": "3F70CNc4imSm",
        "colab_type": "text"
      },
      "source": [
        "<a id = \"10.3\"></a>"
      ]
    },
    {
      "cell_type": "code",
      "metadata": {
        "id": "fBCt8hEHwYia",
        "colab_type": "code",
        "colab": {
          "base_uri": "https://localhost:8080/",
          "height": 147
        },
        "outputId": "66055dde-b458-45f5-8169-4a407840da52"
      },
      "source": [
        "new_subsection(\"3. Feladat\")"
      ],
      "execution_count": 15,
      "outputs": [
        {
          "output_type": "execute_result",
          "data": {
            "text/html": [
              "<div style=\"text-align:center;background:CornflowerBlue;padding:40px;color:#ffffff;font-size:3em;\">3. Feladat</div>"
            ],
            "text/plain": [
              "<IPython.core.display.HTML object>"
            ]
          },
          "metadata": {
            "tags": []
          },
          "execution_count": 15
        }
      ]
    },
    {
      "cell_type": "markdown",
      "metadata": {
        "collapsed": true,
        "hide_input": false,
        "scrolled": true,
        "solution2": "hidden",
        "solution2_first": true,
        "id": "zEg4Juu0SWWO",
        "colab_type": "text"
      },
      "source": [
        "Egy automata gépnek $200$ mm hosszúságú pálcikákat kéne készíteni. Előzetes \n",
        "adatfelvételből tudjuk, hogy a gép által gyártott termékek hossza normális \n",
        "eloszlású valószínűségi változó, $3$ mm\n",
        "szórással. Az $n=16$ elemű minta elemeinek hosszmérete: \n",
        "\n",
        "193, 195, 198, 201, 204, \n",
        "196, 196, 196, 203, 199, 193, 198, 191, 191, 198, 200. \n",
        "\n",
        "a) Mit jelent, hogy a fenti egy statisztikai minta? \n",
        "\n",
        "b) Készítsünk gyakoriság, sűrűséghisztogramot 3-as lépésközzel! \n",
        "\n",
        "c) Mi lesz a tapasztalati eloszlásfüggvény? \n",
        "\n",
        "d) Mi a tapasztalati várható értéke, szórása? \n",
        "\n",
        "e) Torzítatlan becslései-e a fenti statisztikák a paramétereknek? És aszimptotikusan torzítatlan? \n",
        "\n",
        "f) Mi lesz a szórás torzítatlan becslése? \n",
        "\n",
        "g) Adjunk a populáció várható értékére 95%-os megbízhatósági szintű konfidencia intervallumot. "
      ]
    },
    {
      "cell_type": "markdown",
      "metadata": {
        "id": "bQ5twAu-vtFO",
        "colab_type": "text"
      },
      "source": [
        "<a id = \"10.3.1\"></a>\n",
        "Megoldás"
      ]
    },
    {
      "cell_type": "markdown",
      "metadata": {
        "id": "cR6Tn0Iwx5pk",
        "colab_type": "text"
      },
      "source": [
        "<a id = \"10.3.b\"></a>\n",
        "b) gyakoriság, sűrűséghisztogram"
      ]
    },
    {
      "cell_type": "code",
      "metadata": {
        "id": "VvHv3oz-K_C4",
        "colab_type": "code",
        "outputId": "39778021-5f9e-4582-e966-7b6bdd4fd127",
        "colab": {
          "base_uri": "https://localhost:8080/",
          "height": 542
        }
      },
      "source": [
        "datalist = [193, 195, 198, 201, 204, \n",
        "196, 196, 196, 203, 199, 193, 198, 191, 191, 198, 200]\n",
        "\n",
        "fig = go.Figure()\n",
        "fig.add_trace(go.Histogram(histfunc=\"count\",  x=datalist, name=\"count\"))\n",
        "fig.add_trace(go.Histogram(histnorm=\"probability\", x=datalist, name=\"probability\"))\n",
        "\n",
        "fig.show()"
      ],
      "execution_count": 0,
      "outputs": [
        {
          "output_type": "display_data",
          "data": {
            "text/html": [
              "        <script type=\"text/javascript\">\n",
              "        window.PlotlyConfig = {MathJaxConfig: 'local'};\n",
              "        if (window.MathJax) {MathJax.Hub.Config({SVG: {font: \"STIX-Web\"}});}\n",
              "        if (typeof require !== 'undefined') {\n",
              "        require.undef(\"plotly\");\n",
              "        requirejs.config({\n",
              "            paths: {\n",
              "                'plotly': ['https://cdn.plot.ly/plotly-latest.min']\n",
              "            }\n",
              "        });\n",
              "        require(['plotly'], function(Plotly) {\n",
              "            window._Plotly = Plotly;\n",
              "        });\n",
              "        }\n",
              "        </script>\n",
              "        "
            ]
          },
          "metadata": {
            "tags": []
          }
        },
        {
          "output_type": "display_data",
          "data": {
            "text/html": [
              "<div>\n",
              "        \n",
              "        \n",
              "            <div id=\"31272cbf-b92b-439f-8c2c-a4b2bb20ee5e\" class=\"plotly-graph-div\" style=\"height:525px; width:100%;\"></div>\n",
              "            <script type=\"text/javascript\">\n",
              "                require([\"plotly\"], function(Plotly) {\n",
              "                    window.PLOTLYENV=window.PLOTLYENV || {};\n",
              "                    \n",
              "                if (document.getElementById(\"31272cbf-b92b-439f-8c2c-a4b2bb20ee5e\")) {\n",
              "                    Plotly.newPlot(\n",
              "                        '31272cbf-b92b-439f-8c2c-a4b2bb20ee5e',\n",
              "                        [{\"histfunc\": \"count\", \"name\": \"count\", \"type\": \"histogram\", \"x\": [193, 195, 198, 201, 204, 196, 196, 196, 203, 199, 193, 198, 191, 191, 198, 200]}, {\"histnorm\": \"probability\", \"name\": \"probability\", \"type\": \"histogram\", \"x\": [193, 195, 198, 201, 204, 196, 196, 196, 203, 199, 193, 198, 191, 191, 198, 200]}],\n",
              "                        {\"template\": {\"data\": {\"bar\": [{\"error_x\": {\"color\": \"#2a3f5f\"}, \"error_y\": {\"color\": \"#2a3f5f\"}, \"marker\": {\"line\": {\"color\": \"#E5ECF6\", \"width\": 0.5}}, \"type\": \"bar\"}], \"barpolar\": [{\"marker\": {\"line\": {\"color\": \"#E5ECF6\", \"width\": 0.5}}, \"type\": \"barpolar\"}], \"carpet\": [{\"aaxis\": {\"endlinecolor\": \"#2a3f5f\", \"gridcolor\": \"white\", \"linecolor\": \"white\", \"minorgridcolor\": \"white\", \"startlinecolor\": \"#2a3f5f\"}, \"baxis\": {\"endlinecolor\": \"#2a3f5f\", \"gridcolor\": \"white\", \"linecolor\": \"white\", \"minorgridcolor\": \"white\", \"startlinecolor\": \"#2a3f5f\"}, \"type\": \"carpet\"}], \"choropleth\": [{\"colorbar\": {\"outlinewidth\": 0, \"ticks\": \"\"}, \"type\": \"choropleth\"}], \"contour\": [{\"colorbar\": {\"outlinewidth\": 0, \"ticks\": \"\"}, \"colorscale\": [[0.0, \"#0d0887\"], [0.1111111111111111, \"#46039f\"], [0.2222222222222222, \"#7201a8\"], [0.3333333333333333, \"#9c179e\"], [0.4444444444444444, \"#bd3786\"], [0.5555555555555556, \"#d8576b\"], [0.6666666666666666, \"#ed7953\"], [0.7777777777777778, \"#fb9f3a\"], [0.8888888888888888, \"#fdca26\"], [1.0, \"#f0f921\"]], \"type\": \"contour\"}], \"contourcarpet\": [{\"colorbar\": {\"outlinewidth\": 0, \"ticks\": \"\"}, \"type\": \"contourcarpet\"}], \"heatmap\": [{\"colorbar\": {\"outlinewidth\": 0, \"ticks\": \"\"}, \"colorscale\": [[0.0, \"#0d0887\"], [0.1111111111111111, \"#46039f\"], [0.2222222222222222, \"#7201a8\"], [0.3333333333333333, \"#9c179e\"], [0.4444444444444444, \"#bd3786\"], [0.5555555555555556, \"#d8576b\"], [0.6666666666666666, \"#ed7953\"], [0.7777777777777778, \"#fb9f3a\"], [0.8888888888888888, \"#fdca26\"], [1.0, \"#f0f921\"]], \"type\": \"heatmap\"}], \"heatmapgl\": [{\"colorbar\": {\"outlinewidth\": 0, \"ticks\": \"\"}, \"colorscale\": [[0.0, \"#0d0887\"], [0.1111111111111111, \"#46039f\"], [0.2222222222222222, \"#7201a8\"], [0.3333333333333333, \"#9c179e\"], [0.4444444444444444, \"#bd3786\"], [0.5555555555555556, \"#d8576b\"], [0.6666666666666666, \"#ed7953\"], [0.7777777777777778, \"#fb9f3a\"], [0.8888888888888888, \"#fdca26\"], [1.0, \"#f0f921\"]], \"type\": \"heatmapgl\"}], \"histogram\": [{\"marker\": {\"colorbar\": {\"outlinewidth\": 0, \"ticks\": \"\"}}, \"type\": \"histogram\"}], \"histogram2d\": [{\"colorbar\": {\"outlinewidth\": 0, \"ticks\": \"\"}, \"colorscale\": [[0.0, \"#0d0887\"], [0.1111111111111111, \"#46039f\"], [0.2222222222222222, \"#7201a8\"], [0.3333333333333333, \"#9c179e\"], [0.4444444444444444, \"#bd3786\"], [0.5555555555555556, \"#d8576b\"], [0.6666666666666666, \"#ed7953\"], [0.7777777777777778, \"#fb9f3a\"], [0.8888888888888888, \"#fdca26\"], [1.0, \"#f0f921\"]], \"type\": \"histogram2d\"}], \"histogram2dcontour\": [{\"colorbar\": {\"outlinewidth\": 0, \"ticks\": \"\"}, \"colorscale\": [[0.0, \"#0d0887\"], [0.1111111111111111, \"#46039f\"], [0.2222222222222222, \"#7201a8\"], [0.3333333333333333, \"#9c179e\"], [0.4444444444444444, \"#bd3786\"], [0.5555555555555556, \"#d8576b\"], [0.6666666666666666, \"#ed7953\"], [0.7777777777777778, \"#fb9f3a\"], [0.8888888888888888, \"#fdca26\"], [1.0, \"#f0f921\"]], \"type\": \"histogram2dcontour\"}], \"mesh3d\": [{\"colorbar\": {\"outlinewidth\": 0, \"ticks\": \"\"}, \"type\": \"mesh3d\"}], \"parcoords\": [{\"line\": {\"colorbar\": {\"outlinewidth\": 0, \"ticks\": \"\"}}, \"type\": \"parcoords\"}], \"scatter\": [{\"marker\": {\"colorbar\": {\"outlinewidth\": 0, \"ticks\": \"\"}}, \"type\": \"scatter\"}], \"scatter3d\": [{\"line\": {\"colorbar\": {\"outlinewidth\": 0, \"ticks\": \"\"}}, \"marker\": {\"colorbar\": {\"outlinewidth\": 0, \"ticks\": \"\"}}, \"type\": \"scatter3d\"}], \"scattercarpet\": [{\"marker\": {\"colorbar\": {\"outlinewidth\": 0, \"ticks\": \"\"}}, \"type\": \"scattercarpet\"}], \"scattergeo\": [{\"marker\": {\"colorbar\": {\"outlinewidth\": 0, \"ticks\": \"\"}}, \"type\": \"scattergeo\"}], \"scattergl\": [{\"marker\": {\"colorbar\": {\"outlinewidth\": 0, \"ticks\": \"\"}}, \"type\": \"scattergl\"}], \"scattermapbox\": [{\"marker\": {\"colorbar\": {\"outlinewidth\": 0, \"ticks\": \"\"}}, \"type\": \"scattermapbox\"}], \"scatterpolar\": [{\"marker\": {\"colorbar\": {\"outlinewidth\": 0, \"ticks\": \"\"}}, \"type\": \"scatterpolar\"}], \"scatterpolargl\": [{\"marker\": {\"colorbar\": {\"outlinewidth\": 0, \"ticks\": \"\"}}, \"type\": \"scatterpolargl\"}], \"scatterternary\": [{\"marker\": {\"colorbar\": {\"outlinewidth\": 0, \"ticks\": \"\"}}, \"type\": \"scatterternary\"}], \"surface\": [{\"colorbar\": {\"outlinewidth\": 0, \"ticks\": \"\"}, \"colorscale\": [[0.0, \"#0d0887\"], [0.1111111111111111, \"#46039f\"], [0.2222222222222222, \"#7201a8\"], [0.3333333333333333, \"#9c179e\"], [0.4444444444444444, \"#bd3786\"], [0.5555555555555556, \"#d8576b\"], [0.6666666666666666, \"#ed7953\"], [0.7777777777777778, \"#fb9f3a\"], [0.8888888888888888, \"#fdca26\"], [1.0, \"#f0f921\"]], \"type\": \"surface\"}], \"table\": [{\"cells\": {\"fill\": {\"color\": \"#EBF0F8\"}, \"line\": {\"color\": \"white\"}}, \"header\": {\"fill\": {\"color\": \"#C8D4E3\"}, \"line\": {\"color\": \"white\"}}, \"type\": \"table\"}]}, \"layout\": {\"annotationdefaults\": {\"arrowcolor\": \"#2a3f5f\", \"arrowhead\": 0, \"arrowwidth\": 1}, \"colorscale\": {\"diverging\": [[0, \"#8e0152\"], [0.1, \"#c51b7d\"], [0.2, \"#de77ae\"], [0.3, \"#f1b6da\"], [0.4, \"#fde0ef\"], [0.5, \"#f7f7f7\"], [0.6, \"#e6f5d0\"], [0.7, \"#b8e186\"], [0.8, \"#7fbc41\"], [0.9, \"#4d9221\"], [1, \"#276419\"]], \"sequential\": [[0.0, \"#0d0887\"], [0.1111111111111111, \"#46039f\"], [0.2222222222222222, \"#7201a8\"], [0.3333333333333333, \"#9c179e\"], [0.4444444444444444, \"#bd3786\"], [0.5555555555555556, \"#d8576b\"], [0.6666666666666666, \"#ed7953\"], [0.7777777777777778, \"#fb9f3a\"], [0.8888888888888888, \"#fdca26\"], [1.0, \"#f0f921\"]], \"sequentialminus\": [[0.0, \"#0d0887\"], [0.1111111111111111, \"#46039f\"], [0.2222222222222222, \"#7201a8\"], [0.3333333333333333, \"#9c179e\"], [0.4444444444444444, \"#bd3786\"], [0.5555555555555556, \"#d8576b\"], [0.6666666666666666, \"#ed7953\"], [0.7777777777777778, \"#fb9f3a\"], [0.8888888888888888, \"#fdca26\"], [1.0, \"#f0f921\"]]}, \"colorway\": [\"#636efa\", \"#EF553B\", \"#00cc96\", \"#ab63fa\", \"#FFA15A\", \"#19d3f3\", \"#FF6692\", \"#B6E880\", \"#FF97FF\", \"#FECB52\"], \"font\": {\"color\": \"#2a3f5f\"}, \"geo\": {\"bgcolor\": \"white\", \"lakecolor\": \"white\", \"landcolor\": \"#E5ECF6\", \"showlakes\": true, \"showland\": true, \"subunitcolor\": \"white\"}, \"hoverlabel\": {\"align\": \"left\"}, \"hovermode\": \"closest\", \"mapbox\": {\"style\": \"light\"}, \"paper_bgcolor\": \"white\", \"plot_bgcolor\": \"#E5ECF6\", \"polar\": {\"angularaxis\": {\"gridcolor\": \"white\", \"linecolor\": \"white\", \"ticks\": \"\"}, \"bgcolor\": \"#E5ECF6\", \"radialaxis\": {\"gridcolor\": \"white\", \"linecolor\": \"white\", \"ticks\": \"\"}}, \"scene\": {\"xaxis\": {\"backgroundcolor\": \"#E5ECF6\", \"gridcolor\": \"white\", \"gridwidth\": 2, \"linecolor\": \"white\", \"showbackground\": true, \"ticks\": \"\", \"zerolinecolor\": \"white\"}, \"yaxis\": {\"backgroundcolor\": \"#E5ECF6\", \"gridcolor\": \"white\", \"gridwidth\": 2, \"linecolor\": \"white\", \"showbackground\": true, \"ticks\": \"\", \"zerolinecolor\": \"white\"}, \"zaxis\": {\"backgroundcolor\": \"#E5ECF6\", \"gridcolor\": \"white\", \"gridwidth\": 2, \"linecolor\": \"white\", \"showbackground\": true, \"ticks\": \"\", \"zerolinecolor\": \"white\"}}, \"shapedefaults\": {\"line\": {\"color\": \"#2a3f5f\"}}, \"ternary\": {\"aaxis\": {\"gridcolor\": \"white\", \"linecolor\": \"white\", \"ticks\": \"\"}, \"baxis\": {\"gridcolor\": \"white\", \"linecolor\": \"white\", \"ticks\": \"\"}, \"bgcolor\": \"#E5ECF6\", \"caxis\": {\"gridcolor\": \"white\", \"linecolor\": \"white\", \"ticks\": \"\"}}, \"title\": {\"x\": 0.05}, \"xaxis\": {\"automargin\": true, \"gridcolor\": \"white\", \"linecolor\": \"white\", \"ticks\": \"\", \"zerolinecolor\": \"white\", \"zerolinewidth\": 2}, \"yaxis\": {\"automargin\": true, \"gridcolor\": \"white\", \"linecolor\": \"white\", \"ticks\": \"\", \"zerolinecolor\": \"white\", \"zerolinewidth\": 2}}}},\n",
              "                        {\"responsive\": true}\n",
              "                    ).then(function(){\n",
              "                            \n",
              "var gd = document.getElementById('31272cbf-b92b-439f-8c2c-a4b2bb20ee5e');\n",
              "var x = new MutationObserver(function (mutations, observer) {{\n",
              "        var display = window.getComputedStyle(gd).display;\n",
              "        if (!display || display === 'none') {{\n",
              "            console.log([gd, 'removed!']);\n",
              "            Plotly.purge(gd);\n",
              "            observer.disconnect();\n",
              "        }}\n",
              "}});\n",
              "\n",
              "// Listen for the removal of the full notebook cells\n",
              "var notebookContainer = gd.closest('#notebook-container');\n",
              "if (notebookContainer) {{\n",
              "    x.observe(notebookContainer, {childList: true});\n",
              "}}\n",
              "\n",
              "// Listen for the clearing of the current output cell\n",
              "var outputEl = gd.closest('.output');\n",
              "if (outputEl) {{\n",
              "    x.observe(outputEl, {childList: true});\n",
              "}}\n",
              "\n",
              "                        })\n",
              "                };\n",
              "                });\n",
              "            </script>\n",
              "        </div>"
            ]
          },
          "metadata": {
            "tags": []
          }
        }
      ]
    },
    {
      "cell_type": "markdown",
      "metadata": {
        "id": "7T04VBsEm9Sy",
        "colab_type": "text"
      },
      "source": [
        "[Return to top](#top)"
      ]
    },
    {
      "cell_type": "markdown",
      "metadata": {
        "id": "sx-nJdB_JVGU",
        "colab_type": "text"
      },
      "source": [
        "<a id = \"10.3.c\"></a>\n",
        "c) tapasztalati eloszlásfüggvény"
      ]
    },
    {
      "cell_type": "code",
      "metadata": {
        "id": "nJdH7-UpyP2J",
        "colab_type": "code",
        "outputId": "4b9cf140-d974-4a20-b95c-18516f898a86",
        "colab": {
          "base_uri": "https://localhost:8080/",
          "height": 542
        }
      },
      "source": [
        "datalist = [193, 195, 198, 201, 204, \n",
        "196, 196, 196, 203, 199, 193, 198, 191, 191, 198, 200]\n",
        "bins = math.ceil((max(datalist) - min(datalist)/2))\n",
        "empirical_dist(datalist, bins)"
      ],
      "execution_count": 0,
      "outputs": [
        {
          "output_type": "display_data",
          "data": {
            "text/html": [
              "<div>\n",
              "        \n",
              "        \n",
              "            <div id=\"3df516f4-cd62-4acb-af9f-c2427dc4dbb8\" class=\"plotly-graph-div\" style=\"height:525px; width:100%;\"></div>\n",
              "            <script type=\"text/javascript\">\n",
              "                require([\"plotly\"], function(Plotly) {\n",
              "                    window.PLOTLYENV=window.PLOTLYENV || {};\n",
              "                    \n",
              "                if (document.getElementById(\"3df516f4-cd62-4acb-af9f-c2427dc4dbb8\")) {\n",
              "                    Plotly.newPlot(\n",
              "                        '3df516f4-cd62-4acb-af9f-c2427dc4dbb8',\n",
              "                        [{\"hoverinfo\": \"all\", \"line\": {\"color\": \"rgb(1255, 0, 0)\", \"shape\": \"hvh\"}, \"mode\": \"lines\", \"name\": \"X\", \"type\": \"scatter\", \"x\": [191.0, 191.11926605504587, 191.23853211009174, 191.3577981651376, 191.47706422018348, 191.59633027522935, 191.71559633027522, 191.8348623853211, 191.954128440367, 192.07339449541286, 192.19266055045873, 192.3119266055046, 192.43119266055047, 192.55045871559633, 192.6697247706422, 192.78899082568807, 192.90825688073394, 193.0275229357798, 193.14678899082568, 193.26605504587155, 193.38532110091742, 193.5045871559633, 193.62385321100916, 193.74311926605503, 193.86238532110093, 193.9816513761468, 194.10091743119267, 194.22018348623854, 194.3394495412844, 194.45871559633028, 194.57798165137615, 194.69724770642202, 194.8165137614679, 194.93577981651376, 195.05504587155963, 195.1743119266055, 195.29357798165137, 195.41284403669724, 195.5321100917431, 195.651376146789, 195.77064220183487, 195.88990825688074, 196.0091743119266, 196.12844036697248, 196.24770642201835, 196.36697247706422, 196.4862385321101, 196.60550458715596, 196.72477064220183, 196.8440366972477, 196.96330275229357, 197.08256880733944, 197.2018348623853, 197.32110091743118, 197.44036697247705, 197.55963302752295, 197.67889908256882, 197.7981651376147, 197.91743119266056, 198.03669724770643, 198.1559633027523, 198.27522935779817, 198.39449541284404, 198.5137614678899, 198.63302752293578, 198.75229357798165, 198.87155963302752, 198.9908256880734, 199.11009174311926, 199.22935779816513, 199.348623853211, 199.4678899082569, 199.58715596330276, 199.70642201834863, 199.8256880733945, 199.94495412844037, 200.06422018348624, 200.1834862385321, 200.30275229357798, 200.42201834862385, 200.54128440366972, 200.6605504587156, 200.77981651376146, 200.89908256880733, 201.0183486238532, 201.13761467889907, 201.25688073394497, 201.37614678899084, 201.4954128440367, 201.61467889908258, 201.73394495412845, 201.85321100917432, 201.9724770642202, 202.09174311926606, 202.21100917431193, 202.3302752293578, 202.44954128440367, 202.56880733944953, 202.6880733944954, 202.80733944954127, 202.92660550458714, 203.04587155963304, 203.1651376146789, 203.28440366972478, 203.40366972477065, 203.52293577981652, 203.6422018348624, 203.76146788990826, 203.88073394495413, 204.0], \"y\": [0.12500000000000186, 0.12500000000000186, 0.12500000000000186, 0.12500000000000186, 0.12500000000000186, 0.12500000000000186, 0.12500000000000186, 0.12500000000000186, 0.12500000000000186, 0.12500000000000186, 0.12500000000000186, 0.12500000000000186, 0.12500000000000186, 0.12500000000000186, 0.12500000000000186, 0.12500000000000186, 0.2500000000000037, 0.2500000000000037, 0.2500000000000037, 0.2500000000000037, 0.2500000000000037, 0.2500000000000037, 0.2500000000000037, 0.2500000000000037, 0.2500000000000037, 0.2500000000000037, 0.2500000000000037, 0.2500000000000037, 0.2500000000000037, 0.2500000000000037, 0.2500000000000037, 0.2500000000000037, 0.2500000000000037, 0.31250000000000466, 0.31250000000000466, 0.31250000000000466, 0.31250000000000466, 0.31250000000000466, 0.31250000000000466, 0.31250000000000466, 0.31250000000000466, 0.5000000000000074, 0.5000000000000074, 0.5000000000000074, 0.5000000000000074, 0.5000000000000074, 0.5000000000000074, 0.5000000000000074, 0.5000000000000074, 0.5000000000000074, 0.5000000000000074, 0.5000000000000074, 0.5000000000000074, 0.5000000000000074, 0.5000000000000074, 0.5000000000000074, 0.5000000000000074, 0.5000000000000074, 0.6875000000000102, 0.6875000000000102, 0.6875000000000102, 0.6875000000000102, 0.6875000000000102, 0.6875000000000102, 0.6875000000000102, 0.6875000000000102, 0.6875000000000102, 0.7500000000000112, 0.7500000000000112, 0.7500000000000112, 0.7500000000000112, 0.7500000000000112, 0.7500000000000112, 0.7500000000000112, 0.7500000000000112, 0.8125000000000121, 0.8125000000000121, 0.8125000000000121, 0.8125000000000121, 0.8125000000000121, 0.8125000000000121, 0.8125000000000121, 0.8125000000000121, 0.8750000000000131, 0.8750000000000131, 0.8750000000000131, 0.8750000000000131, 0.8750000000000131, 0.8750000000000131, 0.8750000000000131, 0.8750000000000131, 0.8750000000000131, 0.8750000000000131, 0.8750000000000131, 0.8750000000000131, 0.8750000000000131, 0.8750000000000131, 0.8750000000000131, 0.8750000000000131, 0.8750000000000131, 0.9374999999999991, 0.9374999999999991, 0.9374999999999991, 0.9374999999999991, 0.9374999999999991, 0.9374999999999991, 0.9374999999999991, 0.9374999999999991, 1.0]}],\n",
              "                        {\"legend\": {\"font\": {\"size\": 16}, \"traceorder\": \"reversed\", \"y\": 0.5}, \"template\": {\"data\": {\"bar\": [{\"error_x\": {\"color\": \"#2a3f5f\"}, \"error_y\": {\"color\": \"#2a3f5f\"}, \"marker\": {\"line\": {\"color\": \"#E5ECF6\", \"width\": 0.5}}, \"type\": \"bar\"}], \"barpolar\": [{\"marker\": {\"line\": {\"color\": \"#E5ECF6\", \"width\": 0.5}}, \"type\": \"barpolar\"}], \"carpet\": [{\"aaxis\": {\"endlinecolor\": \"#2a3f5f\", \"gridcolor\": \"white\", \"linecolor\": \"white\", \"minorgridcolor\": \"white\", \"startlinecolor\": \"#2a3f5f\"}, \"baxis\": {\"endlinecolor\": \"#2a3f5f\", \"gridcolor\": \"white\", \"linecolor\": \"white\", \"minorgridcolor\": \"white\", \"startlinecolor\": \"#2a3f5f\"}, \"type\": \"carpet\"}], \"choropleth\": [{\"colorbar\": {\"outlinewidth\": 0, \"ticks\": \"\"}, \"type\": \"choropleth\"}], \"contour\": [{\"colorbar\": {\"outlinewidth\": 0, \"ticks\": \"\"}, \"colorscale\": [[0.0, \"#0d0887\"], [0.1111111111111111, \"#46039f\"], [0.2222222222222222, \"#7201a8\"], [0.3333333333333333, \"#9c179e\"], [0.4444444444444444, \"#bd3786\"], [0.5555555555555556, \"#d8576b\"], [0.6666666666666666, \"#ed7953\"], [0.7777777777777778, \"#fb9f3a\"], [0.8888888888888888, \"#fdca26\"], [1.0, \"#f0f921\"]], \"type\": \"contour\"}], \"contourcarpet\": [{\"colorbar\": {\"outlinewidth\": 0, \"ticks\": \"\"}, \"type\": \"contourcarpet\"}], \"heatmap\": [{\"colorbar\": {\"outlinewidth\": 0, \"ticks\": \"\"}, \"colorscale\": [[0.0, \"#0d0887\"], [0.1111111111111111, \"#46039f\"], [0.2222222222222222, \"#7201a8\"], [0.3333333333333333, \"#9c179e\"], [0.4444444444444444, \"#bd3786\"], [0.5555555555555556, \"#d8576b\"], [0.6666666666666666, \"#ed7953\"], [0.7777777777777778, \"#fb9f3a\"], [0.8888888888888888, \"#fdca26\"], [1.0, \"#f0f921\"]], \"type\": \"heatmap\"}], \"heatmapgl\": [{\"colorbar\": {\"outlinewidth\": 0, \"ticks\": \"\"}, \"colorscale\": [[0.0, \"#0d0887\"], [0.1111111111111111, \"#46039f\"], [0.2222222222222222, \"#7201a8\"], [0.3333333333333333, \"#9c179e\"], [0.4444444444444444, \"#bd3786\"], [0.5555555555555556, \"#d8576b\"], [0.6666666666666666, \"#ed7953\"], [0.7777777777777778, \"#fb9f3a\"], [0.8888888888888888, \"#fdca26\"], [1.0, \"#f0f921\"]], \"type\": \"heatmapgl\"}], \"histogram\": [{\"marker\": {\"colorbar\": {\"outlinewidth\": 0, \"ticks\": \"\"}}, \"type\": \"histogram\"}], \"histogram2d\": [{\"colorbar\": {\"outlinewidth\": 0, \"ticks\": \"\"}, \"colorscale\": [[0.0, \"#0d0887\"], [0.1111111111111111, \"#46039f\"], [0.2222222222222222, \"#7201a8\"], [0.3333333333333333, \"#9c179e\"], [0.4444444444444444, \"#bd3786\"], [0.5555555555555556, \"#d8576b\"], [0.6666666666666666, \"#ed7953\"], [0.7777777777777778, \"#fb9f3a\"], [0.8888888888888888, \"#fdca26\"], [1.0, \"#f0f921\"]], \"type\": \"histogram2d\"}], \"histogram2dcontour\": [{\"colorbar\": {\"outlinewidth\": 0, \"ticks\": \"\"}, \"colorscale\": [[0.0, \"#0d0887\"], [0.1111111111111111, \"#46039f\"], [0.2222222222222222, \"#7201a8\"], [0.3333333333333333, \"#9c179e\"], [0.4444444444444444, \"#bd3786\"], [0.5555555555555556, \"#d8576b\"], [0.6666666666666666, \"#ed7953\"], [0.7777777777777778, \"#fb9f3a\"], [0.8888888888888888, \"#fdca26\"], [1.0, \"#f0f921\"]], \"type\": \"histogram2dcontour\"}], \"mesh3d\": [{\"colorbar\": {\"outlinewidth\": 0, \"ticks\": \"\"}, \"type\": \"mesh3d\"}], \"parcoords\": [{\"line\": {\"colorbar\": {\"outlinewidth\": 0, \"ticks\": \"\"}}, \"type\": \"parcoords\"}], \"scatter\": [{\"marker\": {\"colorbar\": {\"outlinewidth\": 0, \"ticks\": \"\"}}, \"type\": \"scatter\"}], \"scatter3d\": [{\"line\": {\"colorbar\": {\"outlinewidth\": 0, \"ticks\": \"\"}}, \"marker\": {\"colorbar\": {\"outlinewidth\": 0, \"ticks\": \"\"}}, \"type\": \"scatter3d\"}], \"scattercarpet\": [{\"marker\": {\"colorbar\": {\"outlinewidth\": 0, \"ticks\": \"\"}}, \"type\": \"scattercarpet\"}], \"scattergeo\": [{\"marker\": {\"colorbar\": {\"outlinewidth\": 0, \"ticks\": \"\"}}, \"type\": \"scattergeo\"}], \"scattergl\": [{\"marker\": {\"colorbar\": {\"outlinewidth\": 0, \"ticks\": \"\"}}, \"type\": \"scattergl\"}], \"scattermapbox\": [{\"marker\": {\"colorbar\": {\"outlinewidth\": 0, \"ticks\": \"\"}}, \"type\": \"scattermapbox\"}], \"scatterpolar\": [{\"marker\": {\"colorbar\": {\"outlinewidth\": 0, \"ticks\": \"\"}}, \"type\": \"scatterpolar\"}], \"scatterpolargl\": [{\"marker\": {\"colorbar\": {\"outlinewidth\": 0, \"ticks\": \"\"}}, \"type\": \"scatterpolargl\"}], \"scatterternary\": [{\"marker\": {\"colorbar\": {\"outlinewidth\": 0, \"ticks\": \"\"}}, \"type\": \"scatterternary\"}], \"surface\": [{\"colorbar\": {\"outlinewidth\": 0, \"ticks\": \"\"}, \"colorscale\": [[0.0, \"#0d0887\"], [0.1111111111111111, \"#46039f\"], [0.2222222222222222, \"#7201a8\"], [0.3333333333333333, \"#9c179e\"], [0.4444444444444444, \"#bd3786\"], [0.5555555555555556, \"#d8576b\"], [0.6666666666666666, \"#ed7953\"], [0.7777777777777778, \"#fb9f3a\"], [0.8888888888888888, \"#fdca26\"], [1.0, \"#f0f921\"]], \"type\": \"surface\"}], \"table\": [{\"cells\": {\"fill\": {\"color\": \"#EBF0F8\"}, \"line\": {\"color\": \"white\"}}, \"header\": {\"fill\": {\"color\": \"#C8D4E3\"}, \"line\": {\"color\": \"white\"}}, \"type\": \"table\"}]}, \"layout\": {\"annotationdefaults\": {\"arrowcolor\": \"#2a3f5f\", \"arrowhead\": 0, \"arrowwidth\": 1}, \"colorscale\": {\"diverging\": [[0, \"#8e0152\"], [0.1, \"#c51b7d\"], [0.2, \"#de77ae\"], [0.3, \"#f1b6da\"], [0.4, \"#fde0ef\"], [0.5, \"#f7f7f7\"], [0.6, \"#e6f5d0\"], [0.7, \"#b8e186\"], [0.8, \"#7fbc41\"], [0.9, \"#4d9221\"], [1, \"#276419\"]], \"sequential\": [[0.0, \"#0d0887\"], [0.1111111111111111, \"#46039f\"], [0.2222222222222222, \"#7201a8\"], [0.3333333333333333, \"#9c179e\"], [0.4444444444444444, \"#bd3786\"], [0.5555555555555556, \"#d8576b\"], [0.6666666666666666, \"#ed7953\"], [0.7777777777777778, \"#fb9f3a\"], [0.8888888888888888, \"#fdca26\"], [1.0, \"#f0f921\"]], \"sequentialminus\": [[0.0, \"#0d0887\"], [0.1111111111111111, \"#46039f\"], [0.2222222222222222, \"#7201a8\"], [0.3333333333333333, \"#9c179e\"], [0.4444444444444444, \"#bd3786\"], [0.5555555555555556, \"#d8576b\"], [0.6666666666666666, \"#ed7953\"], [0.7777777777777778, \"#fb9f3a\"], [0.8888888888888888, \"#fdca26\"], [1.0, \"#f0f921\"]]}, \"colorway\": [\"#636efa\", \"#EF553B\", \"#00cc96\", \"#ab63fa\", \"#FFA15A\", \"#19d3f3\", \"#FF6692\", \"#B6E880\", \"#FF97FF\", \"#FECB52\"], \"font\": {\"color\": \"#2a3f5f\"}, \"geo\": {\"bgcolor\": \"white\", \"lakecolor\": \"white\", \"landcolor\": \"#E5ECF6\", \"showlakes\": true, \"showland\": true, \"subunitcolor\": \"white\"}, \"hoverlabel\": {\"align\": \"left\"}, \"hovermode\": \"closest\", \"mapbox\": {\"style\": \"light\"}, \"paper_bgcolor\": \"white\", \"plot_bgcolor\": \"#E5ECF6\", \"polar\": {\"angularaxis\": {\"gridcolor\": \"white\", \"linecolor\": \"white\", \"ticks\": \"\"}, \"bgcolor\": \"#E5ECF6\", \"radialaxis\": {\"gridcolor\": \"white\", \"linecolor\": \"white\", \"ticks\": \"\"}}, \"scene\": {\"xaxis\": {\"backgroundcolor\": \"#E5ECF6\", \"gridcolor\": \"white\", \"gridwidth\": 2, \"linecolor\": \"white\", \"showbackground\": true, \"ticks\": \"\", \"zerolinecolor\": \"white\"}, \"yaxis\": {\"backgroundcolor\": \"#E5ECF6\", \"gridcolor\": \"white\", \"gridwidth\": 2, \"linecolor\": \"white\", \"showbackground\": true, \"ticks\": \"\", \"zerolinecolor\": \"white\"}, \"zaxis\": {\"backgroundcolor\": \"#E5ECF6\", \"gridcolor\": \"white\", \"gridwidth\": 2, \"linecolor\": \"white\", \"showbackground\": true, \"ticks\": \"\", \"zerolinecolor\": \"white\"}}, \"shapedefaults\": {\"line\": {\"color\": \"#2a3f5f\"}}, \"ternary\": {\"aaxis\": {\"gridcolor\": \"white\", \"linecolor\": \"white\", \"ticks\": \"\"}, \"baxis\": {\"gridcolor\": \"white\", \"linecolor\": \"white\", \"ticks\": \"\"}, \"bgcolor\": \"#E5ECF6\", \"caxis\": {\"gridcolor\": \"white\", \"linecolor\": \"white\", \"ticks\": \"\"}}, \"title\": {\"x\": 0.05}, \"xaxis\": {\"automargin\": true, \"gridcolor\": \"white\", \"linecolor\": \"white\", \"ticks\": \"\", \"zerolinecolor\": \"white\", \"zerolinewidth\": 2}, \"yaxis\": {\"automargin\": true, \"gridcolor\": \"white\", \"linecolor\": \"white\", \"ticks\": \"\", \"zerolinecolor\": \"white\", \"zerolinewidth\": 2}}}, \"title\": {\"text\": \"Empirical distribution function\"}},\n",
              "                        {\"responsive\": true}\n",
              "                    ).then(function(){\n",
              "                            \n",
              "var gd = document.getElementById('3df516f4-cd62-4acb-af9f-c2427dc4dbb8');\n",
              "var x = new MutationObserver(function (mutations, observer) {{\n",
              "        var display = window.getComputedStyle(gd).display;\n",
              "        if (!display || display === 'none') {{\n",
              "            console.log([gd, 'removed!']);\n",
              "            Plotly.purge(gd);\n",
              "            observer.disconnect();\n",
              "        }}\n",
              "}});\n",
              "\n",
              "// Listen for the removal of the full notebook cells\n",
              "var notebookContainer = gd.closest('#notebook-container');\n",
              "if (notebookContainer) {{\n",
              "    x.observe(notebookContainer, {childList: true});\n",
              "}}\n",
              "\n",
              "// Listen for the clearing of the current output cell\n",
              "var outputEl = gd.closest('.output');\n",
              "if (outputEl) {{\n",
              "    x.observe(outputEl, {childList: true});\n",
              "}}\n",
              "\n",
              "                        })\n",
              "                };\n",
              "                });\n",
              "            </script>\n",
              "        </div>"
            ]
          },
          "metadata": {
            "tags": []
          }
        }
      ]
    },
    {
      "cell_type": "markdown",
      "metadata": {
        "id": "sKayiuiDnEQ6",
        "colab_type": "text"
      },
      "source": [
        "[Return to top](#top)"
      ]
    },
    {
      "cell_type": "markdown",
      "metadata": {
        "id": "8T06R10Js_1v",
        "colab_type": "text"
      },
      "source": [
        "<a id = \"10.3.d\"></a>\n",
        "d) tapasztalati várható érték, szórás"
      ]
    },
    {
      "cell_type": "code",
      "metadata": {
        "id": "k3WW1f5ftCZi",
        "colab_type": "code",
        "outputId": "df17ff81-8db4-4fd1-c743-a5e5d66a6335",
        "colab": {
          "base_uri": "https://localhost:8080/",
          "height": 52
        }
      },
      "source": [
        "print(\"A tapasztalati várható értéke: \", np.mean(datalist))\n",
        "print(\"A tapasztalati szórása:\", np.std(datalist))"
      ],
      "execution_count": 0,
      "outputs": [
        {
          "output_type": "stream",
          "text": [
            "A tapasztalati várható értéke:  197.0\n",
            "A tapasztalati szórása: 3.774917217635375\n"
          ],
          "name": "stdout"
        }
      ]
    },
    {
      "cell_type": "markdown",
      "metadata": {
        "id": "lqmT9zPmnJew",
        "colab_type": "text"
      },
      "source": [
        "[Return to top](#top)"
      ]
    },
    {
      "cell_type": "markdown",
      "metadata": {
        "id": "4UdHfVNYuI5J",
        "colab_type": "text"
      },
      "source": [
        "<a id = \"10.3.f\"></a>\n",
        "f) szórás torzítatlan becslése"
      ]
    },
    {
      "cell_type": "code",
      "metadata": {
        "id": "cY3cWg4AuPe4",
        "colab_type": "code",
        "outputId": "35e1b1e8-5824-4a8f-c214-33b2da7e2ed0",
        "colab": {
          "base_uri": "https://localhost:8080/",
          "height": 34
        }
      },
      "source": [
        "print(\"A szórás torzítatlan becslése: \", np.sqrt(len(datalist)/(len(datalist)-1)) * np.std(datalist) )"
      ],
      "execution_count": 0,
      "outputs": [
        {
          "output_type": "stream",
          "text": [
            "A szórás torzítatlan becslése:  3.8987177379235853\n"
          ],
          "name": "stdout"
        }
      ]
    },
    {
      "cell_type": "markdown",
      "metadata": {
        "id": "AXjLNFp5nLp9",
        "colab_type": "text"
      },
      "source": [
        "[Return to top](#top)"
      ]
    },
    {
      "cell_type": "markdown",
      "metadata": {
        "id": "1WU3unts8s1E",
        "colab_type": "text"
      },
      "source": [
        "<a id = \"10.3.g\"></a>\n",
        "g) Mivel ismert a szórás ezért a normális eloszlást használjuk"
      ]
    },
    {
      "cell_type": "code",
      "metadata": {
        "id": "C_tmSNDJef71",
        "colab_type": "code",
        "colab": {}
      },
      "source": [
        "datalist = [193, 195, 198, 201, 204, \n",
        "196, 196, 196, 203, 199, 193, 198, 191, 191, 198, 200]"
      ],
      "execution_count": 0,
      "outputs": []
    },
    {
      "cell_type": "code",
      "metadata": {
        "id": "IrCmjxZg8weR",
        "colab_type": "code",
        "outputId": "f4239ee6-aa1c-4a39-9e60-c336c09b3f23",
        "colab": {
          "base_uri": "https://localhost:8080/",
          "height": 34
        }
      },
      "source": [
        "conf_int = stats.norm.interval(.95, loc = np.mean(datalist), scale = 3/np.sqrt(len(datalist))) # sigma=3\n",
        "print(f'A 95%-hoz tartozó confidencia intervallum {conf_int}.')"
      ],
      "execution_count": 0,
      "outputs": [
        {
          "output_type": "stream",
          "text": [
            "A 95%-hoz tartozó confidencia intervallum (195.53002701159497, 198.46997298840503).\n"
          ],
          "name": "stdout"
        }
      ]
    },
    {
      "cell_type": "markdown",
      "metadata": {
        "id": "PhjfFxKSrQ1-",
        "colab_type": "text"
      },
      "source": [
        "[Return to top](#top)"
      ]
    },
    {
      "cell_type": "code",
      "metadata": {
        "id": "LjYEdnqCxpch",
        "colab_type": "code",
        "colab": {
          "base_uri": "https://localhost:8080/",
          "height": 147
        },
        "outputId": "1431728f-6a41-421b-d7de-43f6a4f1787e"
      },
      "source": [
        "new_subsection(\"5. Feladat\")"
      ],
      "execution_count": 16,
      "outputs": [
        {
          "output_type": "execute_result",
          "data": {
            "text/html": [
              "<div style=\"text-align:center;background:CornflowerBlue;padding:40px;color:#ffffff;font-size:3em;\">5. Feladat</div>"
            ],
            "text/plain": [
              "<IPython.core.display.HTML object>"
            ]
          },
          "metadata": {
            "tags": []
          },
          "execution_count": 16
        }
      ]
    },
    {
      "cell_type": "markdown",
      "metadata": {
        "id": "lL29rP7PpqYN",
        "colab_type": "text"
      },
      "source": [
        "A Lángoló Rózsa kolostorban a penitenciaként kirótt (Miatyánk,Üdvözlégy)-ek \n",
        "száma a mai napon\n",
        "\n",
        "(15,20); (25,30); (10,5); (10,10); (20,20); (25,20)\n",
        "\n",
        "Adjon lineáris közelítést az \"Üdvözlégy\"-ek számából a \"Miatyánk\"-ok számára."
      ]
    },
    {
      "cell_type": "markdown",
      "metadata": {
        "id": "8si3QQgtqAa_",
        "colab_type": "text"
      },
      "source": [
        "<a id = \"10.5.1\"></a>\n",
        "Megoldás. "
      ]
    },
    {
      "cell_type": "code",
      "metadata": {
        "id": "SqlG10uYyP9F",
        "colab_type": "code",
        "colab": {}
      },
      "source": [
        "data = [(15,20), (25,30), (10,5), (10,10), (20,20), (25,20)]\n",
        "datalist = [[list(dat)[0], list(dat)[1]] for dat in data]\n",
        "X = [_[1] for _ in datalist]\n",
        "Y = [_[0] for _ in datalist]"
      ],
      "execution_count": 0,
      "outputs": []
    },
    {
      "cell_type": "code",
      "metadata": {
        "id": "XVZNPAxkuGI2",
        "colab_type": "code",
        "colab": {
          "base_uri": "https://localhost:8080/",
          "height": 532
        },
        "outputId": "1eabe8f4-41a9-4ed6-a55b-33adf4f2b63f"
      },
      "source": [
        "X = sm.add_constant(X) # Our model needs an intercept so we add a column of 1s in the first column\n",
        "model = sm.OLS(Y, X).fit()\n",
        "# predictions = model.predict(X)\n",
        "print_model = model.summary()\n",
        "print(print_model)"
      ],
      "execution_count": 41,
      "outputs": [
        {
          "output_type": "stream",
          "text": [
            "                            OLS Regression Results                            \n",
            "==============================================================================\n",
            "Dep. Variable:                      y   R-squared:                       0.749\n",
            "Model:                            OLS   Adj. R-squared:                  0.686\n",
            "Method:                 Least Squares   F-statistic:                     11.92\n",
            "Date:                Sun, 01 Dec 2019   Prob (F-statistic):             0.0260\n",
            "Time:                        19:56:39   Log-Likelihood:                -15.405\n",
            "No. Observations:                   6   AIC:                             34.81\n",
            "Df Residuals:                       4   BIC:                             34.39\n",
            "Df Model:                           1                                         \n",
            "Covariance Type:            nonrobust                                         \n",
            "==============================================================================\n",
            "                 coef    std err          t      P>|t|      [0.025      0.975]\n",
            "------------------------------------------------------------------------------\n",
            "const          5.6452      3.779      1.494      0.209      -4.846      16.136\n",
            "x1             0.6774      0.196      3.452      0.026       0.133       1.222\n",
            "==============================================================================\n",
            "Omnibus:                          nan   Durbin-Watson:                   1.023\n",
            "Prob(Omnibus):                    nan   Jarque-Bera (JB):                0.395\n",
            "Skew:                           0.576   Prob(JB):                        0.821\n",
            "Kurtosis:                       2.497   Cond. No.                         46.2\n",
            "==============================================================================\n",
            "\n",
            "Warnings:\n",
            "[1] Standard Errors assume that the covariance matrix of the errors is correctly specified.\n"
          ],
          "name": "stdout"
        },
        {
          "output_type": "stream",
          "text": [
            "/usr/local/lib/python3.6/dist-packages/statsmodels/stats/stattools.py:71: ValueWarning:\n",
            "\n",
            "omni_normtest is not valid with less than 8 observations; 6 samples were given.\n",
            "\n"
          ],
          "name": "stderr"
        }
      ]
    },
    {
      "cell_type": "code",
      "metadata": {
        "id": "KAo-F5aE3rIU",
        "colab_type": "code",
        "colab": {}
      },
      "source": [
        "coeffs = model.params"
      ],
      "execution_count": 0,
      "outputs": []
    },
    {
      "cell_type": "code",
      "metadata": {
        "id": "AawnRtOa3xUd",
        "colab_type": "code",
        "colab": {
          "base_uri": "https://localhost:8080/",
          "height": 34
        },
        "outputId": "a3f3c07f-533e-4a9d-9098-8d183bb31844"
      },
      "source": [
        "print(f'Az egyenes egyenlete: y = {coeffs[0]:.5f} + {coeffs[1]:.5f}*x. ')"
      ],
      "execution_count": 72,
      "outputs": [
        {
          "output_type": "stream",
          "text": [
            "Az egyenes egyenlete: y = 5.64516 + 0.67742*x. \n"
          ],
          "name": "stdout"
        }
      ]
    },
    {
      "cell_type": "code",
      "metadata": {
        "id": "-NLs6wgDCKWy",
        "colab_type": "code",
        "colab": {
          "base_uri": "https://localhost:8080/",
          "height": 542
        },
        "outputId": "ca82eb21-36cf-4666-ff72-ef8a7971dd12"
      },
      "source": [
        "linear_regr_line(X[:, 1], Y, coeffs)"
      ],
      "execution_count": 80,
      "outputs": [
        {
          "output_type": "display_data",
          "data": {
            "text/html": [
              "        <script type=\"text/javascript\">\n",
              "        window.PlotlyConfig = {MathJaxConfig: 'local'};\n",
              "        if (window.MathJax) {MathJax.Hub.Config({SVG: {font: \"STIX-Web\"}});}\n",
              "        if (typeof require !== 'undefined') {\n",
              "        require.undef(\"plotly\");\n",
              "        requirejs.config({\n",
              "            paths: {\n",
              "                'plotly': ['https://cdn.plot.ly/plotly-latest.min']\n",
              "            }\n",
              "        });\n",
              "        require(['plotly'], function(Plotly) {\n",
              "            window._Plotly = Plotly;\n",
              "        });\n",
              "        }\n",
              "        </script>\n",
              "        "
            ]
          },
          "metadata": {
            "tags": []
          }
        },
        {
          "output_type": "display_data",
          "data": {
            "text/html": [
              "<div>\n",
              "        \n",
              "        \n",
              "            <div id=\"fc18a6b8-9353-4684-b961-0467895041ac\" class=\"plotly-graph-div\" style=\"height:525px; width:100%;\"></div>\n",
              "            <script type=\"text/javascript\">\n",
              "                require([\"plotly\"], function(Plotly) {\n",
              "                    window.PLOTLYENV=window.PLOTLYENV || {};\n",
              "                    \n",
              "                if (document.getElementById(\"fc18a6b8-9353-4684-b961-0467895041ac\")) {\n",
              "                    Plotly.newPlot(\n",
              "                        'fc18a6b8-9353-4684-b961-0467895041ac',\n",
              "                        [{\"mode\": \"markers\", \"name\": \"Data\", \"type\": \"scatter\", \"x\": [3.0, 6.0, 2.0, 2.0, 4.0, 4.0], \"y\": [4, 5, 1, 2, 4, 5]}, {\"mode\": \"lines\", \"name\": \"Fit\", \"type\": \"scatter\", \"x\": [3.0, 6.0, 2.0, 2.0, 4.0, 4.0], \"y\": [3.0434782608695645, 5.782608695652173, 2.130434782608695, 2.130434782608695, 3.956521739130434, 3.956521739130434]}],\n",
              "                        {\"plot_bgcolor\": \"rgb(229, 229, 229)\", \"template\": {\"data\": {\"bar\": [{\"error_x\": {\"color\": \"#2a3f5f\"}, \"error_y\": {\"color\": \"#2a3f5f\"}, \"marker\": {\"line\": {\"color\": \"#E5ECF6\", \"width\": 0.5}}, \"type\": \"bar\"}], \"barpolar\": [{\"marker\": {\"line\": {\"color\": \"#E5ECF6\", \"width\": 0.5}}, \"type\": \"barpolar\"}], \"carpet\": [{\"aaxis\": {\"endlinecolor\": \"#2a3f5f\", \"gridcolor\": \"white\", \"linecolor\": \"white\", \"minorgridcolor\": \"white\", \"startlinecolor\": \"#2a3f5f\"}, \"baxis\": {\"endlinecolor\": \"#2a3f5f\", \"gridcolor\": \"white\", \"linecolor\": \"white\", \"minorgridcolor\": \"white\", \"startlinecolor\": \"#2a3f5f\"}, \"type\": \"carpet\"}], \"choropleth\": [{\"colorbar\": {\"outlinewidth\": 0, \"ticks\": \"\"}, \"type\": \"choropleth\"}], \"contour\": [{\"colorbar\": {\"outlinewidth\": 0, \"ticks\": \"\"}, \"colorscale\": [[0.0, \"#0d0887\"], [0.1111111111111111, \"#46039f\"], [0.2222222222222222, \"#7201a8\"], [0.3333333333333333, \"#9c179e\"], [0.4444444444444444, \"#bd3786\"], [0.5555555555555556, \"#d8576b\"], [0.6666666666666666, \"#ed7953\"], [0.7777777777777778, \"#fb9f3a\"], [0.8888888888888888, \"#fdca26\"], [1.0, \"#f0f921\"]], \"type\": \"contour\"}], \"contourcarpet\": [{\"colorbar\": {\"outlinewidth\": 0, \"ticks\": \"\"}, \"type\": \"contourcarpet\"}], \"heatmap\": [{\"colorbar\": {\"outlinewidth\": 0, \"ticks\": \"\"}, \"colorscale\": [[0.0, \"#0d0887\"], [0.1111111111111111, \"#46039f\"], [0.2222222222222222, \"#7201a8\"], [0.3333333333333333, \"#9c179e\"], [0.4444444444444444, \"#bd3786\"], [0.5555555555555556, \"#d8576b\"], [0.6666666666666666, \"#ed7953\"], [0.7777777777777778, \"#fb9f3a\"], [0.8888888888888888, \"#fdca26\"], [1.0, \"#f0f921\"]], \"type\": \"heatmap\"}], \"heatmapgl\": [{\"colorbar\": {\"outlinewidth\": 0, \"ticks\": \"\"}, \"colorscale\": [[0.0, \"#0d0887\"], [0.1111111111111111, \"#46039f\"], [0.2222222222222222, \"#7201a8\"], [0.3333333333333333, \"#9c179e\"], [0.4444444444444444, \"#bd3786\"], [0.5555555555555556, \"#d8576b\"], [0.6666666666666666, \"#ed7953\"], [0.7777777777777778, \"#fb9f3a\"], [0.8888888888888888, \"#fdca26\"], [1.0, \"#f0f921\"]], \"type\": \"heatmapgl\"}], \"histogram\": [{\"marker\": {\"colorbar\": {\"outlinewidth\": 0, \"ticks\": \"\"}}, \"type\": \"histogram\"}], \"histogram2d\": [{\"colorbar\": {\"outlinewidth\": 0, \"ticks\": \"\"}, \"colorscale\": [[0.0, \"#0d0887\"], [0.1111111111111111, \"#46039f\"], [0.2222222222222222, \"#7201a8\"], [0.3333333333333333, \"#9c179e\"], [0.4444444444444444, \"#bd3786\"], [0.5555555555555556, \"#d8576b\"], [0.6666666666666666, \"#ed7953\"], [0.7777777777777778, \"#fb9f3a\"], [0.8888888888888888, \"#fdca26\"], [1.0, \"#f0f921\"]], \"type\": \"histogram2d\"}], \"histogram2dcontour\": [{\"colorbar\": {\"outlinewidth\": 0, \"ticks\": \"\"}, \"colorscale\": [[0.0, \"#0d0887\"], [0.1111111111111111, \"#46039f\"], [0.2222222222222222, \"#7201a8\"], [0.3333333333333333, \"#9c179e\"], [0.4444444444444444, \"#bd3786\"], [0.5555555555555556, \"#d8576b\"], [0.6666666666666666, \"#ed7953\"], [0.7777777777777778, \"#fb9f3a\"], [0.8888888888888888, \"#fdca26\"], [1.0, \"#f0f921\"]], \"type\": \"histogram2dcontour\"}], \"mesh3d\": [{\"colorbar\": {\"outlinewidth\": 0, \"ticks\": \"\"}, \"type\": \"mesh3d\"}], \"parcoords\": [{\"line\": {\"colorbar\": {\"outlinewidth\": 0, \"ticks\": \"\"}}, \"type\": \"parcoords\"}], \"scatter\": [{\"marker\": {\"colorbar\": {\"outlinewidth\": 0, \"ticks\": \"\"}}, \"type\": \"scatter\"}], \"scatter3d\": [{\"line\": {\"colorbar\": {\"outlinewidth\": 0, \"ticks\": \"\"}}, \"marker\": {\"colorbar\": {\"outlinewidth\": 0, \"ticks\": \"\"}}, \"type\": \"scatter3d\"}], \"scattercarpet\": [{\"marker\": {\"colorbar\": {\"outlinewidth\": 0, \"ticks\": \"\"}}, \"type\": \"scattercarpet\"}], \"scattergeo\": [{\"marker\": {\"colorbar\": {\"outlinewidth\": 0, \"ticks\": \"\"}}, \"type\": \"scattergeo\"}], \"scattergl\": [{\"marker\": {\"colorbar\": {\"outlinewidth\": 0, \"ticks\": \"\"}}, \"type\": \"scattergl\"}], \"scattermapbox\": [{\"marker\": {\"colorbar\": {\"outlinewidth\": 0, \"ticks\": \"\"}}, \"type\": \"scattermapbox\"}], \"scatterpolar\": [{\"marker\": {\"colorbar\": {\"outlinewidth\": 0, \"ticks\": \"\"}}, \"type\": \"scatterpolar\"}], \"scatterpolargl\": [{\"marker\": {\"colorbar\": {\"outlinewidth\": 0, \"ticks\": \"\"}}, \"type\": \"scatterpolargl\"}], \"scatterternary\": [{\"marker\": {\"colorbar\": {\"outlinewidth\": 0, \"ticks\": \"\"}}, \"type\": \"scatterternary\"}], \"surface\": [{\"colorbar\": {\"outlinewidth\": 0, \"ticks\": \"\"}, \"colorscale\": [[0.0, \"#0d0887\"], [0.1111111111111111, \"#46039f\"], [0.2222222222222222, \"#7201a8\"], [0.3333333333333333, \"#9c179e\"], [0.4444444444444444, \"#bd3786\"], [0.5555555555555556, \"#d8576b\"], [0.6666666666666666, \"#ed7953\"], [0.7777777777777778, \"#fb9f3a\"], [0.8888888888888888, \"#fdca26\"], [1.0, \"#f0f921\"]], \"type\": \"surface\"}], \"table\": [{\"cells\": {\"fill\": {\"color\": \"#EBF0F8\"}, \"line\": {\"color\": \"white\"}}, \"header\": {\"fill\": {\"color\": \"#C8D4E3\"}, \"line\": {\"color\": \"white\"}}, \"type\": \"table\"}]}, \"layout\": {\"annotationdefaults\": {\"arrowcolor\": \"#2a3f5f\", \"arrowhead\": 0, \"arrowwidth\": 1}, \"colorscale\": {\"diverging\": [[0, \"#8e0152\"], [0.1, \"#c51b7d\"], [0.2, \"#de77ae\"], [0.3, \"#f1b6da\"], [0.4, \"#fde0ef\"], [0.5, \"#f7f7f7\"], [0.6, \"#e6f5d0\"], [0.7, \"#b8e186\"], [0.8, \"#7fbc41\"], [0.9, \"#4d9221\"], [1, \"#276419\"]], \"sequential\": [[0.0, \"#0d0887\"], [0.1111111111111111, \"#46039f\"], [0.2222222222222222, \"#7201a8\"], [0.3333333333333333, \"#9c179e\"], [0.4444444444444444, \"#bd3786\"], [0.5555555555555556, \"#d8576b\"], [0.6666666666666666, \"#ed7953\"], [0.7777777777777778, \"#fb9f3a\"], [0.8888888888888888, \"#fdca26\"], [1.0, \"#f0f921\"]], \"sequentialminus\": [[0.0, \"#0d0887\"], [0.1111111111111111, \"#46039f\"], [0.2222222222222222, \"#7201a8\"], [0.3333333333333333, \"#9c179e\"], [0.4444444444444444, \"#bd3786\"], [0.5555555555555556, \"#d8576b\"], [0.6666666666666666, \"#ed7953\"], [0.7777777777777778, \"#fb9f3a\"], [0.8888888888888888, \"#fdca26\"], [1.0, \"#f0f921\"]]}, \"colorway\": [\"#636efa\", \"#EF553B\", \"#00cc96\", \"#ab63fa\", \"#FFA15A\", \"#19d3f3\", \"#FF6692\", \"#B6E880\", \"#FF97FF\", \"#FECB52\"], \"font\": {\"color\": \"#2a3f5f\"}, \"geo\": {\"bgcolor\": \"white\", \"lakecolor\": \"white\", \"landcolor\": \"#E5ECF6\", \"showlakes\": true, \"showland\": true, \"subunitcolor\": \"white\"}, \"hoverlabel\": {\"align\": \"left\"}, \"hovermode\": \"closest\", \"mapbox\": {\"style\": \"light\"}, \"paper_bgcolor\": \"white\", \"plot_bgcolor\": \"#E5ECF6\", \"polar\": {\"angularaxis\": {\"gridcolor\": \"white\", \"linecolor\": \"white\", \"ticks\": \"\"}, \"bgcolor\": \"#E5ECF6\", \"radialaxis\": {\"gridcolor\": \"white\", \"linecolor\": \"white\", \"ticks\": \"\"}}, \"scene\": {\"xaxis\": {\"backgroundcolor\": \"#E5ECF6\", \"gridcolor\": \"white\", \"gridwidth\": 2, \"linecolor\": \"white\", \"showbackground\": true, \"ticks\": \"\", \"zerolinecolor\": \"white\"}, \"yaxis\": {\"backgroundcolor\": \"#E5ECF6\", \"gridcolor\": \"white\", \"gridwidth\": 2, \"linecolor\": \"white\", \"showbackground\": true, \"ticks\": \"\", \"zerolinecolor\": \"white\"}, \"zaxis\": {\"backgroundcolor\": \"#E5ECF6\", \"gridcolor\": \"white\", \"gridwidth\": 2, \"linecolor\": \"white\", \"showbackground\": true, \"ticks\": \"\", \"zerolinecolor\": \"white\"}}, \"shapedefaults\": {\"line\": {\"color\": \"#2a3f5f\"}}, \"ternary\": {\"aaxis\": {\"gridcolor\": \"white\", \"linecolor\": \"white\", \"ticks\": \"\"}, \"baxis\": {\"gridcolor\": \"white\", \"linecolor\": \"white\", \"ticks\": \"\"}, \"bgcolor\": \"#E5ECF6\", \"caxis\": {\"gridcolor\": \"white\", \"linecolor\": \"white\", \"ticks\": \"\"}}, \"title\": {\"x\": 0.05}, \"xaxis\": {\"automargin\": true, \"gridcolor\": \"white\", \"linecolor\": \"white\", \"ticks\": \"\", \"zerolinecolor\": \"white\", \"zerolinewidth\": 2}, \"yaxis\": {\"automargin\": true, \"gridcolor\": \"white\", \"linecolor\": \"white\", \"ticks\": \"\", \"zerolinecolor\": \"white\", \"zerolinewidth\": 2}}}, \"title\": {\"text\": \"Linear Regression y = 0.9130*x + 0.3043\"}},\n",
              "                        {\"responsive\": true}\n",
              "                    ).then(function(){\n",
              "                            \n",
              "var gd = document.getElementById('fc18a6b8-9353-4684-b961-0467895041ac');\n",
              "var x = new MutationObserver(function (mutations, observer) {{\n",
              "        var display = window.getComputedStyle(gd).display;\n",
              "        if (!display || display === 'none') {{\n",
              "            console.log([gd, 'removed!']);\n",
              "            Plotly.purge(gd);\n",
              "            observer.disconnect();\n",
              "        }}\n",
              "}});\n",
              "\n",
              "// Listen for the removal of the full notebook cells\n",
              "var notebookContainer = gd.closest('#notebook-container');\n",
              "if (notebookContainer) {{\n",
              "    x.observe(notebookContainer, {childList: true});\n",
              "}}\n",
              "\n",
              "// Listen for the clearing of the current output cell\n",
              "var outputEl = gd.closest('.output');\n",
              "if (outputEl) {{\n",
              "    x.observe(outputEl, {childList: true});\n",
              "}}\n",
              "\n",
              "                        })\n",
              "                };\n",
              "                });\n",
              "            </script>\n",
              "        </div>"
            ]
          },
          "metadata": {
            "tags": []
          }
        }
      ]
    },
    {
      "cell_type": "markdown",
      "metadata": {
        "id": "5BAF4ogynXi8",
        "colab_type": "text"
      },
      "source": [
        "[Return to top](#top)"
      ]
    },
    {
      "cell_type": "markdown",
      "metadata": {
        "id": "Z4x_JJQ19JHq",
        "colab_type": "text"
      },
      "source": [
        "<a id = \"10.hf\"></a>\n",
        "Házi feladat"
      ]
    },
    {
      "cell_type": "markdown",
      "metadata": {
        "id": "O9-wWGWz_weV",
        "colab_type": "text"
      },
      "source": [
        "<a id = \"10.hf.1\"></a>"
      ]
    },
    {
      "cell_type": "code",
      "metadata": {
        "id": "86i34muu3MBy",
        "colab_type": "code",
        "colab": {
          "base_uri": "https://localhost:8080/",
          "height": 147
        },
        "outputId": "36710401-fe4b-4f0c-d0d1-fcbbf417751d"
      },
      "source": [
        "new_subsection(\"1. Feladat\")"
      ],
      "execution_count": 8,
      "outputs": [
        {
          "output_type": "execute_result",
          "data": {
            "text/html": [
              "<div style=\"text-align:center;background:CornflowerBlue;padding:40px;color:#ffffff;font-size:3em;\">1. Feladat</div>"
            ],
            "text/plain": [
              "<IPython.core.display.HTML object>"
            ]
          },
          "metadata": {
            "tags": []
          },
          "execution_count": 8
        }
      ]
    },
    {
      "cell_type": "markdown",
      "metadata": {
        "id": "OyeVXc0pAUi_",
        "colab_type": "text"
      },
      "source": [
        "Bizonyos ón-ólom ötvözet $\\xi$ olvadáspontjának meghatározására 24 \n",
        "véletlenszerűen kiválasztott mintadarabon mérést végeztek. $\\left(^\\circ C\\right)$\n",
        "\\begin{array}{|c|c|c|c|c|c|c|c|}\n",
        "\\hline\n",
        "330& 328.6& 342.4& 334& 337.5& 341& 343.3& 329.5\\\\\n",
        "\\hline\n",
        "322& 331& 336.4& 326.5& 327.3& 338& 331& 332.3\\\\\n",
        "\\hline\n",
        "345& 338.5& 329.7& 325.8& 322.6& 333& 339.2& 340\\\\\n",
        "\\hline\n",
        "\\end{array}\n",
        "\n",
        "a) Készítsünk gyakoriság, sűrűséghisztogramot 4-es lépésközzel! \n",
        "\n",
        "b) Mi lesz a tapasztalati eloszlásfüggvény? \n",
        "\n",
        "c) Mi a tapasztalati várható értéke, szórása? \n",
        "\n",
        "d) Mi a korrigált tapasztalati szórás? \n",
        "\n",
        "e) Adjunk a várható értékre 95%-os megbízhatósági szintű konfidencia intervallumot."
      ]
    },
    {
      "cell_type": "markdown",
      "metadata": {
        "id": "YHpRtaC0BGIv",
        "colab_type": "text"
      },
      "source": [
        "<a id = \"10.hf.1.1\"></a>\n",
        "Megoldás. \n",
        "\n"
      ]
    },
    {
      "cell_type": "markdown",
      "metadata": {
        "id": "cpdLbC2hBHs3",
        "colab_type": "text"
      },
      "source": [
        "<a id = \"10.hf.1.a\"></a>\n",
        "a) gyakoriság, sűrűséghisztogram"
      ]
    },
    {
      "cell_type": "code",
      "metadata": {
        "id": "5ZkYVnykA1OY",
        "colab_type": "code",
        "colab": {}
      },
      "source": [
        "datalist = [330, 328.6, 342.4, 334, 337.5, 341, 343.3, 329.5,\n",
        "322, 331, 336.4, 326.5, 327.3, 338, 331, 332.3,\n",
        "345, 338.5, 329.7, 325.8, 322.6, 333, 339.2, 340]"
      ],
      "execution_count": 0,
      "outputs": []
    },
    {
      "cell_type": "code",
      "metadata": {
        "id": "GhAAxbOfosEP",
        "colab_type": "code",
        "outputId": "2745df1c-f7df-4fc2-dc1a-02b165e0bf8b",
        "colab": {
          "base_uri": "https://localhost:8080/",
          "height": 542
        }
      },
      "source": [
        "fig = go.Figure()\n",
        "fig.add_trace(go.Histogram(histfunc=\"count\",  x=datalist, name=\"count\"))\n",
        "fig.add_trace(go.Histogram(histnorm=\"probability\", x=datalist, name=\"probability\"))\n",
        "\n",
        "fig.show()"
      ],
      "execution_count": 0,
      "outputs": [
        {
          "output_type": "display_data",
          "data": {
            "text/html": [
              "<div>\n",
              "        \n",
              "        \n",
              "            <div id=\"6d5c23de-1d1e-4211-97f0-8ea277f06cb2\" class=\"plotly-graph-div\" style=\"height:525px; width:100%;\"></div>\n",
              "            <script type=\"text/javascript\">\n",
              "                require([\"plotly\"], function(Plotly) {\n",
              "                    window.PLOTLYENV=window.PLOTLYENV || {};\n",
              "                    \n",
              "                if (document.getElementById(\"6d5c23de-1d1e-4211-97f0-8ea277f06cb2\")) {\n",
              "                    Plotly.newPlot(\n",
              "                        '6d5c23de-1d1e-4211-97f0-8ea277f06cb2',\n",
              "                        [{\"histfunc\": \"count\", \"name\": \"count\", \"type\": \"histogram\", \"x\": [330, 328.6, 342.4, 334, 337.5, 341, 343.3, 329.5, 322, 331, 336.4, 326.5, 327.3, 338, 331, 332.3, 345, 338.5, 329.7, 325.8, 322.6, 333, 339.2, 340]}, {\"histnorm\": \"probability\", \"name\": \"probability\", \"type\": \"histogram\", \"x\": [330, 328.6, 342.4, 334, 337.5, 341, 343.3, 329.5, 322, 331, 336.4, 326.5, 327.3, 338, 331, 332.3, 345, 338.5, 329.7, 325.8, 322.6, 333, 339.2, 340]}],\n",
              "                        {\"template\": {\"data\": {\"bar\": [{\"error_x\": {\"color\": \"#2a3f5f\"}, \"error_y\": {\"color\": \"#2a3f5f\"}, \"marker\": {\"line\": {\"color\": \"#E5ECF6\", \"width\": 0.5}}, \"type\": \"bar\"}], \"barpolar\": [{\"marker\": {\"line\": {\"color\": \"#E5ECF6\", \"width\": 0.5}}, \"type\": \"barpolar\"}], \"carpet\": [{\"aaxis\": {\"endlinecolor\": \"#2a3f5f\", \"gridcolor\": \"white\", \"linecolor\": \"white\", \"minorgridcolor\": \"white\", \"startlinecolor\": \"#2a3f5f\"}, \"baxis\": {\"endlinecolor\": \"#2a3f5f\", \"gridcolor\": \"white\", \"linecolor\": \"white\", \"minorgridcolor\": \"white\", \"startlinecolor\": \"#2a3f5f\"}, \"type\": \"carpet\"}], \"choropleth\": [{\"colorbar\": {\"outlinewidth\": 0, \"ticks\": \"\"}, \"type\": \"choropleth\"}], \"contour\": [{\"colorbar\": {\"outlinewidth\": 0, \"ticks\": \"\"}, \"colorscale\": [[0.0, \"#0d0887\"], [0.1111111111111111, \"#46039f\"], [0.2222222222222222, \"#7201a8\"], [0.3333333333333333, \"#9c179e\"], [0.4444444444444444, \"#bd3786\"], [0.5555555555555556, \"#d8576b\"], [0.6666666666666666, \"#ed7953\"], [0.7777777777777778, \"#fb9f3a\"], [0.8888888888888888, \"#fdca26\"], [1.0, \"#f0f921\"]], \"type\": \"contour\"}], \"contourcarpet\": [{\"colorbar\": {\"outlinewidth\": 0, \"ticks\": \"\"}, \"type\": \"contourcarpet\"}], \"heatmap\": [{\"colorbar\": {\"outlinewidth\": 0, \"ticks\": \"\"}, \"colorscale\": [[0.0, \"#0d0887\"], [0.1111111111111111, \"#46039f\"], [0.2222222222222222, \"#7201a8\"], [0.3333333333333333, \"#9c179e\"], [0.4444444444444444, \"#bd3786\"], [0.5555555555555556, \"#d8576b\"], [0.6666666666666666, \"#ed7953\"], [0.7777777777777778, \"#fb9f3a\"], [0.8888888888888888, \"#fdca26\"], [1.0, \"#f0f921\"]], \"type\": \"heatmap\"}], \"heatmapgl\": [{\"colorbar\": {\"outlinewidth\": 0, \"ticks\": \"\"}, \"colorscale\": [[0.0, \"#0d0887\"], [0.1111111111111111, \"#46039f\"], [0.2222222222222222, \"#7201a8\"], [0.3333333333333333, \"#9c179e\"], [0.4444444444444444, \"#bd3786\"], [0.5555555555555556, \"#d8576b\"], [0.6666666666666666, \"#ed7953\"], [0.7777777777777778, \"#fb9f3a\"], [0.8888888888888888, \"#fdca26\"], [1.0, \"#f0f921\"]], \"type\": \"heatmapgl\"}], \"histogram\": [{\"marker\": {\"colorbar\": {\"outlinewidth\": 0, \"ticks\": \"\"}}, \"type\": \"histogram\"}], \"histogram2d\": [{\"colorbar\": {\"outlinewidth\": 0, \"ticks\": \"\"}, \"colorscale\": [[0.0, \"#0d0887\"], [0.1111111111111111, \"#46039f\"], [0.2222222222222222, \"#7201a8\"], [0.3333333333333333, \"#9c179e\"], [0.4444444444444444, \"#bd3786\"], [0.5555555555555556, \"#d8576b\"], [0.6666666666666666, \"#ed7953\"], [0.7777777777777778, \"#fb9f3a\"], [0.8888888888888888, \"#fdca26\"], [1.0, \"#f0f921\"]], \"type\": \"histogram2d\"}], \"histogram2dcontour\": [{\"colorbar\": {\"outlinewidth\": 0, \"ticks\": \"\"}, \"colorscale\": [[0.0, \"#0d0887\"], [0.1111111111111111, \"#46039f\"], [0.2222222222222222, \"#7201a8\"], [0.3333333333333333, \"#9c179e\"], [0.4444444444444444, \"#bd3786\"], [0.5555555555555556, \"#d8576b\"], [0.6666666666666666, \"#ed7953\"], [0.7777777777777778, \"#fb9f3a\"], [0.8888888888888888, \"#fdca26\"], [1.0, \"#f0f921\"]], \"type\": \"histogram2dcontour\"}], \"mesh3d\": [{\"colorbar\": {\"outlinewidth\": 0, \"ticks\": \"\"}, \"type\": \"mesh3d\"}], \"parcoords\": [{\"line\": {\"colorbar\": {\"outlinewidth\": 0, \"ticks\": \"\"}}, \"type\": \"parcoords\"}], \"scatter\": [{\"marker\": {\"colorbar\": {\"outlinewidth\": 0, \"ticks\": \"\"}}, \"type\": \"scatter\"}], \"scatter3d\": [{\"line\": {\"colorbar\": {\"outlinewidth\": 0, \"ticks\": \"\"}}, \"marker\": {\"colorbar\": {\"outlinewidth\": 0, \"ticks\": \"\"}}, \"type\": \"scatter3d\"}], \"scattercarpet\": [{\"marker\": {\"colorbar\": {\"outlinewidth\": 0, \"ticks\": \"\"}}, \"type\": \"scattercarpet\"}], \"scattergeo\": [{\"marker\": {\"colorbar\": {\"outlinewidth\": 0, \"ticks\": \"\"}}, \"type\": \"scattergeo\"}], \"scattergl\": [{\"marker\": {\"colorbar\": {\"outlinewidth\": 0, \"ticks\": \"\"}}, \"type\": \"scattergl\"}], \"scattermapbox\": [{\"marker\": {\"colorbar\": {\"outlinewidth\": 0, \"ticks\": \"\"}}, \"type\": \"scattermapbox\"}], \"scatterpolar\": [{\"marker\": {\"colorbar\": {\"outlinewidth\": 0, \"ticks\": \"\"}}, \"type\": \"scatterpolar\"}], \"scatterpolargl\": [{\"marker\": {\"colorbar\": {\"outlinewidth\": 0, \"ticks\": \"\"}}, \"type\": \"scatterpolargl\"}], \"scatterternary\": [{\"marker\": {\"colorbar\": {\"outlinewidth\": 0, \"ticks\": \"\"}}, \"type\": \"scatterternary\"}], \"surface\": [{\"colorbar\": {\"outlinewidth\": 0, \"ticks\": \"\"}, \"colorscale\": [[0.0, \"#0d0887\"], [0.1111111111111111, \"#46039f\"], [0.2222222222222222, \"#7201a8\"], [0.3333333333333333, \"#9c179e\"], [0.4444444444444444, \"#bd3786\"], [0.5555555555555556, \"#d8576b\"], [0.6666666666666666, \"#ed7953\"], [0.7777777777777778, \"#fb9f3a\"], [0.8888888888888888, \"#fdca26\"], [1.0, \"#f0f921\"]], \"type\": \"surface\"}], \"table\": [{\"cells\": {\"fill\": {\"color\": \"#EBF0F8\"}, \"line\": {\"color\": \"white\"}}, \"header\": {\"fill\": {\"color\": \"#C8D4E3\"}, \"line\": {\"color\": \"white\"}}, \"type\": \"table\"}]}, \"layout\": {\"annotationdefaults\": {\"arrowcolor\": \"#2a3f5f\", \"arrowhead\": 0, \"arrowwidth\": 1}, \"colorscale\": {\"diverging\": [[0, \"#8e0152\"], [0.1, \"#c51b7d\"], [0.2, \"#de77ae\"], [0.3, \"#f1b6da\"], [0.4, \"#fde0ef\"], [0.5, \"#f7f7f7\"], [0.6, \"#e6f5d0\"], [0.7, \"#b8e186\"], [0.8, \"#7fbc41\"], [0.9, \"#4d9221\"], [1, \"#276419\"]], \"sequential\": [[0.0, \"#0d0887\"], [0.1111111111111111, \"#46039f\"], [0.2222222222222222, \"#7201a8\"], [0.3333333333333333, \"#9c179e\"], [0.4444444444444444, \"#bd3786\"], [0.5555555555555556, \"#d8576b\"], [0.6666666666666666, \"#ed7953\"], [0.7777777777777778, \"#fb9f3a\"], [0.8888888888888888, \"#fdca26\"], [1.0, \"#f0f921\"]], \"sequentialminus\": [[0.0, \"#0d0887\"], [0.1111111111111111, \"#46039f\"], [0.2222222222222222, \"#7201a8\"], [0.3333333333333333, \"#9c179e\"], [0.4444444444444444, \"#bd3786\"], [0.5555555555555556, \"#d8576b\"], [0.6666666666666666, \"#ed7953\"], [0.7777777777777778, \"#fb9f3a\"], [0.8888888888888888, \"#fdca26\"], [1.0, \"#f0f921\"]]}, \"colorway\": [\"#636efa\", \"#EF553B\", \"#00cc96\", \"#ab63fa\", \"#FFA15A\", \"#19d3f3\", \"#FF6692\", \"#B6E880\", \"#FF97FF\", \"#FECB52\"], \"font\": {\"color\": \"#2a3f5f\"}, \"geo\": {\"bgcolor\": \"white\", \"lakecolor\": \"white\", \"landcolor\": \"#E5ECF6\", \"showlakes\": true, \"showland\": true, \"subunitcolor\": \"white\"}, \"hoverlabel\": {\"align\": \"left\"}, \"hovermode\": \"closest\", \"mapbox\": {\"style\": \"light\"}, \"paper_bgcolor\": \"white\", \"plot_bgcolor\": \"#E5ECF6\", \"polar\": {\"angularaxis\": {\"gridcolor\": \"white\", \"linecolor\": \"white\", \"ticks\": \"\"}, \"bgcolor\": \"#E5ECF6\", \"radialaxis\": {\"gridcolor\": \"white\", \"linecolor\": \"white\", \"ticks\": \"\"}}, \"scene\": {\"xaxis\": {\"backgroundcolor\": \"#E5ECF6\", \"gridcolor\": \"white\", \"gridwidth\": 2, \"linecolor\": \"white\", \"showbackground\": true, \"ticks\": \"\", \"zerolinecolor\": \"white\"}, \"yaxis\": {\"backgroundcolor\": \"#E5ECF6\", \"gridcolor\": \"white\", \"gridwidth\": 2, \"linecolor\": \"white\", \"showbackground\": true, \"ticks\": \"\", \"zerolinecolor\": \"white\"}, \"zaxis\": {\"backgroundcolor\": \"#E5ECF6\", \"gridcolor\": \"white\", \"gridwidth\": 2, \"linecolor\": \"white\", \"showbackground\": true, \"ticks\": \"\", \"zerolinecolor\": \"white\"}}, \"shapedefaults\": {\"line\": {\"color\": \"#2a3f5f\"}}, \"ternary\": {\"aaxis\": {\"gridcolor\": \"white\", \"linecolor\": \"white\", \"ticks\": \"\"}, \"baxis\": {\"gridcolor\": \"white\", \"linecolor\": \"white\", \"ticks\": \"\"}, \"bgcolor\": \"#E5ECF6\", \"caxis\": {\"gridcolor\": \"white\", \"linecolor\": \"white\", \"ticks\": \"\"}}, \"title\": {\"x\": 0.05}, \"xaxis\": {\"automargin\": true, \"gridcolor\": \"white\", \"linecolor\": \"white\", \"ticks\": \"\", \"zerolinecolor\": \"white\", \"zerolinewidth\": 2}, \"yaxis\": {\"automargin\": true, \"gridcolor\": \"white\", \"linecolor\": \"white\", \"ticks\": \"\", \"zerolinecolor\": \"white\", \"zerolinewidth\": 2}}}},\n",
              "                        {\"responsive\": true}\n",
              "                    ).then(function(){\n",
              "                            \n",
              "var gd = document.getElementById('6d5c23de-1d1e-4211-97f0-8ea277f06cb2');\n",
              "var x = new MutationObserver(function (mutations, observer) {{\n",
              "        var display = window.getComputedStyle(gd).display;\n",
              "        if (!display || display === 'none') {{\n",
              "            console.log([gd, 'removed!']);\n",
              "            Plotly.purge(gd);\n",
              "            observer.disconnect();\n",
              "        }}\n",
              "}});\n",
              "\n",
              "// Listen for the removal of the full notebook cells\n",
              "var notebookContainer = gd.closest('#notebook-container');\n",
              "if (notebookContainer) {{\n",
              "    x.observe(notebookContainer, {childList: true});\n",
              "}}\n",
              "\n",
              "// Listen for the clearing of the current output cell\n",
              "var outputEl = gd.closest('.output');\n",
              "if (outputEl) {{\n",
              "    x.observe(outputEl, {childList: true});\n",
              "}}\n",
              "\n",
              "                        })\n",
              "                };\n",
              "                });\n",
              "            </script>\n",
              "        </div>"
            ]
          },
          "metadata": {
            "tags": []
          }
        }
      ]
    },
    {
      "cell_type": "markdown",
      "metadata": {
        "id": "TaDQX28jsVg3",
        "colab_type": "text"
      },
      "source": [
        "[Return to top](#top)"
      ]
    },
    {
      "cell_type": "markdown",
      "metadata": {
        "id": "ckHF8fe4qgjT",
        "colab_type": "text"
      },
      "source": [
        "<a id = \"10.hf.1.b\"></a>\n",
        "b) tapasztalati eloszlásfüggvény"
      ]
    },
    {
      "cell_type": "code",
      "metadata": {
        "id": "DypAyFCKpIt3",
        "colab_type": "code",
        "outputId": "4d4becf1-db77-410c-fd5e-5f114956057e",
        "colab": {
          "base_uri": "https://localhost:8080/",
          "height": 542
        }
      },
      "source": [
        "bins = math.ceil((max(datalist) - min(datalist)/3))\n",
        "empirical_dist(datalist, bins)"
      ],
      "execution_count": 0,
      "outputs": [
        {
          "output_type": "display_data",
          "data": {
            "text/html": [
              "<div>\n",
              "        \n",
              "        \n",
              "            <div id=\"01dc19d5-8395-42fd-9ac0-9761314489c2\" class=\"plotly-graph-div\" style=\"height:525px; width:100%;\"></div>\n",
              "            <script type=\"text/javascript\">\n",
              "                require([\"plotly\"], function(Plotly) {\n",
              "                    window.PLOTLYENV=window.PLOTLYENV || {};\n",
              "                    \n",
              "                if (document.getElementById(\"01dc19d5-8395-42fd-9ac0-9761314489c2\")) {\n",
              "                    Plotly.newPlot(\n",
              "                        '01dc19d5-8395-42fd-9ac0-9761314489c2',\n",
              "                        [{\"hoverinfo\": \"all\", \"line\": {\"color\": \"rgb(1255, 0, 0)\", \"shape\": \"hvh\"}, \"mode\": \"lines\", \"name\": \"X\", \"type\": \"scatter\", \"x\": [322.0, 322.0966386554622, 322.1932773109244, 322.28991596638656, 322.38655462184875, 322.48319327731093, 322.5798319327731, 322.6764705882353, 322.7731092436975, 322.8697478991597, 322.96638655462186, 323.06302521008405, 323.15966386554624, 323.2563025210084, 323.3529411764706, 323.4495798319328, 323.546218487395, 323.64285714285717, 323.73949579831935, 323.83613445378154, 323.93277310924367, 324.02941176470586, 324.12605042016804, 324.2226890756302, 324.3193277310924, 324.4159663865546, 324.5126050420168, 324.609243697479, 324.70588235294116, 324.80252100840335, 324.89915966386553, 324.9957983193277, 325.0924369747899, 325.1890756302521, 325.2857142857143, 325.38235294117646, 325.47899159663865, 325.57563025210084, 325.672268907563, 325.7689075630252, 325.8655462184874, 325.9621848739496, 326.05882352941177, 326.15546218487395, 326.25210084033614, 326.3487394957983, 326.4453781512605, 326.5420168067227, 326.6386554621849, 326.7352941176471, 326.83193277310926, 326.92857142857144, 327.02521008403363, 327.1218487394958, 327.218487394958, 327.3151260504202, 327.4117647058824, 327.50840336134456, 327.60504201680675, 327.70168067226894, 327.79831932773106, 327.89495798319325, 327.99159663865544, 328.0882352941176, 328.1848739495798, 328.281512605042, 328.3781512605042, 328.47478991596637, 328.57142857142856, 328.66806722689074, 328.7647058823529, 328.8613445378151, 328.9579831932773, 329.0546218487395, 329.1512605042017, 329.24789915966386, 329.34453781512605, 329.44117647058823, 329.5378151260504, 329.6344537815126, 329.7310924369748, 329.827731092437, 329.92436974789916, 330.02100840336135, 330.11764705882354, 330.2142857142857, 330.3109243697479, 330.4075630252101, 330.5042016806723, 330.60084033613447, 330.69747899159665, 330.79411764705884, 330.890756302521, 330.9873949579832, 331.0840336134454, 331.1806722689076, 331.2773109243698, 331.37394957983196, 331.47058823529414, 331.5672268907563, 331.6638655462185, 331.76050420168065, 331.85714285714283, 331.953781512605, 332.0504201680672, 332.1470588235294, 332.2436974789916, 332.34033613445376, 332.43697478991595, 332.53361344537814, 332.6302521008403, 332.7268907563025, 332.8235294117647, 332.9201680672269, 333.01680672268907, 333.11344537815125, 333.21008403361344, 333.3067226890756, 333.4033613445378, 333.5, 333.5966386554622, 333.6932773109244, 333.78991596638656, 333.88655462184875, 333.98319327731093, 334.0798319327731, 334.1764705882353, 334.2731092436975, 334.3697478991597, 334.46638655462186, 334.56302521008405, 334.65966386554624, 334.7563025210084, 334.8529411764706, 334.9495798319328, 335.046218487395, 335.14285714285717, 335.23949579831935, 335.33613445378154, 335.4327731092437, 335.52941176470586, 335.62605042016804, 335.7226890756302, 335.8193277310924, 335.9159663865546, 336.0126050420168, 336.109243697479, 336.20588235294116, 336.30252100840335, 336.39915966386553, 336.4957983193277, 336.5924369747899, 336.6890756302521, 336.7857142857143, 336.88235294117646, 336.97899159663865, 337.07563025210084, 337.172268907563, 337.2689075630252, 337.3655462184874, 337.4621848739496, 337.55882352941177, 337.65546218487395, 337.75210084033614, 337.8487394957983, 337.9453781512605, 338.0420168067227, 338.1386554621849, 338.2352941176471, 338.33193277310926, 338.42857142857144, 338.52521008403363, 338.6218487394958, 338.718487394958, 338.8151260504202, 338.9117647058824, 339.00840336134456, 339.10504201680675, 339.20168067226894, 339.29831932773106, 339.3949579831933, 339.49159663865544, 339.5882352941176, 339.6848739495798, 339.781512605042, 339.8781512605042, 339.97478991596637, 340.07142857142856, 340.16806722689074, 340.2647058823529, 340.3613445378151, 340.4579831932773, 340.5546218487395, 340.6512605042017, 340.74789915966386, 340.84453781512605, 340.94117647058823, 341.0378151260504, 341.1344537815126, 341.2310924369748, 341.327731092437, 341.42436974789916, 341.52100840336135, 341.61764705882354, 341.7142857142857, 341.8109243697479, 341.9075630252101, 342.0042016806723, 342.10084033613447, 342.19747899159665, 342.29411764705884, 342.390756302521, 342.4873949579832, 342.5840336134454, 342.6806722689076, 342.7773109243698, 342.87394957983196, 342.97058823529414, 343.0672268907563, 343.1638655462185, 343.26050420168065, 343.35714285714283, 343.453781512605, 343.5504201680672, 343.6470588235294, 343.7436974789916, 343.84033613445376, 343.93697478991595, 344.03361344537814, 344.1302521008403, 344.2268907563025, 344.3235294117647, 344.4201680672269, 344.51680672268907, 344.61344537815125, 344.71008403361344, 344.8067226890756, 344.9033613445378, 345.0], \"y\": [0.041666666666666685, 0.041666666666666685, 0.041666666666666685, 0.041666666666666685, 0.041666666666666685, 0.041666666666666685, 0.08333333333333337, 0.08333333333333337, 0.08333333333333337, 0.08333333333333337, 0.08333333333333337, 0.08333333333333337, 0.08333333333333337, 0.08333333333333337, 0.08333333333333337, 0.08333333333333337, 0.08333333333333337, 0.08333333333333337, 0.08333333333333337, 0.08333333333333337, 0.08333333333333337, 0.08333333333333337, 0.08333333333333337, 0.08333333333333337, 0.08333333333333337, 0.08333333333333337, 0.08333333333333337, 0.08333333333333337, 0.08333333333333337, 0.08333333333333337, 0.08333333333333337, 0.08333333333333337, 0.08333333333333337, 0.08333333333333337, 0.08333333333333337, 0.08333333333333337, 0.08333333333333337, 0.08333333333333337, 0.08333333333333337, 0.12500000000000006, 0.12500000000000006, 0.12500000000000006, 0.12500000000000006, 0.12500000000000006, 0.12500000000000006, 0.12500000000000006, 0.16666666666666674, 0.16666666666666674, 0.16666666666666674, 0.16666666666666674, 0.16666666666666674, 0.16666666666666674, 0.16666666666666674, 0.16666666666666674, 0.2083333333333334, 0.2083333333333334, 0.2083333333333334, 0.2083333333333334, 0.2083333333333334, 0.2083333333333334, 0.2083333333333334, 0.2083333333333334, 0.2083333333333334, 0.2083333333333334, 0.2083333333333334, 0.2083333333333334, 0.2083333333333334, 0.2083333333333334, 0.2500000000000001, 0.2500000000000001, 0.2500000000000001, 0.2500000000000001, 0.2500000000000001, 0.2500000000000001, 0.2500000000000001, 0.2500000000000001, 0.2500000000000001, 0.2916666666666668, 0.2916666666666668, 0.3333333333333335, 0.3333333333333335, 0.3333333333333335, 0.37500000000000017, 0.37500000000000017, 0.37500000000000017, 0.37500000000000017, 0.37500000000000017, 0.37500000000000017, 0.37500000000000017, 0.37500000000000017, 0.37500000000000017, 0.37500000000000017, 0.37500000000000017, 0.45833333333333354, 0.45833333333333354, 0.45833333333333354, 0.45833333333333354, 0.45833333333333354, 0.45833333333333354, 0.45833333333333354, 0.45833333333333354, 0.45833333333333354, 0.45833333333333354, 0.45833333333333354, 0.45833333333333354, 0.45833333333333354, 0.5000000000000002, 0.5000000000000002, 0.5000000000000002, 0.5000000000000002, 0.5000000000000002, 0.5000000000000002, 0.5000000000000002, 0.5416666666666669, 0.5416666666666669, 0.5416666666666669, 0.5416666666666669, 0.5416666666666669, 0.5416666666666669, 0.5416666666666669, 0.5416666666666669, 0.5416666666666669, 0.5416666666666669, 0.5416666666666669, 0.5833333333333335, 0.5833333333333335, 0.5833333333333335, 0.5833333333333335, 0.5833333333333335, 0.5833333333333335, 0.5833333333333335, 0.5833333333333335, 0.5833333333333335, 0.5833333333333335, 0.5833333333333335, 0.5833333333333335, 0.5833333333333335, 0.5833333333333335, 0.5833333333333335, 0.5833333333333335, 0.5833333333333335, 0.5833333333333335, 0.5833333333333335, 0.5833333333333335, 0.5833333333333335, 0.5833333333333335, 0.5833333333333335, 0.5833333333333335, 0.5833333333333335, 0.6250000000000001, 0.6250000000000001, 0.6250000000000001, 0.6250000000000001, 0.6250000000000001, 0.6250000000000001, 0.6250000000000001, 0.6250000000000001, 0.6250000000000001, 0.6250000000000001, 0.6250000000000001, 0.6666666666666667, 0.6666666666666667, 0.6666666666666667, 0.6666666666666667, 0.6666666666666667, 0.7083333333333334, 0.7083333333333334, 0.7083333333333334, 0.7083333333333334, 0.7083333333333334, 0.75, 0.75, 0.75, 0.75, 0.75, 0.75, 0.75, 0.7916666666666667, 0.7916666666666667, 0.7916666666666667, 0.7916666666666667, 0.7916666666666667, 0.7916666666666667, 0.7916666666666667, 0.7916666666666667, 0.7916666666666667, 0.8333333333333334, 0.8333333333333334, 0.8333333333333334, 0.8333333333333334, 0.8333333333333334, 0.8333333333333334, 0.8333333333333334, 0.8333333333333334, 0.8333333333333334, 0.8333333333333334, 0.8750000000000001, 0.8750000000000001, 0.8750000000000001, 0.8750000000000001, 0.8750000000000001, 0.8750000000000001, 0.8750000000000001, 0.8750000000000001, 0.8750000000000001, 0.8750000000000001, 0.8750000000000001, 0.8750000000000001, 0.8750000000000001, 0.8750000000000001, 0.8750000000000001, 0.9166666666666667, 0.9166666666666667, 0.9166666666666667, 0.9166666666666667, 0.9166666666666667, 0.9166666666666667, 0.9166666666666667, 0.9166666666666667, 0.9166666666666667, 0.9583333333333334, 0.9583333333333334, 0.9583333333333334, 0.9583333333333334, 0.9583333333333334, 0.9583333333333334, 0.9583333333333334, 0.9583333333333334, 0.9583333333333334, 0.9583333333333334, 0.9583333333333334, 0.9583333333333334, 0.9583333333333334, 0.9583333333333334, 0.9583333333333334, 0.9583333333333334, 0.9583333333333334, 1.0]}],\n",
              "                        {\"legend\": {\"font\": {\"size\": 16}, \"traceorder\": \"reversed\", \"y\": 0.5}, \"template\": {\"data\": {\"bar\": [{\"error_x\": {\"color\": \"#2a3f5f\"}, \"error_y\": {\"color\": \"#2a3f5f\"}, \"marker\": {\"line\": {\"color\": \"#E5ECF6\", \"width\": 0.5}}, \"type\": \"bar\"}], \"barpolar\": [{\"marker\": {\"line\": {\"color\": \"#E5ECF6\", \"width\": 0.5}}, \"type\": \"barpolar\"}], \"carpet\": [{\"aaxis\": {\"endlinecolor\": \"#2a3f5f\", \"gridcolor\": \"white\", \"linecolor\": \"white\", \"minorgridcolor\": \"white\", \"startlinecolor\": \"#2a3f5f\"}, \"baxis\": {\"endlinecolor\": \"#2a3f5f\", \"gridcolor\": \"white\", \"linecolor\": \"white\", \"minorgridcolor\": \"white\", \"startlinecolor\": \"#2a3f5f\"}, \"type\": \"carpet\"}], \"choropleth\": [{\"colorbar\": {\"outlinewidth\": 0, \"ticks\": \"\"}, \"type\": \"choropleth\"}], \"contour\": [{\"colorbar\": {\"outlinewidth\": 0, \"ticks\": \"\"}, \"colorscale\": [[0.0, \"#0d0887\"], [0.1111111111111111, \"#46039f\"], [0.2222222222222222, \"#7201a8\"], [0.3333333333333333, \"#9c179e\"], [0.4444444444444444, \"#bd3786\"], [0.5555555555555556, \"#d8576b\"], [0.6666666666666666, \"#ed7953\"], [0.7777777777777778, \"#fb9f3a\"], [0.8888888888888888, \"#fdca26\"], [1.0, \"#f0f921\"]], \"type\": \"contour\"}], \"contourcarpet\": [{\"colorbar\": {\"outlinewidth\": 0, \"ticks\": \"\"}, \"type\": \"contourcarpet\"}], \"heatmap\": [{\"colorbar\": {\"outlinewidth\": 0, \"ticks\": \"\"}, \"colorscale\": [[0.0, \"#0d0887\"], [0.1111111111111111, \"#46039f\"], [0.2222222222222222, \"#7201a8\"], [0.3333333333333333, \"#9c179e\"], [0.4444444444444444, \"#bd3786\"], [0.5555555555555556, \"#d8576b\"], [0.6666666666666666, \"#ed7953\"], [0.7777777777777778, \"#fb9f3a\"], [0.8888888888888888, \"#fdca26\"], [1.0, \"#f0f921\"]], \"type\": \"heatmap\"}], \"heatmapgl\": [{\"colorbar\": {\"outlinewidth\": 0, \"ticks\": \"\"}, \"colorscale\": [[0.0, \"#0d0887\"], [0.1111111111111111, \"#46039f\"], [0.2222222222222222, \"#7201a8\"], [0.3333333333333333, \"#9c179e\"], [0.4444444444444444, \"#bd3786\"], [0.5555555555555556, \"#d8576b\"], [0.6666666666666666, \"#ed7953\"], [0.7777777777777778, \"#fb9f3a\"], [0.8888888888888888, \"#fdca26\"], [1.0, \"#f0f921\"]], \"type\": \"heatmapgl\"}], \"histogram\": [{\"marker\": {\"colorbar\": {\"outlinewidth\": 0, \"ticks\": \"\"}}, \"type\": \"histogram\"}], \"histogram2d\": [{\"colorbar\": {\"outlinewidth\": 0, \"ticks\": \"\"}, \"colorscale\": [[0.0, \"#0d0887\"], [0.1111111111111111, \"#46039f\"], [0.2222222222222222, \"#7201a8\"], [0.3333333333333333, \"#9c179e\"], [0.4444444444444444, \"#bd3786\"], [0.5555555555555556, \"#d8576b\"], [0.6666666666666666, \"#ed7953\"], [0.7777777777777778, \"#fb9f3a\"], [0.8888888888888888, \"#fdca26\"], [1.0, \"#f0f921\"]], \"type\": \"histogram2d\"}], \"histogram2dcontour\": [{\"colorbar\": {\"outlinewidth\": 0, \"ticks\": \"\"}, \"colorscale\": [[0.0, \"#0d0887\"], [0.1111111111111111, \"#46039f\"], [0.2222222222222222, \"#7201a8\"], [0.3333333333333333, \"#9c179e\"], [0.4444444444444444, \"#bd3786\"], [0.5555555555555556, \"#d8576b\"], [0.6666666666666666, \"#ed7953\"], [0.7777777777777778, \"#fb9f3a\"], [0.8888888888888888, \"#fdca26\"], [1.0, \"#f0f921\"]], \"type\": \"histogram2dcontour\"}], \"mesh3d\": [{\"colorbar\": {\"outlinewidth\": 0, \"ticks\": \"\"}, \"type\": \"mesh3d\"}], \"parcoords\": [{\"line\": {\"colorbar\": {\"outlinewidth\": 0, \"ticks\": \"\"}}, \"type\": \"parcoords\"}], \"scatter\": [{\"marker\": {\"colorbar\": {\"outlinewidth\": 0, \"ticks\": \"\"}}, \"type\": \"scatter\"}], \"scatter3d\": [{\"line\": {\"colorbar\": {\"outlinewidth\": 0, \"ticks\": \"\"}}, \"marker\": {\"colorbar\": {\"outlinewidth\": 0, \"ticks\": \"\"}}, \"type\": \"scatter3d\"}], \"scattercarpet\": [{\"marker\": {\"colorbar\": {\"outlinewidth\": 0, \"ticks\": \"\"}}, \"type\": \"scattercarpet\"}], \"scattergeo\": [{\"marker\": {\"colorbar\": {\"outlinewidth\": 0, \"ticks\": \"\"}}, \"type\": \"scattergeo\"}], \"scattergl\": [{\"marker\": {\"colorbar\": {\"outlinewidth\": 0, \"ticks\": \"\"}}, \"type\": \"scattergl\"}], \"scattermapbox\": [{\"marker\": {\"colorbar\": {\"outlinewidth\": 0, \"ticks\": \"\"}}, \"type\": \"scattermapbox\"}], \"scatterpolar\": [{\"marker\": {\"colorbar\": {\"outlinewidth\": 0, \"ticks\": \"\"}}, \"type\": \"scatterpolar\"}], \"scatterpolargl\": [{\"marker\": {\"colorbar\": {\"outlinewidth\": 0, \"ticks\": \"\"}}, \"type\": \"scatterpolargl\"}], \"scatterternary\": [{\"marker\": {\"colorbar\": {\"outlinewidth\": 0, \"ticks\": \"\"}}, \"type\": \"scatterternary\"}], \"surface\": [{\"colorbar\": {\"outlinewidth\": 0, \"ticks\": \"\"}, \"colorscale\": [[0.0, \"#0d0887\"], [0.1111111111111111, \"#46039f\"], [0.2222222222222222, \"#7201a8\"], [0.3333333333333333, \"#9c179e\"], [0.4444444444444444, \"#bd3786\"], [0.5555555555555556, \"#d8576b\"], [0.6666666666666666, \"#ed7953\"], [0.7777777777777778, \"#fb9f3a\"], [0.8888888888888888, \"#fdca26\"], [1.0, \"#f0f921\"]], \"type\": \"surface\"}], \"table\": [{\"cells\": {\"fill\": {\"color\": \"#EBF0F8\"}, \"line\": {\"color\": \"white\"}}, \"header\": {\"fill\": {\"color\": \"#C8D4E3\"}, \"line\": {\"color\": \"white\"}}, \"type\": \"table\"}]}, \"layout\": {\"annotationdefaults\": {\"arrowcolor\": \"#2a3f5f\", \"arrowhead\": 0, \"arrowwidth\": 1}, \"colorscale\": {\"diverging\": [[0, \"#8e0152\"], [0.1, \"#c51b7d\"], [0.2, \"#de77ae\"], [0.3, \"#f1b6da\"], [0.4, \"#fde0ef\"], [0.5, \"#f7f7f7\"], [0.6, \"#e6f5d0\"], [0.7, \"#b8e186\"], [0.8, \"#7fbc41\"], [0.9, \"#4d9221\"], [1, \"#276419\"]], \"sequential\": [[0.0, \"#0d0887\"], [0.1111111111111111, \"#46039f\"], [0.2222222222222222, \"#7201a8\"], [0.3333333333333333, \"#9c179e\"], [0.4444444444444444, \"#bd3786\"], [0.5555555555555556, \"#d8576b\"], [0.6666666666666666, \"#ed7953\"], [0.7777777777777778, \"#fb9f3a\"], [0.8888888888888888, \"#fdca26\"], [1.0, \"#f0f921\"]], \"sequentialminus\": [[0.0, \"#0d0887\"], [0.1111111111111111, \"#46039f\"], [0.2222222222222222, \"#7201a8\"], [0.3333333333333333, \"#9c179e\"], [0.4444444444444444, \"#bd3786\"], [0.5555555555555556, \"#d8576b\"], [0.6666666666666666, \"#ed7953\"], [0.7777777777777778, \"#fb9f3a\"], [0.8888888888888888, \"#fdca26\"], [1.0, \"#f0f921\"]]}, \"colorway\": [\"#636efa\", \"#EF553B\", \"#00cc96\", \"#ab63fa\", \"#FFA15A\", \"#19d3f3\", \"#FF6692\", \"#B6E880\", \"#FF97FF\", \"#FECB52\"], \"font\": {\"color\": \"#2a3f5f\"}, \"geo\": {\"bgcolor\": \"white\", \"lakecolor\": \"white\", \"landcolor\": \"#E5ECF6\", \"showlakes\": true, \"showland\": true, \"subunitcolor\": \"white\"}, \"hoverlabel\": {\"align\": \"left\"}, \"hovermode\": \"closest\", \"mapbox\": {\"style\": \"light\"}, \"paper_bgcolor\": \"white\", \"plot_bgcolor\": \"#E5ECF6\", \"polar\": {\"angularaxis\": {\"gridcolor\": \"white\", \"linecolor\": \"white\", \"ticks\": \"\"}, \"bgcolor\": \"#E5ECF6\", \"radialaxis\": {\"gridcolor\": \"white\", \"linecolor\": \"white\", \"ticks\": \"\"}}, \"scene\": {\"xaxis\": {\"backgroundcolor\": \"#E5ECF6\", \"gridcolor\": \"white\", \"gridwidth\": 2, \"linecolor\": \"white\", \"showbackground\": true, \"ticks\": \"\", \"zerolinecolor\": \"white\"}, \"yaxis\": {\"backgroundcolor\": \"#E5ECF6\", \"gridcolor\": \"white\", \"gridwidth\": 2, \"linecolor\": \"white\", \"showbackground\": true, \"ticks\": \"\", \"zerolinecolor\": \"white\"}, \"zaxis\": {\"backgroundcolor\": \"#E5ECF6\", \"gridcolor\": \"white\", \"gridwidth\": 2, \"linecolor\": \"white\", \"showbackground\": true, \"ticks\": \"\", \"zerolinecolor\": \"white\"}}, \"shapedefaults\": {\"line\": {\"color\": \"#2a3f5f\"}}, \"ternary\": {\"aaxis\": {\"gridcolor\": \"white\", \"linecolor\": \"white\", \"ticks\": \"\"}, \"baxis\": {\"gridcolor\": \"white\", \"linecolor\": \"white\", \"ticks\": \"\"}, \"bgcolor\": \"#E5ECF6\", \"caxis\": {\"gridcolor\": \"white\", \"linecolor\": \"white\", \"ticks\": \"\"}}, \"title\": {\"x\": 0.05}, \"xaxis\": {\"automargin\": true, \"gridcolor\": \"white\", \"linecolor\": \"white\", \"ticks\": \"\", \"zerolinecolor\": \"white\", \"zerolinewidth\": 2}, \"yaxis\": {\"automargin\": true, \"gridcolor\": \"white\", \"linecolor\": \"white\", \"ticks\": \"\", \"zerolinecolor\": \"white\", \"zerolinewidth\": 2}}}, \"title\": {\"text\": \"Empirical distribution function\"}},\n",
              "                        {\"responsive\": true}\n",
              "                    ).then(function(){\n",
              "                            \n",
              "var gd = document.getElementById('01dc19d5-8395-42fd-9ac0-9761314489c2');\n",
              "var x = new MutationObserver(function (mutations, observer) {{\n",
              "        var display = window.getComputedStyle(gd).display;\n",
              "        if (!display || display === 'none') {{\n",
              "            console.log([gd, 'removed!']);\n",
              "            Plotly.purge(gd);\n",
              "            observer.disconnect();\n",
              "        }}\n",
              "}});\n",
              "\n",
              "// Listen for the removal of the full notebook cells\n",
              "var notebookContainer = gd.closest('#notebook-container');\n",
              "if (notebookContainer) {{\n",
              "    x.observe(notebookContainer, {childList: true});\n",
              "}}\n",
              "\n",
              "// Listen for the clearing of the current output cell\n",
              "var outputEl = gd.closest('.output');\n",
              "if (outputEl) {{\n",
              "    x.observe(outputEl, {childList: true});\n",
              "}}\n",
              "\n",
              "                        })\n",
              "                };\n",
              "                });\n",
              "            </script>\n",
              "        </div>"
            ]
          },
          "metadata": {
            "tags": []
          }
        }
      ]
    },
    {
      "cell_type": "markdown",
      "metadata": {
        "id": "4QR2C7WAsZ8y",
        "colab_type": "text"
      },
      "source": [
        "[Return to top](#top)"
      ]
    },
    {
      "cell_type": "markdown",
      "metadata": {
        "id": "8yCIN0H2-zw1",
        "colab_type": "text"
      },
      "source": [
        "<a id = \"10.hf.1.c\"></a>\n",
        "c) tapasztalati várható érték, szórás"
      ]
    },
    {
      "cell_type": "code",
      "metadata": {
        "id": "0gabGtFMpIyL",
        "colab_type": "code",
        "outputId": "c37c84e2-7584-473a-eb25-c29d2a496837",
        "colab": {
          "base_uri": "https://localhost:8080/",
          "height": 52
        }
      },
      "source": [
        "print(\"A tapasztalati várható értéke: \", np.mean(datalist))\n",
        "print(\"A tapasztalati szórása:\", np.std(datalist))"
      ],
      "execution_count": 0,
      "outputs": [
        {
          "output_type": "stream",
          "text": [
            "A tapasztalati várható értéke:  333.525\n",
            "A tapasztalati szórása: 6.413088829365555\n"
          ],
          "name": "stdout"
        }
      ]
    },
    {
      "cell_type": "markdown",
      "metadata": {
        "id": "6MRM6OQMsc_T",
        "colab_type": "text"
      },
      "source": [
        "[Return to top](#top)"
      ]
    },
    {
      "cell_type": "markdown",
      "metadata": {
        "id": "94v5F44i_EPh",
        "colab_type": "text"
      },
      "source": [
        "<a id = \"10.hf.1.d\"></a>\n",
        "d) korrigált tapasztalati szórás"
      ]
    },
    {
      "cell_type": "code",
      "metadata": {
        "id": "PWiHH8_3pI5M",
        "colab_type": "code",
        "outputId": "28d79c93-8969-42ec-cf94-b0f5c8a11c06",
        "colab": {
          "base_uri": "https://localhost:8080/",
          "height": 34
        }
      },
      "source": [
        "print(\"A korrigált tapasztalati szórás: \", np.sqrt(len(datalist)/(len(datalist)-1)) * np.std(datalist) )"
      ],
      "execution_count": 0,
      "outputs": [
        {
          "output_type": "stream",
          "text": [
            "A korrigált tapasztalati szórás:  6.551020498000089\n"
          ],
          "name": "stdout"
        }
      ]
    },
    {
      "cell_type": "markdown",
      "metadata": {
        "id": "cDHKSG4vsfZx",
        "colab_type": "text"
      },
      "source": [
        "[Return to top](#top)"
      ]
    },
    {
      "cell_type": "markdown",
      "metadata": {
        "id": "j0Cr_Ryg_o4o",
        "colab_type": "text"
      },
      "source": [
        "<a id = \"10.hf.1.e\"></a>\n",
        "e) Mivel nem ismerjük a szórást, ezért $t$ eloszlást használunk."
      ]
    },
    {
      "cell_type": "code",
      "metadata": {
        "id": "pRlewJqEpI16",
        "colab_type": "code",
        "outputId": "088f8645-4512-45ac-c6fc-011cf4608662",
        "colab": {
          "base_uri": "https://localhost:8080/",
          "height": 34
        }
      },
      "source": [
        "conf_int = stats.t.interval(.95, len(datalist)-1, \\\n",
        "                            loc = np.mean(datalist), \\\n",
        "                            scale = stats.sem(datalist)) # stats.sem = s/sqrt(n)\n",
        "print(f'A 95%-hoz tartozó confidencia intervallum {conf_int}')"
      ],
      "execution_count": 0,
      "outputs": [
        {
          "output_type": "stream",
          "text": [
            "A 95%-hoz tartozó confidencia intervallum (330.7587466508839, 336.29125334911606)\n"
          ],
          "name": "stdout"
        }
      ]
    },
    {
      "cell_type": "markdown",
      "metadata": {
        "id": "CRUoA1sRsjey",
        "colab_type": "text"
      },
      "source": [
        "[Return to top](#top)"
      ]
    },
    {
      "cell_type": "markdown",
      "metadata": {
        "id": "BgCUjfyB_45T",
        "colab_type": "text"
      },
      "source": [
        "<a id = \"10.hf.2\"></a>"
      ]
    },
    {
      "cell_type": "code",
      "metadata": {
        "id": "GSH84rPh8BUn",
        "colab_type": "code",
        "colab": {
          "base_uri": "https://localhost:8080/",
          "height": 147
        },
        "outputId": "331bacc6-2949-4ae4-d29d-e79a77ddc158"
      },
      "source": [
        "new_subsection(\"2. Feladat\")"
      ],
      "execution_count": 9,
      "outputs": [
        {
          "output_type": "execute_result",
          "data": {
            "text/html": [
              "<div style=\"text-align:center;background:CornflowerBlue;padding:40px;color:#ffffff;font-size:3em;\">2. Feladat</div>"
            ],
            "text/plain": [
              "<IPython.core.display.HTML object>"
            ]
          },
          "metadata": {
            "tags": []
          },
          "execution_count": 9
        }
      ]
    },
    {
      "cell_type": "markdown",
      "metadata": {
        "id": "UTKlAyJHCEAv",
        "colab_type": "text"
      },
      "source": [
        "A Lángoló Rózsa kolostorban a havi (Bablevesek, Káposztafőzelékek)-ek száma az utóbbi néhány hónapban: \n",
        "\n",
        "(3, 4); (6, 5); (2, 1); (2, 2); (4, 4); (4, 5). \n",
        "\n",
        "Adjon lineáris közelítést a \"Bablevesek\" számából a \"Káposztafőzelékek\" számára."
      ]
    },
    {
      "cell_type": "markdown",
      "metadata": {
        "id": "CfGagiDwCEdE",
        "colab_type": "text"
      },
      "source": [
        "<a id = \"10.hf.2.1\"></a>\n",
        "Megoldás."
      ]
    },
    {
      "cell_type": "code",
      "metadata": {
        "colab_type": "code",
        "id": "z2u2Es7iRYcB",
        "colab": {}
      },
      "source": [
        "data = [(3, 4), (6, 5), (2, 1), (2, 2), (4, 4), (4, 5)]\n",
        "datalist = [[list(dat)[0], list(dat)[1]] for dat in data]\n",
        "X = [_[0] for _ in datalist]\n",
        "Y = [_[1] for _ in datalist]"
      ],
      "execution_count": 0,
      "outputs": []
    },
    {
      "cell_type": "code",
      "metadata": {
        "colab_type": "code",
        "outputId": "35e4283f-2e86-49ed-b4a1-5f53d40edf19",
        "id": "mbdCqP5MRYcG",
        "colab": {
          "base_uri": "https://localhost:8080/",
          "height": 532
        }
      },
      "source": [
        "X = sm.add_constant(X) # Our model needs an intercept so we add a column of 1s in the first column\n",
        "model = sm.OLS(Y, X).fit()\n",
        "# predictions = model.predict(X)\n",
        "print_model = model.summary()\n",
        "print(print_model)"
      ],
      "execution_count": 75,
      "outputs": [
        {
          "output_type": "stream",
          "text": [
            "                            OLS Regression Results                            \n",
            "==============================================================================\n",
            "Dep. Variable:                      y   R-squared:                       0.710\n",
            "Model:                            OLS   Adj. R-squared:                  0.638\n",
            "Method:                 Least Squares   F-statistic:                     9.800\n",
            "Date:                Sun, 01 Dec 2019   Prob (F-statistic):             0.0352\n",
            "Time:                        21:03:26   Log-Likelihood:                -7.2313\n",
            "No. Observations:                   6   AIC:                             18.46\n",
            "Df Residuals:                       4   BIC:                             18.05\n",
            "Df Model:                           1                                         \n",
            "Covariance Type:            nonrobust                                         \n",
            "==============================================================================\n",
            "                 coef    std err          t      P>|t|      [0.025      0.975]\n",
            "------------------------------------------------------------------------------\n",
            "const          0.3043      1.098      0.277      0.795      -2.744       3.352\n",
            "x1             0.9130      0.292      3.130      0.035       0.103       1.723\n",
            "==============================================================================\n",
            "Omnibus:                          nan   Durbin-Watson:                   1.323\n",
            "Prob(Omnibus):                    nan   Jarque-Bera (JB):                0.505\n",
            "Skew:                           0.027   Prob(JB):                        0.777\n",
            "Kurtosis:                       1.580   Cond. No.                         10.9\n",
            "==============================================================================\n",
            "\n",
            "Warnings:\n",
            "[1] Standard Errors assume that the covariance matrix of the errors is correctly specified.\n"
          ],
          "name": "stdout"
        },
        {
          "output_type": "stream",
          "text": [
            "/usr/local/lib/python3.6/dist-packages/statsmodels/stats/stattools.py:71: ValueWarning:\n",
            "\n",
            "omni_normtest is not valid with less than 8 observations; 6 samples were given.\n",
            "\n"
          ],
          "name": "stderr"
        }
      ]
    },
    {
      "cell_type": "code",
      "metadata": {
        "colab_type": "code",
        "id": "tLVHnYM3RYcI",
        "colab": {}
      },
      "source": [
        "coeffs = model.params"
      ],
      "execution_count": 0,
      "outputs": []
    },
    {
      "cell_type": "code",
      "metadata": {
        "colab_type": "code",
        "outputId": "c8ccc97a-4bf2-45a1-8dcb-f6b2f8db9a23",
        "id": "-L0SamSHRYcK",
        "colab": {
          "base_uri": "https://localhost:8080/",
          "height": 34
        }
      },
      "source": [
        "print(f'Az egyenes egyenlete: y = {coeffs[0]:.5f} + {coeffs[1]:.5f}*x. ')"
      ],
      "execution_count": 77,
      "outputs": [
        {
          "output_type": "stream",
          "text": [
            "Az egyenes egyenlete: y = 0.30435 + 0.91304*x. \n"
          ],
          "name": "stdout"
        }
      ]
    },
    {
      "cell_type": "code",
      "metadata": {
        "colab_type": "code",
        "outputId": "f7c14611-bff5-4c3e-9a90-bc819ebf4e8f",
        "id": "JCXPXTcARYcL",
        "colab": {
          "base_uri": "https://localhost:8080/",
          "height": 542
        }
      },
      "source": [
        "linear_regr_line(X[:, 1], Y, coeffs)"
      ],
      "execution_count": 81,
      "outputs": [
        {
          "output_type": "display_data",
          "data": {
            "text/html": [
              "<div>\n",
              "        \n",
              "        \n",
              "            <div id=\"16f3ec5a-5437-43a7-a923-541d8eac36d2\" class=\"plotly-graph-div\" style=\"height:525px; width:100%;\"></div>\n",
              "            <script type=\"text/javascript\">\n",
              "                require([\"plotly\"], function(Plotly) {\n",
              "                    window.PLOTLYENV=window.PLOTLYENV || {};\n",
              "                    \n",
              "                if (document.getElementById(\"16f3ec5a-5437-43a7-a923-541d8eac36d2\")) {\n",
              "                    Plotly.newPlot(\n",
              "                        '16f3ec5a-5437-43a7-a923-541d8eac36d2',\n",
              "                        [{\"mode\": \"markers\", \"name\": \"Data\", \"type\": \"scatter\", \"x\": [3.0, 6.0, 2.0, 2.0, 4.0, 4.0], \"y\": [4, 5, 1, 2, 4, 5]}, {\"mode\": \"lines\", \"name\": \"Fit\", \"type\": \"scatter\", \"x\": [3.0, 6.0, 2.0, 2.0, 4.0, 4.0], \"y\": [3.0434782608695645, 5.782608695652173, 2.130434782608695, 2.130434782608695, 3.956521739130434, 3.956521739130434]}],\n",
              "                        {\"plot_bgcolor\": \"rgb(229, 229, 229)\", \"template\": {\"data\": {\"bar\": [{\"error_x\": {\"color\": \"#2a3f5f\"}, \"error_y\": {\"color\": \"#2a3f5f\"}, \"marker\": {\"line\": {\"color\": \"#E5ECF6\", \"width\": 0.5}}, \"type\": \"bar\"}], \"barpolar\": [{\"marker\": {\"line\": {\"color\": \"#E5ECF6\", \"width\": 0.5}}, \"type\": \"barpolar\"}], \"carpet\": [{\"aaxis\": {\"endlinecolor\": \"#2a3f5f\", \"gridcolor\": \"white\", \"linecolor\": \"white\", \"minorgridcolor\": \"white\", \"startlinecolor\": \"#2a3f5f\"}, \"baxis\": {\"endlinecolor\": \"#2a3f5f\", \"gridcolor\": \"white\", \"linecolor\": \"white\", \"minorgridcolor\": \"white\", \"startlinecolor\": \"#2a3f5f\"}, \"type\": \"carpet\"}], \"choropleth\": [{\"colorbar\": {\"outlinewidth\": 0, \"ticks\": \"\"}, \"type\": \"choropleth\"}], \"contour\": [{\"colorbar\": {\"outlinewidth\": 0, \"ticks\": \"\"}, \"colorscale\": [[0.0, \"#0d0887\"], [0.1111111111111111, \"#46039f\"], [0.2222222222222222, \"#7201a8\"], [0.3333333333333333, \"#9c179e\"], [0.4444444444444444, \"#bd3786\"], [0.5555555555555556, \"#d8576b\"], [0.6666666666666666, \"#ed7953\"], [0.7777777777777778, \"#fb9f3a\"], [0.8888888888888888, \"#fdca26\"], [1.0, \"#f0f921\"]], \"type\": \"contour\"}], \"contourcarpet\": [{\"colorbar\": {\"outlinewidth\": 0, \"ticks\": \"\"}, \"type\": \"contourcarpet\"}], \"heatmap\": [{\"colorbar\": {\"outlinewidth\": 0, \"ticks\": \"\"}, \"colorscale\": [[0.0, \"#0d0887\"], [0.1111111111111111, \"#46039f\"], [0.2222222222222222, \"#7201a8\"], [0.3333333333333333, \"#9c179e\"], [0.4444444444444444, \"#bd3786\"], [0.5555555555555556, \"#d8576b\"], [0.6666666666666666, \"#ed7953\"], [0.7777777777777778, \"#fb9f3a\"], [0.8888888888888888, \"#fdca26\"], [1.0, \"#f0f921\"]], \"type\": \"heatmap\"}], \"heatmapgl\": [{\"colorbar\": {\"outlinewidth\": 0, \"ticks\": \"\"}, \"colorscale\": [[0.0, \"#0d0887\"], [0.1111111111111111, \"#46039f\"], [0.2222222222222222, \"#7201a8\"], [0.3333333333333333, \"#9c179e\"], [0.4444444444444444, \"#bd3786\"], [0.5555555555555556, \"#d8576b\"], [0.6666666666666666, \"#ed7953\"], [0.7777777777777778, \"#fb9f3a\"], [0.8888888888888888, \"#fdca26\"], [1.0, \"#f0f921\"]], \"type\": \"heatmapgl\"}], \"histogram\": [{\"marker\": {\"colorbar\": {\"outlinewidth\": 0, \"ticks\": \"\"}}, \"type\": \"histogram\"}], \"histogram2d\": [{\"colorbar\": {\"outlinewidth\": 0, \"ticks\": \"\"}, \"colorscale\": [[0.0, \"#0d0887\"], [0.1111111111111111, \"#46039f\"], [0.2222222222222222, \"#7201a8\"], [0.3333333333333333, \"#9c179e\"], [0.4444444444444444, \"#bd3786\"], [0.5555555555555556, \"#d8576b\"], [0.6666666666666666, \"#ed7953\"], [0.7777777777777778, \"#fb9f3a\"], [0.8888888888888888, \"#fdca26\"], [1.0, \"#f0f921\"]], \"type\": \"histogram2d\"}], \"histogram2dcontour\": [{\"colorbar\": {\"outlinewidth\": 0, \"ticks\": \"\"}, \"colorscale\": [[0.0, \"#0d0887\"], [0.1111111111111111, \"#46039f\"], [0.2222222222222222, \"#7201a8\"], [0.3333333333333333, \"#9c179e\"], [0.4444444444444444, \"#bd3786\"], [0.5555555555555556, \"#d8576b\"], [0.6666666666666666, \"#ed7953\"], [0.7777777777777778, \"#fb9f3a\"], [0.8888888888888888, \"#fdca26\"], [1.0, \"#f0f921\"]], \"type\": \"histogram2dcontour\"}], \"mesh3d\": [{\"colorbar\": {\"outlinewidth\": 0, \"ticks\": \"\"}, \"type\": \"mesh3d\"}], \"parcoords\": [{\"line\": {\"colorbar\": {\"outlinewidth\": 0, \"ticks\": \"\"}}, \"type\": \"parcoords\"}], \"scatter\": [{\"marker\": {\"colorbar\": {\"outlinewidth\": 0, \"ticks\": \"\"}}, \"type\": \"scatter\"}], \"scatter3d\": [{\"line\": {\"colorbar\": {\"outlinewidth\": 0, \"ticks\": \"\"}}, \"marker\": {\"colorbar\": {\"outlinewidth\": 0, \"ticks\": \"\"}}, \"type\": \"scatter3d\"}], \"scattercarpet\": [{\"marker\": {\"colorbar\": {\"outlinewidth\": 0, \"ticks\": \"\"}}, \"type\": \"scattercarpet\"}], \"scattergeo\": [{\"marker\": {\"colorbar\": {\"outlinewidth\": 0, \"ticks\": \"\"}}, \"type\": \"scattergeo\"}], \"scattergl\": [{\"marker\": {\"colorbar\": {\"outlinewidth\": 0, \"ticks\": \"\"}}, \"type\": \"scattergl\"}], \"scattermapbox\": [{\"marker\": {\"colorbar\": {\"outlinewidth\": 0, \"ticks\": \"\"}}, \"type\": \"scattermapbox\"}], \"scatterpolar\": [{\"marker\": {\"colorbar\": {\"outlinewidth\": 0, \"ticks\": \"\"}}, \"type\": \"scatterpolar\"}], \"scatterpolargl\": [{\"marker\": {\"colorbar\": {\"outlinewidth\": 0, \"ticks\": \"\"}}, \"type\": \"scatterpolargl\"}], \"scatterternary\": [{\"marker\": {\"colorbar\": {\"outlinewidth\": 0, \"ticks\": \"\"}}, \"type\": \"scatterternary\"}], \"surface\": [{\"colorbar\": {\"outlinewidth\": 0, \"ticks\": \"\"}, \"colorscale\": [[0.0, \"#0d0887\"], [0.1111111111111111, \"#46039f\"], [0.2222222222222222, \"#7201a8\"], [0.3333333333333333, \"#9c179e\"], [0.4444444444444444, \"#bd3786\"], [0.5555555555555556, \"#d8576b\"], [0.6666666666666666, \"#ed7953\"], [0.7777777777777778, \"#fb9f3a\"], [0.8888888888888888, \"#fdca26\"], [1.0, \"#f0f921\"]], \"type\": \"surface\"}], \"table\": [{\"cells\": {\"fill\": {\"color\": \"#EBF0F8\"}, \"line\": {\"color\": \"white\"}}, \"header\": {\"fill\": {\"color\": \"#C8D4E3\"}, \"line\": {\"color\": \"white\"}}, \"type\": \"table\"}]}, \"layout\": {\"annotationdefaults\": {\"arrowcolor\": \"#2a3f5f\", \"arrowhead\": 0, \"arrowwidth\": 1}, \"colorscale\": {\"diverging\": [[0, \"#8e0152\"], [0.1, \"#c51b7d\"], [0.2, \"#de77ae\"], [0.3, \"#f1b6da\"], [0.4, \"#fde0ef\"], [0.5, \"#f7f7f7\"], [0.6, \"#e6f5d0\"], [0.7, \"#b8e186\"], [0.8, \"#7fbc41\"], [0.9, \"#4d9221\"], [1, \"#276419\"]], \"sequential\": [[0.0, \"#0d0887\"], [0.1111111111111111, \"#46039f\"], [0.2222222222222222, \"#7201a8\"], [0.3333333333333333, \"#9c179e\"], [0.4444444444444444, \"#bd3786\"], [0.5555555555555556, \"#d8576b\"], [0.6666666666666666, \"#ed7953\"], [0.7777777777777778, \"#fb9f3a\"], [0.8888888888888888, \"#fdca26\"], [1.0, \"#f0f921\"]], \"sequentialminus\": [[0.0, \"#0d0887\"], [0.1111111111111111, \"#46039f\"], [0.2222222222222222, \"#7201a8\"], [0.3333333333333333, \"#9c179e\"], [0.4444444444444444, \"#bd3786\"], [0.5555555555555556, \"#d8576b\"], [0.6666666666666666, \"#ed7953\"], [0.7777777777777778, \"#fb9f3a\"], [0.8888888888888888, \"#fdca26\"], [1.0, \"#f0f921\"]]}, \"colorway\": [\"#636efa\", \"#EF553B\", \"#00cc96\", \"#ab63fa\", \"#FFA15A\", \"#19d3f3\", \"#FF6692\", \"#B6E880\", \"#FF97FF\", \"#FECB52\"], \"font\": {\"color\": \"#2a3f5f\"}, \"geo\": {\"bgcolor\": \"white\", \"lakecolor\": \"white\", \"landcolor\": \"#E5ECF6\", \"showlakes\": true, \"showland\": true, \"subunitcolor\": \"white\"}, \"hoverlabel\": {\"align\": \"left\"}, \"hovermode\": \"closest\", \"mapbox\": {\"style\": \"light\"}, \"paper_bgcolor\": \"white\", \"plot_bgcolor\": \"#E5ECF6\", \"polar\": {\"angularaxis\": {\"gridcolor\": \"white\", \"linecolor\": \"white\", \"ticks\": \"\"}, \"bgcolor\": \"#E5ECF6\", \"radialaxis\": {\"gridcolor\": \"white\", \"linecolor\": \"white\", \"ticks\": \"\"}}, \"scene\": {\"xaxis\": {\"backgroundcolor\": \"#E5ECF6\", \"gridcolor\": \"white\", \"gridwidth\": 2, \"linecolor\": \"white\", \"showbackground\": true, \"ticks\": \"\", \"zerolinecolor\": \"white\"}, \"yaxis\": {\"backgroundcolor\": \"#E5ECF6\", \"gridcolor\": \"white\", \"gridwidth\": 2, \"linecolor\": \"white\", \"showbackground\": true, \"ticks\": \"\", \"zerolinecolor\": \"white\"}, \"zaxis\": {\"backgroundcolor\": \"#E5ECF6\", \"gridcolor\": \"white\", \"gridwidth\": 2, \"linecolor\": \"white\", \"showbackground\": true, \"ticks\": \"\", \"zerolinecolor\": \"white\"}}, \"shapedefaults\": {\"line\": {\"color\": \"#2a3f5f\"}}, \"ternary\": {\"aaxis\": {\"gridcolor\": \"white\", \"linecolor\": \"white\", \"ticks\": \"\"}, \"baxis\": {\"gridcolor\": \"white\", \"linecolor\": \"white\", \"ticks\": \"\"}, \"bgcolor\": \"#E5ECF6\", \"caxis\": {\"gridcolor\": \"white\", \"linecolor\": \"white\", \"ticks\": \"\"}}, \"title\": {\"x\": 0.05}, \"xaxis\": {\"automargin\": true, \"gridcolor\": \"white\", \"linecolor\": \"white\", \"ticks\": \"\", \"zerolinecolor\": \"white\", \"zerolinewidth\": 2}, \"yaxis\": {\"automargin\": true, \"gridcolor\": \"white\", \"linecolor\": \"white\", \"ticks\": \"\", \"zerolinecolor\": \"white\", \"zerolinewidth\": 2}}}, \"title\": {\"text\": \"Linear Regression y = 0.9130*x + 0.3043\"}},\n",
              "                        {\"responsive\": true}\n",
              "                    ).then(function(){\n",
              "                            \n",
              "var gd = document.getElementById('16f3ec5a-5437-43a7-a923-541d8eac36d2');\n",
              "var x = new MutationObserver(function (mutations, observer) {{\n",
              "        var display = window.getComputedStyle(gd).display;\n",
              "        if (!display || display === 'none') {{\n",
              "            console.log([gd, 'removed!']);\n",
              "            Plotly.purge(gd);\n",
              "            observer.disconnect();\n",
              "        }}\n",
              "}});\n",
              "\n",
              "// Listen for the removal of the full notebook cells\n",
              "var notebookContainer = gd.closest('#notebook-container');\n",
              "if (notebookContainer) {{\n",
              "    x.observe(notebookContainer, {childList: true});\n",
              "}}\n",
              "\n",
              "// Listen for the clearing of the current output cell\n",
              "var outputEl = gd.closest('.output');\n",
              "if (outputEl) {{\n",
              "    x.observe(outputEl, {childList: true});\n",
              "}}\n",
              "\n",
              "                        })\n",
              "                };\n",
              "                });\n",
              "            </script>\n",
              "        </div>"
            ]
          },
          "metadata": {
            "tags": []
          }
        }
      ]
    },
    {
      "cell_type": "markdown",
      "metadata": {
        "id": "RTzl4WdLm6U-",
        "colab_type": "text"
      },
      "source": [
        "## 11.hét"
      ]
    },
    {
      "cell_type": "code",
      "metadata": {
        "id": "ujKJDtIRvNIE",
        "colab_type": "code",
        "colab": {
          "base_uri": "https://localhost:8080/",
          "height": 147
        },
        "outputId": "08b23a55-974e-4860-8fb1-92f9d1f747d3"
      },
      "source": [
        "new_section(\"11. hét\", \"2\")"
      ],
      "execution_count": 20,
      "outputs": [
        {
          "output_type": "execute_result",
          "data": {
            "text/html": [
              "<a id = idnumberstr></a><div style=\"text-align:center;background:#66aa33;padding:40px;color:#ffffff;font-size:3em;\">11. hét</div>"
            ],
            "text/plain": [
              "<IPython.core.display.HTML object>"
            ]
          },
          "metadata": {
            "tags": []
          },
          "execution_count": 20
        }
      ]
    },
    {
      "cell_type": "markdown",
      "metadata": {
        "id": "yeadHkjnm8sh",
        "colab_type": "text"
      },
      "source": [
        "###  1.Feladat"
      ]
    },
    {
      "cell_type": "markdown",
      "metadata": {
        "id": "X5eEyDBsnPjp",
        "colab_type": "text"
      },
      "source": [
        "A statisztika tanár gondol egyet és megméri egyik gyakorlati \n",
        "csoportjában a fiúk magasságát és a következő eredményeket kapja:\n",
        "\n",
        "176,174,173,175,186,191,180,200,176,188,189,163,167,175,195\n",
        "\n",
        "a) Adja meg 10-es lépésközzel, a gyakoriság hisztogramot, sűrűség hisztogramot.\n",
        "\n",
        "b) Adjuk meg a tapasztalati eloszlásfüggvényt.\n",
        "\n",
        "c) A rendelkezésre álló adatok alapján adja meg a férfiak magasságának empirikus várható értékét, empirikus szórásnégyzetét, korrigált empirikus szórásnégyzetét.\n",
        "\n",
        "d) Melyik statisztika torzítatlan, aszimptotikusan torzítatlan, a két szórásnégyzet közül melyik hatékonyabb?\n",
        "\n",
        "e) A fenti mintából adjon 95%-os megbízhatósági szintű konfidencia intervallumot a férfiak magasságának várható értékére."
      ]
    },
    {
      "cell_type": "markdown",
      "metadata": {
        "id": "jxqnYmOipt0y",
        "colab_type": "text"
      },
      "source": [
        "#### Megoldás. "
      ]
    },
    {
      "cell_type": "markdown",
      "metadata": {
        "id": "xfs5dQ4DpvaK",
        "colab_type": "text"
      },
      "source": [
        "##### a) gyakoriság hisztogram, sűrűség hisztogram"
      ]
    },
    {
      "cell_type": "code",
      "metadata": {
        "id": "1nNcHAe8p9sF",
        "colab_type": "code",
        "colab": {}
      },
      "source": [
        "datalist = [176,174,173,175,186,191,180,200,176,188,189,163,167,175,195]"
      ],
      "execution_count": 0,
      "outputs": []
    },
    {
      "cell_type": "code",
      "metadata": {
        "id": "5OCVaw8BqH4U",
        "colab_type": "code",
        "outputId": "3d4cf827-fc9d-4621-fbd8-dea2e243e983",
        "colab": {
          "base_uri": "https://localhost:8080/",
          "height": 542
        }
      },
      "source": [
        "fig = go.Figure()\n",
        "fig.add_trace(go.Histogram(histfunc=\"count\",  x=datalist, name=\"count\"))\n",
        "fig.add_trace(go.Histogram(histnorm=\"probability\", x=datalist, name=\"probability\"))\n",
        "\n",
        "fig.show()"
      ],
      "execution_count": 0,
      "outputs": [
        {
          "output_type": "display_data",
          "data": {
            "text/html": [
              "        <script type=\"text/javascript\">\n",
              "        window.PlotlyConfig = {MathJaxConfig: 'local'};\n",
              "        if (window.MathJax) {MathJax.Hub.Config({SVG: {font: \"STIX-Web\"}});}\n",
              "        if (typeof require !== 'undefined') {\n",
              "        require.undef(\"plotly\");\n",
              "        requirejs.config({\n",
              "            paths: {\n",
              "                'plotly': ['https://cdn.plot.ly/plotly-latest.min']\n",
              "            }\n",
              "        });\n",
              "        require(['plotly'], function(Plotly) {\n",
              "            window._Plotly = Plotly;\n",
              "        });\n",
              "        }\n",
              "        </script>\n",
              "        "
            ]
          },
          "metadata": {
            "tags": []
          }
        },
        {
          "output_type": "display_data",
          "data": {
            "text/html": [
              "<div>\n",
              "        \n",
              "        \n",
              "            <div id=\"506473df-3fb8-4868-bcf7-1fd625b16f63\" class=\"plotly-graph-div\" style=\"height:525px; width:100%;\"></div>\n",
              "            <script type=\"text/javascript\">\n",
              "                require([\"plotly\"], function(Plotly) {\n",
              "                    window.PLOTLYENV=window.PLOTLYENV || {};\n",
              "                    \n",
              "                if (document.getElementById(\"506473df-3fb8-4868-bcf7-1fd625b16f63\")) {\n",
              "                    Plotly.newPlot(\n",
              "                        '506473df-3fb8-4868-bcf7-1fd625b16f63',\n",
              "                        [{\"histfunc\": \"count\", \"name\": \"count\", \"type\": \"histogram\", \"x\": [176, 174, 173, 175, 186, 191, 180, 200, 176, 188, 189, 163, 167, 175, 195]}, {\"histnorm\": \"probability\", \"name\": \"probability\", \"type\": \"histogram\", \"x\": [176, 174, 173, 175, 186, 191, 180, 200, 176, 188, 189, 163, 167, 175, 195]}],\n",
              "                        {\"template\": {\"data\": {\"bar\": [{\"error_x\": {\"color\": \"#2a3f5f\"}, \"error_y\": {\"color\": \"#2a3f5f\"}, \"marker\": {\"line\": {\"color\": \"#E5ECF6\", \"width\": 0.5}}, \"type\": \"bar\"}], \"barpolar\": [{\"marker\": {\"line\": {\"color\": \"#E5ECF6\", \"width\": 0.5}}, \"type\": \"barpolar\"}], \"carpet\": [{\"aaxis\": {\"endlinecolor\": \"#2a3f5f\", \"gridcolor\": \"white\", \"linecolor\": \"white\", \"minorgridcolor\": \"white\", \"startlinecolor\": \"#2a3f5f\"}, \"baxis\": {\"endlinecolor\": \"#2a3f5f\", \"gridcolor\": \"white\", \"linecolor\": \"white\", \"minorgridcolor\": \"white\", \"startlinecolor\": \"#2a3f5f\"}, \"type\": \"carpet\"}], \"choropleth\": [{\"colorbar\": {\"outlinewidth\": 0, \"ticks\": \"\"}, \"type\": \"choropleth\"}], \"contour\": [{\"colorbar\": {\"outlinewidth\": 0, \"ticks\": \"\"}, \"colorscale\": [[0.0, \"#0d0887\"], [0.1111111111111111, \"#46039f\"], [0.2222222222222222, \"#7201a8\"], [0.3333333333333333, \"#9c179e\"], [0.4444444444444444, \"#bd3786\"], [0.5555555555555556, \"#d8576b\"], [0.6666666666666666, \"#ed7953\"], [0.7777777777777778, \"#fb9f3a\"], [0.8888888888888888, \"#fdca26\"], [1.0, \"#f0f921\"]], \"type\": \"contour\"}], \"contourcarpet\": [{\"colorbar\": {\"outlinewidth\": 0, \"ticks\": \"\"}, \"type\": \"contourcarpet\"}], \"heatmap\": [{\"colorbar\": {\"outlinewidth\": 0, \"ticks\": \"\"}, \"colorscale\": [[0.0, \"#0d0887\"], [0.1111111111111111, \"#46039f\"], [0.2222222222222222, \"#7201a8\"], [0.3333333333333333, \"#9c179e\"], [0.4444444444444444, \"#bd3786\"], [0.5555555555555556, \"#d8576b\"], [0.6666666666666666, \"#ed7953\"], [0.7777777777777778, \"#fb9f3a\"], [0.8888888888888888, \"#fdca26\"], [1.0, \"#f0f921\"]], \"type\": \"heatmap\"}], \"heatmapgl\": [{\"colorbar\": {\"outlinewidth\": 0, \"ticks\": \"\"}, \"colorscale\": [[0.0, \"#0d0887\"], [0.1111111111111111, \"#46039f\"], [0.2222222222222222, \"#7201a8\"], [0.3333333333333333, \"#9c179e\"], [0.4444444444444444, \"#bd3786\"], [0.5555555555555556, \"#d8576b\"], [0.6666666666666666, \"#ed7953\"], [0.7777777777777778, \"#fb9f3a\"], [0.8888888888888888, \"#fdca26\"], [1.0, \"#f0f921\"]], \"type\": \"heatmapgl\"}], \"histogram\": [{\"marker\": {\"colorbar\": {\"outlinewidth\": 0, \"ticks\": \"\"}}, \"type\": \"histogram\"}], \"histogram2d\": [{\"colorbar\": {\"outlinewidth\": 0, \"ticks\": \"\"}, \"colorscale\": [[0.0, \"#0d0887\"], [0.1111111111111111, \"#46039f\"], [0.2222222222222222, \"#7201a8\"], [0.3333333333333333, \"#9c179e\"], [0.4444444444444444, \"#bd3786\"], [0.5555555555555556, \"#d8576b\"], [0.6666666666666666, \"#ed7953\"], [0.7777777777777778, \"#fb9f3a\"], [0.8888888888888888, \"#fdca26\"], [1.0, \"#f0f921\"]], \"type\": \"histogram2d\"}], \"histogram2dcontour\": [{\"colorbar\": {\"outlinewidth\": 0, \"ticks\": \"\"}, \"colorscale\": [[0.0, \"#0d0887\"], [0.1111111111111111, \"#46039f\"], [0.2222222222222222, \"#7201a8\"], [0.3333333333333333, \"#9c179e\"], [0.4444444444444444, \"#bd3786\"], [0.5555555555555556, \"#d8576b\"], [0.6666666666666666, \"#ed7953\"], [0.7777777777777778, \"#fb9f3a\"], [0.8888888888888888, \"#fdca26\"], [1.0, \"#f0f921\"]], \"type\": \"histogram2dcontour\"}], \"mesh3d\": [{\"colorbar\": {\"outlinewidth\": 0, \"ticks\": \"\"}, \"type\": \"mesh3d\"}], \"parcoords\": [{\"line\": {\"colorbar\": {\"outlinewidth\": 0, \"ticks\": \"\"}}, \"type\": \"parcoords\"}], \"scatter\": [{\"marker\": {\"colorbar\": {\"outlinewidth\": 0, \"ticks\": \"\"}}, \"type\": \"scatter\"}], \"scatter3d\": [{\"line\": {\"colorbar\": {\"outlinewidth\": 0, \"ticks\": \"\"}}, \"marker\": {\"colorbar\": {\"outlinewidth\": 0, \"ticks\": \"\"}}, \"type\": \"scatter3d\"}], \"scattercarpet\": [{\"marker\": {\"colorbar\": {\"outlinewidth\": 0, \"ticks\": \"\"}}, \"type\": \"scattercarpet\"}], \"scattergeo\": [{\"marker\": {\"colorbar\": {\"outlinewidth\": 0, \"ticks\": \"\"}}, \"type\": \"scattergeo\"}], \"scattergl\": [{\"marker\": {\"colorbar\": {\"outlinewidth\": 0, \"ticks\": \"\"}}, \"type\": \"scattergl\"}], \"scattermapbox\": [{\"marker\": {\"colorbar\": {\"outlinewidth\": 0, \"ticks\": \"\"}}, \"type\": \"scattermapbox\"}], \"scatterpolar\": [{\"marker\": {\"colorbar\": {\"outlinewidth\": 0, \"ticks\": \"\"}}, \"type\": \"scatterpolar\"}], \"scatterpolargl\": [{\"marker\": {\"colorbar\": {\"outlinewidth\": 0, \"ticks\": \"\"}}, \"type\": \"scatterpolargl\"}], \"scatterternary\": [{\"marker\": {\"colorbar\": {\"outlinewidth\": 0, \"ticks\": \"\"}}, \"type\": \"scatterternary\"}], \"surface\": [{\"colorbar\": {\"outlinewidth\": 0, \"ticks\": \"\"}, \"colorscale\": [[0.0, \"#0d0887\"], [0.1111111111111111, \"#46039f\"], [0.2222222222222222, \"#7201a8\"], [0.3333333333333333, \"#9c179e\"], [0.4444444444444444, \"#bd3786\"], [0.5555555555555556, \"#d8576b\"], [0.6666666666666666, \"#ed7953\"], [0.7777777777777778, \"#fb9f3a\"], [0.8888888888888888, \"#fdca26\"], [1.0, \"#f0f921\"]], \"type\": \"surface\"}], \"table\": [{\"cells\": {\"fill\": {\"color\": \"#EBF0F8\"}, \"line\": {\"color\": \"white\"}}, \"header\": {\"fill\": {\"color\": \"#C8D4E3\"}, \"line\": {\"color\": \"white\"}}, \"type\": \"table\"}]}, \"layout\": {\"annotationdefaults\": {\"arrowcolor\": \"#2a3f5f\", \"arrowhead\": 0, \"arrowwidth\": 1}, \"colorscale\": {\"diverging\": [[0, \"#8e0152\"], [0.1, \"#c51b7d\"], [0.2, \"#de77ae\"], [0.3, \"#f1b6da\"], [0.4, \"#fde0ef\"], [0.5, \"#f7f7f7\"], [0.6, \"#e6f5d0\"], [0.7, \"#b8e186\"], [0.8, \"#7fbc41\"], [0.9, \"#4d9221\"], [1, \"#276419\"]], \"sequential\": [[0.0, \"#0d0887\"], [0.1111111111111111, \"#46039f\"], [0.2222222222222222, \"#7201a8\"], [0.3333333333333333, \"#9c179e\"], [0.4444444444444444, \"#bd3786\"], [0.5555555555555556, \"#d8576b\"], [0.6666666666666666, \"#ed7953\"], [0.7777777777777778, \"#fb9f3a\"], [0.8888888888888888, \"#fdca26\"], [1.0, \"#f0f921\"]], \"sequentialminus\": [[0.0, \"#0d0887\"], [0.1111111111111111, \"#46039f\"], [0.2222222222222222, \"#7201a8\"], [0.3333333333333333, \"#9c179e\"], [0.4444444444444444, \"#bd3786\"], [0.5555555555555556, \"#d8576b\"], [0.6666666666666666, \"#ed7953\"], [0.7777777777777778, \"#fb9f3a\"], [0.8888888888888888, \"#fdca26\"], [1.0, \"#f0f921\"]]}, \"colorway\": [\"#636efa\", \"#EF553B\", \"#00cc96\", \"#ab63fa\", \"#FFA15A\", \"#19d3f3\", \"#FF6692\", \"#B6E880\", \"#FF97FF\", \"#FECB52\"], \"font\": {\"color\": \"#2a3f5f\"}, \"geo\": {\"bgcolor\": \"white\", \"lakecolor\": \"white\", \"landcolor\": \"#E5ECF6\", \"showlakes\": true, \"showland\": true, \"subunitcolor\": \"white\"}, \"hoverlabel\": {\"align\": \"left\"}, \"hovermode\": \"closest\", \"mapbox\": {\"style\": \"light\"}, \"paper_bgcolor\": \"white\", \"plot_bgcolor\": \"#E5ECF6\", \"polar\": {\"angularaxis\": {\"gridcolor\": \"white\", \"linecolor\": \"white\", \"ticks\": \"\"}, \"bgcolor\": \"#E5ECF6\", \"radialaxis\": {\"gridcolor\": \"white\", \"linecolor\": \"white\", \"ticks\": \"\"}}, \"scene\": {\"xaxis\": {\"backgroundcolor\": \"#E5ECF6\", \"gridcolor\": \"white\", \"gridwidth\": 2, \"linecolor\": \"white\", \"showbackground\": true, \"ticks\": \"\", \"zerolinecolor\": \"white\"}, \"yaxis\": {\"backgroundcolor\": \"#E5ECF6\", \"gridcolor\": \"white\", \"gridwidth\": 2, \"linecolor\": \"white\", \"showbackground\": true, \"ticks\": \"\", \"zerolinecolor\": \"white\"}, \"zaxis\": {\"backgroundcolor\": \"#E5ECF6\", \"gridcolor\": \"white\", \"gridwidth\": 2, \"linecolor\": \"white\", \"showbackground\": true, \"ticks\": \"\", \"zerolinecolor\": \"white\"}}, \"shapedefaults\": {\"line\": {\"color\": \"#2a3f5f\"}}, \"ternary\": {\"aaxis\": {\"gridcolor\": \"white\", \"linecolor\": \"white\", \"ticks\": \"\"}, \"baxis\": {\"gridcolor\": \"white\", \"linecolor\": \"white\", \"ticks\": \"\"}, \"bgcolor\": \"#E5ECF6\", \"caxis\": {\"gridcolor\": \"white\", \"linecolor\": \"white\", \"ticks\": \"\"}}, \"title\": {\"x\": 0.05}, \"xaxis\": {\"automargin\": true, \"gridcolor\": \"white\", \"linecolor\": \"white\", \"ticks\": \"\", \"zerolinecolor\": \"white\", \"zerolinewidth\": 2}, \"yaxis\": {\"automargin\": true, \"gridcolor\": \"white\", \"linecolor\": \"white\", \"ticks\": \"\", \"zerolinecolor\": \"white\", \"zerolinewidth\": 2}}}},\n",
              "                        {\"responsive\": true}\n",
              "                    ).then(function(){\n",
              "                            \n",
              "var gd = document.getElementById('506473df-3fb8-4868-bcf7-1fd625b16f63');\n",
              "var x = new MutationObserver(function (mutations, observer) {{\n",
              "        var display = window.getComputedStyle(gd).display;\n",
              "        if (!display || display === 'none') {{\n",
              "            console.log([gd, 'removed!']);\n",
              "            Plotly.purge(gd);\n",
              "            observer.disconnect();\n",
              "        }}\n",
              "}});\n",
              "\n",
              "// Listen for the removal of the full notebook cells\n",
              "var notebookContainer = gd.closest('#notebook-container');\n",
              "if (notebookContainer) {{\n",
              "    x.observe(notebookContainer, {childList: true});\n",
              "}}\n",
              "\n",
              "// Listen for the clearing of the current output cell\n",
              "var outputEl = gd.closest('.output');\n",
              "if (outputEl) {{\n",
              "    x.observe(outputEl, {childList: true});\n",
              "}}\n",
              "\n",
              "                        })\n",
              "                };\n",
              "                });\n",
              "            </script>\n",
              "        </div>"
            ]
          },
          "metadata": {
            "tags": []
          }
        }
      ]
    },
    {
      "cell_type": "markdown",
      "metadata": {
        "id": "5qErGSWxq0jl",
        "colab_type": "text"
      },
      "source": [
        "##### b) tapasztalati eloszlásfüggvény"
      ]
    },
    {
      "cell_type": "code",
      "metadata": {
        "id": "M7xOU27Dq2Sf",
        "colab_type": "code",
        "outputId": "6374aab7-46fc-4fcf-b077-2a3421826a5d",
        "colab": {
          "base_uri": "https://localhost:8080/",
          "height": 542
        }
      },
      "source": [
        "bins = math.ceil((max(datalist) - min(datalist)/9))\n",
        "empirical_dist(datalist, bins)"
      ],
      "execution_count": 0,
      "outputs": [
        {
          "output_type": "display_data",
          "data": {
            "text/html": [
              "<div>\n",
              "        \n",
              "        \n",
              "            <div id=\"ea403a14-2dfa-44a4-b030-f2670a9e4ce5\" class=\"plotly-graph-div\" style=\"height:525px; width:100%;\"></div>\n",
              "            <script type=\"text/javascript\">\n",
              "                require([\"plotly\"], function(Plotly) {\n",
              "                    window.PLOTLYENV=window.PLOTLYENV || {};\n",
              "                    \n",
              "                if (document.getElementById(\"ea403a14-2dfa-44a4-b030-f2670a9e4ce5\")) {\n",
              "                    Plotly.newPlot(\n",
              "                        'ea403a14-2dfa-44a4-b030-f2670a9e4ce5',\n",
              "                        [{\"hoverinfo\": \"all\", \"line\": {\"color\": \"rgb(1255, 0, 0)\", \"shape\": \"hvh\"}, \"mode\": \"lines\", \"name\": \"X\", \"type\": \"scatter\", \"x\": [163.0, 163.2032967032967, 163.4065934065934, 163.6098901098901, 163.8131868131868, 164.0164835164835, 164.21978021978023, 164.42307692307693, 164.62637362637363, 164.82967032967034, 165.03296703296704, 165.23626373626374, 165.43956043956044, 165.64285714285714, 165.84615384615384, 166.04945054945054, 166.25274725274724, 166.45604395604397, 166.65934065934067, 166.86263736263737, 167.06593406593407, 167.26923076923077, 167.47252747252747, 167.67582417582418, 167.87912087912088, 168.08241758241758, 168.28571428571428, 168.48901098901098, 168.69230769230768, 168.8956043956044, 169.0989010989011, 169.3021978021978, 169.5054945054945, 169.7087912087912, 169.9120879120879, 170.1153846153846, 170.3186813186813, 170.52197802197801, 170.72527472527472, 170.92857142857142, 171.13186813186815, 171.33516483516485, 171.53846153846155, 171.74175824175825, 171.94505494505495, 172.14835164835165, 172.35164835164835, 172.55494505494505, 172.75824175824175, 172.96153846153845, 173.16483516483515, 173.36813186813185, 173.57142857142858, 173.77472527472528, 173.97802197802199, 174.1813186813187, 174.3846153846154, 174.5879120879121, 174.7912087912088, 174.9945054945055, 175.1978021978022, 175.4010989010989, 175.6043956043956, 175.80769230769232, 176.01098901098902, 176.21428571428572, 176.41758241758242, 176.62087912087912, 176.82417582417582, 177.02747252747253, 177.23076923076923, 177.43406593406593, 177.63736263736263, 177.84065934065933, 178.04395604395603, 178.24725274725276, 178.45054945054946, 178.65384615384616, 178.85714285714286, 179.06043956043956, 179.26373626373626, 179.46703296703296, 179.67032967032966, 179.87362637362637, 180.07692307692307, 180.2802197802198, 180.4835164835165, 180.6868131868132, 180.8901098901099, 181.0934065934066, 181.2967032967033, 181.5, 181.7032967032967, 181.9065934065934, 182.1098901098901, 182.3131868131868, 182.5164835164835, 182.7197802197802, 182.92307692307693, 183.12637362637363, 183.32967032967034, 183.53296703296704, 183.73626373626374, 183.93956043956044, 184.14285714285714, 184.34615384615384, 184.54945054945054, 184.75274725274724, 184.95604395604397, 185.15934065934067, 185.36263736263737, 185.56593406593407, 185.76923076923077, 185.97252747252747, 186.17582417582418, 186.37912087912088, 186.58241758241758, 186.78571428571428, 186.98901098901098, 187.19230769230768, 187.39560439560438, 187.5989010989011, 187.8021978021978, 188.0054945054945, 188.2087912087912, 188.4120879120879, 188.6153846153846, 188.8186813186813, 189.02197802197801, 189.22527472527472, 189.42857142857142, 189.63186813186815, 189.83516483516485, 190.03846153846155, 190.24175824175825, 190.44505494505495, 190.64835164835165, 190.85164835164835, 191.05494505494505, 191.25824175824175, 191.46153846153845, 191.66483516483515, 191.86813186813185, 192.07142857142858, 192.27472527472528, 192.47802197802199, 192.6813186813187, 192.8846153846154, 193.0879120879121, 193.2912087912088, 193.4945054945055, 193.6978021978022, 193.9010989010989, 194.10439560439562, 194.30769230769232, 194.51098901098902, 194.71428571428572, 194.91758241758242, 195.12087912087912, 195.32417582417582, 195.52747252747253, 195.73076923076923, 195.93406593406593, 196.13736263736263, 196.34065934065933, 196.54395604395603, 196.74725274725273, 196.95054945054946, 197.15384615384616, 197.35714285714286, 197.56043956043956, 197.76373626373626, 197.96703296703296, 198.17032967032966, 198.37362637362637, 198.5769230769231, 198.7802197802198, 198.9835164835165, 199.1868131868132, 199.3901098901099, 199.5934065934066, 199.7967032967033, 200.0], \"y\": [0.06666666666666667, 0.06666666666666667, 0.06666666666666667, 0.06666666666666667, 0.06666666666666667, 0.06666666666666667, 0.06666666666666667, 0.06666666666666667, 0.06666666666666667, 0.06666666666666667, 0.06666666666666667, 0.06666666666666667, 0.06666666666666667, 0.06666666666666667, 0.06666666666666667, 0.06666666666666667, 0.06666666666666667, 0.06666666666666667, 0.06666666666666667, 0.13333333333333333, 0.13333333333333333, 0.13333333333333333, 0.13333333333333333, 0.13333333333333333, 0.13333333333333333, 0.13333333333333333, 0.13333333333333333, 0.13333333333333333, 0.13333333333333333, 0.13333333333333333, 0.13333333333333333, 0.13333333333333333, 0.13333333333333333, 0.13333333333333333, 0.13333333333333333, 0.13333333333333333, 0.13333333333333333, 0.13333333333333333, 0.13333333333333333, 0.13333333333333333, 0.13333333333333333, 0.13333333333333333, 0.13333333333333333, 0.13333333333333333, 0.13333333333333333, 0.13333333333333333, 0.13333333333333333, 0.13333333333333333, 0.13333333333333333, 0.2, 0.2, 0.2, 0.2, 0.2, 0.26666666666666666, 0.26666666666666666, 0.26666666666666666, 0.26666666666666666, 0.26666666666666666, 0.4, 0.4, 0.4, 0.4, 0.5333333333333333, 0.5333333333333333, 0.5333333333333333, 0.5333333333333333, 0.5333333333333333, 0.5333333333333333, 0.5333333333333333, 0.5333333333333333, 0.5333333333333333, 0.5333333333333333, 0.5333333333333333, 0.5333333333333333, 0.5333333333333333, 0.5333333333333333, 0.5333333333333333, 0.5333333333333333, 0.5333333333333333, 0.5333333333333333, 0.5333333333333333, 0.5333333333333333, 0.6, 0.6, 0.6, 0.6, 0.6, 0.6, 0.6, 0.6, 0.6, 0.6, 0.6, 0.6, 0.6, 0.6, 0.6, 0.6, 0.6, 0.6, 0.6, 0.6, 0.6, 0.6, 0.6, 0.6, 0.6, 0.6, 0.6, 0.6, 0.6, 0.6, 0.6666666666666667, 0.6666666666666667, 0.6666666666666667, 0.6666666666666667, 0.6666666666666667, 0.6666666666666667, 0.6666666666666667, 0.6666666666666667, 0.6666666666666667, 0.7333333333333334, 0.7333333333333334, 0.7333333333333334, 0.7333333333333334, 0.7333333333333334, 0.8, 0.8, 0.8, 0.8, 0.8, 0.8, 0.8, 0.8, 0.8, 0.8, 0.8666666666666668, 0.8666666666666668, 0.8666666666666668, 0.8666666666666668, 0.8666666666666668, 0.8666666666666668, 0.8666666666666668, 0.8666666666666668, 0.8666666666666668, 0.8666666666666668, 0.8666666666666668, 0.8666666666666668, 0.8666666666666668, 0.8666666666666668, 0.8666666666666668, 0.8666666666666668, 0.8666666666666668, 0.8666666666666668, 0.8666666666666668, 0.8666666666666668, 0.9333333333333333, 0.9333333333333333, 0.9333333333333333, 0.9333333333333333, 0.9333333333333333, 0.9333333333333333, 0.9333333333333333, 0.9333333333333333, 0.9333333333333333, 0.9333333333333333, 0.9333333333333333, 0.9333333333333333, 0.9333333333333333, 0.9333333333333333, 0.9333333333333333, 0.9333333333333333, 0.9333333333333333, 0.9333333333333333, 0.9333333333333333, 0.9333333333333333, 0.9333333333333333, 0.9333333333333333, 0.9333333333333333, 0.9333333333333333, 1.0]}],\n",
              "                        {\"legend\": {\"font\": {\"size\": 16}, \"traceorder\": \"reversed\", \"y\": 0.5}, \"template\": {\"data\": {\"bar\": [{\"error_x\": {\"color\": \"#2a3f5f\"}, \"error_y\": {\"color\": \"#2a3f5f\"}, \"marker\": {\"line\": {\"color\": \"#E5ECF6\", \"width\": 0.5}}, \"type\": \"bar\"}], \"barpolar\": [{\"marker\": {\"line\": {\"color\": \"#E5ECF6\", \"width\": 0.5}}, \"type\": \"barpolar\"}], \"carpet\": [{\"aaxis\": {\"endlinecolor\": \"#2a3f5f\", \"gridcolor\": \"white\", \"linecolor\": \"white\", \"minorgridcolor\": \"white\", \"startlinecolor\": \"#2a3f5f\"}, \"baxis\": {\"endlinecolor\": \"#2a3f5f\", \"gridcolor\": \"white\", \"linecolor\": \"white\", \"minorgridcolor\": \"white\", \"startlinecolor\": \"#2a3f5f\"}, \"type\": \"carpet\"}], \"choropleth\": [{\"colorbar\": {\"outlinewidth\": 0, \"ticks\": \"\"}, \"type\": \"choropleth\"}], \"contour\": [{\"colorbar\": {\"outlinewidth\": 0, \"ticks\": \"\"}, \"colorscale\": [[0.0, \"#0d0887\"], [0.1111111111111111, \"#46039f\"], [0.2222222222222222, \"#7201a8\"], [0.3333333333333333, \"#9c179e\"], [0.4444444444444444, \"#bd3786\"], [0.5555555555555556, \"#d8576b\"], [0.6666666666666666, \"#ed7953\"], [0.7777777777777778, \"#fb9f3a\"], [0.8888888888888888, \"#fdca26\"], [1.0, \"#f0f921\"]], \"type\": \"contour\"}], \"contourcarpet\": [{\"colorbar\": {\"outlinewidth\": 0, \"ticks\": \"\"}, \"type\": \"contourcarpet\"}], \"heatmap\": [{\"colorbar\": {\"outlinewidth\": 0, \"ticks\": \"\"}, \"colorscale\": [[0.0, \"#0d0887\"], [0.1111111111111111, \"#46039f\"], [0.2222222222222222, \"#7201a8\"], [0.3333333333333333, \"#9c179e\"], [0.4444444444444444, \"#bd3786\"], [0.5555555555555556, \"#d8576b\"], [0.6666666666666666, \"#ed7953\"], [0.7777777777777778, \"#fb9f3a\"], [0.8888888888888888, \"#fdca26\"], [1.0, \"#f0f921\"]], \"type\": \"heatmap\"}], \"heatmapgl\": [{\"colorbar\": {\"outlinewidth\": 0, \"ticks\": \"\"}, \"colorscale\": [[0.0, \"#0d0887\"], [0.1111111111111111, \"#46039f\"], [0.2222222222222222, \"#7201a8\"], [0.3333333333333333, \"#9c179e\"], [0.4444444444444444, \"#bd3786\"], [0.5555555555555556, \"#d8576b\"], [0.6666666666666666, \"#ed7953\"], [0.7777777777777778, \"#fb9f3a\"], [0.8888888888888888, \"#fdca26\"], [1.0, \"#f0f921\"]], \"type\": \"heatmapgl\"}], \"histogram\": [{\"marker\": {\"colorbar\": {\"outlinewidth\": 0, \"ticks\": \"\"}}, \"type\": \"histogram\"}], \"histogram2d\": [{\"colorbar\": {\"outlinewidth\": 0, \"ticks\": \"\"}, \"colorscale\": [[0.0, \"#0d0887\"], [0.1111111111111111, \"#46039f\"], [0.2222222222222222, \"#7201a8\"], [0.3333333333333333, \"#9c179e\"], [0.4444444444444444, \"#bd3786\"], [0.5555555555555556, \"#d8576b\"], [0.6666666666666666, \"#ed7953\"], [0.7777777777777778, \"#fb9f3a\"], [0.8888888888888888, \"#fdca26\"], [1.0, \"#f0f921\"]], \"type\": \"histogram2d\"}], \"histogram2dcontour\": [{\"colorbar\": {\"outlinewidth\": 0, \"ticks\": \"\"}, \"colorscale\": [[0.0, \"#0d0887\"], [0.1111111111111111, \"#46039f\"], [0.2222222222222222, \"#7201a8\"], [0.3333333333333333, \"#9c179e\"], [0.4444444444444444, \"#bd3786\"], [0.5555555555555556, \"#d8576b\"], [0.6666666666666666, \"#ed7953\"], [0.7777777777777778, \"#fb9f3a\"], [0.8888888888888888, \"#fdca26\"], [1.0, \"#f0f921\"]], \"type\": \"histogram2dcontour\"}], \"mesh3d\": [{\"colorbar\": {\"outlinewidth\": 0, \"ticks\": \"\"}, \"type\": \"mesh3d\"}], \"parcoords\": [{\"line\": {\"colorbar\": {\"outlinewidth\": 0, \"ticks\": \"\"}}, \"type\": \"parcoords\"}], \"scatter\": [{\"marker\": {\"colorbar\": {\"outlinewidth\": 0, \"ticks\": \"\"}}, \"type\": \"scatter\"}], \"scatter3d\": [{\"line\": {\"colorbar\": {\"outlinewidth\": 0, \"ticks\": \"\"}}, \"marker\": {\"colorbar\": {\"outlinewidth\": 0, \"ticks\": \"\"}}, \"type\": \"scatter3d\"}], \"scattercarpet\": [{\"marker\": {\"colorbar\": {\"outlinewidth\": 0, \"ticks\": \"\"}}, \"type\": \"scattercarpet\"}], \"scattergeo\": [{\"marker\": {\"colorbar\": {\"outlinewidth\": 0, \"ticks\": \"\"}}, \"type\": \"scattergeo\"}], \"scattergl\": [{\"marker\": {\"colorbar\": {\"outlinewidth\": 0, \"ticks\": \"\"}}, \"type\": \"scattergl\"}], \"scattermapbox\": [{\"marker\": {\"colorbar\": {\"outlinewidth\": 0, \"ticks\": \"\"}}, \"type\": \"scattermapbox\"}], \"scatterpolar\": [{\"marker\": {\"colorbar\": {\"outlinewidth\": 0, \"ticks\": \"\"}}, \"type\": \"scatterpolar\"}], \"scatterpolargl\": [{\"marker\": {\"colorbar\": {\"outlinewidth\": 0, \"ticks\": \"\"}}, \"type\": \"scatterpolargl\"}], \"scatterternary\": [{\"marker\": {\"colorbar\": {\"outlinewidth\": 0, \"ticks\": \"\"}}, \"type\": \"scatterternary\"}], \"surface\": [{\"colorbar\": {\"outlinewidth\": 0, \"ticks\": \"\"}, \"colorscale\": [[0.0, \"#0d0887\"], [0.1111111111111111, \"#46039f\"], [0.2222222222222222, \"#7201a8\"], [0.3333333333333333, \"#9c179e\"], [0.4444444444444444, \"#bd3786\"], [0.5555555555555556, \"#d8576b\"], [0.6666666666666666, \"#ed7953\"], [0.7777777777777778, \"#fb9f3a\"], [0.8888888888888888, \"#fdca26\"], [1.0, \"#f0f921\"]], \"type\": \"surface\"}], \"table\": [{\"cells\": {\"fill\": {\"color\": \"#EBF0F8\"}, \"line\": {\"color\": \"white\"}}, \"header\": {\"fill\": {\"color\": \"#C8D4E3\"}, \"line\": {\"color\": \"white\"}}, \"type\": \"table\"}]}, \"layout\": {\"annotationdefaults\": {\"arrowcolor\": \"#2a3f5f\", \"arrowhead\": 0, \"arrowwidth\": 1}, \"colorscale\": {\"diverging\": [[0, \"#8e0152\"], [0.1, \"#c51b7d\"], [0.2, \"#de77ae\"], [0.3, \"#f1b6da\"], [0.4, \"#fde0ef\"], [0.5, \"#f7f7f7\"], [0.6, \"#e6f5d0\"], [0.7, \"#b8e186\"], [0.8, \"#7fbc41\"], [0.9, \"#4d9221\"], [1, \"#276419\"]], \"sequential\": [[0.0, \"#0d0887\"], [0.1111111111111111, \"#46039f\"], [0.2222222222222222, \"#7201a8\"], [0.3333333333333333, \"#9c179e\"], [0.4444444444444444, \"#bd3786\"], [0.5555555555555556, \"#d8576b\"], [0.6666666666666666, \"#ed7953\"], [0.7777777777777778, \"#fb9f3a\"], [0.8888888888888888, \"#fdca26\"], [1.0, \"#f0f921\"]], \"sequentialminus\": [[0.0, \"#0d0887\"], [0.1111111111111111, \"#46039f\"], [0.2222222222222222, \"#7201a8\"], [0.3333333333333333, \"#9c179e\"], [0.4444444444444444, \"#bd3786\"], [0.5555555555555556, \"#d8576b\"], [0.6666666666666666, \"#ed7953\"], [0.7777777777777778, \"#fb9f3a\"], [0.8888888888888888, \"#fdca26\"], [1.0, \"#f0f921\"]]}, \"colorway\": [\"#636efa\", \"#EF553B\", \"#00cc96\", \"#ab63fa\", \"#FFA15A\", \"#19d3f3\", \"#FF6692\", \"#B6E880\", \"#FF97FF\", \"#FECB52\"], \"font\": {\"color\": \"#2a3f5f\"}, \"geo\": {\"bgcolor\": \"white\", \"lakecolor\": \"white\", \"landcolor\": \"#E5ECF6\", \"showlakes\": true, \"showland\": true, \"subunitcolor\": \"white\"}, \"hoverlabel\": {\"align\": \"left\"}, \"hovermode\": \"closest\", \"mapbox\": {\"style\": \"light\"}, \"paper_bgcolor\": \"white\", \"plot_bgcolor\": \"#E5ECF6\", \"polar\": {\"angularaxis\": {\"gridcolor\": \"white\", \"linecolor\": \"white\", \"ticks\": \"\"}, \"bgcolor\": \"#E5ECF6\", \"radialaxis\": {\"gridcolor\": \"white\", \"linecolor\": \"white\", \"ticks\": \"\"}}, \"scene\": {\"xaxis\": {\"backgroundcolor\": \"#E5ECF6\", \"gridcolor\": \"white\", \"gridwidth\": 2, \"linecolor\": \"white\", \"showbackground\": true, \"ticks\": \"\", \"zerolinecolor\": \"white\"}, \"yaxis\": {\"backgroundcolor\": \"#E5ECF6\", \"gridcolor\": \"white\", \"gridwidth\": 2, \"linecolor\": \"white\", \"showbackground\": true, \"ticks\": \"\", \"zerolinecolor\": \"white\"}, \"zaxis\": {\"backgroundcolor\": \"#E5ECF6\", \"gridcolor\": \"white\", \"gridwidth\": 2, \"linecolor\": \"white\", \"showbackground\": true, \"ticks\": \"\", \"zerolinecolor\": \"white\"}}, \"shapedefaults\": {\"line\": {\"color\": \"#2a3f5f\"}}, \"ternary\": {\"aaxis\": {\"gridcolor\": \"white\", \"linecolor\": \"white\", \"ticks\": \"\"}, \"baxis\": {\"gridcolor\": \"white\", \"linecolor\": \"white\", \"ticks\": \"\"}, \"bgcolor\": \"#E5ECF6\", \"caxis\": {\"gridcolor\": \"white\", \"linecolor\": \"white\", \"ticks\": \"\"}}, \"title\": {\"x\": 0.05}, \"xaxis\": {\"automargin\": true, \"gridcolor\": \"white\", \"linecolor\": \"white\", \"ticks\": \"\", \"zerolinecolor\": \"white\", \"zerolinewidth\": 2}, \"yaxis\": {\"automargin\": true, \"gridcolor\": \"white\", \"linecolor\": \"white\", \"ticks\": \"\", \"zerolinecolor\": \"white\", \"zerolinewidth\": 2}}}, \"title\": {\"text\": \"Empirical distribution function\"}},\n",
              "                        {\"responsive\": true}\n",
              "                    ).then(function(){\n",
              "                            \n",
              "var gd = document.getElementById('ea403a14-2dfa-44a4-b030-f2670a9e4ce5');\n",
              "var x = new MutationObserver(function (mutations, observer) {{\n",
              "        var display = window.getComputedStyle(gd).display;\n",
              "        if (!display || display === 'none') {{\n",
              "            console.log([gd, 'removed!']);\n",
              "            Plotly.purge(gd);\n",
              "            observer.disconnect();\n",
              "        }}\n",
              "}});\n",
              "\n",
              "// Listen for the removal of the full notebook cells\n",
              "var notebookContainer = gd.closest('#notebook-container');\n",
              "if (notebookContainer) {{\n",
              "    x.observe(notebookContainer, {childList: true});\n",
              "}}\n",
              "\n",
              "// Listen for the clearing of the current output cell\n",
              "var outputEl = gd.closest('.output');\n",
              "if (outputEl) {{\n",
              "    x.observe(outputEl, {childList: true});\n",
              "}}\n",
              "\n",
              "                        })\n",
              "                };\n",
              "                });\n",
              "            </script>\n",
              "        </div>"
            ]
          },
          "metadata": {
            "tags": []
          }
        }
      ]
    },
    {
      "cell_type": "markdown",
      "metadata": {
        "id": "e9uAJW-ZrYla",
        "colab_type": "text"
      },
      "source": [
        "##### c) empirikus várható érték, empirikus szórásnégyzet, korrigált empirikus szórásnégyzet"
      ]
    },
    {
      "cell_type": "code",
      "metadata": {
        "id": "qUHSuBfxrc4z",
        "colab_type": "code",
        "outputId": "8756bff0-a7cd-476d-9368-8c3da1f36147",
        "colab": {
          "base_uri": "https://localhost:8080/",
          "height": 52
        }
      },
      "source": [
        "print(\"A tapasztalati várható értéke: \", np.mean(datalist))\n",
        "print(\"A tapasztalati szórása:\", np.std(datalist))"
      ],
      "execution_count": 0,
      "outputs": [
        {
          "output_type": "stream",
          "text": [
            "A tapasztalati várható értéke:  180.53333333333333\n",
            "A tapasztalati szórása: 10.157865042528485\n"
          ],
          "name": "stdout"
        }
      ]
    },
    {
      "cell_type": "code",
      "metadata": {
        "id": "kqYU6pLuucEl",
        "colab_type": "code",
        "outputId": "6cd443a5-b638-4f50-c0c1-865778661b13",
        "colab": {
          "base_uri": "https://localhost:8080/",
          "height": 34
        }
      },
      "source": [
        "print(\"A korrigált tapasztalati szórás: \", np.sqrt(len(datalist)/(len(datalist)-1)) * np.std(datalist) )"
      ],
      "execution_count": 0,
      "outputs": [
        {
          "output_type": "stream",
          "text": [
            "A korrigált tapasztalati szórás:  10.514389233444849\n"
          ],
          "name": "stdout"
        }
      ]
    },
    {
      "cell_type": "markdown",
      "metadata": {
        "id": "-IxoL55Rusg8",
        "colab_type": "text"
      },
      "source": [
        "##### e) Mivel nem ismerjük a szórást, ezért $t$ eloszlást használunk"
      ]
    },
    {
      "cell_type": "code",
      "metadata": {
        "id": "LCKa2TKdun7g",
        "colab_type": "code",
        "outputId": "59ef8d43-61b2-424c-b347-792e351d1223",
        "colab": {
          "base_uri": "https://localhost:8080/",
          "height": 34
        }
      },
      "source": [
        "conf_int = stats.t.interval(.95, len(datalist)-1, \\\n",
        "                            loc = np.mean(datalist), \\\n",
        "                            scale = stats.sem(datalist)/np.sqrt(len(datalist))) # stats.sem = s\n",
        "print(f'A 95%-hoz tartozó confidencia intervallum {conf_int}')"
      ],
      "execution_count": 0,
      "outputs": [
        {
          "output_type": "stream",
          "text": [
            "A 95%-hoz tartozó confidencia intervallum (179.02992519603535, 182.0367414706313)\n"
          ],
          "name": "stdout"
        }
      ]
    },
    {
      "cell_type": "markdown",
      "metadata": {
        "colab_type": "text",
        "id": "GSIsw473Xd_o"
      },
      "source": [
        "###  2.Feladat"
      ]
    },
    {
      "cell_type": "markdown",
      "metadata": {
        "id": "xly6uwMbAEAn",
        "colab_type": "text"
      },
      "source": [
        "<div class=\"exercises\">\n",
        "Megmértük 20 házaspár magasságát. A következő (Nő,Férfi) \n",
        "eredményeket kaptuk:\n",
        "\n",
        "(171, 179), (175, 185), (163, 166), (175, 176), (172, 164), (155,176), \n",
        "(168, 185), (165, 173), (172, 179), (168, 175), (173,170), (163, 183), \n",
        "(156, 165), (183, 195), (171, 169), (169,177), (167, 173), (164, 179), \n",
        "(177, 180), (167, 183).\n",
        "\n",
        "Regressziós egyenes segítségével adjunk becslést a Férj magasságából a\n",
        "Feleség magasságára.\n",
        "</div>"
      ]
    },
    {
      "cell_type": "markdown",
      "metadata": {
        "colab_type": "text",
        "id": "ujytKqyaX8PR"
      },
      "source": [
        "#### Megoldás. "
      ]
    },
    {
      "cell_type": "code",
      "metadata": {
        "colab_type": "code",
        "id": "mJr_B627YQz9",
        "colab": {}
      },
      "source": [
        "data = [(171, 179), (175, 185), (163, 166), (175, 176), (172, 164), \\\n",
        "        (155,176), (168, 185), (165, 173), (172, 179), (168, 175), \\\n",
        "        (173,170), (163, 183), (156, 165), (183, 195), (171, 169), \\\n",
        "        (169,177), (167, 173), (164, 179), (177, 180), (167, 183)]\n",
        "datalist = [[list(dat)[0], list(dat)[1]] for dat in data]\n",
        "X = [_[1] for _ in datalist]\n",
        "Y = [_[0] for _ in datalist]"
      ],
      "execution_count": 0,
      "outputs": []
    },
    {
      "cell_type": "code",
      "metadata": {
        "colab_type": "code",
        "outputId": "12430e90-3084-45cb-bb0e-176f3f0632aa",
        "id": "fdDItwqaYQ0B",
        "colab": {
          "base_uri": "https://localhost:8080/",
          "height": 496
        }
      },
      "source": [
        "X = sm.add_constant(X) # Our model needs an intercept so we add a column of 1s in the first column\n",
        "model = sm.OLS(Y, X).fit()\n",
        "# predictions = model.predict(X)\n",
        "print_model = model.summary()\n",
        "print(print_model)"
      ],
      "execution_count": 28,
      "outputs": [
        {
          "output_type": "stream",
          "text": [
            "                            OLS Regression Results                            \n",
            "==============================================================================\n",
            "Dep. Variable:                      y   R-squared:                       0.198\n",
            "Model:                            OLS   Adj. R-squared:                  0.154\n",
            "Method:                 Least Squares   F-statistic:                     4.457\n",
            "Date:                Tue, 03 Dec 2019   Prob (F-statistic):             0.0490\n",
            "Time:                        20:50:48   Log-Likelihood:                -63.781\n",
            "No. Observations:                  20   AIC:                             131.6\n",
            "Df Residuals:                      18   BIC:                             133.6\n",
            "Df Model:                           1                                         \n",
            "Covariance Type:            nonrobust                                         \n",
            "==============================================================================\n",
            "                 coef    std err          t      P>|t|      [0.025      0.975]\n",
            "------------------------------------------------------------------------------\n",
            "const         99.9595     32.590      3.067      0.007      31.491     168.428\n",
            "x1             0.3892      0.184      2.111      0.049       0.002       0.777\n",
            "==============================================================================\n",
            "Omnibus:                        1.028   Durbin-Watson:                   2.226\n",
            "Prob(Omnibus):                  0.598   Jarque-Bera (JB):                0.941\n",
            "Skew:                          -0.450   Prob(JB):                        0.625\n",
            "Kurtosis:                       2.436   Cond. No.                     4.16e+03\n",
            "==============================================================================\n",
            "\n",
            "Warnings:\n",
            "[1] Standard Errors assume that the covariance matrix of the errors is correctly specified.\n",
            "[2] The condition number is large, 4.16e+03. This might indicate that there are\n",
            "strong multicollinearity or other numerical problems.\n"
          ],
          "name": "stdout"
        }
      ]
    },
    {
      "cell_type": "code",
      "metadata": {
        "colab_type": "code",
        "id": "j5_KYrOZbUl1",
        "colab": {}
      },
      "source": [
        "coeffs = model.params"
      ],
      "execution_count": 0,
      "outputs": []
    },
    {
      "cell_type": "code",
      "metadata": {
        "colab_type": "code",
        "outputId": "460957c1-6633-4861-e75d-d19fc2a1c47f",
        "id": "Uhg4oQJTbUlv",
        "colab": {
          "base_uri": "https://localhost:8080/",
          "height": 34
        }
      },
      "source": [
        "print(f'Az egyenes egyenlete: y = {coeffs[0]:.5f} + {coeffs[1]:.5f}*x. ')"
      ],
      "execution_count": 30,
      "outputs": [
        {
          "output_type": "stream",
          "text": [
            "Az egyenes egyenlete: y = 99.95953 + 0.38924*x. \n"
          ],
          "name": "stdout"
        }
      ]
    },
    {
      "cell_type": "code",
      "metadata": {
        "colab_type": "code",
        "outputId": "2ab87a2f-c064-452a-a2c1-69a7da4ce963",
        "id": "m58vqUDabUll",
        "colab": {
          "base_uri": "https://localhost:8080/",
          "height": 542
        }
      },
      "source": [
        "linear_regr_line(X[:, 1], Y, coeffs)"
      ],
      "execution_count": 33,
      "outputs": [
        {
          "output_type": "display_data",
          "data": {
            "text/html": [
              "        <script type=\"text/javascript\">\n",
              "        window.PlotlyConfig = {MathJaxConfig: 'local'};\n",
              "        if (window.MathJax) {MathJax.Hub.Config({SVG: {font: \"STIX-Web\"}});}\n",
              "        if (typeof require !== 'undefined') {\n",
              "        require.undef(\"plotly\");\n",
              "        requirejs.config({\n",
              "            paths: {\n",
              "                'plotly': ['https://cdn.plot.ly/plotly-latest.min']\n",
              "            }\n",
              "        });\n",
              "        require(['plotly'], function(Plotly) {\n",
              "            window._Plotly = Plotly;\n",
              "        });\n",
              "        }\n",
              "        </script>\n",
              "        "
            ]
          },
          "metadata": {
            "tags": []
          }
        },
        {
          "output_type": "display_data",
          "data": {
            "text/html": [
              "<div>\n",
              "        \n",
              "        \n",
              "            <div id=\"502a8f5d-740a-4617-b8e0-81049d492e30\" class=\"plotly-graph-div\" style=\"height:525px; width:100%;\"></div>\n",
              "            <script type=\"text/javascript\">\n",
              "                require([\"plotly\"], function(Plotly) {\n",
              "                    window.PLOTLYENV=window.PLOTLYENV || {};\n",
              "                    \n",
              "                if (document.getElementById(\"502a8f5d-740a-4617-b8e0-81049d492e30\")) {\n",
              "                    Plotly.newPlot(\n",
              "                        '502a8f5d-740a-4617-b8e0-81049d492e30',\n",
              "                        [{\"mode\": \"markers\", \"name\": \"Data\", \"type\": \"scatter\", \"x\": [179.0, 185.0, 166.0, 176.0, 164.0, 176.0, 185.0, 173.0, 179.0, 175.0, 170.0, 183.0, 165.0, 195.0, 169.0, 177.0, 173.0, 179.0, 180.0, 183.0], \"y\": [171, 175, 163, 175, 172, 155, 168, 165, 172, 168, 173, 163, 156, 183, 171, 169, 167, 164, 177, 167]}, {\"mode\": \"lines\", \"name\": \"Fit\", \"type\": \"scatter\", \"x\": [179.0, 185.0, 166.0, 176.0, 164.0, 176.0, 185.0, 173.0, 179.0, 175.0, 170.0, 183.0, 165.0, 195.0, 169.0, 177.0, 173.0, 179.0, 180.0, 183.0], \"y\": [169.63418530351456, 171.9696485623005, 164.57401490947836, 168.46645367412157, 163.79552715654972, 168.46645367412157, 171.9696485623005, 167.2987220447286, 169.63418530351456, 168.07720979765725, 166.13099041533565, 171.19116080937184, 164.18477103301404, 175.8620873269437, 165.74174653887133, 168.8556975505859, 167.2987220447286, 169.63418530351456, 170.02342917997888, 171.19116080937184]}],\n",
              "                        {\"plot_bgcolor\": \"rgb(229, 229, 229)\", \"template\": {\"data\": {\"bar\": [{\"error_x\": {\"color\": \"#2a3f5f\"}, \"error_y\": {\"color\": \"#2a3f5f\"}, \"marker\": {\"line\": {\"color\": \"#E5ECF6\", \"width\": 0.5}}, \"type\": \"bar\"}], \"barpolar\": [{\"marker\": {\"line\": {\"color\": \"#E5ECF6\", \"width\": 0.5}}, \"type\": \"barpolar\"}], \"carpet\": [{\"aaxis\": {\"endlinecolor\": \"#2a3f5f\", \"gridcolor\": \"white\", \"linecolor\": \"white\", \"minorgridcolor\": \"white\", \"startlinecolor\": \"#2a3f5f\"}, \"baxis\": {\"endlinecolor\": \"#2a3f5f\", \"gridcolor\": \"white\", \"linecolor\": \"white\", \"minorgridcolor\": \"white\", \"startlinecolor\": \"#2a3f5f\"}, \"type\": \"carpet\"}], \"choropleth\": [{\"colorbar\": {\"outlinewidth\": 0, \"ticks\": \"\"}, \"type\": \"choropleth\"}], \"contour\": [{\"colorbar\": {\"outlinewidth\": 0, \"ticks\": \"\"}, \"colorscale\": [[0.0, \"#0d0887\"], [0.1111111111111111, \"#46039f\"], [0.2222222222222222, \"#7201a8\"], [0.3333333333333333, \"#9c179e\"], [0.4444444444444444, \"#bd3786\"], [0.5555555555555556, \"#d8576b\"], [0.6666666666666666, \"#ed7953\"], [0.7777777777777778, \"#fb9f3a\"], [0.8888888888888888, \"#fdca26\"], [1.0, \"#f0f921\"]], \"type\": \"contour\"}], \"contourcarpet\": [{\"colorbar\": {\"outlinewidth\": 0, \"ticks\": \"\"}, \"type\": \"contourcarpet\"}], \"heatmap\": [{\"colorbar\": {\"outlinewidth\": 0, \"ticks\": \"\"}, \"colorscale\": [[0.0, \"#0d0887\"], [0.1111111111111111, \"#46039f\"], [0.2222222222222222, \"#7201a8\"], [0.3333333333333333, \"#9c179e\"], [0.4444444444444444, \"#bd3786\"], [0.5555555555555556, \"#d8576b\"], [0.6666666666666666, \"#ed7953\"], [0.7777777777777778, \"#fb9f3a\"], [0.8888888888888888, \"#fdca26\"], [1.0, \"#f0f921\"]], \"type\": \"heatmap\"}], \"heatmapgl\": [{\"colorbar\": {\"outlinewidth\": 0, \"ticks\": \"\"}, \"colorscale\": [[0.0, \"#0d0887\"], [0.1111111111111111, \"#46039f\"], [0.2222222222222222, \"#7201a8\"], [0.3333333333333333, \"#9c179e\"], [0.4444444444444444, \"#bd3786\"], [0.5555555555555556, \"#d8576b\"], [0.6666666666666666, \"#ed7953\"], [0.7777777777777778, \"#fb9f3a\"], [0.8888888888888888, \"#fdca26\"], [1.0, \"#f0f921\"]], \"type\": \"heatmapgl\"}], \"histogram\": [{\"marker\": {\"colorbar\": {\"outlinewidth\": 0, \"ticks\": \"\"}}, \"type\": \"histogram\"}], \"histogram2d\": [{\"colorbar\": {\"outlinewidth\": 0, \"ticks\": \"\"}, \"colorscale\": [[0.0, \"#0d0887\"], [0.1111111111111111, \"#46039f\"], [0.2222222222222222, \"#7201a8\"], [0.3333333333333333, \"#9c179e\"], [0.4444444444444444, \"#bd3786\"], [0.5555555555555556, \"#d8576b\"], [0.6666666666666666, \"#ed7953\"], [0.7777777777777778, \"#fb9f3a\"], [0.8888888888888888, \"#fdca26\"], [1.0, \"#f0f921\"]], \"type\": \"histogram2d\"}], \"histogram2dcontour\": [{\"colorbar\": {\"outlinewidth\": 0, \"ticks\": \"\"}, \"colorscale\": [[0.0, \"#0d0887\"], [0.1111111111111111, \"#46039f\"], [0.2222222222222222, \"#7201a8\"], [0.3333333333333333, \"#9c179e\"], [0.4444444444444444, \"#bd3786\"], [0.5555555555555556, \"#d8576b\"], [0.6666666666666666, \"#ed7953\"], [0.7777777777777778, \"#fb9f3a\"], [0.8888888888888888, \"#fdca26\"], [1.0, \"#f0f921\"]], \"type\": \"histogram2dcontour\"}], \"mesh3d\": [{\"colorbar\": {\"outlinewidth\": 0, \"ticks\": \"\"}, \"type\": \"mesh3d\"}], \"parcoords\": [{\"line\": {\"colorbar\": {\"outlinewidth\": 0, \"ticks\": \"\"}}, \"type\": \"parcoords\"}], \"scatter\": [{\"marker\": {\"colorbar\": {\"outlinewidth\": 0, \"ticks\": \"\"}}, \"type\": \"scatter\"}], \"scatter3d\": [{\"line\": {\"colorbar\": {\"outlinewidth\": 0, \"ticks\": \"\"}}, \"marker\": {\"colorbar\": {\"outlinewidth\": 0, \"ticks\": \"\"}}, \"type\": \"scatter3d\"}], \"scattercarpet\": [{\"marker\": {\"colorbar\": {\"outlinewidth\": 0, \"ticks\": \"\"}}, \"type\": \"scattercarpet\"}], \"scattergeo\": [{\"marker\": {\"colorbar\": {\"outlinewidth\": 0, \"ticks\": \"\"}}, \"type\": \"scattergeo\"}], \"scattergl\": [{\"marker\": {\"colorbar\": {\"outlinewidth\": 0, \"ticks\": \"\"}}, \"type\": \"scattergl\"}], \"scattermapbox\": [{\"marker\": {\"colorbar\": {\"outlinewidth\": 0, \"ticks\": \"\"}}, \"type\": \"scattermapbox\"}], \"scatterpolar\": [{\"marker\": {\"colorbar\": {\"outlinewidth\": 0, \"ticks\": \"\"}}, \"type\": \"scatterpolar\"}], \"scatterpolargl\": [{\"marker\": {\"colorbar\": {\"outlinewidth\": 0, \"ticks\": \"\"}}, \"type\": \"scatterpolargl\"}], \"scatterternary\": [{\"marker\": {\"colorbar\": {\"outlinewidth\": 0, \"ticks\": \"\"}}, \"type\": \"scatterternary\"}], \"surface\": [{\"colorbar\": {\"outlinewidth\": 0, \"ticks\": \"\"}, \"colorscale\": [[0.0, \"#0d0887\"], [0.1111111111111111, \"#46039f\"], [0.2222222222222222, \"#7201a8\"], [0.3333333333333333, \"#9c179e\"], [0.4444444444444444, \"#bd3786\"], [0.5555555555555556, \"#d8576b\"], [0.6666666666666666, \"#ed7953\"], [0.7777777777777778, \"#fb9f3a\"], [0.8888888888888888, \"#fdca26\"], [1.0, \"#f0f921\"]], \"type\": \"surface\"}], \"table\": [{\"cells\": {\"fill\": {\"color\": \"#EBF0F8\"}, \"line\": {\"color\": \"white\"}}, \"header\": {\"fill\": {\"color\": \"#C8D4E3\"}, \"line\": {\"color\": \"white\"}}, \"type\": \"table\"}]}, \"layout\": {\"annotationdefaults\": {\"arrowcolor\": \"#2a3f5f\", \"arrowhead\": 0, \"arrowwidth\": 1}, \"colorscale\": {\"diverging\": [[0, \"#8e0152\"], [0.1, \"#c51b7d\"], [0.2, \"#de77ae\"], [0.3, \"#f1b6da\"], [0.4, \"#fde0ef\"], [0.5, \"#f7f7f7\"], [0.6, \"#e6f5d0\"], [0.7, \"#b8e186\"], [0.8, \"#7fbc41\"], [0.9, \"#4d9221\"], [1, \"#276419\"]], \"sequential\": [[0.0, \"#0d0887\"], [0.1111111111111111, \"#46039f\"], [0.2222222222222222, \"#7201a8\"], [0.3333333333333333, \"#9c179e\"], [0.4444444444444444, \"#bd3786\"], [0.5555555555555556, \"#d8576b\"], [0.6666666666666666, \"#ed7953\"], [0.7777777777777778, \"#fb9f3a\"], [0.8888888888888888, \"#fdca26\"], [1.0, \"#f0f921\"]], \"sequentialminus\": [[0.0, \"#0d0887\"], [0.1111111111111111, \"#46039f\"], [0.2222222222222222, \"#7201a8\"], [0.3333333333333333, \"#9c179e\"], [0.4444444444444444, \"#bd3786\"], [0.5555555555555556, \"#d8576b\"], [0.6666666666666666, \"#ed7953\"], [0.7777777777777778, \"#fb9f3a\"], [0.8888888888888888, \"#fdca26\"], [1.0, \"#f0f921\"]]}, \"colorway\": [\"#636efa\", \"#EF553B\", \"#00cc96\", \"#ab63fa\", \"#FFA15A\", \"#19d3f3\", \"#FF6692\", \"#B6E880\", \"#FF97FF\", \"#FECB52\"], \"font\": {\"color\": \"#2a3f5f\"}, \"geo\": {\"bgcolor\": \"white\", \"lakecolor\": \"white\", \"landcolor\": \"#E5ECF6\", \"showlakes\": true, \"showland\": true, \"subunitcolor\": \"white\"}, \"hoverlabel\": {\"align\": \"left\"}, \"hovermode\": \"closest\", \"mapbox\": {\"style\": \"light\"}, \"paper_bgcolor\": \"white\", \"plot_bgcolor\": \"#E5ECF6\", \"polar\": {\"angularaxis\": {\"gridcolor\": \"white\", \"linecolor\": \"white\", \"ticks\": \"\"}, \"bgcolor\": \"#E5ECF6\", \"radialaxis\": {\"gridcolor\": \"white\", \"linecolor\": \"white\", \"ticks\": \"\"}}, \"scene\": {\"xaxis\": {\"backgroundcolor\": \"#E5ECF6\", \"gridcolor\": \"white\", \"gridwidth\": 2, \"linecolor\": \"white\", \"showbackground\": true, \"ticks\": \"\", \"zerolinecolor\": \"white\"}, \"yaxis\": {\"backgroundcolor\": \"#E5ECF6\", \"gridcolor\": \"white\", \"gridwidth\": 2, \"linecolor\": \"white\", \"showbackground\": true, \"ticks\": \"\", \"zerolinecolor\": \"white\"}, \"zaxis\": {\"backgroundcolor\": \"#E5ECF6\", \"gridcolor\": \"white\", \"gridwidth\": 2, \"linecolor\": \"white\", \"showbackground\": true, \"ticks\": \"\", \"zerolinecolor\": \"white\"}}, \"shapedefaults\": {\"line\": {\"color\": \"#2a3f5f\"}}, \"ternary\": {\"aaxis\": {\"gridcolor\": \"white\", \"linecolor\": \"white\", \"ticks\": \"\"}, \"baxis\": {\"gridcolor\": \"white\", \"linecolor\": \"white\", \"ticks\": \"\"}, \"bgcolor\": \"#E5ECF6\", \"caxis\": {\"gridcolor\": \"white\", \"linecolor\": \"white\", \"ticks\": \"\"}}, \"title\": {\"x\": 0.05}, \"xaxis\": {\"automargin\": true, \"gridcolor\": \"white\", \"linecolor\": \"white\", \"ticks\": \"\", \"zerolinecolor\": \"white\", \"zerolinewidth\": 2}, \"yaxis\": {\"automargin\": true, \"gridcolor\": \"white\", \"linecolor\": \"white\", \"ticks\": \"\", \"zerolinecolor\": \"white\", \"zerolinewidth\": 2}}}, \"title\": {\"text\": \"Linear Regression y = 0.3892*x + 99.959\"}},\n",
              "                        {\"responsive\": true}\n",
              "                    ).then(function(){\n",
              "                            \n",
              "var gd = document.getElementById('502a8f5d-740a-4617-b8e0-81049d492e30');\n",
              "var x = new MutationObserver(function (mutations, observer) {{\n",
              "        var display = window.getComputedStyle(gd).display;\n",
              "        if (!display || display === 'none') {{\n",
              "            console.log([gd, 'removed!']);\n",
              "            Plotly.purge(gd);\n",
              "            observer.disconnect();\n",
              "        }}\n",
              "}});\n",
              "\n",
              "// Listen for the removal of the full notebook cells\n",
              "var notebookContainer = gd.closest('#notebook-container');\n",
              "if (notebookContainer) {{\n",
              "    x.observe(notebookContainer, {childList: true});\n",
              "}}\n",
              "\n",
              "// Listen for the clearing of the current output cell\n",
              "var outputEl = gd.closest('.output');\n",
              "if (outputEl) {{\n",
              "    x.observe(outputEl, {childList: true});\n",
              "}}\n",
              "\n",
              "                        })\n",
              "                };\n",
              "                });\n",
              "            </script>\n",
              "        </div>"
            ]
          },
          "metadata": {
            "tags": []
          }
        }
      ]
    },
    {
      "cell_type": "markdown",
      "metadata": {
        "colab_type": "text",
        "id": "hGhlg2Hta-9m"
      },
      "source": [
        "###  3.Feladat"
      ]
    },
    {
      "cell_type": "markdown",
      "metadata": {
        "id": "oDhlQr9kbKTp",
        "colab_type": "text"
      },
      "source": [
        "Egy bizonyos fajta rák kísérleti (immunhiányos) egerekben \n",
        "véletlenszerűen (normális eloszlás szerint) nagy daganatot hoz létre, melynek várható értéke 2.5 mm, \n",
        "szórása 0.5 mm. Mielőtt kutatásba kezdenénk, kontrollkísérletet végzünk, \n",
        "hogy sejtvonalunk vajon megfelel-e a nagyvilágban máshol használt rákos \n",
        "sejteknek. 20 egeret megfertőzünk rákos sejtjeinkkel és két hónap után \n",
        "megmérjük az egerekben a daganat nagyságát. A következő mérési \n",
        "eredményeket kapjuk:\n",
        "\n",
        "2.6, 4, 1.7, 2.5, 2.5, 2.7, 3.2, 2.4, 2.6, 2, 1.3, 1.7, 2.5, 2.6, 3.4, 2.7, 1.2, 2.2, 2.2, 2.6\n",
        "\n",
        "Végezzünk statisztikai próbát arra nézve, hogy\n",
        "ennek várható értéke 95%-os megbízhatósági szinten megegyezik-e 2,5 \n",
        "centiméterrel!"
      ]
    },
    {
      "cell_type": "markdown",
      "metadata": {
        "colab_type": "text",
        "id": "YC6bvBvja-9q"
      },
      "source": [
        "#### Megoldás. "
      ]
    },
    {
      "cell_type": "markdown",
      "metadata": {
        "id": "sopIvdeXQ7lH",
        "colab_type": "text"
      },
      "source": [
        "$u$-próbát használunk. ($Z$ test angolul) \n",
        "\n",
        "$H_0$: $E(X)=2.5$, nullhipotézis \n",
        "\n",
        "$H_1$: $E(X)\\neq 2.5$, kétoldali ellenhipotézis. \n",
        "\n",
        "Az egymintás u-próba próbastatisztikája\n",
        "\n",
        "$$\n",
        "u=\\frac {\\bar {x}-\\mu}{\\sigma /{\\sqrt {n}}},\n",
        "$$\n",
        "\n",
        "ahol \n",
        "$\\bar {x}$ a vizsgált valószínűségi változó átlaga a mintában,\n",
        "$\\mu$ az előre adott érték, amihez az átlagot viszonyítjuk,\n",
        "$\\sigma$ a vizsgált valószínűségi változó ismert szórása és\n",
        "$n$ a minta elemszáma."
      ]
    },
    {
      "cell_type": "code",
      "metadata": {
        "id": "I29ny5J5QbRP",
        "colab_type": "code",
        "colab": {}
      },
      "source": [
        "datalist = [2.6, 4, 1.7, 2.5, 2.5, 2.7, 3.2, 2.4, 2.6, 2, 1.3, 1.7, 2.5, 2.6, 3.4, 2.7, 1.2, 2.2, 2.2, 2.6]\n",
        "mu = 2.5\n",
        "sigma = 0.5"
      ],
      "execution_count": 0,
      "outputs": []
    },
    {
      "cell_type": "code",
      "metadata": {
        "id": "zEizbjeJYhE_",
        "colab_type": "code",
        "colab": {
          "base_uri": "https://localhost:8080/",
          "height": 52
        },
        "outputId": "413e54a7-6d6d-49b9-af8a-b6ecd97db41c"
      },
      "source": [
        "# We will be using scipy stats normal survival function sf\n",
        "#Here we mulitply the sf fucntion with 2 for two sided p value calculation , a two tail test \n",
        "u_value = (np.mean(datalist) - mu)/(sigma/np.sqrt(len(datalist)))\n",
        "p_value = stats.norm.sf(abs(u_value))*2 \n",
        "print('p value' , p_value)\n",
        "if p_value > 0.05:\n",
        "    print('Sample is likely drawn from the same distribution (fail to reject H0)')\n",
        "    decision = 'Sample is likely drawn from <br>the same distribution (fail to reject H0)'\n",
        "else:\n",
        "    print('Sample is likely drawn from different distribution (reject H0)')\n",
        "    decision = 'Sample is likely drawn from different distribution (reject H0)'"
      ],
      "execution_count": 24,
      "outputs": [
        {
          "output_type": "stream",
          "text": [
            "p value 0.5312499859948518\n",
            "Sample is likely drawn from the same distribution (fail to reject H0)\n"
          ],
          "name": "stdout"
        }
      ]
    },
    {
      "cell_type": "code",
      "metadata": {
        "id": "B5vRGjGAZNCr",
        "colab_type": "code",
        "colab": {
          "base_uri": "https://localhost:8080/",
          "height": 126
        },
        "outputId": "0cc5d94d-595c-4562-94af-a48b93d16677"
      },
      "source": [
        "data_matrix = [['u-value', 'p-value', 'Decision'],\n",
        "               [round(u_value,4), round(p_value,4), decision],\n",
        "              ]\n",
        "\n",
        "colorscale = [[0, '#4d004c'],[1, '#ffffff']]\n",
        "table = ff.create_table(data_matrix, colorscale=colorscale)\n",
        "for i in range(len(table.layout.annotations)):\n",
        "    table.layout.annotations[i].font.size = 16\n",
        "table.show()"
      ],
      "execution_count": 27,
      "outputs": [
        {
          "output_type": "display_data",
          "data": {
            "text/html": [
              "        <script type=\"text/javascript\">\n",
              "        window.PlotlyConfig = {MathJaxConfig: 'local'};\n",
              "        if (window.MathJax) {MathJax.Hub.Config({SVG: {font: \"STIX-Web\"}});}\n",
              "        if (typeof require !== 'undefined') {\n",
              "        require.undef(\"plotly\");\n",
              "        requirejs.config({\n",
              "            paths: {\n",
              "                'plotly': ['https://cdn.plot.ly/plotly-latest.min']\n",
              "            }\n",
              "        });\n",
              "        require(['plotly'], function(Plotly) {\n",
              "            window._Plotly = Plotly;\n",
              "        });\n",
              "        }\n",
              "        </script>\n",
              "        "
            ]
          },
          "metadata": {
            "tags": []
          }
        },
        {
          "output_type": "display_data",
          "data": {
            "text/html": [
              "<div>\n",
              "        \n",
              "        \n",
              "            <div id=\"6d5a439e-8b69-42b2-ae09-5dc3211ecc32\" class=\"plotly-graph-div\" style=\"height:110px; width:100%;\"></div>\n",
              "            <script type=\"text/javascript\">\n",
              "                require([\"plotly\"], function(Plotly) {\n",
              "                    window.PLOTLYENV=window.PLOTLYENV || {};\n",
              "                    \n",
              "                if (document.getElementById(\"6d5a439e-8b69-42b2-ae09-5dc3211ecc32\")) {\n",
              "                    Plotly.newPlot(\n",
              "                        '6d5a439e-8b69-42b2-ae09-5dc3211ecc32',\n",
              "                        [{\"colorscale\": [[0, \"#4d004c\"], [1, \"#ffffff\"]], \"hoverinfo\": \"none\", \"opacity\": 0.75, \"showscale\": false, \"type\": \"heatmap\", \"z\": [[0, 0, 0], [0.5, 0.5, 0.5]]}],\n",
              "                        {\"annotations\": [{\"align\": \"left\", \"font\": {\"color\": \"#ffffff\", \"size\": 16}, \"showarrow\": false, \"text\": \"<b>u-value</b>\", \"x\": -0.45, \"xanchor\": \"left\", \"xref\": \"x\", \"y\": 0, \"yref\": \"y\"}, {\"align\": \"left\", \"font\": {\"color\": \"#ffffff\", \"size\": 16}, \"showarrow\": false, \"text\": \"<b>p-value</b>\", \"x\": 0.55, \"xanchor\": \"left\", \"xref\": \"x\", \"y\": 0, \"yref\": \"y\"}, {\"align\": \"left\", \"font\": {\"color\": \"#ffffff\", \"size\": 16}, \"showarrow\": false, \"text\": \"<b>Decision</b>\", \"x\": 1.55, \"xanchor\": \"left\", \"xref\": \"x\", \"y\": 0, \"yref\": \"y\"}, {\"align\": \"left\", \"font\": {\"color\": \"#000000\", \"size\": 16}, \"showarrow\": false, \"text\": \"-0.6261\", \"x\": -0.45, \"xanchor\": \"left\", \"xref\": \"x\", \"y\": 1, \"yref\": \"y\"}, {\"align\": \"left\", \"font\": {\"color\": \"#000000\", \"size\": 16}, \"showarrow\": false, \"text\": \"0.5312\", \"x\": 0.55, \"xanchor\": \"left\", \"xref\": \"x\", \"y\": 1, \"yref\": \"y\"}, {\"align\": \"left\", \"font\": {\"color\": \"#000000\", \"size\": 16}, \"showarrow\": false, \"text\": \"Sample is likely drawn from <br>the same distribution (fail to reject H0)\", \"x\": 1.55, \"xanchor\": \"left\", \"xref\": \"x\", \"y\": 1, \"yref\": \"y\"}], \"height\": 110, \"margin\": {\"b\": 0, \"l\": 0, \"r\": 0, \"t\": 0}, \"template\": {\"data\": {\"bar\": [{\"error_x\": {\"color\": \"#2a3f5f\"}, \"error_y\": {\"color\": \"#2a3f5f\"}, \"marker\": {\"line\": {\"color\": \"#E5ECF6\", \"width\": 0.5}}, \"type\": \"bar\"}], \"barpolar\": [{\"marker\": {\"line\": {\"color\": \"#E5ECF6\", \"width\": 0.5}}, \"type\": \"barpolar\"}], \"carpet\": [{\"aaxis\": {\"endlinecolor\": \"#2a3f5f\", \"gridcolor\": \"white\", \"linecolor\": \"white\", \"minorgridcolor\": \"white\", \"startlinecolor\": \"#2a3f5f\"}, \"baxis\": {\"endlinecolor\": \"#2a3f5f\", \"gridcolor\": \"white\", \"linecolor\": \"white\", \"minorgridcolor\": \"white\", \"startlinecolor\": \"#2a3f5f\"}, \"type\": \"carpet\"}], \"choropleth\": [{\"colorbar\": {\"outlinewidth\": 0, \"ticks\": \"\"}, \"type\": \"choropleth\"}], \"contour\": [{\"colorbar\": {\"outlinewidth\": 0, \"ticks\": \"\"}, \"colorscale\": [[0.0, \"#0d0887\"], [0.1111111111111111, \"#46039f\"], [0.2222222222222222, \"#7201a8\"], [0.3333333333333333, \"#9c179e\"], [0.4444444444444444, \"#bd3786\"], [0.5555555555555556, \"#d8576b\"], [0.6666666666666666, \"#ed7953\"], [0.7777777777777778, \"#fb9f3a\"], [0.8888888888888888, \"#fdca26\"], [1.0, \"#f0f921\"]], \"type\": \"contour\"}], \"contourcarpet\": [{\"colorbar\": {\"outlinewidth\": 0, \"ticks\": \"\"}, \"type\": \"contourcarpet\"}], \"heatmap\": [{\"colorbar\": {\"outlinewidth\": 0, \"ticks\": \"\"}, \"colorscale\": [[0.0, \"#0d0887\"], [0.1111111111111111, \"#46039f\"], [0.2222222222222222, \"#7201a8\"], [0.3333333333333333, \"#9c179e\"], [0.4444444444444444, \"#bd3786\"], [0.5555555555555556, \"#d8576b\"], [0.6666666666666666, \"#ed7953\"], [0.7777777777777778, \"#fb9f3a\"], [0.8888888888888888, \"#fdca26\"], [1.0, \"#f0f921\"]], \"type\": \"heatmap\"}], \"heatmapgl\": [{\"colorbar\": {\"outlinewidth\": 0, \"ticks\": \"\"}, \"colorscale\": [[0.0, \"#0d0887\"], [0.1111111111111111, \"#46039f\"], [0.2222222222222222, \"#7201a8\"], [0.3333333333333333, \"#9c179e\"], [0.4444444444444444, \"#bd3786\"], [0.5555555555555556, \"#d8576b\"], [0.6666666666666666, \"#ed7953\"], [0.7777777777777778, \"#fb9f3a\"], [0.8888888888888888, \"#fdca26\"], [1.0, \"#f0f921\"]], \"type\": \"heatmapgl\"}], \"histogram\": [{\"marker\": {\"colorbar\": {\"outlinewidth\": 0, \"ticks\": \"\"}}, \"type\": \"histogram\"}], \"histogram2d\": [{\"colorbar\": {\"outlinewidth\": 0, \"ticks\": \"\"}, \"colorscale\": [[0.0, \"#0d0887\"], [0.1111111111111111, \"#46039f\"], [0.2222222222222222, \"#7201a8\"], [0.3333333333333333, \"#9c179e\"], [0.4444444444444444, \"#bd3786\"], [0.5555555555555556, \"#d8576b\"], [0.6666666666666666, \"#ed7953\"], [0.7777777777777778, \"#fb9f3a\"], [0.8888888888888888, \"#fdca26\"], [1.0, \"#f0f921\"]], \"type\": \"histogram2d\"}], \"histogram2dcontour\": [{\"colorbar\": {\"outlinewidth\": 0, \"ticks\": \"\"}, \"colorscale\": [[0.0, \"#0d0887\"], [0.1111111111111111, \"#46039f\"], [0.2222222222222222, \"#7201a8\"], [0.3333333333333333, \"#9c179e\"], [0.4444444444444444, \"#bd3786\"], [0.5555555555555556, \"#d8576b\"], [0.6666666666666666, \"#ed7953\"], [0.7777777777777778, \"#fb9f3a\"], [0.8888888888888888, \"#fdca26\"], [1.0, \"#f0f921\"]], \"type\": \"histogram2dcontour\"}], \"mesh3d\": [{\"colorbar\": {\"outlinewidth\": 0, \"ticks\": \"\"}, \"type\": \"mesh3d\"}], \"parcoords\": [{\"line\": {\"colorbar\": {\"outlinewidth\": 0, \"ticks\": \"\"}}, \"type\": \"parcoords\"}], \"scatter\": [{\"marker\": {\"colorbar\": {\"outlinewidth\": 0, \"ticks\": \"\"}}, \"type\": \"scatter\"}], \"scatter3d\": [{\"line\": {\"colorbar\": {\"outlinewidth\": 0, \"ticks\": \"\"}}, \"marker\": {\"colorbar\": {\"outlinewidth\": 0, \"ticks\": \"\"}}, \"type\": \"scatter3d\"}], \"scattercarpet\": [{\"marker\": {\"colorbar\": {\"outlinewidth\": 0, \"ticks\": \"\"}}, \"type\": \"scattercarpet\"}], \"scattergeo\": [{\"marker\": {\"colorbar\": {\"outlinewidth\": 0, \"ticks\": \"\"}}, \"type\": \"scattergeo\"}], \"scattergl\": [{\"marker\": {\"colorbar\": {\"outlinewidth\": 0, \"ticks\": \"\"}}, \"type\": \"scattergl\"}], \"scattermapbox\": [{\"marker\": {\"colorbar\": {\"outlinewidth\": 0, \"ticks\": \"\"}}, \"type\": \"scattermapbox\"}], \"scatterpolar\": [{\"marker\": {\"colorbar\": {\"outlinewidth\": 0, \"ticks\": \"\"}}, \"type\": \"scatterpolar\"}], \"scatterpolargl\": [{\"marker\": {\"colorbar\": {\"outlinewidth\": 0, \"ticks\": \"\"}}, \"type\": \"scatterpolargl\"}], \"scatterternary\": [{\"marker\": {\"colorbar\": {\"outlinewidth\": 0, \"ticks\": \"\"}}, \"type\": \"scatterternary\"}], \"surface\": [{\"colorbar\": {\"outlinewidth\": 0, \"ticks\": \"\"}, \"colorscale\": [[0.0, \"#0d0887\"], [0.1111111111111111, \"#46039f\"], [0.2222222222222222, \"#7201a8\"], [0.3333333333333333, \"#9c179e\"], [0.4444444444444444, \"#bd3786\"], [0.5555555555555556, \"#d8576b\"], [0.6666666666666666, \"#ed7953\"], [0.7777777777777778, \"#fb9f3a\"], [0.8888888888888888, \"#fdca26\"], [1.0, \"#f0f921\"]], \"type\": \"surface\"}], \"table\": [{\"cells\": {\"fill\": {\"color\": \"#EBF0F8\"}, \"line\": {\"color\": \"white\"}}, \"header\": {\"fill\": {\"color\": \"#C8D4E3\"}, \"line\": {\"color\": \"white\"}}, \"type\": \"table\"}]}, \"layout\": {\"annotationdefaults\": {\"arrowcolor\": \"#2a3f5f\", \"arrowhead\": 0, \"arrowwidth\": 1}, \"colorscale\": {\"diverging\": [[0, \"#8e0152\"], [0.1, \"#c51b7d\"], [0.2, \"#de77ae\"], [0.3, \"#f1b6da\"], [0.4, \"#fde0ef\"], [0.5, \"#f7f7f7\"], [0.6, \"#e6f5d0\"], [0.7, \"#b8e186\"], [0.8, \"#7fbc41\"], [0.9, \"#4d9221\"], [1, \"#276419\"]], \"sequential\": [[0.0, \"#0d0887\"], [0.1111111111111111, \"#46039f\"], [0.2222222222222222, \"#7201a8\"], [0.3333333333333333, \"#9c179e\"], [0.4444444444444444, \"#bd3786\"], [0.5555555555555556, \"#d8576b\"], [0.6666666666666666, \"#ed7953\"], [0.7777777777777778, \"#fb9f3a\"], [0.8888888888888888, \"#fdca26\"], [1.0, \"#f0f921\"]], \"sequentialminus\": [[0.0, \"#0d0887\"], [0.1111111111111111, \"#46039f\"], [0.2222222222222222, \"#7201a8\"], [0.3333333333333333, \"#9c179e\"], [0.4444444444444444, \"#bd3786\"], [0.5555555555555556, \"#d8576b\"], [0.6666666666666666, \"#ed7953\"], [0.7777777777777778, \"#fb9f3a\"], [0.8888888888888888, \"#fdca26\"], [1.0, \"#f0f921\"]]}, \"colorway\": [\"#636efa\", \"#EF553B\", \"#00cc96\", \"#ab63fa\", \"#FFA15A\", \"#19d3f3\", \"#FF6692\", \"#B6E880\", \"#FF97FF\", \"#FECB52\"], \"font\": {\"color\": \"#2a3f5f\"}, \"geo\": {\"bgcolor\": \"white\", \"lakecolor\": \"white\", \"landcolor\": \"#E5ECF6\", \"showlakes\": true, \"showland\": true, \"subunitcolor\": \"white\"}, \"hoverlabel\": {\"align\": \"left\"}, \"hovermode\": \"closest\", \"mapbox\": {\"style\": \"light\"}, \"paper_bgcolor\": \"white\", \"plot_bgcolor\": \"#E5ECF6\", \"polar\": {\"angularaxis\": {\"gridcolor\": \"white\", \"linecolor\": \"white\", \"ticks\": \"\"}, \"bgcolor\": \"#E5ECF6\", \"radialaxis\": {\"gridcolor\": \"white\", \"linecolor\": \"white\", \"ticks\": \"\"}}, \"scene\": {\"xaxis\": {\"backgroundcolor\": \"#E5ECF6\", \"gridcolor\": \"white\", \"gridwidth\": 2, \"linecolor\": \"white\", \"showbackground\": true, \"ticks\": \"\", \"zerolinecolor\": \"white\"}, \"yaxis\": {\"backgroundcolor\": \"#E5ECF6\", \"gridcolor\": \"white\", \"gridwidth\": 2, \"linecolor\": \"white\", \"showbackground\": true, \"ticks\": \"\", \"zerolinecolor\": \"white\"}, \"zaxis\": {\"backgroundcolor\": \"#E5ECF6\", \"gridcolor\": \"white\", \"gridwidth\": 2, \"linecolor\": \"white\", \"showbackground\": true, \"ticks\": \"\", \"zerolinecolor\": \"white\"}}, \"shapedefaults\": {\"line\": {\"color\": \"#2a3f5f\"}}, \"ternary\": {\"aaxis\": {\"gridcolor\": \"white\", \"linecolor\": \"white\", \"ticks\": \"\"}, \"baxis\": {\"gridcolor\": \"white\", \"linecolor\": \"white\", \"ticks\": \"\"}, \"bgcolor\": \"#E5ECF6\", \"caxis\": {\"gridcolor\": \"white\", \"linecolor\": \"white\", \"ticks\": \"\"}}, \"title\": {\"x\": 0.05}, \"xaxis\": {\"automargin\": true, \"gridcolor\": \"white\", \"linecolor\": \"white\", \"ticks\": \"\", \"zerolinecolor\": \"white\", \"zerolinewidth\": 2}, \"yaxis\": {\"automargin\": true, \"gridcolor\": \"white\", \"linecolor\": \"white\", \"ticks\": \"\", \"zerolinecolor\": \"white\", \"zerolinewidth\": 2}}}, \"xaxis\": {\"dtick\": 1, \"gridwidth\": 2, \"showticklabels\": false, \"tick0\": -0.5, \"ticks\": \"\", \"zeroline\": false}, \"yaxis\": {\"autorange\": \"reversed\", \"dtick\": 1, \"gridwidth\": 2, \"showticklabels\": false, \"tick0\": 0.5, \"ticks\": \"\", \"zeroline\": false}},\n",
              "                        {\"responsive\": true}\n",
              "                    ).then(function(){\n",
              "                            \n",
              "var gd = document.getElementById('6d5a439e-8b69-42b2-ae09-5dc3211ecc32');\n",
              "var x = new MutationObserver(function (mutations, observer) {{\n",
              "        var display = window.getComputedStyle(gd).display;\n",
              "        if (!display || display === 'none') {{\n",
              "            console.log([gd, 'removed!']);\n",
              "            Plotly.purge(gd);\n",
              "            observer.disconnect();\n",
              "        }}\n",
              "}});\n",
              "\n",
              "// Listen for the removal of the full notebook cells\n",
              "var notebookContainer = gd.closest('#notebook-container');\n",
              "if (notebookContainer) {{\n",
              "    x.observe(notebookContainer, {childList: true});\n",
              "}}\n",
              "\n",
              "// Listen for the clearing of the current output cell\n",
              "var outputEl = gd.closest('.output');\n",
              "if (outputEl) {{\n",
              "    x.observe(outputEl, {childList: true});\n",
              "}}\n",
              "\n",
              "                        })\n",
              "                };\n",
              "                });\n",
              "            </script>\n",
              "        </div>"
            ]
          },
          "metadata": {
            "tags": []
          }
        }
      ]
    },
    {
      "cell_type": "markdown",
      "metadata": {
        "colab_type": "text",
        "id": "fETdBr8JcCML"
      },
      "source": [
        "###  4.Feladat"
      ]
    },
    {
      "cell_type": "markdown",
      "metadata": {
        "id": "14IwT1umcGFs",
        "colab_type": "text"
      },
      "source": [
        "Megmértük a déli hőmérsékletet Rejkjavik-ban március elején, és a következő hőmérsékleteket kaptuk:\n",
        "\n",
        "3.5; −1.2; 4.7; 0.3; 2.8; 0; 5.8; 1.4; 2.2; 2.9; 2.2; 1.8; −1.7; −0.1;\n",
        "2.8; 5.1; −2; 2.8; 3; 0.5 \n",
        "\n",
        "Hasonlóképpen megmértük Amszterdamban\n",
        "\n",
        "16.3; 13.6; 18.5; 18.1; 17.5; 21; 19.4; 15.3; 20.5; 16.8; 20; 18.4; 14.4;\n",
        "18.7; 14.2; 13.8; 12.8; 16; 15.9; 14.2; 21.6; 17.6; 17.4; 18.4; 15.5; 16.3;\n",
        "18.9; 10.8; 17.3; 16.5 \n",
        "\n",
        "Modhatjuk-e 95%-os szignifikancia szint mellett, hogy azonos a szórásuk (feltesszük hogy a hőmérséklet eloszlása normális)?"
      ]
    },
    {
      "cell_type": "markdown",
      "metadata": {
        "colab_type": "text",
        "id": "FuAgXv7jcCMN"
      },
      "source": [
        "#### Megoldás. "
      ]
    },
    {
      "cell_type": "markdown",
      "metadata": {
        "id": "qpR5Ank2BeZg",
        "colab_type": "text"
      },
      "source": [
        "$F\\,$-próbát használunk. \n",
        "\n",
        "Legyen $X_1, \\ldots, X_n$ és $Y_1, \\ldots, Y_m$ független minta két populációból, ahol mindkét populáció normális eloszlással rendelkezik. A két populáció várható értékei lehetnek különbözőek, a nullhipotézis pedig az, hogy a varianciájuk egyenlő $(H_{0}\\colon \\,\\sigma _{X}^{2}=\\sigma _{Y}^{2})$. Legyenek\n",
        "\n",
        "$$\n",
        "\\overline {X}=\\frac {1}{n}\\sum _{i=1}^{n}X_{i} \\quad\n",
        "\\text{és} \\quad\\overline {Y}=\\frac {1}{m}\\sum _{i=1}^{m}Y_{i}\n",
        "$$\n",
        "\n",
        "a minták tapasztalati átlagai és legyenek\n",
        "\n",
        "$$\n",
        "S_{X}^{2}=\\frac {1}{n-1}\\sum _{i=1}^{n}\\left(X_{i}-\\overline {X}\\right)^{2}\n",
        "$$\n",
        "és \n",
        "$$\n",
        "S_{Y}^{2}=\\frac {1}{m-1}\\sum _{i=1}^{m}\\left(Y_{i}-\\overline {Y}\\right)^{2}\n",
        "$$\n",
        "\n",
        "a minták korrigált tapasztalati varianciái. Ekkor a próbastatisztikának az\n",
        "\n",
        "$$\n",
        "F_{emp}={\\frac {S_{X}^{2}}{S_{Y}^{2}}},\n",
        "$$\n",
        "\n",
        "empirikus értéket használjuk ha a tört értéke nagyobb $1$-nél,  ellenkező esetben a reciprokát. $F$-nek $F$-eloszlása van, de az $F$-statisztika eloszlása különböző mintanagyságok esetén különböző. Azt, hogy melyik $F$-eloszlást kell választanunk, azaz az $F$-eloszlás paramétereit, a minták szabadsági foka mutatja meg, ami $n – 1$ és $m – 1$.\n",
        "\n",
        "Adott szignifikanciaszint (szokásos $p = 0.05$-ot választani, kétoldali próba esetén $p=0.025$) mellett kikeressük $F(n–1, m–1)$ (vagy $F(m-1,n-1)$) értékét táblázatból, ez lesz a kritikus érték. Ha $F_{emp} \\leq F_{krit}$, akkor elfogadjuk a $H_0$ nullhipotézist, azaz a szórásnégyzetek egyenlősége igaz, különben elvetjük."
      ]
    },
    {
      "cell_type": "code",
      "metadata": {
        "id": "a3znrEp9APV4",
        "colab_type": "code",
        "colab": {}
      },
      "source": [
        "reykjavik = [3.5, -1.2, 4.7, 0.3, 2.8, 0, 5.8, 1.4, 2.2, 2.9, 2.2, 1.8, -1.7, -0.1, 2.8, 5.1, -2, 2.8, 3, 0.5]\n",
        "amsterdam = [16.3, 13.6, 18.5, 18.1, 17.5, 21, 19.4, 15.3, 20.5, 16.8, 20, 18.4, 14.4, 18.7, 14.2, 13.8, 12.8, \\\n",
        "             16, 15.9, 14.2, 21.6, 17.6, 17.4, 18.4, 15.5, 16.3, 18.9, 10.8, 17.3, 16.5]"
      ],
      "execution_count": 0,
      "outputs": []
    },
    {
      "cell_type": "code",
      "metadata": {
        "id": "CMbRsEd6nB3c",
        "colab_type": "code",
        "colab": {
          "base_uri": "https://localhost:8080/",
          "height": 52
        },
        "outputId": "c762a4dc-4292-4fe0-f580-87baeeb446ad"
      },
      "source": [
        "F_value = np.var(reykjavik, dtype=np.float64, ddof=1)/np.var(amsterdam, dtype=np.float64, ddof=1)\n",
        "df1 = len(reykjavik) - 1\n",
        "df2 = len(amsterdam) - 1\n",
        "if F_value < 1:\n",
        "    F_value = 1/F_value\n",
        "    df1 = len(amsterdam) - 1\n",
        "    df2 = len(reykjavik) - 1\n",
        "p_value = stats.f.sf(F_value, df1, df2)*2 \n",
        "print('p value' , p_value)\n",
        "if p_value > 0.05:\n",
        "    print('Variance is likely the same (fail to reject H0)')\n",
        "else:\n",
        "    print('Variance is likely different (reject H0)')"
      ],
      "execution_count": 13,
      "outputs": [
        {
          "output_type": "stream",
          "text": [
            "p value 0.49889933744295506\n",
            "Variance is likely the same (fail to reject H0)\n"
          ],
          "name": "stdout"
        }
      ]
    },
    {
      "cell_type": "markdown",
      "metadata": {
        "colab_type": "text",
        "id": "HTkDFbtDcJ4I"
      },
      "source": [
        "###  5.Feladat"
      ]
    },
    {
      "cell_type": "markdown",
      "metadata": {
        "colab_type": "text",
        "id": "HzeMYoQRcJ4K"
      },
      "source": [
        "Egy sörgyárban újfajta sört szeretnének előállítani 5%-os \n",
        "alkoholtartalommal. Megmérnek 20 \n",
        "mintát és a következő eredmény kapják:\n",
        "\n",
        "4.49, 4.76, 4.38, 4.57, 5.45, 4.85, 4.72, 4.46,4.92, 4.63, 4.59, 4.5, 4.25, \n",
        "5.23, 4.3, 4.81, 4.96, 4.43, 5.26, 4.11\n",
        "\n",
        "Állíthatjuk-e 95%-os valószínűséggel, hogy a sör megfelelő \n",
        "alkoholtartalommal rendelkezik? És 99%-os valószínűséggel állíthatjuk? Feltételezzük, hogy a minta eloszlása normális."
      ]
    },
    {
      "cell_type": "markdown",
      "metadata": {
        "colab_type": "text",
        "id": "V0mLsXXGcJ4L"
      },
      "source": [
        "#### Megoldás. "
      ]
    },
    {
      "cell_type": "markdown",
      "metadata": {
        "colab_type": "text",
        "id": "0pbHMU1Apd8h"
      },
      "source": [
        "Egymintás $t$ próbát használunk, mert nem ismerjük a populáció szórását. \n",
        "\n",
        "$H_0$: $E(X)=5$, nullhipotézis \n",
        "\n",
        "$H_1$: $E(X)\\neq 5$, kétoldali ellenhipotézis. \n",
        "\n",
        "Az egymintás $t$-próba próbastatisztikája\n",
        "\n",
        "$$\n",
        "t=\\frac {\\bar {x}-\\mu}{s /{\\sqrt {n}}},\n",
        "$$\n",
        "\n",
        "ahol \n",
        "$\\bar {x}$ a vizsgált valószínűségi változó átlaga a mintában,\n",
        "$\\mu$ az előre adott érték, amihez az átlagot viszonyítjuk,\n",
        "$s$ a minta korrigált tapasztalati szórása és\n",
        "$n$ a minta elemszáma."
      ]
    },
    {
      "cell_type": "code",
      "metadata": {
        "id": "5jKevBoLjJZt",
        "colab_type": "code",
        "colab": {}
      },
      "source": [
        "datalist = [4.49, 4.76, 4.38, 4.57, 5.45, 4.85, 4.72, 4.46,4.92, 4.63, 4.59, 4.5, 4.25, \n",
        "5.23, 4.3, 4.81, 4.96, 4.43, 5.26, 4.11]"
      ],
      "execution_count": 0,
      "outputs": []
    },
    {
      "cell_type": "markdown",
      "metadata": {
        "colab_type": "text",
        "id": "SYFyDn3HcSVA"
      },
      "source": [
        "###  6.Feladat"
      ]
    },
    {
      "cell_type": "markdown",
      "metadata": {
        "colab_type": "text",
        "id": "oh0Rwb8RcSVB"
      },
      "source": [
        "Egy új gyógyszer hatását teszteljük egereken. Az egereket ún. kettős\n",
        "vakpróbának (t.i. ahol még a kísérlet vezetője se tudja, hogy ki kap\n",
        "gyógyszert és ki nem) vetjük alá. Az egereket megfertőzzük a betegséggel\n",
        "(mondjuk rákkal). Ezután két részre osztjuk az egereket. Mindegyik\n",
        "részt 10 darab, húsz egeret számláló csoportra osztjuk. Az egyik résznek\n",
        "gyógyszert adunk, a másiknak placebót (de mi se tudjuk melyiknek mit).\n",
        "Egy hónap múlva leszámoljuk a meglévő egereket, megnézzük hogy mit\n",
        "kaptak és azt találjuk, hogy a gyógyszerrel kezelt részben a huszas \n",
        "csoportokból rendre\n",
        "\n",
        "11,14,15,15,11,15,10,11,9,14\n",
        "\n",
        "darab egér maradt maradt életben. A placebóval kezelt részből pedig\n",
        "csoportonként\n",
        "\n",
        "9,13,10,12,11,7,10,8,5,8\n",
        "\n",
        "egér maradt életben.\n",
        "Statisztikai próbát végzünk, hogy megnézzük hogy 95%-os megbízhatósági\n",
        "szint mellett lehetséges-e, hogy a két valószínűségi változó egyenlő? E\n",
        "szerint a próba szerint hatásos volt a gyógyszer?"
      ]
    },
    {
      "cell_type": "markdown",
      "metadata": {
        "colab_type": "text",
        "id": "vzv6_9NXcSVB"
      },
      "source": [
        "#### Megoldás. "
      ]
    },
    {
      "cell_type": "code",
      "metadata": {
        "id": "ccRc-IvMeRVe",
        "colab_type": "code",
        "colab": {}
      },
      "source": [
        ""
      ],
      "execution_count": 0,
      "outputs": []
    },
    {
      "cell_type": "markdown",
      "metadata": {
        "colab_type": "text",
        "id": "QrVVZb8keSQD"
      },
      "source": [
        "### **Házi feladat**"
      ]
    },
    {
      "cell_type": "markdown",
      "metadata": {
        "colab_type": "text",
        "id": "6Ypt-XaAeSQE"
      },
      "source": [
        "### 1.Feladat"
      ]
    },
    {
      "cell_type": "markdown",
      "metadata": {
        "id": "9lwq46IceW44",
        "colab_type": "text"
      },
      "source": [
        "A statisztika tanár gondol egyet és megméri egyik gyakorlati \n",
        "csoportjában a nők magasságát a következő eredményeket kapja\n",
        "\n",
        "173,164,174,167,168,157,173,170,161,170\n",
        "\n",
        "a) A rendelkezésre álló adatok alapján adja meg a nők magasságának\n",
        "empirikus várható értékét, empirikus szórásnégyzetét, korrigált \n",
        "empirikus szórásnégyzetét.\n",
        "\n",
        "b) Melyik statisztika torzítatlan, aszimptotikusan torzítatlan, a két \n",
        "szórásnégyzet közül melyik hatékonyabb?\n",
        "\n",
        "c) Végezzünk $t$-próbát annak eldöntésére, hogy 95%-os megbízhatósági\n",
        "szinten megegyezik-e a várható érték 165-tel!"
      ]
    },
    {
      "cell_type": "markdown",
      "metadata": {
        "colab_type": "text",
        "id": "srOCmWfUeo2Q"
      },
      "source": [
        "#### Megoldás. "
      ]
    },
    {
      "cell_type": "markdown",
      "metadata": {
        "colab_type": "text",
        "id": "CiuxRVK1gHeL"
      },
      "source": [
        "##### a) tapasztalati várható érték, szórás, korrigált tapasztalati szórás"
      ]
    },
    {
      "cell_type": "code",
      "metadata": {
        "id": "uujW6K9WgxCN",
        "colab_type": "code",
        "colab": {}
      },
      "source": [
        "datalist = [173,164,174,167,168,157,173,170,161,170]"
      ],
      "execution_count": 0,
      "outputs": []
    },
    {
      "cell_type": "code",
      "metadata": {
        "colab_type": "code",
        "outputId": "3df707de-157b-4cd4-f51f-06aa0f4ea1a1",
        "id": "NRPLmEGygHeQ",
        "colab": {
          "base_uri": "https://localhost:8080/",
          "height": 70
        }
      },
      "source": [
        "print(\"A tapasztalati várható érték: \", np.mean(datalist))\n",
        "print(\"A tapasztalati szórás:\", np.std(datalist))\n",
        "print(\"A korrigált tapasztalati szórás: \", np.sqrt(len(datalist)/(len(datalist)-1)) * np.std(datalist) )"
      ],
      "execution_count": 13,
      "outputs": [
        {
          "output_type": "stream",
          "text": [
            "A tapasztalati várható érték:  167.7\n",
            "A tapasztalati szórás: 5.292447448959697\n",
            "A korrigált tapasztalati szórás:  5.57872944515346\n"
          ],
          "name": "stdout"
        }
      ]
    },
    {
      "cell_type": "markdown",
      "metadata": {
        "id": "vV7pt3Zygfq5",
        "colab_type": "text"
      },
      "source": [
        "##### c) "
      ]
    },
    {
      "cell_type": "code",
      "metadata": {
        "id": "YkX3eAOG2ipt",
        "colab_type": "code",
        "colab": {}
      },
      "source": [
        ""
      ],
      "execution_count": 0,
      "outputs": []
    },
    {
      "cell_type": "code",
      "metadata": {
        "id": "VQAX4vovzY5A",
        "colab_type": "code",
        "outputId": "c4cf78a4-0fc2-4072-91f2-d79019262208",
        "colab": {
          "base_uri": "https://localhost:8080/",
          "height": 16
        }
      },
      "source": [
        "%%html\n",
        "<script src=\"https://cdn.rawgit.com/parente/4c3e6936d0d7a46fd071/raw/65b816fb9bdd3c28b4ddf3af602bfd6015486383/code_toggle.js\"></script>"
      ],
      "execution_count": 0,
      "outputs": [
        {
          "output_type": "display_data",
          "data": {
            "text/html": [
              "<script src=\"https://cdn.rawgit.com/parente/4c3e6936d0d7a46fd071/raw/65b816fb9bdd3c28b4ddf3af602bfd6015486383/code_toggle.js\"></script>"
            ],
            "text/plain": [
              "<IPython.core.display.HTML object>"
            ]
          },
          "metadata": {
            "tags": []
          }
        }
      ]
    }
  ]
}